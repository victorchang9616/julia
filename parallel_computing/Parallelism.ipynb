{
 "cells": [
  {
   "cell_type": "markdown",
   "metadata": {},
   "source": [
    "# Lecture 5: Parallel programming in Julia\n",
    "\n",
    "by Valentin Churavy, based on material for MIT 18.337\n",
    "https://slides.com/valentinchuravy/julia-parallelism"
   ]
  },
  {
   "cell_type": "markdown",
   "metadata": {},
   "source": [
    "## Levels of parallelism\n",
    "\n",
    "1. Instruction level parallelism *(Not a topic today)*\n",
    "2. Vector instructions *(Not a topic today)*\n",
    "3. Threading (shared-memory)\n",
    "4. Distributed\n",
    "5. Accelerators e.g. GPGPU"
   ]
  },
  {
   "cell_type": "markdown",
   "metadata": {},
   "source": [
    "## Benchmarking methodology\n",
    "\n",
    "1. Measure first! Don't try to guess the performance of your code.\n",
    "2. If you don't measure, you can't improve.\n",
    "3. Computers are noisy! Many people use lowest runtime.\n",
    "4. Read the performance tips in the Julia manual.\n",
    "5. Don't benchmark in global scope.\n",
    "6. Global variables are performance pitfalls.\n",
    "\n",
    "### Steps\n",
    "1. Check for type instabilities with `@code_warntype`\n",
    "2. Benchmark using `@btime` and `@benchmark` from `BenchmarkTools.jl`\n",
    "3. Use Julia profiler and `ProfileView.jl`\n",
    "4. Use the memory allocation tracker\n",
    "\n",
    "### About global scope\n",
    "A global variable might have its value, and therefore its type, change at any given point. This makes it difficult/nigh impossible for the compiler to reason about/optimize code using global variables.\n",
    "\n",
    "Julia uses functions as its compilation unit and any code that is performance critical or being benchmarked should be inside a function."
   ]
  },
  {
   "cell_type": "code",
   "execution_count": 1,
   "metadata": {},
   "outputs": [],
   "source": [
    "using BenchmarkTools"
   ]
  },
  {
   "cell_type": "markdown",
   "metadata": {},
   "source": [
    "@benchmark sin(1)"
   ]
  },
  {
   "cell_type": "code",
   "execution_count": 2,
   "metadata": {},
   "outputs": [
    {
     "data": {
      "text/plain": [
       "BenchmarkTools.Trial: \n",
       "  memory estimate:  7.94 KiB\n",
       "  allocs estimate:  1\n",
       "  --------------\n",
       "  minimum time:     1.864 μs (0.00% GC)\n",
       "  median time:      2.438 μs (0.00% GC)\n",
       "  mean time:        2.803 μs (6.68% GC)\n",
       "  maximum time:     175.963 μs (93.93% GC)\n",
       "  --------------\n",
       "  samples:          10000\n",
       "  evals/sample:     10"
      ]
     },
     "execution_count": 2,
     "metadata": {},
     "output_type": "execute_result"
    }
   ],
   "source": [
    " @benchmark sum(rand(1000))"
   ]
  },
  {
   "cell_type": "code",
   "execution_count": 2,
   "metadata": {},
   "outputs": [
    {
     "data": {
      "text/plain": [
       "BenchmarkTools.Trial: \n",
       "  memory estimate:  0 bytes\n",
       "  allocs estimate:  0\n",
       "  --------------\n",
       "  minimum time:     69.056 ns (0.00% GC)\n",
       "  median time:      69.160 ns (0.00% GC)\n",
       "  mean time:        70.701 ns (0.00% GC)\n",
       "  maximum time:     478.892 ns (0.00% GC)\n",
       "  --------------\n",
       "  samples:          10000\n",
       "  evals/sample:     976"
      ]
     },
     "execution_count": 2,
     "metadata": {},
     "output_type": "execute_result"
    }
   ],
   "source": [
    "@benchmark sum($(rand(1000)))"
   ]
  },
  {
   "cell_type": "markdown",
   "metadata": {},
   "source": [
    "Always interpolate inputs into your benchmark to measure the part of your code that you are interested in."
   ]
  },
  {
   "cell_type": "markdown",
   "metadata": {},
   "source": [
    "# Using the Julia profiler\n",
    "```\n",
    "@profile fun() # Profile a specific function\n",
    "Profile.clear() # Clear the recorded profile\n",
    "Profile.print() # Print the recorded profile\n",
    "Profile.print(C=true) # Print the profile including calls into C\n",
    "\n",
    "# The textual output of the profiler can be hard to understand\n",
    "# ProfileView.jl gives you a graphical representation\n",
    "using ProfileView\n",
    "ProfileView.view()\n",
    "```"
   ]
  },
  {
   "cell_type": "code",
   "execution_count": 7,
   "metadata": {},
   "outputs": [],
   "source": [
    "#import Pkg\n",
    "#Pkg.add(\"FFTW\") \n",
    "using FFTW"
   ]
  },
  {
   "cell_type": "code",
   "execution_count": null,
   "metadata": {},
   "outputs": [],
   "source": [
    "\n"
   ]
  },
  {
   "cell_type": "code",
   "execution_count": 9,
   "metadata": {},
   "outputs": [
    {
     "name": "stdout",
     "output_type": "stream",
     "text": [
      "search: \u001b[0m\u001b[1mm\u001b[22m\u001b[0m\u001b[1ma\u001b[22m\u001b[0m\u001b[1mp\u001b[22m\u001b[0m\u001b[1ms\u001b[22m\u001b[0m\u001b[1ml\u001b[22m\u001b[0m\u001b[1mi\u001b[22m\u001b[0m\u001b[1mc\u001b[22m\u001b[0m\u001b[1me\u001b[22m\u001b[0m\u001b[1ms\u001b[22m\n",
      "\n"
     ]
    },
    {
     "data": {
      "text/latex": [
       "\\begin{verbatim}\n",
       "mapslices(f, A; dims)\n",
       "\\end{verbatim}\n",
       "Transform the given dimensions of array \\texttt{A} using function \\texttt{f}. \\texttt{f} is called on each slice of \\texttt{A} of the form \\texttt{A[...,:,...,:,...]}. \\texttt{dims} is an integer vector specifying where the colons go in this expression. The results are concatenated along the remaining dimensions. For example, if \\texttt{dims} is \\texttt{[1,2]} and \\texttt{A} is 4-dimensional, \\texttt{f} is called on \\texttt{A[:,:,i,j]} for all \\texttt{i} and \\texttt{j}.\n",
       "\n",
       "\\section{Examples}\n",
       "\\begin{verbatim}\n",
       "julia> a = reshape(Vector(1:16),(2,2,2,2))\n",
       "2×2×2×2 Array{Int64,4}:\n",
       "[:, :, 1, 1] =\n",
       " 1  3\n",
       " 2  4\n",
       "\n",
       "[:, :, 2, 1] =\n",
       " 5  7\n",
       " 6  8\n",
       "\n",
       "[:, :, 1, 2] =\n",
       "  9  11\n",
       " 10  12\n",
       "\n",
       "[:, :, 2, 2] =\n",
       " 13  15\n",
       " 14  16\n",
       "\n",
       "julia> mapslices(sum, a, dims = [1,2])\n",
       "1×1×2×2 Array{Int64,4}:\n",
       "[:, :, 1, 1] =\n",
       " 10\n",
       "\n",
       "[:, :, 2, 1] =\n",
       " 26\n",
       "\n",
       "[:, :, 1, 2] =\n",
       " 42\n",
       "\n",
       "[:, :, 2, 2] =\n",
       " 58\n",
       "\\end{verbatim}\n"
      ],
      "text/markdown": [
       "```\n",
       "mapslices(f, A; dims)\n",
       "```\n",
       "\n",
       "Transform the given dimensions of array `A` using function `f`. `f` is called on each slice of `A` of the form `A[...,:,...,:,...]`. `dims` is an integer vector specifying where the colons go in this expression. The results are concatenated along the remaining dimensions. For example, if `dims` is `[1,2]` and `A` is 4-dimensional, `f` is called on `A[:,:,i,j]` for all `i` and `j`.\n",
       "\n",
       "# Examples\n",
       "\n",
       "```jldoctest\n",
       "julia> a = reshape(Vector(1:16),(2,2,2,2))\n",
       "2×2×2×2 Array{Int64,4}:\n",
       "[:, :, 1, 1] =\n",
       " 1  3\n",
       " 2  4\n",
       "\n",
       "[:, :, 2, 1] =\n",
       " 5  7\n",
       " 6  8\n",
       "\n",
       "[:, :, 1, 2] =\n",
       "  9  11\n",
       " 10  12\n",
       "\n",
       "[:, :, 2, 2] =\n",
       " 13  15\n",
       " 14  16\n",
       "\n",
       "julia> mapslices(sum, a, dims = [1,2])\n",
       "1×1×2×2 Array{Int64,4}:\n",
       "[:, :, 1, 1] =\n",
       " 10\n",
       "\n",
       "[:, :, 2, 1] =\n",
       " 26\n",
       "\n",
       "[:, :, 1, 2] =\n",
       " 42\n",
       "\n",
       "[:, :, 2, 2] =\n",
       " 58\n",
       "```\n"
      ],
      "text/plain": [
       "\u001b[36m  mapslices(f, A; dims)\u001b[39m\n",
       "\n",
       "  Transform the given dimensions of array \u001b[36mA\u001b[39m using function \u001b[36mf\u001b[39m. \u001b[36mf\u001b[39m is called on\n",
       "  each slice of \u001b[36mA\u001b[39m of the form \u001b[36mA[...,:,...,:,...]\u001b[39m. \u001b[36mdims\u001b[39m is an integer vector\n",
       "  specifying where the colons go in this expression. The results are\n",
       "  concatenated along the remaining dimensions. For example, if \u001b[36mdims\u001b[39m is \u001b[36m[1,2]\u001b[39m\n",
       "  and \u001b[36mA\u001b[39m is 4-dimensional, \u001b[36mf\u001b[39m is called on \u001b[36mA[:,:,i,j]\u001b[39m for all \u001b[36mi\u001b[39m and \u001b[36mj\u001b[39m.\n",
       "\n",
       "\u001b[1m  Examples\u001b[22m\n",
       "\u001b[1m  ≡≡≡≡≡≡≡≡≡≡\u001b[22m\n",
       "\n",
       "\u001b[36m  julia> a = reshape(Vector(1:16),(2,2,2,2))\u001b[39m\n",
       "\u001b[36m  2×2×2×2 Array{Int64,4}:\u001b[39m\n",
       "\u001b[36m  [:, :, 1, 1] =\u001b[39m\n",
       "\u001b[36m   1  3\u001b[39m\n",
       "\u001b[36m   2  4\u001b[39m\n",
       "\u001b[36m  \u001b[39m\n",
       "\u001b[36m  [:, :, 2, 1] =\u001b[39m\n",
       "\u001b[36m   5  7\u001b[39m\n",
       "\u001b[36m   6  8\u001b[39m\n",
       "\u001b[36m  \u001b[39m\n",
       "\u001b[36m  [:, :, 1, 2] =\u001b[39m\n",
       "\u001b[36m    9  11\u001b[39m\n",
       "\u001b[36m   10  12\u001b[39m\n",
       "\u001b[36m  \u001b[39m\n",
       "\u001b[36m  [:, :, 2, 2] =\u001b[39m\n",
       "\u001b[36m   13  15\u001b[39m\n",
       "\u001b[36m   14  16\u001b[39m\n",
       "\u001b[36m  \u001b[39m\n",
       "\u001b[36m  julia> mapslices(sum, a, dims = [1,2])\u001b[39m\n",
       "\u001b[36m  1×1×2×2 Array{Int64,4}:\u001b[39m\n",
       "\u001b[36m  [:, :, 1, 1] =\u001b[39m\n",
       "\u001b[36m   10\u001b[39m\n",
       "\u001b[36m  \u001b[39m\n",
       "\u001b[36m  [:, :, 2, 1] =\u001b[39m\n",
       "\u001b[36m   26\u001b[39m\n",
       "\u001b[36m  \u001b[39m\n",
       "\u001b[36m  [:, :, 1, 2] =\u001b[39m\n",
       "\u001b[36m   42\u001b[39m\n",
       "\u001b[36m  \u001b[39m\n",
       "\u001b[36m  [:, :, 2, 2] =\u001b[39m\n",
       "\u001b[36m   58\u001b[39m"
      ]
     },
     "execution_count": 9,
     "metadata": {},
     "output_type": "execute_result"
    }
   ],
   "source": [
    "?mapslices"
   ]
  },
  {
   "cell_type": "code",
   "execution_count": null,
   "metadata": {},
   "outputs": [],
   "source": []
  },
  {
   "cell_type": "code",
   "execution_count": 17,
   "metadata": {},
   "outputs": [],
   "source": [
    "function profile_test(n)\n",
    "    for i = 1:n\n",
    "        A = randn(100,100,20)# 100x100x20 random array \n",
    "        m = maximum(A)\n",
    "        Afft = fft(A)\n",
    "        Am = mapslices(sum, A, dims=2)\n",
    "        B = A[:,:,5]\n",
    "        Bsort = mapslices(sort, B, dims=1)\n",
    "        b = rand(100)\n",
    "        C = B.*b\n",
    "    end\n",
    "end\n",
    "\n",
    "profile_test(1);  # run once to trigger compilation"
   ]
  },
  {
   "cell_type": "code",
   "execution_count": 23,
   "metadata": {},
   "outputs": [],
   "source": [
    "#Pkg.add(\"Profile\")\n",
    "using Profile\n",
    "Profile.clear()  # in case we have any previous profiling data\n",
    "@profile profile_test(100)"
   ]
  },
  {
   "cell_type": "code",
   "execution_count": 27,
   "metadata": {},
   "outputs": [],
   "source": [
    "#Pkg.add(\"ProfileView\")"
   ]
  },
  {
   "cell_type": "code",
   "execution_count": 26,
   "metadata": {},
   "outputs": [
    {
     "name": "stderr",
     "output_type": "stream",
     "text": [
      "┌ Info: Precompiling ProfileView [c46f51b8-102a-5cf2-8d2c-8597cb0e0da7]\n",
      "└ @ Base loading.jl:1260\n",
      "┌ Warning: You are using Gtk on Windows which is currently not recommended. Your REPL/IDE and anything depending on task switches will become sluggish and much slower (up to ~85x slower).\n",
      "└ @ Gtk C:\\Users\\Victor\\.julia\\packages\\Gtk\\X7HfN\\src\\Gtk.jl:74\n",
      "┌ Warning: You are using Gtk on Windows which is currently not recommended. Your REPL/IDE and anything depending on task switches will become sluggish and much slower (up to ~85x slower).\n",
      "└ @ Gtk C:\\Users\\Victor\\.julia\\packages\\Gtk\\X7HfN\\src\\Gtk.jl:74\n",
      "┌ Warning: You are using Gtk on Windows which is currently not recommended. Your REPL/IDE and anything depending on task switches will become sluggish and much slower (up to ~85x slower).\n",
      "└ @ Gtk C:\\Users\\Victor\\.julia\\packages\\Gtk\\X7HfN\\src\\Gtk.jl:74\n"
     ]
    }
   ],
   "source": [
    "using ProfileView"
   ]
  },
  {
   "cell_type": "code",
   "execution_count": 28,
   "metadata": {},
   "outputs": [
    {
     "data": {
      "text/plain": [
       "Gtk.GtkWindowLeaf(name=\"\", parent, width-request=-1, height-request=-1, visible=TRUE, sensitive=TRUE, app-paintable=FALSE, can-focus=FALSE, has-focus=FALSE, is-focus=FALSE, focus-on-click=TRUE, can-default=FALSE, has-default=FALSE, receives-default=FALSE, composite-child=FALSE, style, events=0, no-show-all=FALSE, has-tooltip=FALSE, tooltip-markup=NULL, tooltip-text=NULL, window, opacity=1.000000, double-buffered, halign=GTK_ALIGN_FILL, valign=GTK_ALIGN_FILL, margin-left, margin-right, margin-start=0, margin-end=0, margin-top=0, margin-bottom=0, margin=0, hexpand=FALSE, vexpand=FALSE, hexpand-set=FALSE, vexpand-set=FALSE, expand=FALSE, scale-factor=1, border-width=0, resize-mode, child, type=GTK_WINDOW_TOPLEVEL, title=\"Profile\", role=NULL, resizable=TRUE, modal=FALSE, window-position=GTK_WIN_POS_NONE, default-width=800, default-height=600, destroy-with-parent=FALSE, hide-titlebar-when-maximized=FALSE, icon, icon-name=NULL, screen, type-hint=GDK_WINDOW_TYPE_HINT_NORMAL, skip-taskbar-hint=FALSE, skip-pager-hint=FALSE, urgency-hint=FALSE, accept-focus=TRUE, focus-on-map=TRUE, decorated=TRUE, deletable=TRUE, gravity=GDK_GRAVITY_NORTH_WEST, transient-for, attached-to, has-resize-grip, resize-grip-visible, application, is-active=TRUE, has-toplevel-focus=TRUE, startup-id, mnemonics-visible=FALSE, focus-visible=FALSE, is-maximized=FALSE)"
      ]
     },
     "execution_count": 28,
     "metadata": {},
     "output_type": "execute_result"
    },
    {
     "name": "stdout",
     "output_type": "stream",
     "text": [
      "C:\\Users\\Victor\\.julia\\packages\\IJulia\\DrVMH\\src\\execute_request.jl, execute_request: line 67\n"
     ]
    }
   ],
   "source": [
    "ProfileView.view()"
   ]
  },
  {
   "cell_type": "code",
   "execution_count": 29,
   "metadata": {},
   "outputs": [
    {
     "data": {
      "text/plain": [
       "Gtk.GtkWindowLeaf(name=\"\", parent, width-request=-1, height-request=-1, visible=TRUE, sensitive=TRUE, app-paintable=FALSE, can-focus=FALSE, has-focus=FALSE, is-focus=FALSE, focus-on-click=TRUE, can-default=FALSE, has-default=FALSE, receives-default=FALSE, composite-child=FALSE, style, events=0, no-show-all=FALSE, has-tooltip=FALSE, tooltip-markup=NULL, tooltip-text=NULL, window, opacity=1.000000, double-buffered, halign=GTK_ALIGN_FILL, valign=GTK_ALIGN_FILL, margin-left, margin-right, margin-start=0, margin-end=0, margin-top=0, margin-bottom=0, margin=0, hexpand=FALSE, vexpand=FALSE, hexpand-set=FALSE, vexpand-set=FALSE, expand=FALSE, scale-factor=1, border-width=0, resize-mode, child, type=GTK_WINDOW_TOPLEVEL, title=\"Profile\", role=NULL, resizable=TRUE, modal=FALSE, window-position=GTK_WIN_POS_NONE, default-width=800, default-height=600, destroy-with-parent=FALSE, hide-titlebar-when-maximized=FALSE, icon, icon-name=NULL, screen, type-hint=GDK_WINDOW_TYPE_HINT_NORMAL, skip-taskbar-hint=FALSE, skip-pager-hint=FALSE, urgency-hint=FALSE, accept-focus=TRUE, focus-on-map=TRUE, decorated=TRUE, deletable=TRUE, gravity=GDK_GRAVITY_NORTH_WEST, transient-for, attached-to, has-resize-grip, resize-grip-visible, application, is-active=TRUE, has-toplevel-focus=TRUE, startup-id, mnemonics-visible=FALSE, focus-visible=FALSE, is-maximized=FALSE)"
      ]
     },
     "execution_count": 29,
     "metadata": {},
     "output_type": "execute_result"
    }
   ],
   "source": [
    "ProfileView.view(C=true)"
   ]
  },
  {
   "cell_type": "markdown",
   "metadata": {},
   "source": [
    "## Gaining additional insights\n",
    "\n",
    "Other profiling tools\n",
    "1. https://github.com/cstjean/FProfile.jl\n",
    "2. https://github.com/cstjean/TraceCalls.jl\n",
    "3. Learn about Linux's `perf`\n",
    "\n",
    "Code Analyzer\n",
    "1. https://github.com/vchuravy/IACA.jl"
   ]
  },
  {
   "cell_type": "markdown",
   "metadata": {},
   "source": [
    "## Threading\n",
    "Julia threading model is based on a fork-join approach and is still considered experimental.\n",
    "(So experimental in fact that these benchmarks have been run with https://github.com/JuliaLang/julia/pull/24688)\n",
    "\n",
    "Fork-join describes the control flow that a group of threads undergoes. Execution is forked and a anonymous function is then run across all threads.\n",
    "\n",
    "All threads have to join together and serial execution continues."
   ]
  },
  {
   "cell_type": "markdown",
   "metadata": {},
   "source": [
    "### Hardware"
   ]
  },
  {
   "cell_type": "code",
   "execution_count": null,
   "metadata": {},
   "outputs": [],
   "source": []
  },
  {
   "cell_type": "code",
   "execution_count": 35,
   "metadata": {},
   "outputs": [
    {
     "data": {
      "text/plain": [
       "true"
      ]
     },
     "execution_count": 35,
     "metadata": {},
     "output_type": "execute_result"
    }
   ],
   "source": [
    "Sys.iswindows()"
   ]
  },
  {
   "cell_type": "code",
   "execution_count": 38,
   "metadata": {},
   "outputs": [
    {
     "name": "stdout",
     "output_type": "stream",
     "text": [
      "AddressWidth  Architecture  AssetTag                Availability  Caption                                 Characteristics  ConfigManagerErrorCode  ConfigManagerUserConfig  CpuStatus  CreationClassName  CurrentClockSpeed  CurrentVoltage  DataWidth  Description                             DeviceID  ErrorCleared  ErrorDescription  ExtClock  Family  InstallDate  L2CacheSize  L2CacheSpeed  L3CacheSize  L3CacheSpeed  LastErrorCode  Level  LoadPercentage  Manufacturer  MaxClockSpeed  Name                                      NumberOfCores  NumberOfEnabledCore  NumberOfLogicalProcessors  OtherFamilyDescription  PartNumber              PNPDeviceID  PowerManagementCapabilities  PowerManagementSupported  ProcessorId       ProcessorType  Revision  Role  SecondLevelAddressTranslationExtensions  SerialNumber            SocketDesignation  Status  StatusInfo  Stepping  SystemCreationClassName  SystemName     ThreadCount  UniqueId  UpgradeMethod  Version  VirtualizationFirmwareEnabled  VMMonitorModeExtensions  VoltageCaps  \r",
      "\r\n",
      "64            9             To Be Filled By O.E.M.  3             Intel64 Family 6 Model 158 Stepping 10  252                                                               1          Win32_Processor    2208               10              64         Intel64 Family 6 Model 158 Stepping 10  CPU0                                      100       198                  1536                       9216         0                            6      3               GenuineIntel  2208           Intel(R) Core(TM) i7-8750H CPU @ 2.20GHz  6              6                    12                                                 To Be Filled By O.E.M.                                            FALSE                     BFEBFBFF000906EA  3                        CPU   TRUE                                     To Be Filled By O.E.M.  U3E1               OK      3                     Win32_ComputerSystem     PHYSHSC340LT1  12                     52                      TRUE                           TRUE                                  \r",
      "\r\n",
      "\r",
      "\r\n"
     ]
    },
    {
     "data": {
      "text/plain": [
       "Process(`\u001b[4mwmic\u001b[24m \u001b[4mcpu\u001b[24m`, ProcessExited(0))"
      ]
     },
     "execution_count": 38,
     "metadata": {},
     "output_type": "execute_result"
    }
   ],
   "source": [
    "Sys.iswindows() && run(`wmic cpu`)\n",
    "#is_linux() && run(`lscpu`)"
   ]
  },
  {
   "cell_type": "markdown",
   "metadata": {},
   "source": [
    "```sh\n",
    "> lscpu\n",
    "...\n",
    "Thread(s) per core:  2\n",
    "Core(s) per socket:  2\n",
    "...\n",
    "Model name:          Intel(R) Core(TM) i7-7660U CPU @ 2.50GHz\n",
    "...\n",
    "L1d cache:           32K\n",
    "L1i cache:           32K\n",
    "L2 cache:            256K\n",
    "L3 cache:            4096K\n",
    "...\n",
    "Flags: ... avx2 ...\n",
    "```\n",
    "\n",
    "```sh\n",
    "> lscpu\n",
    "...\n",
    "Thread(s) per core:  2\n",
    "Core(s) per socket:  12\n",
    "...\n",
    "Model name:          AMD Ryzen Threadripper 1920X 12-Core Processor\n",
    "...\n",
    "L1d cache:           32K\n",
    "L1i cache:           64K\n",
    "L2 cache:            512K\n",
    "L3 cache:            8192K\n",
    "...\n",
    "Flags: ... avx2 ...\n",
    "```"
   ]
  },
  {
   "cell_type": "code",
   "execution_count": 42,
   "metadata": {},
   "outputs": [],
   "source": [
    "using Base.Threads"
   ]
  },
  {
   "cell_type": "code",
   "execution_count": 43,
   "metadata": {},
   "outputs": [
    {
     "data": {
      "text/plain": [
       "1"
      ]
     },
     "execution_count": 43,
     "metadata": {},
     "output_type": "execute_result"
    }
   ],
   "source": [
    "nthreads()"
   ]
  },
  {
   "cell_type": "code",
   "execution_count": 48,
   "metadata": {},
   "outputs": [
    {
     "data": {
      "text/plain": [
       "4"
      ]
     },
     "execution_count": 48,
     "metadata": {},
     "output_type": "execute_result"
    }
   ],
   "source": [
    "#ENV[\"JULIA_NUM_THREADS\"] = 4 "
   ]
  },
  {
   "cell_type": "code",
   "execution_count": 49,
   "metadata": {},
   "outputs": [
    {
     "data": {
      "text/plain": [
       "1"
      ]
     },
     "execution_count": 49,
     "metadata": {},
     "output_type": "execute_result"
    }
   ],
   "source": [
    "nthreads()"
   ]
  },
  {
   "cell_type": "markdown",
   "metadata": {},
   "source": [
    "Special care needs to be taken if the loop body access has side-effects or accesses global state. (This includes IO and random numbers)"
   ]
  },
  {
   "cell_type": "code",
   "execution_count": 46,
   "metadata": {},
   "outputs": [
    {
     "data": {
      "text/latex": [
       "\\begin{verbatim}\n",
       "Threads.@threads\n",
       "\\end{verbatim}\n",
       "A macro to parallelize a for-loop to run with multiple threads. This spawns \\texttt{nthreads()} number of threads, splits the iteration space amongst them, and iterates in parallel. A barrier is placed at the end of the loop which waits for all the threads to finish execution, and the loop returns.\n",
       "\n"
      ],
      "text/markdown": [
       "```\n",
       "Threads.@threads\n",
       "```\n",
       "\n",
       "A macro to parallelize a for-loop to run with multiple threads. This spawns `nthreads()` number of threads, splits the iteration space amongst them, and iterates in parallel. A barrier is placed at the end of the loop which waits for all the threads to finish execution, and the loop returns.\n"
      ],
      "text/plain": [
       "\u001b[36m  Threads.@threads\u001b[39m\n",
       "\n",
       "  A macro to parallelize a for-loop to run with multiple threads. This spawns\n",
       "  \u001b[36mnthreads()\u001b[39m number of threads, splits the iteration space amongst them, and\n",
       "  iterates in parallel. A barrier is placed at the end of the loop which waits\n",
       "  for all the threads to finish execution, and the loop returns."
      ]
     },
     "execution_count": 46,
     "metadata": {},
     "output_type": "execute_result"
    }
   ],
   "source": [
    "?@threads"
   ]
  },
  {
   "cell_type": "code",
   "execution_count": 45,
   "metadata": {},
   "outputs": [
    {
     "data": {
      "text/plain": [
       "rand_init1 (generic function with 1 method)"
      ]
     },
     "execution_count": 45,
     "metadata": {},
     "output_type": "execute_result"
    }
   ],
   "source": [
    "function rand_init1(A)\n",
    "    @threads for i in 1:length(A)\n",
    "        A[i] = rand()\n",
    "    end\n",
    "end"
   ]
  },
  {
   "cell_type": "code",
   "execution_count": 13,
   "metadata": {},
   "outputs": [
    {
     "data": {
      "text/plain": [
       "rand_init2 (generic function with 1 method)"
      ]
     },
     "execution_count": 13,
     "metadata": {},
     "output_type": "execute_result"
    }
   ],
   "source": [
    "function rand_init2(rngs, A)\n",
    "    @threads for i in 1:length(A)\n",
    "        A[i] = rand(rngs[threadid()])\n",
    "    end\n",
    "end"
   ]
  },
  {
   "cell_type": "code",
   "execution_count": 14,
   "metadata": {},
   "outputs": [
    {
     "data": {
      "text/plain": [
       "create_rngs (generic function with 1 method)"
      ]
     },
     "execution_count": 14,
     "metadata": {},
     "output_type": "execute_result"
    }
   ],
   "source": [
    "# Based on https://github.com/bkamins/KissThreading.jl/blob/8675f55ef9469fccf808a44237bd5f0bbb02b950/src/KissThreading.jl#L5-L15\n",
    "function create_rngs()\n",
    "    rngjmp = randjump(Base.GLOBAL_RNG, nthreads()+1)\n",
    "    rngs = Vector{MersenneTwister}(nthreads())\n",
    "    Threads.@threads for tid in 1:nthreads()\n",
    "        rngs[tid] = deepcopy(rngjmp[tid+1])\n",
    "    end\n",
    "    all([isassigned(rngs, i) for i in 1:nthreads()]) || error(\"failed to create rngs\")\n",
    "    return rngs\n",
    "end"
   ]
  },
  {
   "cell_type": "code",
   "execution_count": 15,
   "metadata": {},
   "outputs": [],
   "source": [
    "basic_rngs = [MersenneTwister(rand(UInt64)) for i in 1:nthreads()]\n",
    "proper_rngs = create_rngs();"
   ]
  },
  {
   "cell_type": "code",
   "execution_count": 16,
   "metadata": {},
   "outputs": [],
   "source": [
    "A = zeros(10_000);"
   ]
  },
  {
   "cell_type": "code",
   "execution_count": 17,
   "metadata": {},
   "outputs": [
    {
     "data": {
      "text/plain": [
       "BenchmarkTools.Trial: \n",
       "  memory estimate:  32 bytes\n",
       "  allocs estimate:  1\n",
       "  --------------\n",
       "  minimum time:     76.773 μs (0.00% GC)\n",
       "  median time:      149.930 μs (0.00% GC)\n",
       "  mean time:        150.099 μs (0.00% GC)\n",
       "  maximum time:     198.623 μs (0.00% GC)\n",
       "  --------------\n",
       "  samples:          10000\n",
       "  evals/sample:     1"
      ]
     },
     "execution_count": 17,
     "metadata": {},
     "output_type": "execute_result"
    }
   ],
   "source": [
    "@benchmark rand_init1($A)"
   ]
  },
  {
   "cell_type": "code",
   "execution_count": 18,
   "metadata": {},
   "outputs": [
    {
     "data": {
      "text/plain": [
       "BenchmarkTools.Trial: \n",
       "  memory estimate:  48 bytes\n",
       "  allocs estimate:  1\n",
       "  --------------\n",
       "  minimum time:     23.261 μs (0.00% GC)\n",
       "  median time:      24.307 μs (0.00% GC)\n",
       "  mean time:        24.292 μs (0.00% GC)\n",
       "  maximum time:     145.660 μs (0.00% GC)\n",
       "  --------------\n",
       "  samples:          10000\n",
       "  evals/sample:     1"
      ]
     },
     "execution_count": 18,
     "metadata": {},
     "output_type": "execute_result"
    }
   ],
   "source": [
    "@benchmark rand_init2($basic_rngs, $A)"
   ]
  },
  {
   "cell_type": "code",
   "execution_count": 19,
   "metadata": {},
   "outputs": [
    {
     "data": {
      "text/plain": [
       "BenchmarkTools.Trial: \n",
       "  memory estimate:  48 bytes\n",
       "  allocs estimate:  1\n",
       "  --------------\n",
       "  minimum time:     22.975 μs (0.00% GC)\n",
       "  median time:      24.237 μs (0.00% GC)\n",
       "  mean time:        24.254 μs (0.00% GC)\n",
       "  maximum time:     50.971 μs (0.00% GC)\n",
       "  --------------\n",
       "  samples:          10000\n",
       "  evals/sample:     1"
      ]
     },
     "execution_count": 19,
     "metadata": {},
     "output_type": "execute_result"
    }
   ],
   "source": [
    "@benchmark rand_init2($proper_rngs, $A)"
   ]
  },
  {
   "cell_type": "markdown",
   "metadata": {},
   "source": [
    "## Atomics and Locks"
   ]
  },
  {
   "cell_type": "code",
   "execution_count": 20,
   "metadata": {},
   "outputs": [],
   "source": [
    "acc = 0\n",
    "@threads for i in 1:10_000\n",
    "    global acc\n",
    "    acc += 1\n",
    "end"
   ]
  },
  {
   "cell_type": "code",
   "execution_count": 21,
   "metadata": {},
   "outputs": [
    {
     "data": {
      "text/plain": [
       "2534"
      ]
     },
     "execution_count": 21,
     "metadata": {},
     "output_type": "execute_result"
    }
   ],
   "source": [
    "acc"
   ]
  },
  {
   "cell_type": "code",
   "execution_count": 22,
   "metadata": {},
   "outputs": [],
   "source": [
    "acc = Atomic{Int64}(0)\n",
    "@threads for i in 1:10_000\n",
    "    atomic_add!(acc, 1)\n",
    "end"
   ]
  },
  {
   "cell_type": "code",
   "execution_count": 23,
   "metadata": {},
   "outputs": [
    {
     "data": {
      "text/plain": [
       "Base.Threads.Atomic{Int64}(10000)"
      ]
     },
     "execution_count": 23,
     "metadata": {},
     "output_type": "execute_result"
    }
   ],
   "source": [
    "acc"
   ]
  },
  {
   "cell_type": "markdown",
   "metadata": {},
   "source": [
    "For locks take a look at the [manual](https://docs.julialang.org/en/latest/stdlib/parallel/#Synchronization-Primitives-1)"
   ]
  },
  {
   "cell_type": "markdown",
   "metadata": {},
   "source": [
    "# A useful trick\n",
    "```julia\n",
    "@threads for id in 1:nthreads()\n",
    "    #each thread does something\n",
    "end\n",
    "```"
   ]
  },
  {
   "cell_type": "code",
   "execution_count": 24,
   "metadata": {},
   "outputs": [
    {
     "data": {
      "text/plain": [
       "threaded_sum (generic function with 1 method)"
      ]
     },
     "execution_count": 24,
     "metadata": {},
     "output_type": "execute_result"
    }
   ],
   "source": [
    "function threaded_sum(arr)\n",
    "   @assert length(arr) % nthreads() == 0\n",
    "   let results = zeros(eltype(arr), nthreads())\n",
    "       @threads for tid in 1:nthreads()\n",
    "           # split work\n",
    "           acc = zero(eltype(arr))\n",
    "           len = div(length(arr), nthreads())\n",
    "           domain = ((tid-1)*len +1):tid*len\n",
    "           @inbounds for i in domain\n",
    "               acc += arr[i]    \n",
    "           end\n",
    "           results[tid] = acc\n",
    "       end\n",
    "       sum(results)\n",
    "   end\n",
    "end"
   ]
  },
  {
   "cell_type": "code",
   "execution_count": 25,
   "metadata": {},
   "outputs": [],
   "source": [
    "data = rand(3*2^19);"
   ]
  },
  {
   "cell_type": "code",
   "execution_count": 26,
   "metadata": {},
   "outputs": [
    {
     "name": "stdout",
     "output_type": "stream",
     "text": [
      "  409.636 μs (0 allocations: 0 bytes)\n"
     ]
    },
    {
     "data": {
      "text/plain": [
       "786472.3368683406"
      ]
     },
     "execution_count": 26,
     "metadata": {},
     "output_type": "execute_result"
    }
   ],
   "source": [
    "@btime sum($data)"
   ]
  },
  {
   "cell_type": "code",
   "execution_count": 27,
   "metadata": {},
   "outputs": [
    {
     "name": "stdout",
     "output_type": "stream",
     "text": [
      "  440.189 μs (2 allocations: 160 bytes)\n"
     ]
    },
    {
     "data": {
      "text/plain": [
       "786472.3368683412"
      ]
     },
     "execution_count": 27,
     "metadata": {},
     "output_type": "execute_result"
    }
   ],
   "source": [
    "@btime threaded_sum($data)"
   ]
  },
  {
   "cell_type": "markdown",
   "metadata": {},
   "source": [
    "| NT  | Skylake | AMD TR |\n",
    "| --- | --- | --- |\n",
    "| sum | 514.476 μs | 430.409 μs |\n",
    "| 1 | 1.578 ms | 1.206 ms |\n",
    "| 2 | 831.411 μs | 575.872 μs |\n",
    "| 4 | 417.656 μs | 294.724 μs |\n",
    "| 6 | X | 215.986 μs |\n",
    "| 12 | X | 109.536 μs |\n",
    "| 24 | X | 57.197 μs |\n",
    "\n",
    "If your `@threads` performance with one thread is not as fast as a non `@threads` version something is off..., but yeah for linear scaling."
   ]
  },
  {
   "cell_type": "code",
   "execution_count": 28,
   "metadata": {},
   "outputs": [
    {
     "data": {
      "text/plain": [
       "threaded_sum2 (generic function with 1 method)"
      ]
     },
     "execution_count": 28,
     "metadata": {},
     "output_type": "execute_result"
    }
   ],
   "source": [
    "function threaded_sum2(arr)\n",
    "   @assert length(arr) % nthreads() == 0\n",
    "   let results = zeros(eltype(arr), nthreads())\n",
    "       @threads for tid in 1:nthreads()\n",
    "           # split work\n",
    "           acc = zero(eltype(arr))\n",
    "           len = div(length(arr), nthreads())\n",
    "           domain = ((tid-1)*len +1):tid*len\n",
    "           @inbounds @simd for i in domain\n",
    "               acc += arr[i]    \n",
    "           end\n",
    "           results[tid] = acc\n",
    "       end\n",
    "       sum(results)\n",
    "    end\n",
    "end"
   ]
  },
  {
   "cell_type": "code",
   "execution_count": 29,
   "metadata": {},
   "outputs": [
    {
     "name": "stdout",
     "output_type": "stream",
     "text": [
      "  189.639 μs (2 allocations: 160 bytes)\n"
     ]
    },
    {
     "data": {
      "text/plain": [
       "786472.3368683401"
      ]
     },
     "execution_count": 29,
     "metadata": {},
     "output_type": "execute_result"
    }
   ],
   "source": [
    "@btime threaded_sum2($data)"
   ]
  },
  {
   "cell_type": "markdown",
   "metadata": {},
   "source": [
    "| NT  | Skylake | AMD TR |\n",
    "| --- | --- | --- |\n",
    "| sum | 514.476 μs | 430.409 μs |\n",
    "| 1 | 493.384 μs | 401.755 μs |\n",
    "| 2 | 282.030 μs | 73.408 μs |\n",
    "| 4 | 230.988 μs | 37.541 μs |\n",
    "| 6 | X | 29.185 μs |\n",
    "| 12 | X | 16.491 μs |\n",
    "| 24 | X | 17.693 μs |\n",
    "\n",
    "Hyperthreading...\n",
    "\n",
    "and superlinear speedup from 1-2 threads on Threadripper, due to cache effect. (Data is 12MB; 2xL3 = 16MB)"
   ]
  },
  {
   "cell_type": "markdown",
   "metadata": {},
   "source": [
    "## An example"
   ]
  },
  {
   "cell_type": "code",
   "execution_count": 30,
   "metadata": {},
   "outputs": [
    {
     "data": {
      "text/plain": [
       "myfun (generic function with 1 method)"
      ]
     },
     "execution_count": 30,
     "metadata": {},
     "output_type": "execute_result"
    }
   ],
   "source": [
    "function myfun(rng::MersenneTwister)\n",
    "    s = 0.0\n",
    "    N = 10000\n",
    "    for i = 1:N\n",
    "        s += det(randn(rng, 3,3))\n",
    "    end\n",
    "    s/N\n",
    "end\n"
   ]
  },
  {
   "cell_type": "code",
   "execution_count": 31,
   "metadata": {},
   "outputs": [
    {
     "data": {
      "text/plain": [
       "bench (generic function with 1 method)"
      ]
     },
     "execution_count": 31,
     "metadata": {},
     "output_type": "execute_result"
    }
   ],
   "source": [
    "function bench(rgi)\n",
    "    a = zeros(1000)\n",
    "    @threads for i = 1:length(a)\n",
    "        a[i] = myfun(rgi[threadid()])\n",
    "    end\n",
    "end"
   ]
  },
  {
   "cell_type": "code",
   "execution_count": 32,
   "metadata": {},
   "outputs": [],
   "source": [
    "rgi = [MersenneTwister(rand(UInt)) for _ in 1:nthreads()];"
   ]
  },
  {
   "cell_type": "code",
   "execution_count": 33,
   "metadata": {},
   "outputs": [
    {
     "name": "stdout",
     "output_type": "stream",
     "text": [
      "  3.837 s (46897551 allocations: 3.56 GiB)\n"
     ]
    }
   ],
   "source": [
    "@btime bench($rgi)"
   ]
  },
  {
   "cell_type": "markdown",
   "metadata": {},
   "source": [
    "### Steps I took to optimize this code\n",
    "\n",
    "1. Memory allocations in hot-loop\n",
    "2. Eliminate allocs caused by rand\n",
    "3. Investigate how det is implemented\n",
    "4. Implement det!\n",
    "5. Remove overhead to library call\n",
    "6. Use profiling tools\n",
    "7. Start using StaticArrays\n",
    "\n",
    "Full story here: https://hackmd.io/s/BkyZ5Mmbb"
   ]
  },
  {
   "cell_type": "code",
   "execution_count": 34,
   "metadata": {},
   "outputs": [],
   "source": [
    "using StaticArrays"
   ]
  },
  {
   "cell_type": "code",
   "execution_count": 35,
   "metadata": {},
   "outputs": [
    {
     "data": {
      "text/plain": [
       "myfun_fast (generic function with 1 method)"
      ]
     },
     "execution_count": 35,
     "metadata": {},
     "output_type": "execute_result"
    }
   ],
   "source": [
    "function myfun_fast(rng::MersenneTwister)\n",
    "    s = 0.0\n",
    "    N = 10000\n",
    "    for i in 1:N\n",
    "        s += det(randn(rng, SMatrix{3, 3}))\n",
    "    end\n",
    "    s/N\n",
    "end"
   ]
  },
  {
   "cell_type": "code",
   "execution_count": 36,
   "metadata": {},
   "outputs": [
    {
     "data": {
      "text/plain": [
       "bench_fast (generic function with 1 method)"
      ]
     },
     "execution_count": 36,
     "metadata": {},
     "output_type": "execute_result"
    }
   ],
   "source": [
    "function bench_fast(rgi)\n",
    "    a = zeros(1000)\n",
    "    @threads for i in 1:length(a)\n",
    "        @inbounds a[i] = myfun_fast(rgi[threadid()])\n",
    "    end\n",
    "end"
   ]
  },
  {
   "cell_type": "code",
   "execution_count": 37,
   "metadata": {},
   "outputs": [],
   "source": [
    "rgi_fast = create_rngs();"
   ]
  },
  {
   "cell_type": "code",
   "execution_count": 38,
   "metadata": {},
   "outputs": [
    {
     "name": "stdout",
     "output_type": "stream",
     "text": [
      "  365.109 ms (2 allocations: 7.98 KiB)\n"
     ]
    }
   ],
   "source": [
    "result = @btime bench_fast($rgi_fast)"
   ]
  },
  {
   "cell_type": "markdown",
   "metadata": {},
   "source": [
    "## Distributed computing and accelerated computing\n",
    "### The Julia way!"
   ]
  },
  {
   "cell_type": "markdown",
   "metadata": {},
   "source": [
    "Julia supports various forms of distributed computing.\n",
    "\n",
    "1. A native master-worker system based on remote procedure calls\n",
    "2. MPI through `MPI.jl`\n",
    "3. `DistributedArrays.jl`\n",
    "\n",
    "Julia also has support for accelerated computing\n",
    "\n",
    "1. Low-level (C kernel) based operations `OpenCL.jl` and `CUDAdrv.jl`\n",
    "2. Low-level (Julia kernel) based operations through `CUDAnative.jl` and \n",
    "2. High-level vendor specific abstractions `CuArray.jl` and `CLArray.jl`\n",
    "2. High-level libraries like `ArrayFire.jl` and `GPUArrays.jl`"
   ]
  },
  {
   "cell_type": "markdown",
   "metadata": {},
   "source": [
    "### The Julia way! Tell us where your data is and your program will follow.\n",
    "\n",
    "#### `broadcast` example"
   ]
  },
  {
   "cell_type": "code",
   "execution_count": 39,
   "metadata": {},
   "outputs": [
    {
     "data": {
      "text/plain": [
       "4-element Array{Int64,1}:\n",
       " 2\n",
       " 3\n",
       " 4\n",
       " 5"
      ]
     },
     "execution_count": 39,
     "metadata": {},
     "output_type": "execute_result"
    }
   ],
   "source": [
    "addprocs(4)"
   ]
  },
  {
   "cell_type": "code",
   "execution_count": 40,
   "metadata": {},
   "outputs": [
    {
     "name": "stderr",
     "output_type": "stream",
     "text": [
      "WARNING: Method definition convert(Type{LLVM.LLVMType}, Type{T} where T) in module Interop at /home/ubuntu/.julia/v0.6/LLVM/src/interop/base.jl:54 overwritten in module CUDAnative at /home/ubuntu/.julia/v0.6/CUDAnative/src/cgutils.jl:159.\n",
      "WARNING: Method definition convert(Type{LLVM.LLVMType}, Type{T} where T) in module Interop at /home/ubuntu/.julia/v0.6/LLVM/src/interop/base.jl:54 overwritten in module CUDAnative at /home/ubuntu/.julia/v0.6/CUDAnative/src/cgutils.jl:159.\n",
      "WARNING: Method definition convert(Type{LLVM.LLVMType}, Type{T} where T)WARNING: Method definition convert(Type{LLVM.LLVMType}, Type{T} where T) in module Interop at /home/ubuntu/.julia/v0.6/LLVM/src/interop/base.jl:54 overwritten in module CUDAnative at /home/ubuntu/.julia/v0.6/CUDAnative/src/cgutils.jl:159.\n",
      " in module Interop at /home/ubuntu/.julia/v0.6/LLVM/src/interop/base.jl:54 overwritten in module CUDAnative at /home/ubuntu/.julia/v0.6/CUDAnative/src/cgutils.jl:159.\n",
      "WARNING: Method definition convert(Type{LLVM.LLVMType}, Type{T} where T) in module Interop at /home/ubuntu/.julia/v0.6/LLVM/src/interop/base.jl:54 overwritten in module CUDAnative at /home/ubuntu/.julia/v0.6/CUDAnative/src/cgutils.jl:159.\n"
     ]
    }
   ],
   "source": [
    "@everywhere using DistributedArrays\n",
    "using CuArrays"
   ]
  },
  {
   "cell_type": "code",
   "execution_count": 41,
   "metadata": {},
   "outputs": [],
   "source": [
    "B = ones(10_000) ./ 2;\n",
    "A = ones(10_000) .* π;"
   ]
  },
  {
   "cell_type": "code",
   "execution_count": 42,
   "metadata": {},
   "outputs": [
    {
     "data": {
      "text/plain": [
       "true"
      ]
     },
     "execution_count": 42,
     "metadata": {},
     "output_type": "execute_result"
    }
   ],
   "source": [
    "C = 2 .* A ./ B;\n",
    "all(C .≈ 4*π)"
   ]
  },
  {
   "cell_type": "code",
   "execution_count": 43,
   "metadata": {},
   "outputs": [
    {
     "data": {
      "text/plain": [
       "Array{Float64,1}"
      ]
     },
     "execution_count": 43,
     "metadata": {},
     "output_type": "execute_result"
    }
   ],
   "source": [
    "typeof(C)"
   ]
  },
  {
   "cell_type": "code",
   "execution_count": 44,
   "metadata": {},
   "outputs": [],
   "source": [
    "dB = distribute(B);\n",
    "dA = distribute(A);"
   ]
  },
  {
   "cell_type": "code",
   "execution_count": 45,
   "metadata": {},
   "outputs": [
    {
     "data": {
      "text/plain": [
       "true"
      ]
     },
     "execution_count": 45,
     "metadata": {},
     "output_type": "execute_result"
    }
   ],
   "source": [
    "dC = 2 .* dA ./ dB;\n",
    "all(dC .≈ 4*π)"
   ]
  },
  {
   "cell_type": "code",
   "execution_count": 46,
   "metadata": {},
   "outputs": [
    {
     "data": {
      "text/plain": [
       "DistributedArrays.DArray{Float64,1,Array{Float64,1}}"
      ]
     },
     "execution_count": 46,
     "metadata": {},
     "output_type": "execute_result"
    }
   ],
   "source": [
    "typeof(dC)"
   ]
  },
  {
   "cell_type": "code",
   "execution_count": 47,
   "metadata": {},
   "outputs": [],
   "source": [
    "cuB = CuArray(B);\n",
    "cuA = CuArray(A);"
   ]
  },
  {
   "cell_type": "code",
   "execution_count": 48,
   "metadata": {},
   "outputs": [
    {
     "name": "stderr",
     "output_type": "stream",
     "text": [
      "warning: ignoring debug info with an invalid version (0) in \n",
      "warning: ignoring debug info with an invalid version (0) in \n"
     ]
    },
    {
     "data": {
      "text/plain": [
       "true"
      ]
     },
     "execution_count": 48,
     "metadata": {},
     "output_type": "execute_result"
    }
   ],
   "source": [
    "cuC = 2 .* cuA ./ cuB;\n",
    "# Disclaimer on Julia v0.6 some operations don't work `sin`. Use CUDAnative.sin instead.\n",
    "all(cuC .≈ 4*π)"
   ]
  },
  {
   "cell_type": "code",
   "execution_count": 49,
   "metadata": {},
   "outputs": [
    {
     "data": {
      "text/plain": [
       "CuArray{Float64,1}"
      ]
     },
     "execution_count": 49,
     "metadata": {},
     "output_type": "execute_result"
    }
   ],
   "source": [
    "typeof(cuC)"
   ]
  },
  {
   "cell_type": "markdown",
   "metadata": {},
   "source": [
    "#### example powermethod"
   ]
  },
  {
   "cell_type": "code",
   "execution_count": 50,
   "metadata": {},
   "outputs": [
    {
     "data": {
      "text/plain": [
       "power_method (generic function with 1 method)"
      ]
     },
     "execution_count": 50,
     "metadata": {},
     "output_type": "execute_result"
    }
   ],
   "source": [
    "function power_method(M, v)\n",
    "    for i in 1:100\n",
    "        v = M*v        # repeatedly creates a new vector and destroys the old v\n",
    "        v /= norm(v)\n",
    "    end\n",
    "    \n",
    "    return v, norm(M*v) / norm(v)  # or  (M*v) ./ v\n",
    "end"
   ]
  },
  {
   "cell_type": "code",
   "execution_count": 51,
   "metadata": {},
   "outputs": [
    {
     "data": {
      "text/plain": [
       "2-element Array{Float64,1}:\n",
       " 0.0440707\n",
       " 0.369138 "
      ]
     },
     "execution_count": 51,
     "metadata": {},
     "output_type": "execute_result"
    }
   ],
   "source": [
    "M = [2. 1; 1 1]\n",
    "v = rand(2)"
   ]
  },
  {
   "cell_type": "code",
   "execution_count": 52,
   "metadata": {},
   "outputs": [
    {
     "data": {
      "text/plain": [
       "([0.850651, 0.525731], 2.618033988749895)"
      ]
     },
     "execution_count": 52,
     "metadata": {},
     "output_type": "execute_result"
    }
   ],
   "source": [
    "power_method(M, v)"
   ]
  },
  {
   "cell_type": "code",
   "execution_count": 53,
   "metadata": {},
   "outputs": [],
   "source": [
    "cuM = CuArray(M);\n",
    "cuv = CuArray(v);"
   ]
  },
  {
   "cell_type": "code",
   "execution_count": 54,
   "metadata": {},
   "outputs": [
    {
     "name": "stderr",
     "output_type": "stream",
     "text": [
      "warning: ignoring debug info with an invalid version (0) in \n"
     ]
    },
    {
     "data": {
      "text/plain": [
       "(CuArray([0.850651, 0.525731]), 2.618033988749895)"
      ]
     },
     "execution_count": 54,
     "metadata": {},
     "output_type": "execute_result"
    }
   ],
   "source": [
    "curesult = power_method(cuM, cuv)"
   ]
  },
  {
   "cell_type": "code",
   "execution_count": 55,
   "metadata": {},
   "outputs": [
    {
     "data": {
      "text/plain": [
       "CuArray{Float64,1}"
      ]
     },
     "execution_count": 55,
     "metadata": {},
     "output_type": "execute_result"
    }
   ],
   "source": [
    "typeof(curesult[1])"
   ]
  },
  {
   "cell_type": "code",
   "execution_count": null,
   "metadata": {},
   "outputs": [],
   "source": [
    "dM = distribute(M);\n",
    "dv = distribute(v);"
   ]
  },
  {
   "cell_type": "code",
   "execution_count": null,
   "metadata": {},
   "outputs": [],
   "source": [
    "result = power_method(dM, dv)"
   ]
  },
  {
   "cell_type": "code",
   "execution_count": null,
   "metadata": {},
   "outputs": [],
   "source": [
    "typeof(result[1])"
   ]
  }
 ],
 "metadata": {
  "kernelspec": {
   "display_name": "Julia 1.4.2",
   "language": "julia",
   "name": "julia-1.4"
  },
  "language_info": {
   "file_extension": ".jl",
   "mimetype": "application/julia",
   "name": "julia",
   "version": "1.4.2"
  }
 },
 "nbformat": 4,
 "nbformat_minor": 2
}
