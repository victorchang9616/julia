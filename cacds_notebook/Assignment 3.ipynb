{
 "cells": [
  {
   "cell_type": "markdown",
   "metadata": {},
   "source": [
    "### Romberg's method to calculate $\\pi$\n",
    "\n",
    "* from wikipedia: https://en.wikipedia.org/wiki/Romberg%27s_method\n",
    "\n",
    "Romberg's method (Romberg 1955) is used to estimate the definite integral\n",
    "\n",
    "$\\int _{a}^{b}f(x)\\,dx$\n",
    "\n",
    "Using\n",
    "\n",
    "$h_n={\\frac {1}{2^n}}(b-a)$\n",
    "    \n",
    "the method can be inductively defined by\n",
    "\n",
    "$R(0,0)=h_{1}(f(a)+f(b))$\n",
    "\n",
    "$R(n,0)={frac {1}{2}}R(n-1,0)+h_{n}\\sum _{k=1}^{2^{n-1}}f(a+(2k-1)h_{n})$\n",
    "\n",
    "$R(n,m)=R(n,m-1)+{tfrac {1}{4^{m}-1}}(R(n,m-1)-R(n-1,m-1))$\n",
    "\n",
    "To calculate $\\pi$ using Romberg's method, we will integrate following function from `0` to `1`.\n",
    "\n",
    "$f(x)={\\frac {4}{(1+x^2)}}$\n",
    "\n",
    "### The psudo code to implement the algorithm is as follows\n",
    "\n",
    "`procedure Romberg( f, a, b, n, (r(i,j))) \n",
    "integer i, j, k, n; real a, b, h, sum; real array (r(i,j))_(0:n×0:n) \n",
    "external function f \n",
    "h ← b − a \n",
    "r00 ← (h/2)[ f (a) + f (b)]\n",
    "for i = 1 to n do \n",
    "  h ← h/2 \n",
    "  sum ← 0 \n",
    "  for k = 1 to 2^i − 1 step 2 do \n",
    "    sum ← sum + f (a + kh) \n",
    "  end for \n",
    "  r(i,0) ← 1/2 r(i−1,0) + (sum)h\n",
    "  for j = 1 to i do \n",
    "    r(i,j) ← r(i, j−1) + (r(i, j−1) − r(i−1, j−1))/(4^j − 1) \n",
    "  end for \n",
    "end for\n",
    "end procedure Romberg`"
   ]
  },
  {
   "cell_type": "code",
   "execution_count": null,
   "metadata": {},
   "outputs": [],
   "source": []
  },
  {
   "cell_type": "code",
   "execution_count": null,
   "metadata": {},
   "outputs": [],
   "source": []
  }
 ],
 "metadata": {
  "@webio": {
   "lastCommId": null,
   "lastKernelId": null
  },
  "kernelspec": {
   "display_name": "Julia 1.4.2",
   "language": "julia",
   "name": "julia-1.4"
  },
  "language_info": {
   "file_extension": ".jl",
   "mimetype": "application/julia",
   "name": "julia",
   "version": "1.4.2"
  }
 },
 "nbformat": 4,
 "nbformat_minor": 2
}
