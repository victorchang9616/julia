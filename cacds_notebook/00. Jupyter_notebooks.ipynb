{
 "cells": [
  {
   "cell_type": "markdown",
   "metadata": {},
   "source": [
    "## Getting started with Jupyter notebooks\n",
    "\n",
    "### Running a cell\n",
    "To execute code within a cell, select that cell and either (1) hit `Shift` and `Enter` or (2) hit the run button (the right pointing arrow) above."
   ]
  },
  {
   "cell_type": "code",
   "execution_count": null,
   "metadata": {},
   "outputs": [],
   "source": [
    "1 + 1\n",
    "2 + 2"
   ]
  },
  {
   "cell_type": "markdown",
   "metadata": {},
   "source": [
    "If you're new to jupyter notebooks, note that only the last line of a cell prints by default when you execute that cell and that you can suppress this output with a semicolon"
   ]
  },
  {
   "cell_type": "code",
   "execution_count": null,
   "metadata": {},
   "outputs": [],
   "source": [
    "println(1 + 1);\n",
    "2 + 2"
   ]
  },
  {
   "cell_type": "markdown",
   "metadata": {},
   "source": [
    "### How to get docs for Julia functions\n",
    "\n",
    "To get docs for a function you're not familiar with, precede it with a question mark. (This works at the REPL too!)"
   ]
  },
  {
   "cell_type": "code",
   "execution_count": null,
   "metadata": {},
   "outputs": [],
   "source": [
    "?println"
   ]
  },
  {
   "cell_type": "markdown",
   "metadata": {},
   "source": [
    "### How to use shell commands\n",
    "\n",
    "Type `;` and then you can use shell commands. For example,"
   ]
  },
  {
   "cell_type": "code",
   "execution_count": 1,
   "metadata": {},
   "outputs": [
    {
     "ename": "Base.IOError",
     "evalue": "IOError: could not spawn `ls`: no such file or directory (ENOENT)",
     "output_type": "error",
     "traceback": [
      "IOError: could not spawn `ls`: no such file or directory (ENOENT)",
      "",
      "Stacktrace:",
      " [1] _spawn_primitive(::String, ::Cmd, ::Array{Any,1}) at .\\process.jl:99",
      " [2] #550 at .\\process.jl:112 [inlined]",
      " [3] setup_stdios(::Base.var\"#550#551\"{Cmd}, ::Array{Any,1}) at .\\process.jl:196",
      " [4] _spawn at .\\process.jl:111 [inlined]",
      " [5] run(::Cmd; wait::Bool) at .\\process.jl:439",
      " [6] run at .\\process.jl:438 [inlined]",
      " [7] repl_cmd(::Cmd, ::IJulia.IJuliaStdio{Base.PipeEndpoint}) at .\\client.jl:69",
      " [8] top-level scope at In[1]:1"
     ]
    }
   ],
   "source": [
    ";ls"
   ]
  },
  {
   "cell_type": "code",
   "execution_count": 2,
   "metadata": {},
   "outputs": [
    {
     "ename": "Base.IOError",
     "evalue": "IOError: could not spawn `pwd`: no such file or directory (ENOENT)",
     "output_type": "error",
     "traceback": [
      "IOError: could not spawn `pwd`: no such file or directory (ENOENT)",
      "",
      "Stacktrace:",
      " [1] _spawn_primitive(::String, ::Cmd, ::Array{Any,1}) at .\\process.jl:99",
      " [2] #550 at .\\process.jl:112 [inlined]",
      " [3] setup_stdios(::Base.var\"#550#551\"{Cmd}, ::Array{Any,1}) at .\\process.jl:196",
      " [4] _spawn at .\\process.jl:111 [inlined]",
      " [5] run(::Cmd; wait::Bool) at .\\process.jl:439",
      " [6] run at .\\process.jl:438 [inlined]",
      " [7] repl_cmd(::Cmd, ::IJulia.IJuliaStdio{Base.PipeEndpoint}) at .\\client.jl:69",
      " [8] top-level scope at In[2]:1"
     ]
    }
   ],
   "source": [
    ";pwd"
   ]
  },
  {
   "cell_type": "markdown",
   "metadata": {
    "collapsed": true
   },
   "source": [
    "Shell commands also work at the REPL!"
   ]
  },
  {
   "cell_type": "code",
   "execution_count": 3,
   "metadata": {},
   "outputs": [
    {
     "ename": "Base.IOError",
     "evalue": "IOError: could not spawn `mkdir testdir2`: no such file or directory (ENOENT)",
     "output_type": "error",
     "traceback": [
      "IOError: could not spawn `mkdir testdir2`: no such file or directory (ENOENT)",
      "",
      "Stacktrace:",
      " [1] _spawn_primitive(::String, ::Cmd, ::Array{Any,1}) at .\\process.jl:99",
      " [2] #550 at .\\process.jl:112 [inlined]",
      " [3] setup_stdios(::Base.var\"#550#551\"{Cmd}, ::Array{Any,1}) at .\\process.jl:196",
      " [4] _spawn at .\\process.jl:111 [inlined]",
      " [5] run(::Cmd; wait::Bool) at .\\process.jl:439",
      " [6] run at .\\process.jl:438 [inlined]",
      " [7] repl_cmd(::Cmd, ::IJulia.IJuliaStdio{Base.PipeEndpoint}) at .\\client.jl:69",
      " [8] top-level scope at In[3]:1"
     ]
    }
   ],
   "source": [
    ";mkdir testdir2"
   ]
  },
  {
   "cell_type": "code",
   "execution_count": 4,
   "metadata": {},
   "outputs": [
    {
     "ename": "Base.IOError",
     "evalue": "IOError: could not spawn `ls`: no such file or directory (ENOENT)",
     "output_type": "error",
     "traceback": [
      "IOError: could not spawn `ls`: no such file or directory (ENOENT)",
      "",
      "Stacktrace:",
      " [1] _spawn_primitive(::String, ::Cmd, ::Array{Any,1}) at .\\process.jl:99",
      " [2] #550 at .\\process.jl:112 [inlined]",
      " [3] setup_stdios(::Base.var\"#550#551\"{Cmd}, ::Array{Any,1}) at .\\process.jl:196",
      " [4] _spawn at .\\process.jl:111 [inlined]",
      " [5] run(::Cmd; wait::Bool) at .\\process.jl:439",
      " [6] run at .\\process.jl:438 [inlined]",
      " [7] repl_cmd(::Cmd, ::IJulia.IJuliaStdio{Base.PipeEndpoint}) at .\\client.jl:69",
      " [8] top-level scope at In[4]:1"
     ]
    }
   ],
   "source": [
    ";ls"
   ]
  },
  {
   "cell_type": "code",
   "execution_count": 7,
   "metadata": {},
   "outputs": [
    {
     "name": "stdout",
     "output_type": "stream",
     "text": [
      "Microsoft Windows [Version 10.0.18363.836]\r\n",
      "(c) 2019 Microsoft Corporation. All rights reserved.\r\n",
      "\r\n",
      "C:\\Users\\Victor\\Desktop\\julia_coursea\\cacds\\to_0617>"
     ]
    }
   ],
   "source": [
    ";cmd /e dir"
   ]
  },
  {
   "cell_type": "code",
   "execution_count": null,
   "metadata": {},
   "outputs": [],
   "source": []
  }
 ],
 "metadata": {
  "@webio": {
   "lastCommId": null,
   "lastKernelId": null
  },
  "kernelspec": {
   "display_name": "Julia 1.4.2",
   "language": "julia",
   "name": "julia-1.4"
  },
  "language_info": {
   "file_extension": ".jl",
   "mimetype": "application/julia",
   "name": "julia",
   "version": "1.4.2"
  }
 },
 "nbformat": 4,
 "nbformat_minor": 2
}
