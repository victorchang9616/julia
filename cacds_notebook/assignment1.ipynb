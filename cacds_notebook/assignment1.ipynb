{
 "cells": [
  {
   "cell_type": "markdown",
   "metadata": {},
   "source": [
    "## Exercise 1:\n",
    "Find the sum of series 1 + 1/2 + 1/3 + 1/4 + 1/5 + ... + 1/n where n = 100, 1000, 10000, 100000, 1000000\n",
    "\n",
    "## Exercise 2:\n",
    "Write a Julia code for a program that asks how Service Units, SUs, you would like to obtain at the supercomputers at HPEDSI to carry out your research. (One SU =1 core–hour of computing time.) The program uses this information to determine and acknowledge whether it is possible to provide you with the resources or not. Assume that a minimum of 50,000 SUs are required to be eligible, and no more than 200,000 SUs. (Note that these values are an example only and do not represent any real HPEDSI criteria. Most super computing centers have a similar resources allocation setup.)\n",
    "\n",
    "Hint use println, readline(),  if and else. **Bonus point for least amount of code**\n",
    "\n",
    "Example:\n",
    "\n",
    "“How many SUs would your project need?”\n",
    "\n",
    "10000\n",
    "\n",
    "“Sorry, we only take on larger projects”.\n",
    "\n",
    "\n",
    "\n",
    "Or if entered > =50,000 i.e. user enters  75,000\n",
    "\n",
    "Your program  prints:\n",
    "\n",
    "\"Project  approved for 75000 SUs\"\n",
    "\n",
    "Submission status\n",
    "This assignment will accept submissions from Thursday, June 18, 2020, 12:00 AM"
   ]
  },
  {
   "cell_type": "code",
   "execution_count": 2,
   "metadata": {},
   "outputs": [
    {
     "name": "stderr",
     "output_type": "stream",
     "text": [
      "\u001b[32m\u001b[1m   Updating\u001b[22m\u001b[39m registry at `C:\\Users\\Victor\\.julia\\registries\\General`\n"
     ]
    },
    {
     "name": "stdout",
     "output_type": "stream",
     "text": [
      "\u001b[?25l"
     ]
    },
    {
     "name": "stderr",
     "output_type": "stream",
     "text": [
      "\u001b[32m\u001b[1m   Updating\u001b[22m\u001b[39m git-repo `https://github.com/JuliaRegistries/General.git`\n"
     ]
    },
    {
     "name": "stdout",
     "output_type": "stream",
     "text": [
      "    \u001b[36m\u001b[1mFetching:\u001b[22m\u001b[39m [>                                        ]  0.0 %\r",
      "    \u001b[36m\u001b[1mFetching:\u001b[22m\u001b[39m [==>                                      ]  4.0 %\r",
      "    \u001b[36m\u001b[1mFetching:\u001b[22m\u001b[39m [====>                                    ]  8.0 %\r",
      "    \u001b[36m\u001b[1mFetching:\u001b[22m\u001b[39m [=====>                                   ]  12.0 %\r",
      "    \u001b[36m\u001b[1mFetching:\u001b[22m\u001b[39m [=======>                                 ]  16.0 %\r",
      "    \u001b[36m\u001b[1mFetching:\u001b[22m\u001b[39m [========>                                ]  20.0 %\r",
      "    \u001b[36m\u001b[1mFetching:\u001b[22m\u001b[39m [==========>                              ]  24.0 %\r",
      "    \u001b[36m\u001b[1mFetching:\u001b[22m\u001b[39m [============>                            ]  28.0 %\r",
      "    \u001b[36m\u001b[1mFetching:\u001b[22m\u001b[39m [=============>                           ]  32.0 %\r",
      "    \u001b[36m\u001b[1mFetching:\u001b[22m\u001b[39m [===============>                         ]  36.0 %\r",
      "    \u001b[36m\u001b[1mFetching:\u001b[22m\u001b[39m [================>                        ]  40.0 %\r",
      "    \u001b[36m\u001b[1mFetching:\u001b[22m\u001b[39m [==================>                      ]  44.0 %\r",
      "    \u001b[36m\u001b[1mFetching:\u001b[22m\u001b[39m [====================>                    ]  48.0 %\r",
      "    \u001b[36m\u001b[1mFetching:\u001b[22m\u001b[39m [=====================>                   ]  52.0 %\r",
      "    \u001b[36m\u001b[1mFetching:\u001b[22m\u001b[39m [=======================>                 ]  56.0 %\r",
      "    \u001b[36m\u001b[1mFetching:\u001b[22m\u001b[39m [========================>                ]  60.0 %\r",
      "    \u001b[36m\u001b[1mFetching:\u001b[22m\u001b[39m [==========================>              ]  64.0 %\r",
      "    \u001b[36m\u001b[1mFetching:\u001b[22m\u001b[39m [============================>            ]  68.0 %\r",
      "    \u001b[36m\u001b[1mFetching:\u001b[22m\u001b[39m [=============================>           ]  72.0 %\r",
      "    \u001b[36m\u001b[1mFetching:\u001b[22m\u001b[39m [===============================>         ]  76.0 %\r",
      "    \u001b[36m\u001b[1mFetching:\u001b[22m\u001b[39m [================================>        ]  80.0 %\r",
      "    \u001b[36m\u001b[1mFetching:\u001b[22m\u001b[39m [==================================>      ]  84.0 %\r",
      "    \u001b[36m\u001b[1mFetching:\u001b[22m\u001b[39m [====================================>    ]  88.0 %\r",
      "    \u001b[36m\u001b[1mFetching:\u001b[22m\u001b[39m [=====================================>   ]  92.0 %\r",
      "    \u001b[36m\u001b[1mFetching:\u001b[22m\u001b[39m [=======================================> ]  96.0 %\r",
      "    \u001b[36m\u001b[1mFetching:\u001b[22m\u001b[39m [========================================>]  100.0 %\r",
      "\u001b[2K\u001b[?25h"
     ]
    },
    {
     "name": "stderr",
     "output_type": "stream",
     "text": [
      "\u001b[32m\u001b[1m  Resolving\u001b[22m\u001b[39m package versions...\n",
      "\u001b[32m\u001b[1m   Updating\u001b[22m\u001b[39m `C:\\Users\\Victor\\.julia\\environments\\v1.4\\Project.toml`\n",
      "\u001b[90m [no changes]\u001b[39m\n",
      "\u001b[32m\u001b[1m   Updating\u001b[22m\u001b[39m `C:\\Users\\Victor\\.julia\\environments\\v1.4\\Manifest.toml`\n",
      "\u001b[90m [no changes]\u001b[39m\n"
     ]
    }
   ],
   "source": [
    "using Pkg\n",
    "Pkg.add(\"Plots\")\n",
    "using Plots"
   ]
  },
  {
   "cell_type": "code",
   "execution_count": 15,
   "metadata": {},
   "outputs": [
    {
     "data": {
      "text/plain": [
       "harmonic_sum (generic function with 1 method)"
      ]
     },
     "execution_count": 15,
     "metadata": {},
     "output_type": "execute_result"
    }
   ],
   "source": [
    "function harmonic_sum(n)\n",
    "    sum=0.0\n",
    "    for i in 1:1:n\n",
    "        sum=sum+1.0/i \n",
    "    end\n",
    "return sum\n",
    "end"
   ]
  },
  {
   "cell_type": "code",
   "execution_count": 16,
   "metadata": {},
   "outputs": [
    {
     "data": {
      "text/plain": [
       "5-element Array{Int64,1}:\n",
       "     100\n",
       "    1000\n",
       "   10000\n",
       "  100000\n",
       " 1000000"
      ]
     },
     "execution_count": 16,
     "metadata": {},
     "output_type": "execute_result"
    }
   ],
   "source": [
    "n = [100, 1000, 10000, 100000, 1000000]"
   ]
  },
  {
   "cell_type": "code",
   "execution_count": 18,
   "metadata": {},
   "outputs": [
    {
     "data": {
      "text/plain": [
       "14.392726722864989"
      ]
     },
     "execution_count": 18,
     "metadata": {},
     "output_type": "execute_result"
    }
   ],
   "source": [
    "harmonic_sum(1000000)"
   ]
  },
  {
   "cell_type": "code",
   "execution_count": 25,
   "metadata": {},
   "outputs": [
    {
     "name": "stderr",
     "output_type": "stream",
     "text": [
      "\u001b[32m\u001b[1m  Resolving\u001b[22m\u001b[39m package versions...\n",
      "\u001b[32m\u001b[1m   Updating\u001b[22m\u001b[39m `C:\\Users\\Victor\\.julia\\environments\\v1.4\\Project.toml`\n",
      "\u001b[90m [no changes]\u001b[39m\n",
      "\u001b[32m\u001b[1m   Updating\u001b[22m\u001b[39m `C:\\Users\\Victor\\.julia\\environments\\v1.4\\Manifest.toml`\n",
      "\u001b[90m [no changes]\u001b[39m\n"
     ]
    }
   ],
   "source": [
    "Pkg.add(\"LaTeXStrings\")"
   ]
  },
  {
   "cell_type": "code",
   "execution_count": 26,
   "metadata": {},
   "outputs": [],
   "source": [
    "using LaTeXStrings"
   ]
  },
  {
   "cell_type": "code",
   "execution_count": 28,
   "metadata": {},
   "outputs": [
    {
     "data": {
      "text/plain": [
       "Plots.PyPlotBackend()"
      ]
     },
     "execution_count": 28,
     "metadata": {},
     "output_type": "execute_result"
    }
   ],
   "source": [
    "pyplot()"
   ]
  },
  {
   "cell_type": "code",
   "execution_count": 37,
   "metadata": {},
   "outputs": [
    {
     "data": {
      "image/png": "[encoded data removed]"
     },
     "execution_count": 37,
     "metadata": {},
     "output_type": "execute_result"
    }
   ],
   "source": [
    "#plot(n,harmonic_sum, label=\"line\")\n",
    "p1=plot(n,harmonic_sum,label=\"points\",xlabel=L\"$n$\",ylabel=\"harmonic sum \"*L\"$H(n)$\") \n",
    "p2=plot(n,harmonic_sum,label=\"log scale on x\",xaxis=:log,xlabel=L\"$log(n)$\",ylabel=\"harmonic sum \"*L\"$H(n)$\") \n",
    "plot(p1,p2,layout = (2, 1))\n",
    "#xlabel!(L\"$n$\")\n",
    "#ylabel!(\"harmonic sum \"*L\"$H(n)$\")"
   ]
  },
  {
   "cell_type": "code",
   "execution_count": null,
   "metadata": {},
   "outputs": [],
   "source": []
  }
 ],
 "metadata": {
  "kernelspec": {
   "display_name": "Julia 1.4.2",
   "language": "julia",
   "name": "julia-1.4"
  },
  "language_info": {
   "file_extension": ".jl",
   "mimetype": "application/julia",
   "name": "julia",
   "version": "1.4.2"
  }
 },
 "nbformat": 4,
 "nbformat_minor": 2
}
