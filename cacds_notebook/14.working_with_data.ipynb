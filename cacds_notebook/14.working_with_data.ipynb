{
 "cells": [
  {
   "cell_type": "markdown",
   "metadata": {},
   "source": [
    "# Getting Started with Data Science in Julia\n",
    "\n",
    "> [A]lways bite the bullet with regard to understanding the basics of the data first before you do anything else...\n",
    ">\n",
    "> \\- Caitlin Smallwood, Vice President of Science and Algorithms at Netflix\n",
    "\n",
    "\n",
    "The common workflow for data analysis is shown in the figure below and it is all centered around **data**\n",
    "<img src=\"https://d33wubrfki0l68.cloudfront.net/571b056757d68e6df81a3e3853f54d3c76ad6efc/32d37/diagrams/data-science.png\" width=400>"
   ]
  },
  {
   "cell_type": "markdown",
   "metadata": {},
   "source": [
    "## Data: Build a strong relationship with your data.\n",
    "*Based on work by Nassar Huda*\n",
    "\n",
    "Every data science task has one main ingredient, the _data_! Most likely, you want to use your data to learn something new. But before the _new_ part, what about the data you already have? Let's make sure you can **read** it, **store** it, and **understand** it before you start using it.\n",
    "\n",
    "Julia makes this step really easy with data structures and packages to process the data, as well as, existing functions that are readily usable on your data. \n",
    "\n",
    "The goal of this part is get you acquainted with some Julia's tools to manage your data.\n",
    "\n",
    "We will be using the `programminglanguages.csv` data file in this part. Use the `readdir()` commands in Julia to verify that the file is present in your directory."
   ]
  },
  {
   "cell_type": "code",
   "execution_count": 1,
   "metadata": {},
   "outputs": [
    {
     "data": {
      "text/plain": [
       "26-element Array{String,1}:\n",
       " \".ipynb_checkpoints\"\n",
       " \"05. Conditionals.ipynb\"\n",
       " \"06. Functions.ipynb\"\n",
       " \"07. Packages.ipynb\"\n",
       " \"08. Plotting.ipynb\"\n",
       " \"09. Julia is fast.ipynb\"\n",
       " \"10. Multiple dispatch.ipynb\"\n",
       " \"11. Basic linear algebra.ipynb\"\n",
       " \"12. Factorizations and other fun.ipynb\"\n",
       " \"13.Calculate_pi.ipynb\"\n",
       " \"14.working_with_data.ipynb\"\n",
       " \"15.data_science_plotting.ipynb\"\n",
       " \"5\"\n",
       " \"Assignment 3.ipynb\"\n",
       " \"HPE-DSI_Julia_Remote Access.pptx\"\n",
       " \"HPE-DSI_Using_MS_Teams.pptx\"\n",
       " \"Julia_Course_code.txt\"\n",
       " \"MIT\"\n",
       " \"assignment1.ipynb\"\n",
       " \"assignment2.ipynb\"\n",
       " \"assignment3\"\n",
       " \"julia_intro.pdf\"\n",
       " \"myplot.png\"\n",
       " \"programminglanguages.csv\"\n",
       " \"texput.log\"\n",
       " \"to_0617\""
      ]
     },
     "execution_count": 1,
     "metadata": {},
     "output_type": "execute_result"
    }
   ],
   "source": [
    "readdir()"
   ]
  },
  {
   "cell_type": "markdown",
   "metadata": {},
   "source": [
    "# Basics of working with data\n",
    "\n",
    "In this section we will cover the following steps associated with data handling. \n",
    "\n",
    "- Import\n",
    "    - DataFrames\n",
    "    - Reading from files\n",
    "- Wrangling\n",
    "    - Tidy\n",
    "    - Missing values\n",
    "    - Transform\n",
    "\n",
    "Before you start with the importing, you have to be familiar with the building blocks of statistical analysis `DataFrames`. \n",
    "\n",
    "## DataFrames\n",
    "\n",
    "DataFrame is the tabular representation of data, similar to spreadsheet or a data matrix. It is the most common datatype used in data analysis.\n",
    "\n",
    "In Julia, dataframes are available through `DataFrames` package and they resemble with the `data.frames` from R. *Shout out to R fans!*"
   ]
  },
  {
   "cell_type": "code",
   "execution_count": 2,
   "metadata": {},
   "outputs": [],
   "source": [
    "#using Pkg\n",
    "#Pkg.add(\"DataFrames\")\n",
    "using DataFrames"
   ]
  },
  {
   "cell_type": "markdown",
   "metadata": {},
   "source": [
    "Below is an example use of DataFrames using various random distributions and statistics package."
   ]
  },
  {
   "cell_type": "code",
   "execution_count": 3,
   "metadata": {},
   "outputs": [],
   "source": [
    "#Pkg.add(\"Distributions\")\n",
    "#Pkg.add(\"StatsBase\")\n",
    "#Pkg.add(\"Random\")"
   ]
  },
  {
   "cell_type": "code",
   "execution_count": 4,
   "metadata": {},
   "outputs": [
    {
     "data": {
      "text/html": [
       "<table class=\"data-frame\"><thead><tr><th></th><th>x1</th><th>x2</th><th>x3</th></tr><tr><th></th><th>Float64</th><th>String</th><th>Float64</th></tr></thead><tbody><p>5 rows × 3 columns</p><tr><th>1</th><td>1.81025</td><td>High</td><td>3.94796</td></tr><tr><th>2</th><td>3.1707</td><td>Medium</td><td>1.50681</td></tr><tr><th>3</th><td>1.05329</td><td>Medium</td><td>1.16226</td></tr><tr><th>4</th><td>2.9705</td><td>Medium</td><td>4.51493</td></tr><tr><th>5</th><td>2.21518</td><td>Low</td><td>1.08939</td></tr></tbody></table>"
      ],
      "text/latex": [
       "\\begin{tabular}{r|ccc}\n",
       "\t& x1 & x2 & x3\\\\\n",
       "\t\\hline\n",
       "\t& Float64 & String & Float64\\\\\n",
       "\t\\hline\n",
       "\t1 & 1.81025 & High & 3.94796 \\\\\n",
       "\t2 & 3.1707 & Medium & 1.50681 \\\\\n",
       "\t3 & 1.05329 & Medium & 1.16226 \\\\\n",
       "\t4 & 2.9705 & Medium & 4.51493 \\\\\n",
       "\t5 & 2.21518 & Low & 1.08939 \\\\\n",
       "\\end{tabular}\n"
      ],
      "text/plain": [
       "5×3 DataFrame\n",
       "│ Row │ x1      │ x2     │ x3      │\n",
       "│     │ \u001b[90mFloat64\u001b[39m │ \u001b[90mString\u001b[39m │ \u001b[90mFloat64\u001b[39m │\n",
       "├─────┼─────────┼────────┼─────────┤\n",
       "│ 1   │ 1.81025 │ High   │ 3.94796 │\n",
       "│ 2   │ 3.1707  │ Medium │ 1.50681 │\n",
       "│ 3   │ 1.05329 │ Medium │ 1.16226 │\n",
       "│ 4   │ 2.9705  │ Medium │ 4.51493 │\n",
       "│ 5   │ 2.21518 │ Low    │ 1.08939 │"
      ]
     },
     "execution_count": 4,
     "metadata": {},
     "output_type": "execute_result"
    }
   ],
   "source": [
    "using Distributions, StatsBase, Random\n",
    "Random.seed!(825)\n",
    "N = 5\n",
    "df1 = DataFrame(\n",
    "    x1 = rand(Normal(2,1),N),\n",
    "    x2 = [sample([\"High\",\"Medium\",\"Low\"],pweights([0.25,0.45,0.3])) for i=1:N],\n",
    "    x3 = rand(Pareto(2,1),N)\n",
    ")\n",
    "\n",
    "df1"
   ]
  },
  {
   "cell_type": "markdown",
   "metadata": {},
   "source": [
    "## Data importing\n",
    "\n",
    "First you must import your data into Julia. This typically means that you take data stored in a file, database, or web API, and load it into a data frame in Julia. If you can’t get your data into Julia, you can’t do data science on it!\n",
    "\n",
    "**Reading and writing to files is really easy in Julia.** <br>"
   ]
  },
  {
   "cell_type": "markdown",
   "metadata": {},
   "source": [
    "Now let's load the `programminglanguages.csv` into Julia.\n",
    "\n",
    "We'll use the `CSV` library package and its `CSV.read()` function as shown\n",
    "below. You can use different delimiters with the function `CSV.read`, from the `CSV` package."
   ]
  },
  {
   "cell_type": "markdown",
   "metadata": {},
   "source": [
    "The legacy readdlm() function is now deprecated.\n",
    "\n",
    "Its use would have been\n",
    "\n",
    "`Pkg.add(\"DelimitedFiles\") # for readdlm()\n",
    "using DelimitedFiles  # Standard library in Base\n",
    "P,H = readdlm(\"programminglanguages.csv\", header=true)`\n",
    "\n",
    "By default, `readdlm` will fill an array with the data stored in the input .csv file. If we set the keyword argument `header` to `true`, we'll get a second output array for just the headers."
   ]
  },
  {
   "cell_type": "code",
   "execution_count": 5,
   "metadata": {},
   "outputs": [
    {
     "data": {
      "text/html": [
       "<table class=\"data-frame\"><thead><tr><th></th><th>year</th><th>language</th></tr><tr><th></th><th>Int64</th><th>String</th></tr></thead><tbody><p>73 rows × 2 columns</p><tr><th>1</th><td>1951</td><td>Regional Assembly Language</td></tr><tr><th>2</th><td>1952</td><td>Autocode</td></tr><tr><th>3</th><td>1954</td><td>IPL</td></tr><tr><th>4</th><td>1955</td><td>FLOW-MATIC</td></tr><tr><th>5</th><td>1957</td><td>FORTRAN</td></tr><tr><th>6</th><td>1957</td><td>COMTRAN</td></tr><tr><th>7</th><td>1958</td><td>LISP</td></tr><tr><th>8</th><td>1958</td><td>ALGOL 58</td></tr><tr><th>9</th><td>1959</td><td>FACT</td></tr><tr><th>10</th><td>1959</td><td>COBOL</td></tr><tr><th>11</th><td>1959</td><td>RPG</td></tr><tr><th>12</th><td>1962</td><td>APL</td></tr><tr><th>13</th><td>1962</td><td>Simula</td></tr><tr><th>14</th><td>1962</td><td>SNOBOL</td></tr><tr><th>15</th><td>1963</td><td>CPL</td></tr><tr><th>16</th><td>1964</td><td>Speakeasy</td></tr><tr><th>17</th><td>1964</td><td>BASIC</td></tr><tr><th>18</th><td>1964</td><td>PL/I</td></tr><tr><th>19</th><td>1966</td><td>JOSS</td></tr><tr><th>20</th><td>1967</td><td>BCPL</td></tr><tr><th>21</th><td>1968</td><td>Logo</td></tr><tr><th>22</th><td>1969</td><td>B</td></tr><tr><th>23</th><td>1970</td><td>Pascal</td></tr><tr><th>24</th><td>1970</td><td>Forth</td></tr><tr><th>25</th><td>1972</td><td>C</td></tr><tr><th>26</th><td>1972</td><td>Smalltalk</td></tr><tr><th>27</th><td>1972</td><td>Prolog</td></tr><tr><th>28</th><td>1973</td><td>ML</td></tr><tr><th>29</th><td>1975</td><td>Scheme</td></tr><tr><th>30</th><td>1978</td><td>SQL </td></tr><tr><th>&vellip;</th><td>&vellip;</td><td>&vellip;</td></tr></tbody></table>"
      ],
      "text/latex": [
       "\\begin{tabular}{r|cc}\n",
       "\t& year & language\\\\\n",
       "\t\\hline\n",
       "\t& Int64 & String\\\\\n",
       "\t\\hline\n",
       "\t1 & 1951 & Regional Assembly Language \\\\\n",
       "\t2 & 1952 & Autocode \\\\\n",
       "\t3 & 1954 & IPL \\\\\n",
       "\t4 & 1955 & FLOW-MATIC \\\\\n",
       "\t5 & 1957 & FORTRAN \\\\\n",
       "\t6 & 1957 & COMTRAN \\\\\n",
       "\t7 & 1958 & LISP \\\\\n",
       "\t8 & 1958 & ALGOL 58 \\\\\n",
       "\t9 & 1959 & FACT \\\\\n",
       "\t10 & 1959 & COBOL \\\\\n",
       "\t11 & 1959 & RPG \\\\\n",
       "\t12 & 1962 & APL \\\\\n",
       "\t13 & 1962 & Simula \\\\\n",
       "\t14 & 1962 & SNOBOL \\\\\n",
       "\t15 & 1963 & CPL \\\\\n",
       "\t16 & 1964 & Speakeasy \\\\\n",
       "\t17 & 1964 & BASIC \\\\\n",
       "\t18 & 1964 & PL/I \\\\\n",
       "\t19 & 1966 & JOSS \\\\\n",
       "\t20 & 1967 & BCPL \\\\\n",
       "\t21 & 1968 & Logo \\\\\n",
       "\t22 & 1969 & B \\\\\n",
       "\t23 & 1970 & Pascal \\\\\n",
       "\t24 & 1970 & Forth \\\\\n",
       "\t25 & 1972 & C \\\\\n",
       "\t26 & 1972 & Smalltalk \\\\\n",
       "\t27 & 1972 & Prolog \\\\\n",
       "\t28 & 1973 & ML \\\\\n",
       "\t29 & 1975 & Scheme \\\\\n",
       "\t30 & 1978 & SQL  \\\\\n",
       "\t$\\dots$ & $\\dots$ & $\\dots$ \\\\\n",
       "\\end{tabular}\n"
      ],
      "text/plain": [
       "73×2 DataFrame\n",
       "│ Row │ year  │ language                   │\n",
       "│     │ \u001b[90mInt64\u001b[39m │ \u001b[90mString\u001b[39m                     │\n",
       "├─────┼───────┼────────────────────────────┤\n",
       "│ 1   │ 1951  │ Regional Assembly Language │\n",
       "│ 2   │ 1952  │ Autocode                   │\n",
       "│ 3   │ 1954  │ IPL                        │\n",
       "│ 4   │ 1955  │ FLOW-MATIC                 │\n",
       "│ 5   │ 1957  │ FORTRAN                    │\n",
       "│ 6   │ 1957  │ COMTRAN                    │\n",
       "│ 7   │ 1958  │ LISP                       │\n",
       "│ 8   │ 1958  │ ALGOL 58                   │\n",
       "│ 9   │ 1959  │ FACT                       │\n",
       "│ 10  │ 1959  │ COBOL                      │\n",
       "⋮\n",
       "│ 63  │ 2005  │ F#                         │\n",
       "│ 64  │ 2006  │ PowerShell                 │\n",
       "│ 65  │ 2007  │ Clojure                    │\n",
       "│ 66  │ 2009  │ Go                         │\n",
       "│ 67  │ 2010  │ Rust                       │\n",
       "│ 68  │ 2011  │ Dart                       │\n",
       "│ 69  │ 2011  │ Kotlin                     │\n",
       "│ 70  │ 2011  │ Red                        │\n",
       "│ 71  │ 2011  │ Elixir                     │\n",
       "│ 72  │ 2012  │ Julia                      │\n",
       "│ 73  │ 2014  │ Swift                      │"
      ]
     },
     "execution_count": 5,
     "metadata": {},
     "output_type": "execute_result"
    }
   ],
   "source": [
    "#Pkg.add(\"CSV\") # for CSV.read()\n",
    "using CSV\n",
    "P = CSV.read(\"programminglanguages.csv\", header=true)"
   ]
  },
  {
   "cell_type": "code",
   "execution_count": 20,
   "metadata": {},
   "outputs": [
    {
     "name": "stdout",
     "output_type": "stream",
     "text": [
      "search: \u001b[0m\u001b[1mD\u001b[22m\u001b[0m\u001b[1ma\u001b[22m\u001b[0m\u001b[1mt\u001b[22m\u001b[0m\u001b[1ma\u001b[22m\u001b[0m\u001b[1mF\u001b[22m\u001b[0m\u001b[1mr\u001b[22m\u001b[0m\u001b[1ma\u001b[22m\u001b[0m\u001b[1mm\u001b[22m\u001b[0m\u001b[1me\u001b[22m \u001b[0m\u001b[1mD\u001b[22m\u001b[0m\u001b[1ma\u001b[22m\u001b[0m\u001b[1mt\u001b[22m\u001b[0m\u001b[1ma\u001b[22m\u001b[0m\u001b[1mF\u001b[22m\u001b[0m\u001b[1mr\u001b[22m\u001b[0m\u001b[1ma\u001b[22m\u001b[0m\u001b[1mm\u001b[22m\u001b[0m\u001b[1me\u001b[22m! \u001b[0m\u001b[1mD\u001b[22m\u001b[0m\u001b[1ma\u001b[22m\u001b[0m\u001b[1mt\u001b[22m\u001b[0m\u001b[1ma\u001b[22m\u001b[0m\u001b[1mF\u001b[22m\u001b[0m\u001b[1mr\u001b[22m\u001b[0m\u001b[1ma\u001b[22m\u001b[0m\u001b[1mm\u001b[22m\u001b[0m\u001b[1me\u001b[22ms \u001b[0m\u001b[1mD\u001b[22m\u001b[0m\u001b[1ma\u001b[22m\u001b[0m\u001b[1mt\u001b[22m\u001b[0m\u001b[1ma\u001b[22m\u001b[0m\u001b[1mF\u001b[22m\u001b[0m\u001b[1mr\u001b[22m\u001b[0m\u001b[1ma\u001b[22m\u001b[0m\u001b[1mm\u001b[22m\u001b[0m\u001b[1me\u001b[22mRow Sub\u001b[0m\u001b[1mD\u001b[22m\u001b[0m\u001b[1ma\u001b[22m\u001b[0m\u001b[1mt\u001b[22m\u001b[0m\u001b[1ma\u001b[22m\u001b[0m\u001b[1mF\u001b[22m\u001b[0m\u001b[1mr\u001b[22m\u001b[0m\u001b[1ma\u001b[22m\u001b[0m\u001b[1mm\u001b[22m\u001b[0m\u001b[1me\u001b[22m\n",
      "\n"
     ]
    },
    {
     "data": {
      "text/latex": [
       "\\begin{verbatim}\n",
       "DataFrame <: AbstractDataFrame\n",
       "\\end{verbatim}\n",
       "An AbstractDataFrame that stores a set of named columns\n",
       "\n",
       "The columns are normally AbstractVectors stored in memory, particularly a Vector or CategoricalVector.\n",
       "\n",
       "\\section{Constructors}\n",
       "\\begin{verbatim}\n",
       "DataFrame(columns::AbstractVector, names::AbstractVector{Symbol};\n",
       "          makeunique::Bool=false, copycols::Bool=true)\n",
       "DataFrame(columns::AbstractVector, names::AbstractVector{<:AbstractString};\n",
       "          makeunique::Bool=false, copycols::Bool=true)\n",
       "DataFrame(columns::NTuple{N,AbstractVector}, names::NTuple{N,Symbol};\n",
       "          makeunique::Bool=false, copycols::Bool=true)\n",
       "DataFrame(columns::NTuple{N,AbstractVector}, names::NTuple{N,<:AbstractString};\n",
       "          makeunique::Bool=false, copycols::Bool=true)\n",
       "DataFrame(columns::Matrix, names::AbstractVector{Symbol}; makeunique::Bool=false)\n",
       "DataFrame(columns::Matrix, names::AbstractVector{<:AbstractString};\n",
       "          makeunique::Bool=false)\n",
       "DataFrame(kwargs...)\n",
       "DataFrame(pairs::Pair{Symbol,<:Any}...; makeunique::Bool=false, copycols::Bool=true)\n",
       "DataFrame(pairs::Pair{<:AbstractString,<:Any}...; makeunique::Bool=false,\n",
       "          copycols::Bool=true)\n",
       "DataFrame() # an empty DataFrame\n",
       "DataFrame(column_eltypes::AbstractVector, names::AbstractVector{Symbol},\n",
       "          nrows::Integer=0; makeunique::Bool=false)\n",
       "DataFrame(column_eltypes::AbstractVector, names::AbstractVector{<:AbstractString},\n",
       "          nrows::Integer=0; makeunique::Bool=false)\n",
       "DataFrame(ds::AbstractDict; copycols::Bool=true)\n",
       "DataFrame(table; makeunique::Bool=false, copycols::Bool=true)\n",
       "DataFrame(::Union{DataFrame, SubDataFrame}; copycols::Bool=true)\n",
       "DataFrame(::GroupedDataFrame; keepkeys::Bool=true)\n",
       "\\end{verbatim}\n",
       "\\section{Arguments}\n",
       "\\begin{itemize}\n",
       "\\item \\texttt{columns} : a Vector with each column as contents or a Matrix\n",
       "\n",
       "\n",
       "\\item \\texttt{names} : the column names\n",
       "\n",
       "\n",
       "\\item \\texttt{makeunique} : if \\texttt{false} (the default), an error will be raised if duplicates in \\texttt{names} are found; if \\texttt{true}, duplicate names will be suffixed with \\texttt{\\_i} (\\texttt{i} starting at 1 for the first duplicate).\n",
       "\n",
       "\n",
       "\\item \\texttt{kwargs} : the key gives the column names, and the value is the column contents; note that the \\texttt{copycols} keyword argument indicates if if vectors passed as columns should be copied so it is not possible to create a column whose name is \\texttt{:copycols} using this constructor\n",
       "\n",
       "\n",
       "\\item \\texttt{t} : elemental type of all columns\n",
       "\n",
       "\n",
       "\\item \\texttt{nrows}, \\texttt{ncols} : number of rows and columns\n",
       "\n",
       "\n",
       "\\item \\texttt{column\\_eltypes} : element type of each column\n",
       "\n",
       "\n",
       "\\item \\texttt{categorical} : a vector of \\texttt{Bool} indicating which columns should be converted to \\texttt{CategoricalVector}\n",
       "\n",
       "\n",
       "\\item \\texttt{ds} : \\texttt{AbstractDict} of columns\n",
       "\n",
       "\n",
       "\\item \\texttt{table} : any type that implements the \\href{https://github.com/JuliaData/Tables.jl}{Tables.jl} interface; in particular a tuple or vector of \\texttt{Pair\\{Symbol, <:AbstractVector\\}\\}} objects is a table.\n",
       "\n",
       "\n",
       "\\item \\texttt{copycols} : whether vectors passed as columns should be copied; if set to \\texttt{false} then the constructor will still copy the passed columns if it is not possible to construct a \\texttt{DataFrame} without materializing new columns.\n",
       "\n",
       "\\end{itemize}\n",
       "All columns in \\texttt{columns} must be \\texttt{AbstractVector}s and have the same length. An exception are \\texttt{DataFrame(kwargs...)} and \\texttt{DataFrame(pairs::Pair...)} form constructors which additionally allow a column to be of any other type that is not an \\texttt{AbstractArray}, in which case the passed value is automatically repeated to fill a new vector of the appropriate length. As a particular rule values stored in a \\texttt{Ref} or a \\texttt{0}-dimensional \\texttt{AbstractArray} are unwrapped and treated in the same way.\n",
       "\n",
       "Additionally \\texttt{DataFrame} can be used to collect a \\href{@ref}{\\texttt{GroupedDataFrame}} into a \\texttt{DataFrame}. In this case the order of rows in the result follows the order of groups in the \\texttt{GroupedDataFrame} passed.\n",
       "\n",
       "\\section{Notes}\n",
       "The \\texttt{DataFrame} constructor by default copies all columns vectors passed to it. Pass \\texttt{copycols=false} to reuse vectors without copying them\n",
       "\n",
       "If a column is passed to a \\texttt{DataFrame} constructor or is assigned as a whole using \\texttt{setindex!} then its reference is stored in the \\texttt{DataFrame}. An exception to this rule is assignment of an \\texttt{AbstractRange} as a column, in which case the range is collected to a \\texttt{Vector}.\n",
       "\n",
       "Because column types can vary, a \\texttt{DataFrame} is not type stable. For performance-critical code, do not index into a \\texttt{DataFrame} inside of loops.\n",
       "\n",
       "\\section{Examples}\n",
       "\\begin{verbatim}\n",
       "df = DataFrame()\n",
       "v = [\"x\",\"y\",\"z\"][rand(1:3, 10)]\n",
       "df1 = DataFrame(Any[collect(1:10), v, rand(10)], [:A, :B, :C])\n",
       "df2 = DataFrame(A = 1:10, B = v, C = rand(10))\n",
       "summary(df1)\n",
       "describe(df2)\n",
       "first(df1, 10)\n",
       "df1.B\n",
       "df2[!, :C]\n",
       "df1[:, :A]\n",
       "df1[1:4, 1:2]\n",
       "df1[Not(1:4), Not(1:2)]\n",
       "df1[1:2, [:A,:C]]\n",
       "df1[1:2, r\"[AC]\"]\n",
       "df1[:, [:A,:C]]\n",
       "df1[:, [1,3]]\n",
       "df1[1:4, :]\n",
       "df1[1:4, :C]\n",
       "df1[1:4, :C] = 40. * df1[1:4, :C]\n",
       "[df1; df2]  # vcat\n",
       "[df1 df2]  # hcat\n",
       "size(df1)\n",
       "\\end{verbatim}\n"
      ],
      "text/markdown": [
       "```\n",
       "DataFrame <: AbstractDataFrame\n",
       "```\n",
       "\n",
       "An AbstractDataFrame that stores a set of named columns\n",
       "\n",
       "The columns are normally AbstractVectors stored in memory, particularly a Vector or CategoricalVector.\n",
       "\n",
       "# Constructors\n",
       "\n",
       "```julia\n",
       "DataFrame(columns::AbstractVector, names::AbstractVector{Symbol};\n",
       "          makeunique::Bool=false, copycols::Bool=true)\n",
       "DataFrame(columns::AbstractVector, names::AbstractVector{<:AbstractString};\n",
       "          makeunique::Bool=false, copycols::Bool=true)\n",
       "DataFrame(columns::NTuple{N,AbstractVector}, names::NTuple{N,Symbol};\n",
       "          makeunique::Bool=false, copycols::Bool=true)\n",
       "DataFrame(columns::NTuple{N,AbstractVector}, names::NTuple{N,<:AbstractString};\n",
       "          makeunique::Bool=false, copycols::Bool=true)\n",
       "DataFrame(columns::Matrix, names::AbstractVector{Symbol}; makeunique::Bool=false)\n",
       "DataFrame(columns::Matrix, names::AbstractVector{<:AbstractString};\n",
       "          makeunique::Bool=false)\n",
       "DataFrame(kwargs...)\n",
       "DataFrame(pairs::Pair{Symbol,<:Any}...; makeunique::Bool=false, copycols::Bool=true)\n",
       "DataFrame(pairs::Pair{<:AbstractString,<:Any}...; makeunique::Bool=false,\n",
       "          copycols::Bool=true)\n",
       "DataFrame() # an empty DataFrame\n",
       "DataFrame(column_eltypes::AbstractVector, names::AbstractVector{Symbol},\n",
       "          nrows::Integer=0; makeunique::Bool=false)\n",
       "DataFrame(column_eltypes::AbstractVector, names::AbstractVector{<:AbstractString},\n",
       "          nrows::Integer=0; makeunique::Bool=false)\n",
       "DataFrame(ds::AbstractDict; copycols::Bool=true)\n",
       "DataFrame(table; makeunique::Bool=false, copycols::Bool=true)\n",
       "DataFrame(::Union{DataFrame, SubDataFrame}; copycols::Bool=true)\n",
       "DataFrame(::GroupedDataFrame; keepkeys::Bool=true)\n",
       "```\n",
       "\n",
       "# Arguments\n",
       "\n",
       "  * `columns` : a Vector with each column as contents or a Matrix\n",
       "  * `names` : the column names\n",
       "  * `makeunique` : if `false` (the default), an error will be raised if duplicates in `names` are found; if `true`, duplicate names will be suffixed with `_i` (`i` starting at 1 for the first duplicate).\n",
       "  * `kwargs` : the key gives the column names, and the value is the column contents; note that the `copycols` keyword argument indicates if if vectors passed as columns should be copied so it is not possible to create a column whose name is `:copycols` using this constructor\n",
       "  * `t` : elemental type of all columns\n",
       "  * `nrows`, `ncols` : number of rows and columns\n",
       "  * `column_eltypes` : element type of each column\n",
       "  * `categorical` : a vector of `Bool` indicating which columns should be converted to `CategoricalVector`\n",
       "  * `ds` : `AbstractDict` of columns\n",
       "  * `table` : any type that implements the [Tables.jl](https://github.com/JuliaData/Tables.jl) interface; in particular a tuple or vector of `Pair{Symbol, <:AbstractVector}}` objects is a table.\n",
       "  * `copycols` : whether vectors passed as columns should be copied; if set to `false` then the constructor will still copy the passed columns if it is not possible to construct a `DataFrame` without materializing new columns.\n",
       "\n",
       "All columns in `columns` must be `AbstractVector`s and have the same length. An exception are `DataFrame(kwargs...)` and `DataFrame(pairs::Pair...)` form constructors which additionally allow a column to be of any other type that is not an `AbstractArray`, in which case the passed value is automatically repeated to fill a new vector of the appropriate length. As a particular rule values stored in a `Ref` or a `0`-dimensional `AbstractArray` are unwrapped and treated in the same way.\n",
       "\n",
       "Additionally `DataFrame` can be used to collect a [`GroupedDataFrame`](@ref) into a `DataFrame`. In this case the order of rows in the result follows the order of groups in the `GroupedDataFrame` passed.\n",
       "\n",
       "# Notes\n",
       "\n",
       "The `DataFrame` constructor by default copies all columns vectors passed to it. Pass `copycols=false` to reuse vectors without copying them\n",
       "\n",
       "If a column is passed to a `DataFrame` constructor or is assigned as a whole using `setindex!` then its reference is stored in the `DataFrame`. An exception to this rule is assignment of an `AbstractRange` as a column, in which case the range is collected to a `Vector`.\n",
       "\n",
       "Because column types can vary, a `DataFrame` is not type stable. For performance-critical code, do not index into a `DataFrame` inside of loops.\n",
       "\n",
       "# Examples\n",
       "\n",
       "```julia\n",
       "df = DataFrame()\n",
       "v = [\"x\",\"y\",\"z\"][rand(1:3, 10)]\n",
       "df1 = DataFrame(Any[collect(1:10), v, rand(10)], [:A, :B, :C])\n",
       "df2 = DataFrame(A = 1:10, B = v, C = rand(10))\n",
       "summary(df1)\n",
       "describe(df2)\n",
       "first(df1, 10)\n",
       "df1.B\n",
       "df2[!, :C]\n",
       "df1[:, :A]\n",
       "df1[1:4, 1:2]\n",
       "df1[Not(1:4), Not(1:2)]\n",
       "df1[1:2, [:A,:C]]\n",
       "df1[1:2, r\"[AC]\"]\n",
       "df1[:, [:A,:C]]\n",
       "df1[:, [1,3]]\n",
       "df1[1:4, :]\n",
       "df1[1:4, :C]\n",
       "df1[1:4, :C] = 40. * df1[1:4, :C]\n",
       "[df1; df2]  # vcat\n",
       "[df1 df2]  # hcat\n",
       "size(df1)\n",
       "```\n"
      ],
      "text/plain": [
       "\u001b[36m  DataFrame <: AbstractDataFrame\u001b[39m\n",
       "\n",
       "  An AbstractDataFrame that stores a set of named columns\n",
       "\n",
       "  The columns are normally AbstractVectors stored in memory, particularly a\n",
       "  Vector or CategoricalVector.\n",
       "\n",
       "\u001b[1m  Constructors\u001b[22m\n",
       "\u001b[1m  ≡≡≡≡≡≡≡≡≡≡≡≡≡≡\u001b[22m\n",
       "\n",
       "\u001b[36m  DataFrame(columns::AbstractVector, names::AbstractVector{Symbol};\u001b[39m\n",
       "\u001b[36m            makeunique::Bool=false, copycols::Bool=true)\u001b[39m\n",
       "\u001b[36m  DataFrame(columns::AbstractVector, names::AbstractVector{<:AbstractString};\u001b[39m\n",
       "\u001b[36m            makeunique::Bool=false, copycols::Bool=true)\u001b[39m\n",
       "\u001b[36m  DataFrame(columns::NTuple{N,AbstractVector}, names::NTuple{N,Symbol};\u001b[39m\n",
       "\u001b[36m            makeunique::Bool=false, copycols::Bool=true)\u001b[39m\n",
       "\u001b[36m  DataFrame(columns::NTuple{N,AbstractVector}, names::NTuple{N,<:AbstractString};\u001b[39m\n",
       "\u001b[36m            makeunique::Bool=false, copycols::Bool=true)\u001b[39m\n",
       "\u001b[36m  DataFrame(columns::Matrix, names::AbstractVector{Symbol}; makeunique::Bool=false)\u001b[39m\n",
       "\u001b[36m  DataFrame(columns::Matrix, names::AbstractVector{<:AbstractString};\u001b[39m\n",
       "\u001b[36m            makeunique::Bool=false)\u001b[39m\n",
       "\u001b[36m  DataFrame(kwargs...)\u001b[39m\n",
       "\u001b[36m  DataFrame(pairs::Pair{Symbol,<:Any}...; makeunique::Bool=false, copycols::Bool=true)\u001b[39m\n",
       "\u001b[36m  DataFrame(pairs::Pair{<:AbstractString,<:Any}...; makeunique::Bool=false,\u001b[39m\n",
       "\u001b[36m            copycols::Bool=true)\u001b[39m\n",
       "\u001b[36m  DataFrame() # an empty DataFrame\u001b[39m\n",
       "\u001b[36m  DataFrame(column_eltypes::AbstractVector, names::AbstractVector{Symbol},\u001b[39m\n",
       "\u001b[36m            nrows::Integer=0; makeunique::Bool=false)\u001b[39m\n",
       "\u001b[36m  DataFrame(column_eltypes::AbstractVector, names::AbstractVector{<:AbstractString},\u001b[39m\n",
       "\u001b[36m            nrows::Integer=0; makeunique::Bool=false)\u001b[39m\n",
       "\u001b[36m  DataFrame(ds::AbstractDict; copycols::Bool=true)\u001b[39m\n",
       "\u001b[36m  DataFrame(table; makeunique::Bool=false, copycols::Bool=true)\u001b[39m\n",
       "\u001b[36m  DataFrame(::Union{DataFrame, SubDataFrame}; copycols::Bool=true)\u001b[39m\n",
       "\u001b[36m  DataFrame(::GroupedDataFrame; keepkeys::Bool=true)\u001b[39m\n",
       "\n",
       "\u001b[1m  Arguments\u001b[22m\n",
       "\u001b[1m  ≡≡≡≡≡≡≡≡≡≡≡\u001b[22m\n",
       "\n",
       "    •    \u001b[36mcolumns\u001b[39m : a Vector with each column as contents or a Matrix\n",
       "\n",
       "    •    \u001b[36mnames\u001b[39m : the column names\n",
       "\n",
       "    •    \u001b[36mmakeunique\u001b[39m : if \u001b[36mfalse\u001b[39m (the default), an error will be raised if\n",
       "        duplicates in \u001b[36mnames\u001b[39m are found; if \u001b[36mtrue\u001b[39m, duplicate names will be\n",
       "        suffixed with \u001b[36m_i\u001b[39m (\u001b[36mi\u001b[39m starting at 1 for the first duplicate).\n",
       "\n",
       "    •    \u001b[36mkwargs\u001b[39m : the key gives the column names, and the value is the\n",
       "        column contents; note that the \u001b[36mcopycols\u001b[39m keyword argument indicates\n",
       "        if if vectors passed as columns should be copied so it is not\n",
       "        possible to create a column whose name is \u001b[36m:copycols\u001b[39m using this\n",
       "        constructor\n",
       "\n",
       "    •    \u001b[36mt\u001b[39m : elemental type of all columns\n",
       "\n",
       "    •    \u001b[36mnrows\u001b[39m, \u001b[36mncols\u001b[39m : number of rows and columns\n",
       "\n",
       "    •    \u001b[36mcolumn_eltypes\u001b[39m : element type of each column\n",
       "\n",
       "    •    \u001b[36mcategorical\u001b[39m : a vector of \u001b[36mBool\u001b[39m indicating which columns should be\n",
       "        converted to \u001b[36mCategoricalVector\u001b[39m\n",
       "\n",
       "    •    \u001b[36mds\u001b[39m : \u001b[36mAbstractDict\u001b[39m of columns\n",
       "\n",
       "    •    \u001b[36mtable\u001b[39m : any type that implements the Tables.jl\n",
       "        (https://github.com/JuliaData/Tables.jl) interface; in particular\n",
       "        a tuple or vector of \u001b[36mPair{Symbol, <:AbstractVector}}\u001b[39m objects is a\n",
       "        table.\n",
       "\n",
       "    •    \u001b[36mcopycols\u001b[39m : whether vectors passed as columns should be copied; if\n",
       "        set to \u001b[36mfalse\u001b[39m then the constructor will still copy the passed\n",
       "        columns if it is not possible to construct a \u001b[36mDataFrame\u001b[39m without\n",
       "        materializing new columns.\n",
       "\n",
       "  All columns in \u001b[36mcolumns\u001b[39m must be \u001b[36mAbstractVector\u001b[39ms and have the same length. An\n",
       "  exception are \u001b[36mDataFrame(kwargs...)\u001b[39m and \u001b[36mDataFrame(pairs::Pair...)\u001b[39m form\n",
       "  constructors which additionally allow a column to be of any other type that\n",
       "  is not an \u001b[36mAbstractArray\u001b[39m, in which case the passed value is automatically\n",
       "  repeated to fill a new vector of the appropriate length. As a particular\n",
       "  rule values stored in a \u001b[36mRef\u001b[39m or a \u001b[36m0\u001b[39m-dimensional \u001b[36mAbstractArray\u001b[39m are unwrapped\n",
       "  and treated in the same way.\n",
       "\n",
       "  Additionally \u001b[36mDataFrame\u001b[39m can be used to collect a \u001b[36mGroupedDataFrame\u001b[39m into a\n",
       "  \u001b[36mDataFrame\u001b[39m. In this case the order of rows in the result follows the order of\n",
       "  groups in the \u001b[36mGroupedDataFrame\u001b[39m passed.\n",
       "\n",
       "\u001b[1m  Notes\u001b[22m\n",
       "\u001b[1m  ≡≡≡≡≡≡≡\u001b[22m\n",
       "\n",
       "  The \u001b[36mDataFrame\u001b[39m constructor by default copies all columns vectors passed to\n",
       "  it. Pass \u001b[36mcopycols=false\u001b[39m to reuse vectors without copying them\n",
       "\n",
       "  If a column is passed to a \u001b[36mDataFrame\u001b[39m constructor or is assigned as a whole\n",
       "  using \u001b[36msetindex!\u001b[39m then its reference is stored in the \u001b[36mDataFrame\u001b[39m. An exception\n",
       "  to this rule is assignment of an \u001b[36mAbstractRange\u001b[39m as a column, in which case\n",
       "  the range is collected to a \u001b[36mVector\u001b[39m.\n",
       "\n",
       "  Because column types can vary, a \u001b[36mDataFrame\u001b[39m is not type stable. For\n",
       "  performance-critical code, do not index into a \u001b[36mDataFrame\u001b[39m inside of loops.\n",
       "\n",
       "\u001b[1m  Examples\u001b[22m\n",
       "\u001b[1m  ≡≡≡≡≡≡≡≡≡≡\u001b[22m\n",
       "\n",
       "\u001b[36m  df = DataFrame()\u001b[39m\n",
       "\u001b[36m  v = [\"x\",\"y\",\"z\"][rand(1:3, 10)]\u001b[39m\n",
       "\u001b[36m  df1 = DataFrame(Any[collect(1:10), v, rand(10)], [:A, :B, :C])\u001b[39m\n",
       "\u001b[36m  df2 = DataFrame(A = 1:10, B = v, C = rand(10))\u001b[39m\n",
       "\u001b[36m  summary(df1)\u001b[39m\n",
       "\u001b[36m  describe(df2)\u001b[39m\n",
       "\u001b[36m  first(df1, 10)\u001b[39m\n",
       "\u001b[36m  df1.B\u001b[39m\n",
       "\u001b[36m  df2[!, :C]\u001b[39m\n",
       "\u001b[36m  df1[:, :A]\u001b[39m\n",
       "\u001b[36m  df1[1:4, 1:2]\u001b[39m\n",
       "\u001b[36m  df1[Not(1:4), Not(1:2)]\u001b[39m\n",
       "\u001b[36m  df1[1:2, [:A,:C]]\u001b[39m\n",
       "\u001b[36m  df1[1:2, r\"[AC]\"]\u001b[39m\n",
       "\u001b[36m  df1[:, [:A,:C]]\u001b[39m\n",
       "\u001b[36m  df1[:, [1,3]]\u001b[39m\n",
       "\u001b[36m  df1[1:4, :]\u001b[39m\n",
       "\u001b[36m  df1[1:4, :C]\u001b[39m\n",
       "\u001b[36m  df1[1:4, :C] = 40. * df1[1:4, :C]\u001b[39m\n",
       "\u001b[36m  [df1; df2]  # vcat\u001b[39m\n",
       "\u001b[36m  [df1 df2]  # hcat\u001b[39m\n",
       "\u001b[36m  size(df1)\u001b[39m"
      ]
     },
     "execution_count": 20,
     "metadata": {},
     "output_type": "execute_result"
    }
   ],
   "source": [
    "?DataFrame"
   ]
  },
  {
   "cell_type": "markdown",
   "metadata": {},
   "source": [
    "Here we write our first small function. <br>\n",
    "Now you can answer questions such as, \"when was language X created?\""
   ]
  },
  {
   "cell_type": "code",
   "execution_count": 27,
   "metadata": {},
   "outputs": [
    {
     "data": {
      "text/plain": [
       "(73, 2)"
      ]
     },
     "execution_count": 27,
     "metadata": {},
     "output_type": "execute_result"
    }
   ],
   "source": [
    "size(P)"
   ]
  },
  {
   "cell_type": "code",
   "execution_count": 28,
   "metadata": {},
   "outputs": [
    {
     "data": {
      "text/plain": [
       "language_created_year (generic function with 1 method)"
      ]
     },
     "execution_count": 28,
     "metadata": {},
     "output_type": "execute_result"
    }
   ],
   "source": [
    "function language_created_year(P,language::String)\n",
    "    loc = findfirst(P[:,2].==language)\n",
    "    return P[loc,1]\n",
    "end"
   ]
  },
  {
   "cell_type": "code",
   "execution_count": 29,
   "metadata": {},
   "outputs": [
    {
     "data": {
      "text/plain": [
       "2012"
      ]
     },
     "execution_count": 29,
     "metadata": {},
     "output_type": "execute_result"
    }
   ],
   "source": [
    "language_created_year(P,\"Julia\")"
   ]
  },
  {
   "cell_type": "code",
   "execution_count": 30,
   "metadata": {},
   "outputs": [
    {
     "ename": "MethodError",
     "evalue": "MethodError: no method matching getindex(::DataFrame, ::Nothing, ::Int64)\nClosest candidates are:\n  getindex(::DataFrame, !Matched::Colon, ::Union{AbstractString, Signed, Symbol, Unsigned}) at C:\\Users\\Victor\\.julia\\packages\\DataFrames\\kwVTY\\src\\dataframe\\dataframe.jl:421\n  getindex(::DataFrame, !Matched::typeof(!), ::Union{Signed, Unsigned}) at C:\\Users\\Victor\\.julia\\packages\\DataFrames\\kwVTY\\src\\dataframe\\dataframe.jl:427\n  getindex(::DataFrame, !Matched::Integer, ::Union{Signed, Unsigned}) at C:\\Users\\Victor\\.julia\\packages\\DataFrames\\kwVTY\\src\\dataframe\\dataframe.jl:385\n  ...",
     "output_type": "error",
     "traceback": [
      "MethodError: no method matching getindex(::DataFrame, ::Nothing, ::Int64)\nClosest candidates are:\n  getindex(::DataFrame, !Matched::Colon, ::Union{AbstractString, Signed, Symbol, Unsigned}) at C:\\Users\\Victor\\.julia\\packages\\DataFrames\\kwVTY\\src\\dataframe\\dataframe.jl:421\n  getindex(::DataFrame, !Matched::typeof(!), ::Union{Signed, Unsigned}) at C:\\Users\\Victor\\.julia\\packages\\DataFrames\\kwVTY\\src\\dataframe\\dataframe.jl:427\n  getindex(::DataFrame, !Matched::Integer, ::Union{Signed, Unsigned}) at C:\\Users\\Victor\\.julia\\packages\\DataFrames\\kwVTY\\src\\dataframe\\dataframe.jl:385\n  ...",
      "",
      "Stacktrace:",
      " [1] language_created_year(::DataFrame, ::String) at .\\In[28]:3",
      " [2] top-level scope at In[30]:1"
     ]
    }
   ],
   "source": [
    "language_created_year(P,\"julia\")"
   ]
  },
  {
   "cell_type": "markdown",
   "metadata": {},
   "source": [
    "As expected, this will not return what you want, but thankfully, string manipulation is really easy in Julia!"
   ]
  },
  {
   "cell_type": "code",
   "execution_count": 31,
   "metadata": {},
   "outputs": [
    {
     "data": {
      "text/plain": [
       "2012"
      ]
     },
     "execution_count": 31,
     "metadata": {},
     "output_type": "execute_result"
    }
   ],
   "source": [
    "function language_created_year_v2(P,language::String)\n",
    "    loc = findfirst(lowercase.(P[:,2]).==lowercase.(language))\n",
    "    return P[loc,1]\n",
    "end\n",
    "language_created_year_v2(P,\"julia\")"
   ]
  },
  {
   "cell_type": "markdown",
   "metadata": {},
   "source": [
    "To write to files, we can use `CSV.write`. <br>\n",
    "\n",
    "Let's write this same data to a file with a different delimiter."
   ]
  },
  {
   "cell_type": "code",
   "execution_count": 32,
   "metadata": {},
   "outputs": [
    {
     "data": {
      "text/plain": [
       "\"programming_languages_data.txt\""
      ]
     },
     "execution_count": 32,
     "metadata": {},
     "output_type": "execute_result"
    }
   ],
   "source": [
    "using CSV\n",
    "CSV.write(\"programming_languages_data.txt\", P, delim=\"-\")"
   ]
  },
  {
   "cell_type": "markdown",
   "metadata": {},
   "source": [
    "We can now check that this worked using a shell command to glance at the file,"
   ]
  },
  {
   "cell_type": "code",
   "execution_count": 36,
   "metadata": {},
   "outputs": [
    {
     "ename": "Base.IOError",
     "evalue": "IOError: could not spawn `head -10 programming_languages_data.txt`: no such file or directory (ENOENT)",
     "output_type": "error",
     "traceback": [
      "IOError: could not spawn `head -10 programming_languages_data.txt`: no such file or directory (ENOENT)",
      "",
      "Stacktrace:",
      " [1] _spawn_primitive(::String, ::Cmd, ::Array{Any,1}) at .\\process.jl:99",
      " [2] #550 at .\\process.jl:112 [inlined]",
      " [3] setup_stdios(::Base.var\"#550#551\"{Cmd}, ::Array{Any,1}) at .\\process.jl:196",
      " [4] _spawn at .\\process.jl:111 [inlined]",
      " [5] run(::Cmd; wait::Bool) at .\\process.jl:439",
      " [6] run at .\\process.jl:438 [inlined]",
      " [7] repl_cmd(::Cmd, ::IJulia.IJuliaStdio{Base.PipeEndpoint}) at .\\client.jl:69",
      " [8] top-level scope at In[36]:1"
     ]
    }
   ],
   "source": [
    ";head -10 programming_languages_data.txt"
   ]
  },
  {
   "cell_type": "markdown",
   "metadata": {},
   "source": [
    "and also check that we can use `CSV.read` to read our new text file correctly."
   ]
  },
  {
   "cell_type": "code",
   "execution_count": 39,
   "metadata": {},
   "outputs": [
    {
     "data": {
      "text/plain": [
       "true"
      ]
     },
     "execution_count": 39,
     "metadata": {},
     "output_type": "execute_result"
    }
   ],
   "source": [
    "P_new_delim = CSV.read(\"programming_languages_data.txt\",delim=\"-\");\n",
    "P == P_new_delim"
   ]
  },
  {
   "cell_type": "markdown",
   "metadata": {},
   "source": [
    "Let's try to store the above data in a dictionary format!\n",
    "\n",
    "First, let's initialize an empty dictionary"
   ]
  },
  {
   "cell_type": "code",
   "execution_count": 40,
   "metadata": {},
   "outputs": [
    {
     "data": {
      "text/plain": [
       "Dict{Integer,Array{String,1}} with 0 entries"
      ]
     },
     "execution_count": 40,
     "metadata": {},
     "output_type": "execute_result"
    }
   ],
   "source": [
    "dict = Dict{Integer,Vector{String}}()"
   ]
  },
  {
   "cell_type": "markdown",
   "metadata": {},
   "source": [
    "Here we told Julia that we want `dict` to only accept integers as keys and vectors of strings as values.\n",
    "\n",
    "However, we could have initialized an empty dictionary without providing this information (depending on our application)."
   ]
  },
  {
   "cell_type": "code",
   "execution_count": 41,
   "metadata": {},
   "outputs": [
    {
     "data": {
      "text/plain": [
       "Dict{Any,Any} with 0 entries"
      ]
     },
     "execution_count": 41,
     "metadata": {},
     "output_type": "execute_result"
    }
   ],
   "source": [
    "dict2 = Dict()"
   ]
  },
  {
   "cell_type": "code",
   "execution_count": 45,
   "metadata": {},
   "outputs": [
    {
     "data": {
      "text/plain": [
       "73"
      ]
     },
     "execution_count": 45,
     "metadata": {},
     "output_type": "execute_result"
    }
   ],
   "source": [
    "size(P,1)"
   ]
  },
  {
   "cell_type": "markdown",
   "metadata": {},
   "source": [
    "This dictionary takes keys and values of any type!\n",
    "\n",
    "Now, let's populate the dictionary with years as keys and vectors that hold all the programming languages created in each year as their values."
   ]
  },
  {
   "cell_type": "code",
   "execution_count": 47,
   "metadata": {},
   "outputs": [],
   "source": [
    "for i = 1:size(P,1)\n",
    "    year,lang = P[i,:]\n",
    "    \n",
    "    if year in keys(dict)\n",
    "        dict[year] = push!(dict[year],lang)\n",
    "    else\n",
    "        dict[year] = [lang]\n",
    "    end\n",
    "end"
   ]
  },
  {
   "cell_type": "markdown",
   "metadata": {},
   "source": [
    "Now you can pick whichever year you want and find what programming languages were invented in that year"
   ]
  },
  {
   "cell_type": "code",
   "execution_count": 48,
   "metadata": {},
   "outputs": [
    {
     "data": {
      "text/plain": [
       "8-element Array{String,1}:\n",
       " \"Dart\"\n",
       " \"Kotlin\"\n",
       " \"Red\"\n",
       " \"Elixir\"\n",
       " \"Dart\"\n",
       " \"Kotlin\"\n",
       " \"Red\"\n",
       " \"Elixir\""
      ]
     },
     "execution_count": 48,
     "metadata": {},
     "output_type": "execute_result"
    }
   ],
   "source": [
    "dict[2011]"
   ]
  },
  {
   "cell_type": "markdown",
   "metadata": {},
   "source": [
    "## Data wrangling\n",
    "\n",
    "Once you’ve imported your data, it is a good idea to tidy it. <font color='red'>Tidying your data means storing it in a consistent form that matches the semantics of the dataset with the way it is stored. In brief, when your data is tidy, each column is a variable, and each row is an observation.</font> Tidy data is important because the consistent structure lets you focus your struggle on questions about the data, not fighting to get the data into the right form for different functions.\n",
    "\n",
    "Once you have tidy data, a common first step is to transform it. Transformation includes narrowing in on observations of interest (like all people in one city, or all data from the last year), creating new variables that are functions of existing variables (like computing speed from distance and time), and calculating a set of summary statistics (like counts or means). Together, tidying and transforming are called wrangling, because getting your data in a form that’s natural to work with often feels like a fight!"
   ]
  },
  {
   "cell_type": "markdown",
   "metadata": {},
   "source": [
    "**Now back to DataFrames!**\n",
    "\n",
    "Let's convert the `programminglanguages` dataset to a `DataFrame`"
   ]
  },
  {
   "cell_type": "code",
   "execution_count": 49,
   "metadata": {},
   "outputs": [
    {
     "data": {
      "text/html": [
       "<table class=\"data-frame\"><thead><tr><th></th><th>year</th><th>language</th></tr><tr><th></th><th>Int64</th><th>String</th></tr></thead><tbody><p>73 rows × 2 columns</p><tr><th>1</th><td>1951</td><td>Regional Assembly Language</td></tr><tr><th>2</th><td>1952</td><td>Autocode</td></tr><tr><th>3</th><td>1954</td><td>IPL</td></tr><tr><th>4</th><td>1955</td><td>FLOW-MATIC</td></tr><tr><th>5</th><td>1957</td><td>FORTRAN</td></tr><tr><th>6</th><td>1957</td><td>COMTRAN</td></tr><tr><th>7</th><td>1958</td><td>LISP</td></tr><tr><th>8</th><td>1958</td><td>ALGOL 58</td></tr><tr><th>9</th><td>1959</td><td>FACT</td></tr><tr><th>10</th><td>1959</td><td>COBOL</td></tr><tr><th>11</th><td>1959</td><td>RPG</td></tr><tr><th>12</th><td>1962</td><td>APL</td></tr><tr><th>13</th><td>1962</td><td>Simula</td></tr><tr><th>14</th><td>1962</td><td>SNOBOL</td></tr><tr><th>15</th><td>1963</td><td>CPL</td></tr><tr><th>16</th><td>1964</td><td>Speakeasy</td></tr><tr><th>17</th><td>1964</td><td>BASIC</td></tr><tr><th>18</th><td>1964</td><td>PL/I</td></tr><tr><th>19</th><td>1966</td><td>JOSS</td></tr><tr><th>20</th><td>1967</td><td>BCPL</td></tr><tr><th>21</th><td>1968</td><td>Logo</td></tr><tr><th>22</th><td>1969</td><td>B</td></tr><tr><th>23</th><td>1970</td><td>Pascal</td></tr><tr><th>24</th><td>1970</td><td>Forth</td></tr><tr><th>25</th><td>1972</td><td>C</td></tr><tr><th>26</th><td>1972</td><td>Smalltalk</td></tr><tr><th>27</th><td>1972</td><td>Prolog</td></tr><tr><th>28</th><td>1973</td><td>ML</td></tr><tr><th>29</th><td>1975</td><td>Scheme</td></tr><tr><th>30</th><td>1978</td><td>SQL </td></tr><tr><th>&vellip;</th><td>&vellip;</td><td>&vellip;</td></tr></tbody></table>"
      ],
      "text/latex": [
       "\\begin{tabular}{r|cc}\n",
       "\t& year & language\\\\\n",
       "\t\\hline\n",
       "\t& Int64 & String\\\\\n",
       "\t\\hline\n",
       "\t1 & 1951 & Regional Assembly Language \\\\\n",
       "\t2 & 1952 & Autocode \\\\\n",
       "\t3 & 1954 & IPL \\\\\n",
       "\t4 & 1955 & FLOW-MATIC \\\\\n",
       "\t5 & 1957 & FORTRAN \\\\\n",
       "\t6 & 1957 & COMTRAN \\\\\n",
       "\t7 & 1958 & LISP \\\\\n",
       "\t8 & 1958 & ALGOL 58 \\\\\n",
       "\t9 & 1959 & FACT \\\\\n",
       "\t10 & 1959 & COBOL \\\\\n",
       "\t11 & 1959 & RPG \\\\\n",
       "\t12 & 1962 & APL \\\\\n",
       "\t13 & 1962 & Simula \\\\\n",
       "\t14 & 1962 & SNOBOL \\\\\n",
       "\t15 & 1963 & CPL \\\\\n",
       "\t16 & 1964 & Speakeasy \\\\\n",
       "\t17 & 1964 & BASIC \\\\\n",
       "\t18 & 1964 & PL/I \\\\\n",
       "\t19 & 1966 & JOSS \\\\\n",
       "\t20 & 1967 & BCPL \\\\\n",
       "\t21 & 1968 & Logo \\\\\n",
       "\t22 & 1969 & B \\\\\n",
       "\t23 & 1970 & Pascal \\\\\n",
       "\t24 & 1970 & Forth \\\\\n",
       "\t25 & 1972 & C \\\\\n",
       "\t26 & 1972 & Smalltalk \\\\\n",
       "\t27 & 1972 & Prolog \\\\\n",
       "\t28 & 1973 & ML \\\\\n",
       "\t29 & 1975 & Scheme \\\\\n",
       "\t30 & 1978 & SQL  \\\\\n",
       "\t$\\dots$ & $\\dots$ & $\\dots$ \\\\\n",
       "\\end{tabular}\n"
      ],
      "text/plain": [
       "73×2 DataFrame\n",
       "│ Row │ year  │ language                   │\n",
       "│     │ \u001b[90mInt64\u001b[39m │ \u001b[90mString\u001b[39m                     │\n",
       "├─────┼───────┼────────────────────────────┤\n",
       "│ 1   │ 1951  │ Regional Assembly Language │\n",
       "│ 2   │ 1952  │ Autocode                   │\n",
       "│ 3   │ 1954  │ IPL                        │\n",
       "│ 4   │ 1955  │ FLOW-MATIC                 │\n",
       "│ 5   │ 1957  │ FORTRAN                    │\n",
       "│ 6   │ 1957  │ COMTRAN                    │\n",
       "│ 7   │ 1958  │ LISP                       │\n",
       "│ 8   │ 1958  │ ALGOL 58                   │\n",
       "│ 9   │ 1959  │ FACT                       │\n",
       "│ 10  │ 1959  │ COBOL                      │\n",
       "⋮\n",
       "│ 63  │ 2005  │ F#                         │\n",
       "│ 64  │ 2006  │ PowerShell                 │\n",
       "│ 65  │ 2007  │ Clojure                    │\n",
       "│ 66  │ 2009  │ Go                         │\n",
       "│ 67  │ 2010  │ Rust                       │\n",
       "│ 68  │ 2011  │ Dart                       │\n",
       "│ 69  │ 2011  │ Kotlin                     │\n",
       "│ 70  │ 2011  │ Red                        │\n",
       "│ 71  │ 2011  │ Elixir                     │\n",
       "│ 72  │ 2012  │ Julia                      │\n",
       "│ 73  │ 2014  │ Swift                      │"
      ]
     },
     "execution_count": 49,
     "metadata": {},
     "output_type": "execute_result"
    }
   ],
   "source": [
    "df = DataFrame(year = P[:,1], language = P[:,2])"
   ]
  },
  {
   "cell_type": "markdown",
   "metadata": {},
   "source": [
    "You can access columns by header name, or column index.\n",
    "\n",
    "In this case, `df[1]` is equivalent to `df.year` or `df[!, :year]`.\n",
    "\n",
    "Note that if we want to index columns by header name, we precede the header name with a colon. In Julia, this means that the header names are treated as *symbols*."
   ]
  },
  {
   "cell_type": "code",
   "execution_count": 50,
   "metadata": {},
   "outputs": [
    {
     "data": {
      "text/plain": [
       "73-element Array{Int64,1}:\n",
       " 1951\n",
       " 1952\n",
       " 1954\n",
       " 1955\n",
       " 1957\n",
       " 1957\n",
       " 1958\n",
       " 1958\n",
       " 1959\n",
       " 1959\n",
       " 1959\n",
       " 1962\n",
       " 1962\n",
       "    ⋮\n",
       " 2003\n",
       " 2005\n",
       " 2006\n",
       " 2007\n",
       " 2009\n",
       " 2010\n",
       " 2011\n",
       " 2011\n",
       " 2011\n",
       " 2011\n",
       " 2012\n",
       " 2014"
      ]
     },
     "execution_count": 50,
     "metadata": {},
     "output_type": "execute_result"
    }
   ],
   "source": [
    "df.year\n",
    "df[!, :year]"
   ]
  },
  {
   "cell_type": "markdown",
   "metadata": {},
   "source": [
    "**`DataFrames` provides some handy features when dealing with data**\n",
    "\n",
    "First, it uses julia's \"missing\" type."
   ]
  },
  {
   "cell_type": "code",
   "execution_count": 51,
   "metadata": {},
   "outputs": [
    {
     "data": {
      "text/plain": [
       "Missing"
      ]
     },
     "execution_count": 51,
     "metadata": {},
     "output_type": "execute_result"
    }
   ],
   "source": [
    "a = missing\n",
    "typeof(a)"
   ]
  },
  {
   "cell_type": "markdown",
   "metadata": {},
   "source": [
    "Let's see what happens when we try to add a \"missing\" type to a number."
   ]
  },
  {
   "cell_type": "code",
   "execution_count": 52,
   "metadata": {},
   "outputs": [
    {
     "data": {
      "text/plain": [
       "missing"
      ]
     },
     "execution_count": 52,
     "metadata": {},
     "output_type": "execute_result"
    }
   ],
   "source": [
    "a + 1"
   ]
  },
  {
   "cell_type": "markdown",
   "metadata": {},
   "source": [
    "`DataFrames` provides the `describe` function, which can give you quick statistics about each column in your dataframe "
   ]
  },
  {
   "cell_type": "code",
   "execution_count": 53,
   "metadata": {},
   "outputs": [
    {
     "data": {
      "text/html": [
       "<table class=\"data-frame\"><thead><tr><th></th><th>variable</th><th>mean</th><th>min</th><th>median</th><th>max</th><th>nunique</th><th>nmissing</th><th>eltype</th></tr><tr><th></th><th>Symbol</th><th>Union…</th><th>Any</th><th>Union…</th><th>Any</th><th>Union…</th><th>Nothing</th><th>DataType</th></tr></thead><tbody><p>2 rows × 8 columns</p><tr><th>1</th><td>year</td><td>1982.99</td><td>1951</td><td>1986.0</td><td>2014</td><td></td><td></td><td>Int64</td></tr><tr><th>2</th><td>language</td><td></td><td>ALGOL 58</td><td></td><td>dBase III</td><td>73</td><td></td><td>String</td></tr></tbody></table>"
      ],
      "text/latex": [
       "\\begin{tabular}{r|cccccccc}\n",
       "\t& variable & mean & min & median & max & nunique & nmissing & eltype\\\\\n",
       "\t\\hline\n",
       "\t& Symbol & Union… & Any & Union… & Any & Union… & Nothing & DataType\\\\\n",
       "\t\\hline\n",
       "\t1 & year & 1982.99 & 1951 & 1986.0 & 2014 &  &  & Int64 \\\\\n",
       "\t2 & language &  & ALGOL 58 &  & dBase III & 73 &  & String \\\\\n",
       "\\end{tabular}\n"
      ],
      "text/plain": [
       "2×8 DataFrame. Omitted printing of 2 columns\n",
       "│ Row │ variable │ mean    │ min      │ median │ max       │ nunique │\n",
       "│     │ \u001b[90mSymbol\u001b[39m   │ \u001b[90mUnion…\u001b[39m  │ \u001b[90mAny\u001b[39m      │ \u001b[90mUnion…\u001b[39m │ \u001b[90mAny\u001b[39m       │ \u001b[90mUnion…\u001b[39m  │\n",
       "├─────┼──────────┼─────────┼──────────┼────────┼───────────┼─────────┤\n",
       "│ 1   │ year     │ 1982.99 │ 1951     │ 1986.0 │ 2014      │         │\n",
       "│ 2   │ language │         │ ALGOL 58 │        │ dBase III │ 73      │"
      ]
     },
     "execution_count": 53,
     "metadata": {},
     "output_type": "execute_result"
    }
   ],
   "source": [
    "describe(df)"
   ]
  },
  {
   "cell_type": "markdown",
   "metadata": {},
   "source": [
    "### RDatasets\n",
    "\n",
    "We can use `RDatasets` to play around with pre-existing datasets\n",
    "\n",
    "The [`\"iris\"` dataset](https://en.wikipedia.org/wiki/Iris_flower_data_set) is a collection of measurements for three different species of the iris flower: Iris Setosa, Iris Virginica, and Iris Versicolor (shown below).  The measurements consist of length and width of the petal and sepal (part underneath the flower)."
   ]
  },
  {
   "cell_type": "markdown",
   "metadata": {},
   "source": [
    "<img src=\"https://upload.wikimedia.org/wikipedia/commons/4/41/Iris_versicolor_3.jpg\" width=400>"
   ]
  },
  {
   "cell_type": "code",
   "execution_count": 54,
   "metadata": {},
   "outputs": [
    {
     "name": "stderr",
     "output_type": "stream",
     "text": [
      "\u001b[32m\u001b[1m   Updating\u001b[22m\u001b[39m registry at `C:\\Users\\Victor\\.julia\\registries\\General`\n"
     ]
    },
    {
     "name": "stdout",
     "output_type": "stream",
     "text": [
      "\u001b[?25l"
     ]
    },
    {
     "name": "stderr",
     "output_type": "stream",
     "text": [
      "\u001b[32m\u001b[1m   Updating\u001b[22m\u001b[39m git-repo `https://github.com/JuliaRegistries/General.git`\n"
     ]
    },
    {
     "name": "stdout",
     "output_type": "stream",
     "text": [
      "\u001b[2K\u001b[36m\u001b[1mFetching:\u001b[22m\u001b[39m [========================================>]  100.0 %5.3 % %55.1 %=============================>           ]  70.5 %\u001b[?25h"
     ]
    },
    {
     "name": "stderr",
     "output_type": "stream",
     "text": [
      "\u001b[32m\u001b[1m  Resolving\u001b[22m\u001b[39m package versions...\n",
      "\u001b[32m\u001b[1m  Installed\u001b[22m\u001b[39m┌ Info: Replacing symlinks in tarball by their source files ...\n",
      "│ \"JuliaData-RData.jl-10693c5\\\\docs\\\\src\\\\LICENSE.md\" => \"JuliaData-RData.jl-10693c5\\\\docs\\\\src\\\\../../LICENSE.md\"\n",
      "│ \"JuliaData-RData.jl-10693c5\\\\docs\\\\src\\\\NEWS.md\" => \"JuliaData-RData.jl-10693c5\\\\docs\\\\src\\\\../../NEWS.md\"\n",
      "└ @ Pkg.PlatformEngines D:\\buildbot\\worker\\package_win64\\build\\usr\\share\\julia\\stdlib\\v1.4\\Pkg\\src\\PlatformEngines.jl:1027\n",
      " XML2_jll ─────────── v2.9.10+1\n",
      "\u001b[32m\u001b[1m  Installed\u001b[22m\u001b[39m Mocking ──────────── v0.7.1\n",
      "\u001b[32m\u001b[1m  Installed\u001b[22m\u001b[39m EzXML ────────────── v1.1.0\n",
      "\u001b[32m\u001b[1m  Installed\u001b[22m\u001b[39m ExprTools ────────── v0.1.1\n",
      "\u001b[32m\u001b[1m  Installed\u001b[22m\u001b[39m FileIO ───────────── v1.3.0\n",
      "\u001b[32m\u001b[1m  Installed\u001b[22m\u001b[39m RData ────────────── v0.7.2\n",
      "\u001b[32m\u001b[1m  Installed\u001b[22m\u001b[39m TimeZones ────────── v1.2.0\n",
      "\u001b[32m\u001b[1m  Installed\u001b[22m\u001b[39m Libiconv_jll ─────── v1.16.0+5\n",
      "\u001b[32m\u001b[1m  Installed\u001b[22m\u001b[39m CodecZlib ────────── v0.7.0\n",
      "\u001b[32m\u001b[1m  Installed\u001b[22m\u001b[39m TranscodingStreams ─ v0.9.5\n",
      "\u001b[32m\u001b[1m  Installed\u001b[22m\u001b[39m RDatasets ────────── v0.6.9\n",
      "\u001b[32m\u001b[1m   Updating\u001b[22m\u001b[39m `C:\\Users\\Victor\\.julia\\environments\\v1.4\\Project.toml`\n",
      " \u001b[90m [ce6b1742]\u001b[39m\u001b[92m + RDatasets v0.6.9\u001b[39m\n",
      "\u001b[32m\u001b[1m   Updating\u001b[22m\u001b[39m `C:\\Users\\Victor\\.julia\\environments\\v1.4\\Manifest.toml`\n",
      " \u001b[90m [944b1d66]\u001b[39m\u001b[92m + CodecZlib v0.7.0\u001b[39m\n",
      " \u001b[90m [e2ba6199]\u001b[39m\u001b[92m + ExprTools v0.1.1\u001b[39m\n",
      " \u001b[90m [8f5d6c58]\u001b[39m\u001b[92m + EzXML v1.1.0\u001b[39m\n",
      " \u001b[90m [5789e2e9]\u001b[39m\u001b[92m + FileIO v1.3.0\u001b[39m\n",
      " \u001b[90m [94ce4f54]\u001b[39m\u001b[92m + Libiconv_jll v1.16.0+5\u001b[39m\n",
      " \u001b[90m [78c3b35d]\u001b[39m\u001b[92m + Mocking v0.7.1\u001b[39m\n",
      " \u001b[90m [df47a6cb]\u001b[39m\u001b[92m + RData v0.7.2\u001b[39m\n",
      " \u001b[90m [ce6b1742]\u001b[39m\u001b[92m + RDatasets v0.6.9\u001b[39m\n",
      " \u001b[90m [f269a46b]\u001b[39m\u001b[92m + TimeZones v1.2.0\u001b[39m\n",
      " \u001b[90m [3bb67fe8]\u001b[39m\u001b[92m + TranscodingStreams v0.9.5\u001b[39m\n",
      " \u001b[90m [02c8fc9c]\u001b[39m\u001b[92m + XML2_jll v2.9.10+1\u001b[39m\n",
      "\u001b[32m\u001b[1m   Building\u001b[22m\u001b[39m TimeZones → `C:\\Users\\Victor\\.julia\\packages\\TimeZones\\OjMoF\\deps\\build.log`\n",
      "┌ Info: Precompiling RDatasets [ce6b1742-4840-55fa-b093-852dadbb1d8b]\n",
      "└ @ Base loading.jl:1260\n"
     ]
    },
    {
     "data": {
      "text/html": [
       "<table class=\"data-frame\"><thead><tr><th></th><th>SepalLength</th><th>SepalWidth</th><th>PetalLength</th><th>PetalWidth</th><th>Species</th></tr><tr><th></th><th>Float64</th><th>Float64</th><th>Float64</th><th>Float64</th><th>Cat…</th></tr></thead><tbody><p>150 rows × 5 columns</p><tr><th>1</th><td>5.1</td><td>3.5</td><td>1.4</td><td>0.2</td><td>setosa</td></tr><tr><th>2</th><td>4.9</td><td>3.0</td><td>1.4</td><td>0.2</td><td>setosa</td></tr><tr><th>3</th><td>4.7</td><td>3.2</td><td>1.3</td><td>0.2</td><td>setosa</td></tr><tr><th>4</th><td>4.6</td><td>3.1</td><td>1.5</td><td>0.2</td><td>setosa</td></tr><tr><th>5</th><td>5.0</td><td>3.6</td><td>1.4</td><td>0.2</td><td>setosa</td></tr><tr><th>6</th><td>5.4</td><td>3.9</td><td>1.7</td><td>0.4</td><td>setosa</td></tr><tr><th>7</th><td>4.6</td><td>3.4</td><td>1.4</td><td>0.3</td><td>setosa</td></tr><tr><th>8</th><td>5.0</td><td>3.4</td><td>1.5</td><td>0.2</td><td>setosa</td></tr><tr><th>9</th><td>4.4</td><td>2.9</td><td>1.4</td><td>0.2</td><td>setosa</td></tr><tr><th>10</th><td>4.9</td><td>3.1</td><td>1.5</td><td>0.1</td><td>setosa</td></tr><tr><th>11</th><td>5.4</td><td>3.7</td><td>1.5</td><td>0.2</td><td>setosa</td></tr><tr><th>12</th><td>4.8</td><td>3.4</td><td>1.6</td><td>0.2</td><td>setosa</td></tr><tr><th>13</th><td>4.8</td><td>3.0</td><td>1.4</td><td>0.1</td><td>setosa</td></tr><tr><th>14</th><td>4.3</td><td>3.0</td><td>1.1</td><td>0.1</td><td>setosa</td></tr><tr><th>15</th><td>5.8</td><td>4.0</td><td>1.2</td><td>0.2</td><td>setosa</td></tr><tr><th>16</th><td>5.7</td><td>4.4</td><td>1.5</td><td>0.4</td><td>setosa</td></tr><tr><th>17</th><td>5.4</td><td>3.9</td><td>1.3</td><td>0.4</td><td>setosa</td></tr><tr><th>18</th><td>5.1</td><td>3.5</td><td>1.4</td><td>0.3</td><td>setosa</td></tr><tr><th>19</th><td>5.7</td><td>3.8</td><td>1.7</td><td>0.3</td><td>setosa</td></tr><tr><th>20</th><td>5.1</td><td>3.8</td><td>1.5</td><td>0.3</td><td>setosa</td></tr><tr><th>21</th><td>5.4</td><td>3.4</td><td>1.7</td><td>0.2</td><td>setosa</td></tr><tr><th>22</th><td>5.1</td><td>3.7</td><td>1.5</td><td>0.4</td><td>setosa</td></tr><tr><th>23</th><td>4.6</td><td>3.6</td><td>1.0</td><td>0.2</td><td>setosa</td></tr><tr><th>24</th><td>5.1</td><td>3.3</td><td>1.7</td><td>0.5</td><td>setosa</td></tr><tr><th>25</th><td>4.8</td><td>3.4</td><td>1.9</td><td>0.2</td><td>setosa</td></tr><tr><th>26</th><td>5.0</td><td>3.0</td><td>1.6</td><td>0.2</td><td>setosa</td></tr><tr><th>27</th><td>5.0</td><td>3.4</td><td>1.6</td><td>0.4</td><td>setosa</td></tr><tr><th>28</th><td>5.2</td><td>3.5</td><td>1.5</td><td>0.2</td><td>setosa</td></tr><tr><th>29</th><td>5.2</td><td>3.4</td><td>1.4</td><td>0.2</td><td>setosa</td></tr><tr><th>30</th><td>4.7</td><td>3.2</td><td>1.6</td><td>0.2</td><td>setosa</td></tr><tr><th>&vellip;</th><td>&vellip;</td><td>&vellip;</td><td>&vellip;</td><td>&vellip;</td><td>&vellip;</td></tr></tbody></table>"
      ],
      "text/latex": [
       "\\begin{tabular}{r|ccccc}\n",
       "\t& SepalLength & SepalWidth & PetalLength & PetalWidth & Species\\\\\n",
       "\t\\hline\n",
       "\t& Float64 & Float64 & Float64 & Float64 & Cat…\\\\\n",
       "\t\\hline\n",
       "\t1 & 5.1 & 3.5 & 1.4 & 0.2 & setosa \\\\\n",
       "\t2 & 4.9 & 3.0 & 1.4 & 0.2 & setosa \\\\\n",
       "\t3 & 4.7 & 3.2 & 1.3 & 0.2 & setosa \\\\\n",
       "\t4 & 4.6 & 3.1 & 1.5 & 0.2 & setosa \\\\\n",
       "\t5 & 5.0 & 3.6 & 1.4 & 0.2 & setosa \\\\\n",
       "\t6 & 5.4 & 3.9 & 1.7 & 0.4 & setosa \\\\\n",
       "\t7 & 4.6 & 3.4 & 1.4 & 0.3 & setosa \\\\\n",
       "\t8 & 5.0 & 3.4 & 1.5 & 0.2 & setosa \\\\\n",
       "\t9 & 4.4 & 2.9 & 1.4 & 0.2 & setosa \\\\\n",
       "\t10 & 4.9 & 3.1 & 1.5 & 0.1 & setosa \\\\\n",
       "\t11 & 5.4 & 3.7 & 1.5 & 0.2 & setosa \\\\\n",
       "\t12 & 4.8 & 3.4 & 1.6 & 0.2 & setosa \\\\\n",
       "\t13 & 4.8 & 3.0 & 1.4 & 0.1 & setosa \\\\\n",
       "\t14 & 4.3 & 3.0 & 1.1 & 0.1 & setosa \\\\\n",
       "\t15 & 5.8 & 4.0 & 1.2 & 0.2 & setosa \\\\\n",
       "\t16 & 5.7 & 4.4 & 1.5 & 0.4 & setosa \\\\\n",
       "\t17 & 5.4 & 3.9 & 1.3 & 0.4 & setosa \\\\\n",
       "\t18 & 5.1 & 3.5 & 1.4 & 0.3 & setosa \\\\\n",
       "\t19 & 5.7 & 3.8 & 1.7 & 0.3 & setosa \\\\\n",
       "\t20 & 5.1 & 3.8 & 1.5 & 0.3 & setosa \\\\\n",
       "\t21 & 5.4 & 3.4 & 1.7 & 0.2 & setosa \\\\\n",
       "\t22 & 5.1 & 3.7 & 1.5 & 0.4 & setosa \\\\\n",
       "\t23 & 4.6 & 3.6 & 1.0 & 0.2 & setosa \\\\\n",
       "\t24 & 5.1 & 3.3 & 1.7 & 0.5 & setosa \\\\\n",
       "\t25 & 4.8 & 3.4 & 1.9 & 0.2 & setosa \\\\\n",
       "\t26 & 5.0 & 3.0 & 1.6 & 0.2 & setosa \\\\\n",
       "\t27 & 5.0 & 3.4 & 1.6 & 0.4 & setosa \\\\\n",
       "\t28 & 5.2 & 3.5 & 1.5 & 0.2 & setosa \\\\\n",
       "\t29 & 5.2 & 3.4 & 1.4 & 0.2 & setosa \\\\\n",
       "\t30 & 4.7 & 3.2 & 1.6 & 0.2 & setosa \\\\\n",
       "\t$\\dots$ & $\\dots$ & $\\dots$ & $\\dots$ & $\\dots$ & $\\dots$ \\\\\n",
       "\\end{tabular}\n"
      ],
      "text/plain": [
       "150×5 DataFrame\n",
       "│ Row │ SepalLength │ SepalWidth │ PetalLength │ PetalWidth │ Species   │\n",
       "│     │ \u001b[90mFloat64\u001b[39m     │ \u001b[90mFloat64\u001b[39m    │ \u001b[90mFloat64\u001b[39m     │ \u001b[90mFloat64\u001b[39m    │ \u001b[90mCat…\u001b[39m      │\n",
       "├─────┼─────────────┼────────────┼─────────────┼────────────┼───────────┤\n",
       "│ 1   │ 5.1         │ 3.5        │ 1.4         │ 0.2        │ setosa    │\n",
       "│ 2   │ 4.9         │ 3.0        │ 1.4         │ 0.2        │ setosa    │\n",
       "│ 3   │ 4.7         │ 3.2        │ 1.3         │ 0.2        │ setosa    │\n",
       "│ 4   │ 4.6         │ 3.1        │ 1.5         │ 0.2        │ setosa    │\n",
       "│ 5   │ 5.0         │ 3.6        │ 1.4         │ 0.2        │ setosa    │\n",
       "│ 6   │ 5.4         │ 3.9        │ 1.7         │ 0.4        │ setosa    │\n",
       "│ 7   │ 4.6         │ 3.4        │ 1.4         │ 0.3        │ setosa    │\n",
       "│ 8   │ 5.0         │ 3.4        │ 1.5         │ 0.2        │ setosa    │\n",
       "│ 9   │ 4.4         │ 2.9        │ 1.4         │ 0.2        │ setosa    │\n",
       "│ 10  │ 4.9         │ 3.1        │ 1.5         │ 0.1        │ setosa    │\n",
       "⋮\n",
       "│ 140 │ 6.9         │ 3.1        │ 5.4         │ 2.1        │ virginica │\n",
       "│ 141 │ 6.7         │ 3.1        │ 5.6         │ 2.4        │ virginica │\n",
       "│ 142 │ 6.9         │ 3.1        │ 5.1         │ 2.3        │ virginica │\n",
       "│ 143 │ 5.8         │ 2.7        │ 5.1         │ 1.9        │ virginica │\n",
       "│ 144 │ 6.8         │ 3.2        │ 5.9         │ 2.3        │ virginica │\n",
       "│ 145 │ 6.7         │ 3.3        │ 5.7         │ 2.5        │ virginica │\n",
       "│ 146 │ 6.7         │ 3.0        │ 5.2         │ 2.3        │ virginica │\n",
       "│ 147 │ 6.3         │ 2.5        │ 5.0         │ 1.9        │ virginica │\n",
       "│ 148 │ 6.5         │ 3.0        │ 5.2         │ 2.0        │ virginica │\n",
       "│ 149 │ 6.2         │ 3.4        │ 5.4         │ 2.3        │ virginica │\n",
       "│ 150 │ 5.9         │ 3.0        │ 5.1         │ 1.8        │ virginica │"
      ]
     },
     "execution_count": 54,
     "metadata": {},
     "output_type": "execute_result"
    }
   ],
   "source": [
    "using Pkg; Pkg.add(\"RDatasets\")\n",
    "using RDatasets\n",
    "iris = dataset(\"datasets\", \"iris\")"
   ]
  },
  {
   "cell_type": "markdown",
   "metadata": {},
   "source": [
    "Note that data loaded with `dataset` is stored as a DataFrame. 😃"
   ]
  },
  {
   "cell_type": "code",
   "execution_count": 55,
   "metadata": {},
   "outputs": [
    {
     "data": {
      "text/plain": [
       "DataFrame"
      ]
     },
     "execution_count": 55,
     "metadata": {},
     "output_type": "execute_result"
    }
   ],
   "source": [
    "typeof(iris) "
   ]
  },
  {
   "cell_type": "markdown",
   "metadata": {},
   "source": [
    "The summary we get from `describe` on `iris` gives us a lot more information than the summary on `df`!"
   ]
  },
  {
   "cell_type": "code",
   "execution_count": 56,
   "metadata": {},
   "outputs": [
    {
     "data": {
      "text/html": [
       "<table class=\"data-frame\"><thead><tr><th></th><th>variable</th><th>mean</th><th>min</th><th>median</th><th>max</th><th>nunique</th><th>nmissing</th><th>eltype</th></tr><tr><th></th><th>Symbol</th><th>Union…</th><th>Any</th><th>Union…</th><th>Any</th><th>Union…</th><th>Nothing</th><th>DataType</th></tr></thead><tbody><p>5 rows × 8 columns</p><tr><th>1</th><td>SepalLength</td><td>5.84333</td><td>4.3</td><td>5.8</td><td>7.9</td><td></td><td></td><td>Float64</td></tr><tr><th>2</th><td>SepalWidth</td><td>3.05733</td><td>2.0</td><td>3.0</td><td>4.4</td><td></td><td></td><td>Float64</td></tr><tr><th>3</th><td>PetalLength</td><td>3.758</td><td>1.0</td><td>4.35</td><td>6.9</td><td></td><td></td><td>Float64</td></tr><tr><th>4</th><td>PetalWidth</td><td>1.19933</td><td>0.1</td><td>1.3</td><td>2.5</td><td></td><td></td><td>Float64</td></tr><tr><th>5</th><td>Species</td><td></td><td>setosa</td><td></td><td>virginica</td><td>3</td><td></td><td>CategoricalValue{String,UInt8}</td></tr></tbody></table>"
      ],
      "text/latex": [
       "\\begin{tabular}{r|cccccccc}\n",
       "\t& variable & mean & min & median & max & nunique & nmissing & eltype\\\\\n",
       "\t\\hline\n",
       "\t& Symbol & Union… & Any & Union… & Any & Union… & Nothing & DataType\\\\\n",
       "\t\\hline\n",
       "\t1 & SepalLength & 5.84333 & 4.3 & 5.8 & 7.9 &  &  & Float64 \\\\\n",
       "\t2 & SepalWidth & 3.05733 & 2.0 & 3.0 & 4.4 &  &  & Float64 \\\\\n",
       "\t3 & PetalLength & 3.758 & 1.0 & 4.35 & 6.9 &  &  & Float64 \\\\\n",
       "\t4 & PetalWidth & 1.19933 & 0.1 & 1.3 & 2.5 &  &  & Float64 \\\\\n",
       "\t5 & Species &  & setosa &  & virginica & 3 &  & CategoricalValue\\{String,UInt8\\} \\\\\n",
       "\\end{tabular}\n"
      ],
      "text/plain": [
       "5×8 DataFrame. Omitted printing of 2 columns\n",
       "│ Row │ variable    │ mean    │ min    │ median │ max       │ nunique │\n",
       "│     │ \u001b[90mSymbol\u001b[39m      │ \u001b[90mUnion…\u001b[39m  │ \u001b[90mAny\u001b[39m    │ \u001b[90mUnion…\u001b[39m │ \u001b[90mAny\u001b[39m       │ \u001b[90mUnion…\u001b[39m  │\n",
       "├─────┼─────────────┼─────────┼────────┼────────┼───────────┼─────────┤\n",
       "│ 1   │ SepalLength │ 5.84333 │ 4.3    │ 5.8    │ 7.9       │         │\n",
       "│ 2   │ SepalWidth  │ 3.05733 │ 2.0    │ 3.0    │ 4.4       │         │\n",
       "│ 3   │ PetalLength │ 3.758   │ 1.0    │ 4.35   │ 6.9       │         │\n",
       "│ 4   │ PetalWidth  │ 1.19933 │ 0.1    │ 1.3    │ 2.5       │         │\n",
       "│ 5   │ Species     │         │ setosa │        │ virginica │ 3       │"
      ]
     },
     "execution_count": 56,
     "metadata": {},
     "output_type": "execute_result"
    }
   ],
   "source": [
    "describe(iris)"
   ]
  },
  {
   "cell_type": "markdown",
   "metadata": {},
   "source": [
    "We'll use the fact that data vectors from the DataFrame can be selected with `mydf.mycol`:"
   ]
  },
  {
   "cell_type": "code",
   "execution_count": 57,
   "metadata": {},
   "outputs": [
    {
     "data": {
      "text/plain": [
       "150-element Array{Float64,1}:\n",
       " 5.1\n",
       " 4.9\n",
       " 4.7\n",
       " 4.6\n",
       " 5.0\n",
       " 5.4\n",
       " 4.6\n",
       " 5.0\n",
       " 4.4\n",
       " 4.9\n",
       " 5.4\n",
       " 4.8\n",
       " 4.8\n",
       " ⋮\n",
       " 6.0\n",
       " 6.9\n",
       " 6.7\n",
       " 6.9\n",
       " 5.8\n",
       " 6.8\n",
       " 6.7\n",
       " 6.7\n",
       " 6.3\n",
       " 6.5\n",
       " 6.2\n",
       " 5.9"
      ]
     },
     "execution_count": 57,
     "metadata": {},
     "output_type": "execute_result"
    }
   ],
   "source": [
    "iris.SepalLength"
   ]
  },
  {
   "cell_type": "markdown",
   "metadata": {},
   "source": [
    "What is the average sepal width across all three species?"
   ]
  },
  {
   "cell_type": "code",
   "execution_count": 58,
   "metadata": {},
   "outputs": [
    {
     "data": {
      "text/plain": [
       "3.0573333333333337"
      ]
     },
     "execution_count": 58,
     "metadata": {},
     "output_type": "execute_result"
    }
   ],
   "source": [
    "mean(iris.SepalWidth)"
   ]
  },
  {
   "cell_type": "markdown",
   "metadata": {},
   "source": [
    "Maximum and minimum?"
   ]
  },
  {
   "cell_type": "code",
   "execution_count": null,
   "metadata": {},
   "outputs": [],
   "source": []
  },
  {
   "cell_type": "code",
   "execution_count": 59,
   "metadata": {},
   "outputs": [
    {
     "name": "stdout",
     "output_type": "stream",
     "text": [
      "minimum(iris.SepalWidth) = 2.0\n",
      "maximum(iris.SepalWidth) = 4.4\n"
     ]
    },
    {
     "data": {
      "text/plain": [
       "(2.0, 4.4)"
      ]
     },
     "execution_count": 59,
     "metadata": {},
     "output_type": "execute_result"
    }
   ],
   "source": [
    "@show minimum(iris.SepalWidth)\n",
    "@show maximum(iris.SepalWidth)\n",
    "extrema(iris.SepalWidth)"
   ]
  },
  {
   "cell_type": "markdown",
   "metadata": {},
   "source": [
    "Is petal width correlated with petal length?"
   ]
  },
  {
   "cell_type": "code",
   "execution_count": 62,
   "metadata": {},
   "outputs": [
    {
     "data": {
      "text/plain": [
       "0.9628654314027961"
      ]
     },
     "execution_count": 62,
     "metadata": {},
     "output_type": "execute_result"
    }
   ],
   "source": [
    "cor(iris.PetalWidth, iris.PetalLength)"
   ]
  },
  {
   "cell_type": "markdown",
   "metadata": {},
   "source": [
    "### More on Missing Values\n",
    "\n",
    "Julia 1.0 and beyond has native support for `missing` values. (Before Julia 1.0, this was done via the DataArrays.jl package.)\n",
    "More information on using arrays with missing values can be found\n",
    "[in the Julia documentation](https://docs.julialang.org/en/v1/manual/missing/#Arrays-With-Missing-Values-1)."
   ]
  },
  {
   "cell_type": "code",
   "execution_count": 63,
   "metadata": {},
   "outputs": [
    {
     "data": {
      "text/plain": [
       "Array{Union{Missing, Int64},1}"
      ]
     },
     "execution_count": 63,
     "metadata": {},
     "output_type": "execute_result"
    }
   ],
   "source": [
    "foods = [\"apple\", \"cucumber\", \"tomato\", \"banana\"]\n",
    "calories = [missing,47,22,105]\n",
    "typeof(calories)"
   ]
  },
  {
   "cell_type": "code",
   "execution_count": 64,
   "metadata": {},
   "outputs": [
    {
     "data": {
      "text/plain": [
       "missing"
      ]
     },
     "execution_count": 64,
     "metadata": {},
     "output_type": "execute_result"
    }
   ],
   "source": [
    "#Pkg.add(\"Statistics\")\n",
    "using Statistics  # julia's standard library for stats\n",
    "mean(calories)"
   ]
  },
  {
   "cell_type": "markdown",
   "metadata": {},
   "source": [
    "Missing values ruin everything! 😑\n",
    "\n",
    "Luckily we can ignore them with `skipmissing`!"
   ]
  },
  {
   "cell_type": "code",
   "execution_count": 65,
   "metadata": {},
   "outputs": [
    {
     "data": {
      "text/plain": [
       "58.0"
      ]
     },
     "execution_count": 65,
     "metadata": {},
     "output_type": "execute_result"
    }
   ],
   "source": [
    "mean(skipmissing(calories))"
   ]
  },
  {
   "cell_type": "code",
   "execution_count": 66,
   "metadata": {},
   "outputs": [
    {
     "data": {
      "text/plain": [
       "4-element Array{Float64,1}:\n",
       " 0.85\n",
       " 1.6\n",
       " 0.8\n",
       " 0.6"
      ]
     },
     "execution_count": 66,
     "metadata": {},
     "output_type": "execute_result"
    }
   ],
   "source": [
    "prices = [0.85,1.6,0.8,0.6,]"
   ]
  },
  {
   "cell_type": "code",
   "execution_count": 67,
   "metadata": {},
   "outputs": [
    {
     "data": {
      "text/html": [
       "<table class=\"data-frame\"><thead><tr><th></th><th>item</th><th>calories</th></tr><tr><th></th><th>String</th><th>Int64?</th></tr></thead><tbody><p>4 rows × 2 columns</p><tr><th>1</th><td>apple</td><td><em>missing</em></td></tr><tr><th>2</th><td>cucumber</td><td>47</td></tr><tr><th>3</th><td>tomato</td><td>22</td></tr><tr><th>4</th><td>banana</td><td>105</td></tr></tbody></table>"
      ],
      "text/latex": [
       "\\begin{tabular}{r|cc}\n",
       "\t& item & calories\\\\\n",
       "\t\\hline\n",
       "\t& String & Int64?\\\\\n",
       "\t\\hline\n",
       "\t1 & apple & \\emph{missing} \\\\\n",
       "\t2 & cucumber & 47 \\\\\n",
       "\t3 & tomato & 22 \\\\\n",
       "\t4 & banana & 105 \\\\\n",
       "\\end{tabular}\n"
      ],
      "text/plain": [
       "4×2 DataFrame\n",
       "│ Row │ item     │ calories │\n",
       "│     │ \u001b[90mString\u001b[39m   │ \u001b[90mInt64?\u001b[39m   │\n",
       "├─────┼──────────┼──────────┤\n",
       "│ 1   │ apple    │ \u001b[90mmissing\u001b[39m  │\n",
       "│ 2   │ cucumber │ 47       │\n",
       "│ 3   │ tomato   │ 22       │\n",
       "│ 4   │ banana   │ 105      │"
      ]
     },
     "execution_count": 67,
     "metadata": {},
     "output_type": "execute_result"
    }
   ],
   "source": [
    "dataframe_calories = DataFrame(item=foods,calories=calories)"
   ]
  },
  {
   "cell_type": "code",
   "execution_count": 68,
   "metadata": {},
   "outputs": [
    {
     "data": {
      "text/html": [
       "<table class=\"data-frame\"><thead><tr><th></th><th>item</th><th>price</th></tr><tr><th></th><th>String</th><th>Float64</th></tr></thead><tbody><p>4 rows × 2 columns</p><tr><th>1</th><td>apple</td><td>0.85</td></tr><tr><th>2</th><td>cucumber</td><td>1.6</td></tr><tr><th>3</th><td>tomato</td><td>0.8</td></tr><tr><th>4</th><td>banana</td><td>0.6</td></tr></tbody></table>"
      ],
      "text/latex": [
       "\\begin{tabular}{r|cc}\n",
       "\t& item & price\\\\\n",
       "\t\\hline\n",
       "\t& String & Float64\\\\\n",
       "\t\\hline\n",
       "\t1 & apple & 0.85 \\\\\n",
       "\t2 & cucumber & 1.6 \\\\\n",
       "\t3 & tomato & 0.8 \\\\\n",
       "\t4 & banana & 0.6 \\\\\n",
       "\\end{tabular}\n"
      ],
      "text/plain": [
       "4×2 DataFrame\n",
       "│ Row │ item     │ price   │\n",
       "│     │ \u001b[90mString\u001b[39m   │ \u001b[90mFloat64\u001b[39m │\n",
       "├─────┼──────────┼─────────┤\n",
       "│ 1   │ apple    │ 0.85    │\n",
       "│ 2   │ cucumber │ 1.6     │\n",
       "│ 3   │ tomato   │ 0.8     │\n",
       "│ 4   │ banana   │ 0.6     │"
      ]
     },
     "execution_count": 68,
     "metadata": {},
     "output_type": "execute_result"
    }
   ],
   "source": [
    "dataframe_prices = DataFrame(item=foods,price=prices)"
   ]
  },
  {
   "cell_type": "markdown",
   "metadata": {},
   "source": [
    "We can also `join` two dataframes together"
   ]
  },
  {
   "cell_type": "code",
   "execution_count": 69,
   "metadata": {},
   "outputs": [
    {
     "data": {
      "text/html": [
       "<table class=\"data-frame\"><thead><tr><th></th><th>item</th><th>calories</th><th>price</th></tr><tr><th></th><th>String</th><th>Int64?</th><th>Float64</th></tr></thead><tbody><p>4 rows × 3 columns</p><tr><th>1</th><td>apple</td><td><em>missing</em></td><td>0.85</td></tr><tr><th>2</th><td>cucumber</td><td>47</td><td>1.6</td></tr><tr><th>3</th><td>tomato</td><td>22</td><td>0.8</td></tr><tr><th>4</th><td>banana</td><td>105</td><td>0.6</td></tr></tbody></table>"
      ],
      "text/latex": [
       "\\begin{tabular}{r|ccc}\n",
       "\t& item & calories & price\\\\\n",
       "\t\\hline\n",
       "\t& String & Int64? & Float64\\\\\n",
       "\t\\hline\n",
       "\t1 & apple & \\emph{missing} & 0.85 \\\\\n",
       "\t2 & cucumber & 47 & 1.6 \\\\\n",
       "\t3 & tomato & 22 & 0.8 \\\\\n",
       "\t4 & banana & 105 & 0.6 \\\\\n",
       "\\end{tabular}\n"
      ],
      "text/plain": [
       "4×3 DataFrame\n",
       "│ Row │ item     │ calories │ price   │\n",
       "│     │ \u001b[90mString\u001b[39m   │ \u001b[90mInt64?\u001b[39m   │ \u001b[90mFloat64\u001b[39m │\n",
       "├─────┼──────────┼──────────┼─────────┤\n",
       "│ 1   │ apple    │ \u001b[90mmissing\u001b[39m  │ 0.85    │\n",
       "│ 2   │ cucumber │ 47       │ 1.6     │\n",
       "│ 3   │ tomato   │ 22       │ 0.8     │\n",
       "│ 4   │ banana   │ 105      │ 0.6     │"
      ]
     },
     "execution_count": 69,
     "metadata": {},
     "output_type": "execute_result"
    }
   ],
   "source": [
    "DF = innerjoin(dataframe_calories,dataframe_prices,on=:item)"
   ]
  },
  {
   "cell_type": "markdown",
   "metadata": {},
   "source": [
    "### FileIO"
   ]
  },
  {
   "cell_type": "code",
   "execution_count": 71,
   "metadata": {},
   "outputs": [
    {
     "name": "stderr",
     "output_type": "stream",
     "text": [
      "\u001b[32m\u001b[1m  Resolving\u001b[22m\u001b[39m package versions...\n",
      "\u001b[32m\u001b[1m   Updating\u001b[22m\u001b[39m `C:\\Users\\Victor\\.julia\\environments\\v1.4\\Project.toml`\n",
      " \u001b[90m [5789e2e9]\u001b[39m\u001b[92m + FileIO v1.3.0\u001b[39m\n",
      "\u001b[32m\u001b[1m   Updating\u001b[22m\u001b[39m `C:\\Users\\Victor\\.julia\\environments\\v1.4\\Manifest.toml`\n",
      "\u001b[90m [no changes]\u001b[39m\n"
     ]
    },
    {
     "data": {
      "text/plain": [
       "\"julialogo.png\""
      ]
     },
     "execution_count": 71,
     "metadata": {},
     "output_type": "execute_result"
    }
   ],
   "source": [
    "Pkg.add(\"FileIO\")\n",
    "using FileIO\n",
    "julialogo = download(\"https://avatars0.githubusercontent.com/u/743164?s=200&v=4\",\"julialogo.png\")"
   ]
  },
  {
   "cell_type": "markdown",
   "metadata": {},
   "source": [
    "Let's check that this download worked!"
   ]
  },
  {
   "cell_type": "code",
   "execution_count": 73,
   "metadata": {},
   "outputs": [
    {
     "name": "stdout",
     "output_type": "stream",
     "text": [
      "search: \u001b[0m\u001b[1mr\u001b[22m\u001b[0m\u001b[1me\u001b[22m\u001b[0m\u001b[1ma\u001b[22m\u001b[0m\u001b[1md\u001b[22m\u001b[0m\u001b[1md\u001b[22m\u001b[0m\u001b[1mi\u001b[22m\u001b[0m\u001b[1mr\u001b[22m\n",
      "\n"
     ]
    },
    {
     "data": {
      "text/latex": [
       "\\begin{verbatim}\n",
       "readdir(dir::AbstractString=pwd();\n",
       "    join::Bool = false,\n",
       "    sort::Bool = true,\n",
       ") -> Vector{String}\n",
       "\\end{verbatim}\n",
       "Return the names in the directory \\texttt{dir} or the current working directory if not given. When \\texttt{join} is false, \\texttt{readdir} returns just the names in the directory as is; when \\texttt{join} is true, it returns \\texttt{joinpath(dir, name)} for each \\texttt{name} so that the returned strings are full paths. If you want to get absolute paths back, call \\texttt{readdir} with an absolute directory path and \\texttt{join} set to true.\n",
       "\n",
       "By default, \\texttt{readdir} sorts the list of names it returns. If you want to skip sorting the names and get them in the order that the file system lists them, you can use \\texttt{readir(dir, sort=false)} to opt out of sorting.\n",
       "\n",
       "\\begin{quote}\n",
       "\\textbf{compat}\n",
       "\n",
       "Julia 1.4\n",
       "\n",
       "The \\texttt{join} and \\texttt{sort} keyword arguments require at least Julia 1.4.\n",
       "\n",
       "\\end{quote}\n",
       "\\section{Examples}\n",
       "\\begin{verbatim}\n",
       "julia> cd(\"/home/JuliaUser/dev/julia\")\n",
       "\n",
       "julia> readdir()\n",
       "30-element Array{String,1}:\n",
       " \".appveyor.yml\"\n",
       " \".git\"\n",
       " \".gitattributes\"\n",
       " ⋮\n",
       " \"ui\"\n",
       " \"usr\"\n",
       " \"usr-staging\"\n",
       "\n",
       "julia> readdir(join=true)\n",
       "30-element Array{String,1}:\n",
       " \"/home/JuliaUser/dev/julia/.appveyor.yml\"\n",
       " \"/home/JuliaUser/dev/julia/.git\"\n",
       " \"/home/JuliaUser/dev/julia/.gitattributes\"\n",
       " ⋮\n",
       " \"/home/JuliaUser/dev/julia/ui\"\n",
       " \"/home/JuliaUser/dev/julia/usr\"\n",
       " \"/home/JuliaUser/dev/julia/usr-staging\"\n",
       "\n",
       "julia> readdir(\"base\")\n",
       "145-element Array{String,1}:\n",
       " \".gitignore\"\n",
       " \"Base.jl\"\n",
       " \"Enums.jl\"\n",
       " ⋮\n",
       " \"version_git.sh\"\n",
       " \"views.jl\"\n",
       " \"weakkeydict.jl\"\n",
       "\n",
       "julia> readdir(\"base\", join=true)\n",
       "145-element Array{String,1}:\n",
       " \"base/.gitignore\"\n",
       " \"base/Base.jl\"\n",
       " \"base/Enums.jl\"\n",
       " ⋮\n",
       " \"base/version_git.sh\"\n",
       " \"base/views.jl\"\n",
       " \"base/weakkeydict.jl\"```\n",
       "\n",
       "julia> readdir(abspath(\"base\"), join=true)\n",
       "145-element Array{String,1}:\n",
       " \"/home/JuliaUser/dev/julia/base/.gitignore\"\n",
       " \"/home/JuliaUser/dev/julia/base/Base.jl\"\n",
       " \"/home/JuliaUser/dev/julia/base/Enums.jl\"\n",
       " ⋮\n",
       " \"/home/JuliaUser/dev/julia/base/version_git.sh\"\n",
       " \"/home/JuliaUser/dev/julia/base/views.jl\"\n",
       " \"/home/JuliaUser/dev/julia/base/weakkeydict.jl\"\n",
       "\\end{verbatim}\n"
      ],
      "text/markdown": [
       "```\n",
       "readdir(dir::AbstractString=pwd();\n",
       "    join::Bool = false,\n",
       "    sort::Bool = true,\n",
       ") -> Vector{String}\n",
       "```\n",
       "\n",
       "Return the names in the directory `dir` or the current working directory if not given. When `join` is false, `readdir` returns just the names in the directory as is; when `join` is true, it returns `joinpath(dir, name)` for each `name` so that the returned strings are full paths. If you want to get absolute paths back, call `readdir` with an absolute directory path and `join` set to true.\n",
       "\n",
       "By default, `readdir` sorts the list of names it returns. If you want to skip sorting the names and get them in the order that the file system lists them, you can use `readir(dir, sort=false)` to opt out of sorting.\n",
       "\n",
       "!!! compat \"Julia 1.4\"\n",
       "    The `join` and `sort` keyword arguments require at least Julia 1.4.\n",
       "\n",
       "\n",
       "# Examples\n",
       "\n",
       "```julia-repl\n",
       "julia> cd(\"/home/JuliaUser/dev/julia\")\n",
       "\n",
       "julia> readdir()\n",
       "30-element Array{String,1}:\n",
       " \".appveyor.yml\"\n",
       " \".git\"\n",
       " \".gitattributes\"\n",
       " ⋮\n",
       " \"ui\"\n",
       " \"usr\"\n",
       " \"usr-staging\"\n",
       "\n",
       "julia> readdir(join=true)\n",
       "30-element Array{String,1}:\n",
       " \"/home/JuliaUser/dev/julia/.appveyor.yml\"\n",
       " \"/home/JuliaUser/dev/julia/.git\"\n",
       " \"/home/JuliaUser/dev/julia/.gitattributes\"\n",
       " ⋮\n",
       " \"/home/JuliaUser/dev/julia/ui\"\n",
       " \"/home/JuliaUser/dev/julia/usr\"\n",
       " \"/home/JuliaUser/dev/julia/usr-staging\"\n",
       "\n",
       "julia> readdir(\"base\")\n",
       "145-element Array{String,1}:\n",
       " \".gitignore\"\n",
       " \"Base.jl\"\n",
       " \"Enums.jl\"\n",
       " ⋮\n",
       " \"version_git.sh\"\n",
       " \"views.jl\"\n",
       " \"weakkeydict.jl\"\n",
       "\n",
       "julia> readdir(\"base\", join=true)\n",
       "145-element Array{String,1}:\n",
       " \"base/.gitignore\"\n",
       " \"base/Base.jl\"\n",
       " \"base/Enums.jl\"\n",
       " ⋮\n",
       " \"base/version_git.sh\"\n",
       " \"base/views.jl\"\n",
       " \"base/weakkeydict.jl\"```\n",
       "\n",
       "julia> readdir(abspath(\"base\"), join=true)\n",
       "145-element Array{String,1}:\n",
       " \"/home/JuliaUser/dev/julia/base/.gitignore\"\n",
       " \"/home/JuliaUser/dev/julia/base/Base.jl\"\n",
       " \"/home/JuliaUser/dev/julia/base/Enums.jl\"\n",
       " ⋮\n",
       " \"/home/JuliaUser/dev/julia/base/version_git.sh\"\n",
       " \"/home/JuliaUser/dev/julia/base/views.jl\"\n",
       " \"/home/JuliaUser/dev/julia/base/weakkeydict.jl\"\n",
       "```\n"
      ],
      "text/plain": [
       "\u001b[36m  readdir(dir::AbstractString=pwd();\u001b[39m\n",
       "\u001b[36m      join::Bool = false,\u001b[39m\n",
       "\u001b[36m      sort::Bool = true,\u001b[39m\n",
       "\u001b[36m  ) -> Vector{String}\u001b[39m\n",
       "\n",
       "  Return the names in the directory \u001b[36mdir\u001b[39m or the current working directory if\n",
       "  not given. When \u001b[36mjoin\u001b[39m is false, \u001b[36mreaddir\u001b[39m returns just the names in the\n",
       "  directory as is; when \u001b[36mjoin\u001b[39m is true, it returns \u001b[36mjoinpath(dir, name)\u001b[39m for each\n",
       "  \u001b[36mname\u001b[39m so that the returned strings are full paths. If you want to get\n",
       "  absolute paths back, call \u001b[36mreaddir\u001b[39m with an absolute directory path and \u001b[36mjoin\u001b[39m\n",
       "  set to true.\n",
       "\n",
       "  By default, \u001b[36mreaddir\u001b[39m sorts the list of names it returns. If you want to skip\n",
       "  sorting the names and get them in the order that the file system lists them,\n",
       "  you can use \u001b[36mreadir(dir, sort=false)\u001b[39m to opt out of sorting.\n",
       "\n",
       "\u001b[39m\u001b[1m  │ \u001b[22m\u001b[39m\u001b[1mJulia 1.4\u001b[22m\n",
       "\u001b[39m\u001b[1m  │\u001b[22m\n",
       "\u001b[39m\u001b[1m  │\u001b[22m  The \u001b[36mjoin\u001b[39m and \u001b[36msort\u001b[39m keyword arguments require at least Julia 1.4.\n",
       "\n",
       "\u001b[1m  Examples\u001b[22m\n",
       "\u001b[1m  ≡≡≡≡≡≡≡≡≡≡\u001b[22m\n",
       "\n",
       "\u001b[36m  julia> cd(\"/home/JuliaUser/dev/julia\")\u001b[39m\n",
       "\u001b[36m  \u001b[39m\n",
       "\u001b[36m  julia> readdir()\u001b[39m\n",
       "\u001b[36m  30-element Array{String,1}:\u001b[39m\n",
       "\u001b[36m   \".appveyor.yml\"\u001b[39m\n",
       "\u001b[36m   \".git\"\u001b[39m\n",
       "\u001b[36m   \".gitattributes\"\u001b[39m\n",
       "\u001b[36m   ⋮\u001b[39m\n",
       "\u001b[36m   \"ui\"\u001b[39m\n",
       "\u001b[36m   \"usr\"\u001b[39m\n",
       "\u001b[36m   \"usr-staging\"\u001b[39m\n",
       "\u001b[36m  \u001b[39m\n",
       "\u001b[36m  julia> readdir(join=true)\u001b[39m\n",
       "\u001b[36m  30-element Array{String,1}:\u001b[39m\n",
       "\u001b[36m   \"/home/JuliaUser/dev/julia/.appveyor.yml\"\u001b[39m\n",
       "\u001b[36m   \"/home/JuliaUser/dev/julia/.git\"\u001b[39m\n",
       "\u001b[36m   \"/home/JuliaUser/dev/julia/.gitattributes\"\u001b[39m\n",
       "\u001b[36m   ⋮\u001b[39m\n",
       "\u001b[36m   \"/home/JuliaUser/dev/julia/ui\"\u001b[39m\n",
       "\u001b[36m   \"/home/JuliaUser/dev/julia/usr\"\u001b[39m\n",
       "\u001b[36m   \"/home/JuliaUser/dev/julia/usr-staging\"\u001b[39m\n",
       "\u001b[36m  \u001b[39m\n",
       "\u001b[36m  julia> readdir(\"base\")\u001b[39m\n",
       "\u001b[36m  145-element Array{String,1}:\u001b[39m\n",
       "\u001b[36m   \".gitignore\"\u001b[39m\n",
       "\u001b[36m   \"Base.jl\"\u001b[39m\n",
       "\u001b[36m   \"Enums.jl\"\u001b[39m\n",
       "\u001b[36m   ⋮\u001b[39m\n",
       "\u001b[36m   \"version_git.sh\"\u001b[39m\n",
       "\u001b[36m   \"views.jl\"\u001b[39m\n",
       "\u001b[36m   \"weakkeydict.jl\"\u001b[39m\n",
       "\u001b[36m  \u001b[39m\n",
       "\u001b[36m  julia> readdir(\"base\", join=true)\u001b[39m\n",
       "\u001b[36m  145-element Array{String,1}:\u001b[39m\n",
       "\u001b[36m   \"base/.gitignore\"\u001b[39m\n",
       "\u001b[36m   \"base/Base.jl\"\u001b[39m\n",
       "\u001b[36m   \"base/Enums.jl\"\u001b[39m\n",
       "\u001b[36m   ⋮\u001b[39m\n",
       "\u001b[36m   \"base/version_git.sh\"\u001b[39m\n",
       "\u001b[36m   \"base/views.jl\"\u001b[39m\n",
       "\u001b[36m   \"base/weakkeydict.jl\"```\u001b[39m\n",
       "\u001b[36m  \u001b[39m\n",
       "\u001b[36m  julia> readdir(abspath(\"base\"), join=true)\u001b[39m\n",
       "\u001b[36m  145-element Array{String,1}:\u001b[39m\n",
       "\u001b[36m   \"/home/JuliaUser/dev/julia/base/.gitignore\"\u001b[39m\n",
       "\u001b[36m   \"/home/JuliaUser/dev/julia/base/Base.jl\"\u001b[39m\n",
       "\u001b[36m   \"/home/JuliaUser/dev/julia/base/Enums.jl\"\u001b[39m\n",
       "\u001b[36m   ⋮\u001b[39m\n",
       "\u001b[36m   \"/home/JuliaUser/dev/julia/base/version_git.sh\"\u001b[39m\n",
       "\u001b[36m   \"/home/JuliaUser/dev/julia/base/views.jl\"\u001b[39m\n",
       "\u001b[36m   \"/home/JuliaUser/dev/julia/base/weakkeydict.jl\"\u001b[39m"
      ]
     },
     "execution_count": 73,
     "metadata": {},
     "output_type": "execute_result"
    }
   ],
   "source": [
    "?readdir"
   ]
  },
  {
   "cell_type": "code",
   "execution_count": null,
   "metadata": {},
   "outputs": [],
   "source": []
  },
  {
   "cell_type": "markdown",
   "metadata": {},
   "source": [
    "Next, let's load the Julia logo, stored as a .png file\n",
    "\n",
    "**NOTE: You may see errors below, that certain Image packages could not be found. If so:**\n",
    " - This is because these packages are specific to your OS, so aren't installed by default.\n",
    " - Simply run the suggested commands to install the packages, then try again. "
   ]
  },
  {
   "cell_type": "code",
   "execution_count": 78,
   "metadata": {},
   "outputs": [
    {
     "name": "stderr",
     "output_type": "stream",
     "text": [
      "\u001b[32m\u001b[1m  Resolving\u001b[22m\u001b[39m package versions...\n",
      "\u001b[32m\u001b[1m  Installed\u001b[22m\u001b[39m QuartzImageIO ──── v0.6.0\n",
      "\u001b[32m\u001b[1m  Installed\u001b[22m\u001b[39m MappedArrays ───── v0.2.2\n",
      "\u001b[32m\u001b[1m  Installed\u001b[22m\u001b[39m MosaicViews ────── v0.2.2\n",
      "\u001b[32m\u001b[1m  Installed\u001b[22m\u001b[39m ColorVectorSpace ─ v0.8.5\n",
      "\u001b[32m\u001b[1m  Installed\u001b[22m\u001b[39m PaddedViews ────── v0.5.5\n",
      "\u001b[32m\u001b[1m  Installed\u001b[22m\u001b[39m OffsetArrays ───── v1.1.0\n",
      "\u001b[32m\u001b[1m  Installed\u001b[22m\u001b[39m Graphics ───────── v1.0.2\n",
      "┌ Info: Replacing symlinks in tarball by their source files ...\n",
      "│ \"JuliaImages-ImageCore.jl-a652c05\\\\docs\\\\src\\\\LICENSE.md\" => \"JuliaImages-ImageCore.jl-a652c05\\\\docs\\\\src\\\\../../LICENSE.md\"\n",
      "└ @ Pkg.PlatformEngines D:\\buildbot\\worker\\package_win64\\build\\usr\\share\\julia\\stdlib\\v1.4\\Pkg\\src\\PlatformEngines.jl:1027\n",
      "\u001b[32m\u001b[1m  Installed\u001b[22m\u001b[39m ImageCore ──────── v0.8.14\n",
      "\u001b[32m\u001b[1m   Updating\u001b[22m\u001b[39m `C:\\Users\\Victor\\.julia\\environments\\v1.4\\Project.toml`\n",
      " \u001b[90m [dca85d43]\u001b[39m\u001b[92m + QuartzImageIO v0.6.0\u001b[39m\n",
      "\u001b[32m\u001b[1m   Updating\u001b[22m\u001b[39m `C:\\Users\\Victor\\.julia\\environments\\v1.4\\Manifest.toml`\n",
      " \u001b[90m [c3611d14]\u001b[39m\u001b[92m + ColorVectorSpace v0.8.5\u001b[39m\n",
      " \u001b[90m [a2bd30eb]\u001b[39m\u001b[92m + Graphics v1.0.2\u001b[39m\n",
      " \u001b[90m [a09fc81d]\u001b[39m\u001b[92m + ImageCore v0.8.14\u001b[39m\n",
      " \u001b[90m [dbb5928d]\u001b[39m\u001b[92m + MappedArrays v0.2.2\u001b[39m\n",
      " \u001b[90m [e94cdb99]\u001b[39m\u001b[92m + MosaicViews v0.2.2\u001b[39m\n",
      " \u001b[90m [6fe1bfb0]\u001b[39m\u001b[92m + OffsetArrays v1.1.0\u001b[39m\n",
      " \u001b[90m [5432bcbf]\u001b[39m\u001b[92m + PaddedViews v0.5.5\u001b[39m\n",
      " \u001b[90m [dca85d43]\u001b[39m\u001b[92m + QuartzImageIO v0.6.0\u001b[39m\n",
      "\u001b[32m\u001b[1m  Resolving\u001b[22m\u001b[39m package versions...\n",
      "\u001b[32m\u001b[1m  Installed\u001b[22m\u001b[39m libpng_jll ────── v1.6.37+3\n",
      "\u001b[32m\u001b[1m  Installed\u001b[22m\u001b[39m Zstd_jll ──────── v1.4.5+0\n",
      "\u001b[32m\u001b[1m  Installed\u001b[22m\u001b[39m ImageMagick ───── v1.1.5\n",
      "\u001b[32m\u001b[1m  Installed\u001b[22m\u001b[39m JpegTurbo_jll ─── v2.0.1+0\n",
      "\u001b[32m\u001b[1m  Installed\u001b[22m\u001b[39m Libtiff_jll ───── v4.1.0+0\n",
      "\u001b[32m\u001b[1m  Installed\u001b[22m\u001b[39m ImageMagick_jll ─ v6.9.10-12+3\n",
      "\u001b[32m\u001b[1m   Updating\u001b[22m\u001b[39m `C:\\Users\\Victor\\.julia\\environments\\v1.4\\Project.toml`\n",
      " \u001b[90m [6218d12a]\u001b[39m\u001b[92m + ImageMagick v1.1.5\u001b[39m\n",
      "\u001b[32m\u001b[1m   Updating\u001b[22m\u001b[39m `C:\\Users\\Victor\\.julia\\environments\\v1.4\\Manifest.toml`\n",
      " \u001b[90m [6218d12a]\u001b[39m\u001b[92m + ImageMagick v1.1.5\u001b[39m\n",
      " \u001b[90m [c73af94c]\u001b[39m\u001b[92m + ImageMagick_jll v6.9.10-12+3\u001b[39m\n",
      " \u001b[90m [aacddb02]\u001b[39m\u001b[92m + JpegTurbo_jll v2.0.1+0\u001b[39m\n",
      " \u001b[90m [89763e89]\u001b[39m\u001b[92m + Libtiff_jll v4.1.0+0\u001b[39m\n",
      " \u001b[90m [3161d3a3]\u001b[39m\u001b[92m + Zstd_jll v1.4.5+0\u001b[39m\n",
      " \u001b[90m [b53b4c65]\u001b[39m\u001b[92m + libpng_jll v1.6.37+3\u001b[39m\n"
     ]
    }
   ],
   "source": [
    "# These commands may vary depending on your operating system.\n",
    "import Pkg; Pkg.add(\"QuartzImageIO\")\n",
    "import Pkg; Pkg.add(\"ImageMagick\")"
   ]
  },
  {
   "cell_type": "code",
   "execution_count": 79,
   "metadata": {},
   "outputs": [
    {
     "name": "stderr",
     "output_type": "stream",
     "text": [
      "┌ Info: Precompiling ImageMagick [6218d12a-5da1-5696-b52f-db25d2ecc6d1]\n",
      "└ @ Base loading.jl:1260\n"
     ]
    },
    {
     "data": {
      "text/plain": [
       "200×200 Array{RGBA{N0f8},2} with eltype ColorTypes.RGBA{FixedPointNumbers.Normed{UInt8,8}}:\n",
       " RGBA{N0f8}(0.0,0.0,0.0,0.0)  …  RGBA{N0f8}(0.0,0.0,0.0,0.0)\n",
       " RGBA{N0f8}(0.0,0.0,0.0,0.0)     RGBA{N0f8}(0.0,0.0,0.0,0.0)\n",
       " RGBA{N0f8}(0.0,0.0,0.0,0.0)     RGBA{N0f8}(0.0,0.0,0.0,0.0)\n",
       " RGBA{N0f8}(0.0,0.0,0.0,0.0)     RGBA{N0f8}(0.0,0.0,0.0,0.0)\n",
       " RGBA{N0f8}(0.0,0.0,0.0,0.0)     RGBA{N0f8}(0.0,0.0,0.0,0.0)\n",
       " RGBA{N0f8}(0.0,0.0,0.0,0.0)  …  RGBA{N0f8}(0.0,0.0,0.0,0.0)\n",
       " RGBA{N0f8}(0.0,0.0,0.0,0.0)     RGBA{N0f8}(0.0,0.0,0.0,0.0)\n",
       " RGBA{N0f8}(0.0,0.0,0.0,0.0)     RGBA{N0f8}(0.0,0.0,0.0,0.0)\n",
       " RGBA{N0f8}(0.0,0.0,0.0,0.0)     RGBA{N0f8}(0.0,0.0,0.0,0.0)\n",
       " RGBA{N0f8}(0.0,0.0,0.0,0.0)     RGBA{N0f8}(0.0,0.0,0.0,0.0)\n",
       " RGBA{N0f8}(0.0,0.0,0.0,0.0)  …  RGBA{N0f8}(0.0,0.0,0.0,0.0)\n",
       " RGBA{N0f8}(0.0,0.0,0.0,0.0)     RGBA{N0f8}(0.0,0.0,0.0,0.0)\n",
       " RGBA{N0f8}(0.0,0.0,0.0,0.0)     RGBA{N0f8}(0.0,0.0,0.0,0.0)\n",
       " ⋮                            ⋱  \n",
       " RGBA{N0f8}(0.0,0.0,0.0,0.0)     RGBA{N0f8}(0.0,0.0,0.0,0.0)\n",
       " RGBA{N0f8}(0.0,0.0,0.0,0.0)     RGBA{N0f8}(0.0,0.0,0.0,0.0)\n",
       " RGBA{N0f8}(0.0,0.0,0.0,0.0)  …  RGBA{N0f8}(0.0,0.0,0.0,0.0)\n",
       " RGBA{N0f8}(0.0,0.0,0.0,0.0)     RGBA{N0f8}(0.0,0.0,0.0,0.0)\n",
       " RGBA{N0f8}(0.0,0.0,0.0,0.0)     RGBA{N0f8}(0.0,0.0,0.0,0.0)\n",
       " RGBA{N0f8}(0.0,0.0,0.0,0.0)     RGBA{N0f8}(0.0,0.0,0.0,0.0)\n",
       " RGBA{N0f8}(0.0,0.0,0.0,0.0)     RGBA{N0f8}(0.0,0.0,0.0,0.0)\n",
       " RGBA{N0f8}(0.0,0.0,0.0,0.0)  …  RGBA{N0f8}(0.0,0.0,0.0,0.0)\n",
       " RGBA{N0f8}(0.0,0.0,0.0,0.0)     RGBA{N0f8}(0.0,0.0,0.0,0.0)\n",
       " RGBA{N0f8}(0.0,0.0,0.0,0.0)     RGBA{N0f8}(0.0,0.0,0.0,0.0)\n",
       " RGBA{N0f8}(0.0,0.0,0.0,0.0)     RGBA{N0f8}(0.0,0.0,0.0,0.0)\n",
       " RGBA{N0f8}(0.0,0.0,0.0,0.0)     RGBA{N0f8}(0.0,0.0,0.0,0.0)"
      ]
     },
     "execution_count": 79,
     "metadata": {},
     "output_type": "execute_result"
    }
   ],
   "source": [
    "X1 = load(\"julialogo.png\")"
   ]
  },
  {
   "cell_type": "markdown",
   "metadata": {},
   "source": [
    "We see here that Julia stores this logo as an array of colors."
   ]
  },
  {
   "cell_type": "code",
   "execution_count": 80,
   "metadata": {},
   "outputs": [
    {
     "name": "stdout",
     "output_type": "stream",
     "text": [
      "typeof(X1) = Array{ColorTypes.RGBA{FixedPointNumbers.Normed{UInt8,8}},2}\n",
      "size(X1) = (200, 200)\n"
     ]
    }
   ],
   "source": [
    "@show typeof(X1);\n",
    "@show size(X1);"
   ]
  },
  {
   "cell_type": "markdown",
   "metadata": {},
   "source": [
    "And if we load the Images package, it will display in Jupyter as an image:"
   ]
  },
  {
   "cell_type": "code",
   "execution_count": 81,
   "metadata": {},
   "outputs": [
    {
     "name": "stderr",
     "output_type": "stream",
     "text": [
      "\u001b[32m\u001b[1m  Resolving\u001b[22m\u001b[39m package versions...\n",
      "\u001b[32m\u001b[1m  Installed\u001b[22m\u001b[39m WoodburyMatrices ────────── v0.5.2\n",
      "\u001b[32m\u001b[1m  Installed\u001b[22m\u001b[39m Images ──────────────────── v0.22.4\n",
      "\u001b[32m\u001b[1m  Installed\u001b[22m\u001b[39m UnPack ──────────────────── v1.0.1\n",
      "\u001b[32m\u001b[1m  Installed\u001b[22m\u001b[39m Ratios ──────────────────── v0.4.0\n",
      "\u001b[32m\u001b[1m  Installed\u001b[22m\u001b[39m IndirectArrays ──────────── v0.5.1\n",
      "\u001b[32m\u001b[1m  Installed\u001b[22m\u001b[39m MKL_jll ─────────────────── v2020.1.216+0\n",
      "\u001b[32m\u001b[1m  Installed\u001b[22m\u001b[39m ImageAxes ───────────────── v0.6.4\n",
      "\u001b[32m\u001b[1m  Installed\u001b[22m\u001b[39m CustomUnitRanges ────────── v1.0.0\n",
      "\u001b[32m\u001b[1m  Installed\u001b[22m\u001b[39m RangeArrays ─────────────── v0.3.2\n",
      "\u001b[32m\u001b[1m  Installed\u001b[22m\u001b[39m FFTW_jll ────────────────── v3.3.9+5\n",
      "\u001b[32m\u001b[1m  Installed\u001b[22m\u001b[39m CatIndices ──────────────── v0.2.1\n",
      "\u001b[32m\u001b[1m  Installed\u001b[22m\u001b[39m AxisArrays ──────────────── v0.4.3\n",
      "\u001b[32m\u001b[1m  Installed\u001b[22m\u001b[39m Parameters ──────────────── v0.12.1\n",
      "\u001b[32m\u001b[1m  Installed\u001b[22m\u001b[39m ImageMorphology ─────────── v0.2.7\n",
      "\u001b[32m\u001b[1m  Installed\u001b[22m\u001b[39m Interpolations ──────────── v0.12.10\n",
      "\u001b[32m\u001b[1m  Installed\u001b[22m\u001b[39m EllipsisNotation ────────── v0.4.0\n",
      "\u001b[32m\u001b[1m  Installed\u001b[22m\u001b[39m IdentityRanges ──────────── v0.3.1\n",
      "\u001b[32m\u001b[1m  Installed\u001b[22m\u001b[39m ImageShow ───────────────── v0.2.3\n",
      "\u001b[32m\u001b[1m  Installed\u001b[22m\u001b[39m ComputationalResources ──── v0.3.2\n",
      "\u001b[32m\u001b[1m  Installed\u001b[22m\u001b[39m AxisAlgorithms ──────────── v1.0.0\n",
      "\u001b[32m\u001b[1m  Installed\u001b[22m\u001b[39m IterTools ───────────────── v1.3.0\n",
      "\u001b[32m\u001b[1m  Installed\u001b[22m\u001b[39m CoordinateTransformations ─ v0.6.0\n",
      "\u001b[32m\u001b[1m  Installed\u001b[22m\u001b[39m SimpleTraits ────────────── v0.9.2\n",
      "\u001b[32m\u001b[1m  Installed\u001b[22m\u001b[39m ImageTransformations ────── v0.8.5\n",
      "\u001b[32m\u001b[1m  Installed\u001b[22m\u001b[39m FFTViews ────────────────── v0.3.1\n",
      "\u001b[32m\u001b[1m  Installed\u001b[22m\u001b[39m AbstractFFTs ────────────── v0.5.0\n",
      "\u001b[32m\u001b[1m  Installed\u001b[22m\u001b[39m ImageDistances ──────────── v0.2.7\n",
      "\u001b[32m\u001b[1m  Installed\u001b[22m\u001b[39m ImageQualityIndexes ─────── v0.1.4\n",
      "\u001b[32m\u001b[1m  Installed\u001b[22m\u001b[39m Rotations ───────────────── v1.0.1\n",
      "\u001b[32m\u001b[1m  Installed\u001b[22m\u001b[39m TiledIteration ──────────── v0.2.4\n",
      "\u001b[32m\u001b[1m  Installed\u001b[22m\u001b[39m ImageMetadata ───────────── v0.9.1\n",
      "\u001b[32m\u001b[1m  Installed\u001b[22m\u001b[39m Distances ───────────────── v0.8.2\n",
      "\u001b[32m\u001b[1m  Installed\u001b[22m\u001b[39m IntelOpenMP_jll ─────────── v2018.0.3+0\n",
      "\u001b[32m\u001b[1m  Installed\u001b[22m\u001b[39m IntervalSets ────────────── v0.5.1\n",
      "\u001b[32m\u001b[1m  Installed\u001b[22m\u001b[39m FFTW ────────────────────── v1.2.2\n",
      "\u001b[32m\u001b[1m  Installed\u001b[22m\u001b[39m ImageFiltering ──────────── v0.6.13\n",
      "\u001b[32m\u001b[1m  Installed\u001b[22m\u001b[39m ImageContrastAdjustment ─── v0.3.5\n",
      "\u001b[32m\u001b[1m   Updating\u001b[22m\u001b[39m `C:\\Users\\Victor\\.julia\\environments\\v1.4\\Project.toml`\n",
      " \u001b[90m [916415d5]\u001b[39m\u001b[92m + Images v0.22.4\u001b[39m\n",
      "\u001b[32m\u001b[1m   Updating\u001b[22m\u001b[39m `C:\\Users\\Victor\\.julia\\environments\\v1.4\\Manifest.toml`\n",
      " \u001b[90m [621f4979]\u001b[39m\u001b[92m + AbstractFFTs v0.5.0\u001b[39m\n",
      " \u001b[90m [13072b0f]\u001b[39m\u001b[92m + AxisAlgorithms v1.0.0\u001b[39m\n",
      " \u001b[90m [39de3d68]\u001b[39m\u001b[92m + AxisArrays v0.4.3\u001b[39m\n",
      " \u001b[90m [aafaddc9]\u001b[39m\u001b[92m + CatIndices v0.2.1\u001b[39m\n",
      " \u001b[90m [ed09eef8]\u001b[39m\u001b[92m + ComputationalResources v0.3.2\u001b[39m\n",
      " \u001b[90m [150eb455]\u001b[39m\u001b[92m + CoordinateTransformations v0.6.0\u001b[39m\n",
      " \u001b[90m [dc8bdbbb]\u001b[39m\u001b[92m + CustomUnitRanges v1.0.0\u001b[39m\n",
      " \u001b[90m [b4f34e82]\u001b[39m\u001b[92m + Distances v0.8.2\u001b[39m\n",
      " \u001b[90m [da5c29d0]\u001b[39m\u001b[92m + EllipsisNotation v0.4.0\u001b[39m\n",
      " \u001b[90m [4f61f5a4]\u001b[39m\u001b[92m + FFTViews v0.3.1\u001b[39m\n",
      " \u001b[90m [7a1cc6ca]\u001b[39m\u001b[92m + FFTW v1.2.2\u001b[39m\n",
      " \u001b[90m [f5851436]\u001b[39m\u001b[92m + FFTW_jll v3.3.9+5\u001b[39m\n",
      " \u001b[90m [bbac6d45]\u001b[39m\u001b[92m + IdentityRanges v0.3.1\u001b[39m\n",
      " \u001b[90m [2803e5a7]\u001b[39m\u001b[92m + ImageAxes v0.6.4\u001b[39m\n",
      " \u001b[90m [f332f351]\u001b[39m\u001b[92m + ImageContrastAdjustment v0.3.5\u001b[39m\n",
      " \u001b[90m [51556ac3]\u001b[39m\u001b[92m + ImageDistances v0.2.7\u001b[39m\n",
      " \u001b[90m [6a3955dd]\u001b[39m\u001b[92m + ImageFiltering v0.6.13\u001b[39m\n",
      " \u001b[90m [bc367c6b]\u001b[39m\u001b[92m + ImageMetadata v0.9.1\u001b[39m\n",
      " \u001b[90m [787d08f9]\u001b[39m\u001b[92m + ImageMorphology v0.2.7\u001b[39m\n",
      " \u001b[90m [2996bd0c]\u001b[39m\u001b[92m + ImageQualityIndexes v0.1.4\u001b[39m\n",
      " \u001b[90m [4e3cecfd]\u001b[39m\u001b[92m + ImageShow v0.2.3\u001b[39m\n",
      " \u001b[90m [02fcd773]\u001b[39m\u001b[92m + ImageTransformations v0.8.5\u001b[39m\n",
      " \u001b[90m [916415d5]\u001b[39m\u001b[92m + Images v0.22.4\u001b[39m\n",
      " \u001b[90m [9b13fd28]\u001b[39m\u001b[92m + IndirectArrays v0.5.1\u001b[39m\n",
      " \u001b[90m [1d5cc7b8]\u001b[39m\u001b[92m + IntelOpenMP_jll v2018.0.3+0\u001b[39m\n",
      " \u001b[90m [a98d9a8b]\u001b[39m\u001b[92m + Interpolations v0.12.10\u001b[39m\n",
      " \u001b[90m [8197267c]\u001b[39m\u001b[92m + IntervalSets v0.5.1\u001b[39m\n",
      " \u001b[90m [c8e1da08]\u001b[39m\u001b[92m + IterTools v1.3.0\u001b[39m\n",
      " \u001b[90m [856f044c]\u001b[39m\u001b[92m + MKL_jll v2020.1.216+0\u001b[39m\n",
      " \u001b[90m [d96e819e]\u001b[39m\u001b[92m + Parameters v0.12.1\u001b[39m\n",
      " \u001b[90m [b3c3ace0]\u001b[39m\u001b[92m + RangeArrays v0.3.2\u001b[39m\n",
      " \u001b[90m [c84ed2f1]\u001b[39m\u001b[92m + Ratios v0.4.0\u001b[39m\n",
      " \u001b[90m [6038ab10]\u001b[39m\u001b[92m + Rotations v1.0.1\u001b[39m\n",
      " \u001b[90m [699a6c99]\u001b[39m\u001b[92m + SimpleTraits v0.9.2\u001b[39m\n",
      " \u001b[90m [06e1c1a7]\u001b[39m\u001b[92m + TiledIteration v0.2.4\u001b[39m\n",
      " \u001b[90m [3a884ed6]\u001b[39m\u001b[92m + UnPack v1.0.1\u001b[39m\n",
      " \u001b[90m [efce3f68]\u001b[39m\u001b[92m + WoodburyMatrices v0.5.2\u001b[39m\n",
      "\u001b[32m\u001b[1m   Building\u001b[22m\u001b[39m FFTW → `C:\\Users\\Victor\\.julia\\packages\\FFTW\\kcXL6\\deps\\build.log`\n",
      "┌ Info: Precompiling Images [916415d5-f1e6-5110-898d-aaa5f9f070e0]\n",
      "└ @ Base loading.jl:1260\n"
     ]
    }
   ],
   "source": [
    "Pkg.add(\"Images\")\n",
    "using Images"
   ]
  },
  {
   "cell_type": "code",
   "execution_count": 82,
   "metadata": {},
   "outputs": [
    {
     "data": {
      "image/png": "[encoded data removed]",
      "text/plain": [
       "200×200 Array{RGBA{N0f8},2} with eltype RGBA{Normed{UInt8,8}}:\n",
       " RGBA{N0f8}(0.0,0.0,0.0,0.0)  …  RGBA{N0f8}(0.0,0.0,0.0,0.0)\n",
       " RGBA{N0f8}(0.0,0.0,0.0,0.0)     RGBA{N0f8}(0.0,0.0,0.0,0.0)\n",
       " RGBA{N0f8}(0.0,0.0,0.0,0.0)     RGBA{N0f8}(0.0,0.0,0.0,0.0)\n",
       " RGBA{N0f8}(0.0,0.0,0.0,0.0)     RGBA{N0f8}(0.0,0.0,0.0,0.0)\n",
       " RGBA{N0f8}(0.0,0.0,0.0,0.0)     RGBA{N0f8}(0.0,0.0,0.0,0.0)\n",
       " RGBA{N0f8}(0.0,0.0,0.0,0.0)  …  RGBA{N0f8}(0.0,0.0,0.0,0.0)\n",
       " RGBA{N0f8}(0.0,0.0,0.0,0.0)     RGBA{N0f8}(0.0,0.0,0.0,0.0)\n",
       " RGBA{N0f8}(0.0,0.0,0.0,0.0)     RGBA{N0f8}(0.0,0.0,0.0,0.0)\n",
       " RGBA{N0f8}(0.0,0.0,0.0,0.0)     RGBA{N0f8}(0.0,0.0,0.0,0.0)\n",
       " RGBA{N0f8}(0.0,0.0,0.0,0.0)     RGBA{N0f8}(0.0,0.0,0.0,0.0)\n",
       " RGBA{N0f8}(0.0,0.0,0.0,0.0)  …  RGBA{N0f8}(0.0,0.0,0.0,0.0)\n",
       " RGBA{N0f8}(0.0,0.0,0.0,0.0)     RGBA{N0f8}(0.0,0.0,0.0,0.0)\n",
       " RGBA{N0f8}(0.0,0.0,0.0,0.0)     RGBA{N0f8}(0.0,0.0,0.0,0.0)\n",
       " ⋮                            ⋱  \n",
       " RGBA{N0f8}(0.0,0.0,0.0,0.0)     RGBA{N0f8}(0.0,0.0,0.0,0.0)\n",
       " RGBA{N0f8}(0.0,0.0,0.0,0.0)     RGBA{N0f8}(0.0,0.0,0.0,0.0)\n",
       " RGBA{N0f8}(0.0,0.0,0.0,0.0)  …  RGBA{N0f8}(0.0,0.0,0.0,0.0)\n",
       " RGBA{N0f8}(0.0,0.0,0.0,0.0)     RGBA{N0f8}(0.0,0.0,0.0,0.0)\n",
       " RGBA{N0f8}(0.0,0.0,0.0,0.0)     RGBA{N0f8}(0.0,0.0,0.0,0.0)\n",
       " RGBA{N0f8}(0.0,0.0,0.0,0.0)     RGBA{N0f8}(0.0,0.0,0.0,0.0)\n",
       " RGBA{N0f8}(0.0,0.0,0.0,0.0)     RGBA{N0f8}(0.0,0.0,0.0,0.0)\n",
       " RGBA{N0f8}(0.0,0.0,0.0,0.0)  …  RGBA{N0f8}(0.0,0.0,0.0,0.0)\n",
       " RGBA{N0f8}(0.0,0.0,0.0,0.0)     RGBA{N0f8}(0.0,0.0,0.0,0.0)\n",
       " RGBA{N0f8}(0.0,0.0,0.0,0.0)     RGBA{N0f8}(0.0,0.0,0.0,0.0)\n",
       " RGBA{N0f8}(0.0,0.0,0.0,0.0)     RGBA{N0f8}(0.0,0.0,0.0,0.0)\n",
       " RGBA{N0f8}(0.0,0.0,0.0,0.0)     RGBA{N0f8}(0.0,0.0,0.0,0.0)"
      ]
     },
     "execution_count": 82,
     "metadata": {},
     "output_type": "execute_result"
    }
   ],
   "source": [
    "X1"
   ]
  },
  {
   "cell_type": "markdown",
   "metadata": {},
   "source": [
    "### File types\n",
    "In Julia, many file types are supported so you do not have to transfer a file from another language to a text file before you read it.\n",
    "\n",
    "*Some packages that achieve this:*\n",
    "MAT CSV NPZ JLD FASTAIO\n",
    "\n",
    "\n",
    "Let's try using MAT to write a file that stores a matrix."
   ]
  },
  {
   "cell_type": "code",
   "execution_count": 83,
   "metadata": {},
   "outputs": [
    {
     "name": "stderr",
     "output_type": "stream",
     "text": [
      "\u001b[32m\u001b[1m  Resolving\u001b[22m\u001b[39m package versions...\n",
      "\u001b[32m\u001b[1m  Installed\u001b[22m\u001b[39m HDF5_jll ──────── v1.10.5+5\n",
      "\u001b[32m\u001b[1m  Installed\u001b[22m\u001b[39m Lz4_jll ───────── v1.9.2+0\n",
      "\u001b[32m\u001b[1m  Installed\u001b[22m\u001b[39m Blosc_jll ─────── v1.14.3+1\n",
      "\u001b[32m\u001b[1m  Installed\u001b[22m\u001b[39m Blosc ─────────── v0.7.0\n",
      "\u001b[32m\u001b[1m  Installed\u001b[22m\u001b[39m BufferedStreams ─ v1.0.0\n",
      "\u001b[32m\u001b[1m  Installed\u001b[22m\u001b[39m HDF5 ──────────── v0.13.2\n",
      "\u001b[32m\u001b[1m  Installed\u001b[22m\u001b[39m MAT ───────────── v0.8.0\n",
      "\u001b[32m\u001b[1m   Updating\u001b[22m\u001b[39m `C:\\Users\\Victor\\.julia\\environments\\v1.4\\Project.toml`\n",
      " \u001b[90m [23992714]\u001b[39m\u001b[92m + MAT v0.8.0\u001b[39m\n",
      "\u001b[32m\u001b[1m   Updating\u001b[22m\u001b[39m `C:\\Users\\Victor\\.julia\\environments\\v1.4\\Manifest.toml`\n",
      " \u001b[90m [a74b3585]\u001b[39m\u001b[92m + Blosc v0.7.0\u001b[39m\n",
      " \u001b[90m [0b7ba130]\u001b[39m\u001b[92m + Blosc_jll v1.14.3+1\u001b[39m\n",
      " \u001b[90m [e1450e63]\u001b[39m\u001b[92m + BufferedStreams v1.0.0\u001b[39m\n",
      " \u001b[90m [f67ccb44]\u001b[39m\u001b[92m + HDF5 v0.13.2\u001b[39m\n",
      " \u001b[90m [0234f1f7]\u001b[39m\u001b[92m + HDF5_jll v1.10.5+5\u001b[39m\n",
      " \u001b[90m [5ced341a]\u001b[39m\u001b[92m + Lz4_jll v1.9.2+0\u001b[39m\n",
      " \u001b[90m [23992714]\u001b[39m\u001b[92m + MAT v0.8.0\u001b[39m\n",
      "\u001b[32m\u001b[1m   Building\u001b[22m\u001b[39m HDF5 → `C:\\Users\\Victor\\.julia\\packages\\HDF5\\pAi1D\\deps\\build.log`\n",
      "┌ Info: Precompiling MAT [23992714-dd62-5051-b70f-ba57cb901cac]\n",
      "└ @ Base loading.jl:1260\n"
     ]
    }
   ],
   "source": [
    "Pkg.add(\"MAT\")\n",
    "using MAT"
   ]
  },
  {
   "cell_type": "code",
   "execution_count": 84,
   "metadata": {},
   "outputs": [],
   "source": [
    "A = rand(5,5)\n",
    "matfile = matopen(\"densematrix.mat\", \"w\") \n",
    "write(matfile, \"A\", A)\n",
    "close(matfile)"
   ]
  },
  {
   "cell_type": "markdown",
   "metadata": {},
   "source": [
    "Now try opening densematrix.mat with MATLAB!"
   ]
  },
  {
   "cell_type": "code",
   "execution_count": 85,
   "metadata": {},
   "outputs": [
    {
     "data": {
      "text/plain": [
       "5×5 Array{Float64,2}:\n",
       " 0.854748  0.596163  0.638126   0.905431  0.536143\n",
       " 0.359823  0.931527  0.0953139  0.848798  0.218581\n",
       " 0.449974  0.999279  0.998858   0.524805  0.173649\n",
       " 0.680093  0.728569  0.133042   0.797358  0.888191\n",
       " 0.889227  0.20845   0.704025   0.410951  0.187577"
      ]
     },
     "execution_count": 85,
     "metadata": {},
     "output_type": "execute_result"
    }
   ],
   "source": [
    "newfile = matopen(\"densematrix.mat\")\n",
    "read(newfile,\"A\")"
   ]
  },
  {
   "cell_type": "code",
   "execution_count": 86,
   "metadata": {},
   "outputs": [
    {
     "data": {
      "text/plain": [
       "1-element Array{String,1}:\n",
       " \"A\""
      ]
     },
     "execution_count": 86,
     "metadata": {},
     "output_type": "execute_result"
    }
   ],
   "source": [
    "names(newfile)"
   ]
  },
  {
   "cell_type": "code",
   "execution_count": 87,
   "metadata": {},
   "outputs": [],
   "source": [
    "close(newfile)"
   ]
  },
  {
   "cell_type": "markdown",
   "metadata": {},
   "source": [
    "## Exercise"
   ]
  },
  {
   "cell_type": "markdown",
   "metadata": {},
   "source": [
    "#### 14.1 \n",
    "Download the `nycflights13` dataset from https://raw.githubusercontent.com/estadistika/assets/master/data/nycflights13.csv and store it locally in `flights.csv`. Verfiy the download."
   ]
  },
  {
   "cell_type": "code",
   "execution_count": 89,
   "metadata": {},
   "outputs": [
    {
     "data": {
      "text/plain": [
       "\"flights.csv\""
      ]
     },
     "execution_count": 89,
     "metadata": {},
     "output_type": "execute_result"
    }
   ],
   "source": [
    "flights = download(\"https://raw.githubusercontent.com/estadistika/assets/master/data/nycflights13.csv\",\"flights.csv\")"
   ]
  },
  {
   "cell_type": "code",
   "execution_count": 90,
   "metadata": {},
   "outputs": [
    {
     "data": {
      "text/plain": [
       "\"flights.csv\""
      ]
     },
     "execution_count": 90,
     "metadata": {},
     "output_type": "execute_result"
    }
   ],
   "source": [
    "flights"
   ]
  },
  {
   "cell_type": "code",
   "execution_count": null,
   "metadata": {},
   "outputs": [],
   "source": [
    "readdir()"
   ]
  },
  {
   "cell_type": "markdown",
   "metadata": {},
   "source": [
    "#### 14.2\n",
    "\n",
    "Read the file in Julia so that all the `NA` values are read as `missing`"
   ]
  },
  {
   "cell_type": "code",
   "execution_count": 8,
   "metadata": {},
   "outputs": [],
   "source": [
    "using CSV\n",
    "using Statistics\n",
    "using DataFrames, RDatasets, CSV, StatsBase"
   ]
  },
  {
   "cell_type": "code",
   "execution_count": 9,
   "metadata": {},
   "outputs": [
    {
     "data": {
      "text/html": [
       "<table class=\"data-frame\"><thead><tr><th></th><th>Column1</th><th>year</th><th>month</th><th>day</th><th>dep_time</th><th>sched_dep_time</th><th>dep_delay</th><th>arr_time</th><th>sched_arr_time</th></tr><tr><th></th><th>Int64</th><th>Int64</th><th>Int64</th><th>Int64</th><th>String</th><th>Int64</th><th>String</th><th>String</th><th>Int64</th></tr></thead><tbody><p>336,776 rows × 20 columns (omitted printing of 11 columns)</p><tr><th>1</th><td>1</td><td>2013</td><td>1</td><td>1</td><td>517</td><td>515</td><td>2</td><td>830</td><td>819</td></tr><tr><th>2</th><td>2</td><td>2013</td><td>1</td><td>1</td><td>533</td><td>529</td><td>4</td><td>850</td><td>830</td></tr><tr><th>3</th><td>3</td><td>2013</td><td>1</td><td>1</td><td>542</td><td>540</td><td>2</td><td>923</td><td>850</td></tr><tr><th>4</th><td>4</td><td>2013</td><td>1</td><td>1</td><td>544</td><td>545</td><td>-1</td><td>1004</td><td>1022</td></tr><tr><th>5</th><td>5</td><td>2013</td><td>1</td><td>1</td><td>554</td><td>600</td><td>-6</td><td>812</td><td>837</td></tr><tr><th>6</th><td>6</td><td>2013</td><td>1</td><td>1</td><td>554</td><td>558</td><td>-4</td><td>740</td><td>728</td></tr><tr><th>7</th><td>7</td><td>2013</td><td>1</td><td>1</td><td>555</td><td>600</td><td>-5</td><td>913</td><td>854</td></tr><tr><th>8</th><td>8</td><td>2013</td><td>1</td><td>1</td><td>557</td><td>600</td><td>-3</td><td>709</td><td>723</td></tr><tr><th>9</th><td>9</td><td>2013</td><td>1</td><td>1</td><td>557</td><td>600</td><td>-3</td><td>838</td><td>846</td></tr><tr><th>10</th><td>10</td><td>2013</td><td>1</td><td>1</td><td>558</td><td>600</td><td>-2</td><td>753</td><td>745</td></tr><tr><th>11</th><td>11</td><td>2013</td><td>1</td><td>1</td><td>558</td><td>600</td><td>-2</td><td>849</td><td>851</td></tr><tr><th>12</th><td>12</td><td>2013</td><td>1</td><td>1</td><td>558</td><td>600</td><td>-2</td><td>853</td><td>856</td></tr><tr><th>13</th><td>13</td><td>2013</td><td>1</td><td>1</td><td>558</td><td>600</td><td>-2</td><td>924</td><td>917</td></tr><tr><th>14</th><td>14</td><td>2013</td><td>1</td><td>1</td><td>558</td><td>600</td><td>-2</td><td>923</td><td>937</td></tr><tr><th>15</th><td>15</td><td>2013</td><td>1</td><td>1</td><td>559</td><td>600</td><td>-1</td><td>941</td><td>910</td></tr><tr><th>16</th><td>16</td><td>2013</td><td>1</td><td>1</td><td>559</td><td>559</td><td>0</td><td>702</td><td>706</td></tr><tr><th>17</th><td>17</td><td>2013</td><td>1</td><td>1</td><td>559</td><td>600</td><td>-1</td><td>854</td><td>902</td></tr><tr><th>18</th><td>18</td><td>2013</td><td>1</td><td>1</td><td>600</td><td>600</td><td>0</td><td>851</td><td>858</td></tr><tr><th>19</th><td>19</td><td>2013</td><td>1</td><td>1</td><td>600</td><td>600</td><td>0</td><td>837</td><td>825</td></tr><tr><th>20</th><td>20</td><td>2013</td><td>1</td><td>1</td><td>601</td><td>600</td><td>1</td><td>844</td><td>850</td></tr><tr><th>21</th><td>21</td><td>2013</td><td>1</td><td>1</td><td>602</td><td>610</td><td>-8</td><td>812</td><td>820</td></tr><tr><th>22</th><td>22</td><td>2013</td><td>1</td><td>1</td><td>602</td><td>605</td><td>-3</td><td>821</td><td>805</td></tr><tr><th>23</th><td>23</td><td>2013</td><td>1</td><td>1</td><td>606</td><td>610</td><td>-4</td><td>858</td><td>910</td></tr><tr><th>24</th><td>24</td><td>2013</td><td>1</td><td>1</td><td>606</td><td>610</td><td>-4</td><td>837</td><td>845</td></tr><tr><th>25</th><td>25</td><td>2013</td><td>1</td><td>1</td><td>607</td><td>607</td><td>0</td><td>858</td><td>915</td></tr><tr><th>26</th><td>26</td><td>2013</td><td>1</td><td>1</td><td>608</td><td>600</td><td>8</td><td>807</td><td>735</td></tr><tr><th>27</th><td>27</td><td>2013</td><td>1</td><td>1</td><td>611</td><td>600</td><td>11</td><td>945</td><td>931</td></tr><tr><th>28</th><td>28</td><td>2013</td><td>1</td><td>1</td><td>613</td><td>610</td><td>3</td><td>925</td><td>921</td></tr><tr><th>29</th><td>29</td><td>2013</td><td>1</td><td>1</td><td>615</td><td>615</td><td>0</td><td>1039</td><td>1100</td></tr><tr><th>30</th><td>30</td><td>2013</td><td>1</td><td>1</td><td>615</td><td>615</td><td>0</td><td>833</td><td>842</td></tr><tr><th>&vellip;</th><td>&vellip;</td><td>&vellip;</td><td>&vellip;</td><td>&vellip;</td><td>&vellip;</td><td>&vellip;</td><td>&vellip;</td><td>&vellip;</td><td>&vellip;</td></tr></tbody></table>"
      ],
      "text/latex": [
       "\\begin{tabular}{r|cccccccccc}\n",
       "\t& Column1 & year & month & day & dep\\_time & sched\\_dep\\_time & dep\\_delay & arr\\_time & sched\\_arr\\_time & \\\\\n",
       "\t\\hline\n",
       "\t& Int64 & Int64 & Int64 & Int64 & String & Int64 & String & String & Int64 & \\\\\n",
       "\t\\hline\n",
       "\t1 & 1 & 2013 & 1 & 1 & 517 & 515 & 2 & 830 & 819 & $\\dots$ \\\\\n",
       "\t2 & 2 & 2013 & 1 & 1 & 533 & 529 & 4 & 850 & 830 & $\\dots$ \\\\\n",
       "\t3 & 3 & 2013 & 1 & 1 & 542 & 540 & 2 & 923 & 850 & $\\dots$ \\\\\n",
       "\t4 & 4 & 2013 & 1 & 1 & 544 & 545 & -1 & 1004 & 1022 & $\\dots$ \\\\\n",
       "\t5 & 5 & 2013 & 1 & 1 & 554 & 600 & -6 & 812 & 837 & $\\dots$ \\\\\n",
       "\t6 & 6 & 2013 & 1 & 1 & 554 & 558 & -4 & 740 & 728 & $\\dots$ \\\\\n",
       "\t7 & 7 & 2013 & 1 & 1 & 555 & 600 & -5 & 913 & 854 & $\\dots$ \\\\\n",
       "\t8 & 8 & 2013 & 1 & 1 & 557 & 600 & -3 & 709 & 723 & $\\dots$ \\\\\n",
       "\t9 & 9 & 2013 & 1 & 1 & 557 & 600 & -3 & 838 & 846 & $\\dots$ \\\\\n",
       "\t10 & 10 & 2013 & 1 & 1 & 558 & 600 & -2 & 753 & 745 & $\\dots$ \\\\\n",
       "\t11 & 11 & 2013 & 1 & 1 & 558 & 600 & -2 & 849 & 851 & $\\dots$ \\\\\n",
       "\t12 & 12 & 2013 & 1 & 1 & 558 & 600 & -2 & 853 & 856 & $\\dots$ \\\\\n",
       "\t13 & 13 & 2013 & 1 & 1 & 558 & 600 & -2 & 924 & 917 & $\\dots$ \\\\\n",
       "\t14 & 14 & 2013 & 1 & 1 & 558 & 600 & -2 & 923 & 937 & $\\dots$ \\\\\n",
       "\t15 & 15 & 2013 & 1 & 1 & 559 & 600 & -1 & 941 & 910 & $\\dots$ \\\\\n",
       "\t16 & 16 & 2013 & 1 & 1 & 559 & 559 & 0 & 702 & 706 & $\\dots$ \\\\\n",
       "\t17 & 17 & 2013 & 1 & 1 & 559 & 600 & -1 & 854 & 902 & $\\dots$ \\\\\n",
       "\t18 & 18 & 2013 & 1 & 1 & 600 & 600 & 0 & 851 & 858 & $\\dots$ \\\\\n",
       "\t19 & 19 & 2013 & 1 & 1 & 600 & 600 & 0 & 837 & 825 & $\\dots$ \\\\\n",
       "\t20 & 20 & 2013 & 1 & 1 & 601 & 600 & 1 & 844 & 850 & $\\dots$ \\\\\n",
       "\t21 & 21 & 2013 & 1 & 1 & 602 & 610 & -8 & 812 & 820 & $\\dots$ \\\\\n",
       "\t22 & 22 & 2013 & 1 & 1 & 602 & 605 & -3 & 821 & 805 & $\\dots$ \\\\\n",
       "\t23 & 23 & 2013 & 1 & 1 & 606 & 610 & -4 & 858 & 910 & $\\dots$ \\\\\n",
       "\t24 & 24 & 2013 & 1 & 1 & 606 & 610 & -4 & 837 & 845 & $\\dots$ \\\\\n",
       "\t25 & 25 & 2013 & 1 & 1 & 607 & 607 & 0 & 858 & 915 & $\\dots$ \\\\\n",
       "\t26 & 26 & 2013 & 1 & 1 & 608 & 600 & 8 & 807 & 735 & $\\dots$ \\\\\n",
       "\t27 & 27 & 2013 & 1 & 1 & 611 & 600 & 11 & 945 & 931 & $\\dots$ \\\\\n",
       "\t28 & 28 & 2013 & 1 & 1 & 613 & 610 & 3 & 925 & 921 & $\\dots$ \\\\\n",
       "\t29 & 29 & 2013 & 1 & 1 & 615 & 615 & 0 & 1039 & 1100 & $\\dots$ \\\\\n",
       "\t30 & 30 & 2013 & 1 & 1 & 615 & 615 & 0 & 833 & 842 & $\\dots$ \\\\\n",
       "\t$\\dots$ & $\\dots$ & $\\dots$ & $\\dots$ & $\\dots$ & $\\dots$ & $\\dots$ & $\\dots$ & $\\dots$ & $\\dots$ &  \\\\\n",
       "\\end{tabular}\n"
      ],
      "text/plain": [
       "336776×20 DataFrame. Omitted printing of 14 columns\n",
       "│ Row    │ Column1 │ year  │ month │ day   │ dep_time │ sched_dep_time │\n",
       "│        │ \u001b[90mInt64\u001b[39m   │ \u001b[90mInt64\u001b[39m │ \u001b[90mInt64\u001b[39m │ \u001b[90mInt64\u001b[39m │ \u001b[90mString\u001b[39m   │ \u001b[90mInt64\u001b[39m          │\n",
       "├────────┼─────────┼───────┼───────┼───────┼──────────┼────────────────┤\n",
       "│ 1      │ 1       │ 2013  │ 1     │ 1     │ 517      │ 515            │\n",
       "│ 2      │ 2       │ 2013  │ 1     │ 1     │ 533      │ 529            │\n",
       "│ 3      │ 3       │ 2013  │ 1     │ 1     │ 542      │ 540            │\n",
       "│ 4      │ 4       │ 2013  │ 1     │ 1     │ 544      │ 545            │\n",
       "│ 5      │ 5       │ 2013  │ 1     │ 1     │ 554      │ 600            │\n",
       "│ 6      │ 6       │ 2013  │ 1     │ 1     │ 554      │ 558            │\n",
       "│ 7      │ 7       │ 2013  │ 1     │ 1     │ 555      │ 600            │\n",
       "│ 8      │ 8       │ 2013  │ 1     │ 1     │ 557      │ 600            │\n",
       "│ 9      │ 9       │ 2013  │ 1     │ 1     │ 557      │ 600            │\n",
       "│ 10     │ 10      │ 2013  │ 1     │ 1     │ 558      │ 600            │\n",
       "⋮\n",
       "│ 336766 │ 336766  │ 2013  │ 9     │ 30    │ 2240     │ 2245           │\n",
       "│ 336767 │ 336767  │ 2013  │ 9     │ 30    │ 2240     │ 2250           │\n",
       "│ 336768 │ 336768  │ 2013  │ 9     │ 30    │ 2241     │ 2246           │\n",
       "│ 336769 │ 336769  │ 2013  │ 9     │ 30    │ 2307     │ 2255           │\n",
       "│ 336770 │ 336770  │ 2013  │ 9     │ 30    │ 2349     │ 2359           │\n",
       "│ 336771 │ 336771  │ 2013  │ 9     │ 30    │ NA       │ 1842           │\n",
       "│ 336772 │ 336772  │ 2013  │ 9     │ 30    │ NA       │ 1455           │\n",
       "│ 336773 │ 336773  │ 2013  │ 9     │ 30    │ NA       │ 2200           │\n",
       "│ 336774 │ 336774  │ 2013  │ 9     │ 30    │ NA       │ 1210           │\n",
       "│ 336775 │ 336775  │ 2013  │ 9     │ 30    │ NA       │ 1159           │\n",
       "│ 336776 │ 336776  │ 2013  │ 9     │ 30    │ NA       │ 840            │"
      ]
     },
     "execution_count": 9,
     "metadata": {},
     "output_type": "execute_result"
    }
   ],
   "source": [
    "flights_df = CSV.read(\"flights.csv\", header=true)"
   ]
  },
  {
   "cell_type": "code",
   "execution_count": 10,
   "metadata": {},
   "outputs": [
    {
     "data": {
      "text/html": [
       "<table class=\"data-frame\"><thead><tr><th></th><th>Column1</th><th>year</th><th>month</th><th>day</th><th>dep_time</th><th>sched_dep_time</th><th>dep_delay</th><th>arr_time</th><th>sched_arr_time</th></tr><tr><th></th><th>Int64</th><th>Int64</th><th>Int64</th><th>Int64</th><th>Int64?</th><th>Int64</th><th>Int64?</th><th>Int64?</th><th>Int64</th></tr></thead><tbody><p>336,776 rows × 20 columns (omitted printing of 11 columns)</p><tr><th>1</th><td>1</td><td>2013</td><td>1</td><td>1</td><td>517</td><td>515</td><td>2</td><td>830</td><td>819</td></tr><tr><th>2</th><td>2</td><td>2013</td><td>1</td><td>1</td><td>533</td><td>529</td><td>4</td><td>850</td><td>830</td></tr><tr><th>3</th><td>3</td><td>2013</td><td>1</td><td>1</td><td>542</td><td>540</td><td>2</td><td>923</td><td>850</td></tr><tr><th>4</th><td>4</td><td>2013</td><td>1</td><td>1</td><td>544</td><td>545</td><td>-1</td><td>1004</td><td>1022</td></tr><tr><th>5</th><td>5</td><td>2013</td><td>1</td><td>1</td><td>554</td><td>600</td><td>-6</td><td>812</td><td>837</td></tr><tr><th>6</th><td>6</td><td>2013</td><td>1</td><td>1</td><td>554</td><td>558</td><td>-4</td><td>740</td><td>728</td></tr><tr><th>7</th><td>7</td><td>2013</td><td>1</td><td>1</td><td>555</td><td>600</td><td>-5</td><td>913</td><td>854</td></tr><tr><th>8</th><td>8</td><td>2013</td><td>1</td><td>1</td><td>557</td><td>600</td><td>-3</td><td>709</td><td>723</td></tr><tr><th>9</th><td>9</td><td>2013</td><td>1</td><td>1</td><td>557</td><td>600</td><td>-3</td><td>838</td><td>846</td></tr><tr><th>10</th><td>10</td><td>2013</td><td>1</td><td>1</td><td>558</td><td>600</td><td>-2</td><td>753</td><td>745</td></tr><tr><th>11</th><td>11</td><td>2013</td><td>1</td><td>1</td><td>558</td><td>600</td><td>-2</td><td>849</td><td>851</td></tr><tr><th>12</th><td>12</td><td>2013</td><td>1</td><td>1</td><td>558</td><td>600</td><td>-2</td><td>853</td><td>856</td></tr><tr><th>13</th><td>13</td><td>2013</td><td>1</td><td>1</td><td>558</td><td>600</td><td>-2</td><td>924</td><td>917</td></tr><tr><th>14</th><td>14</td><td>2013</td><td>1</td><td>1</td><td>558</td><td>600</td><td>-2</td><td>923</td><td>937</td></tr><tr><th>15</th><td>15</td><td>2013</td><td>1</td><td>1</td><td>559</td><td>600</td><td>-1</td><td>941</td><td>910</td></tr><tr><th>16</th><td>16</td><td>2013</td><td>1</td><td>1</td><td>559</td><td>559</td><td>0</td><td>702</td><td>706</td></tr><tr><th>17</th><td>17</td><td>2013</td><td>1</td><td>1</td><td>559</td><td>600</td><td>-1</td><td>854</td><td>902</td></tr><tr><th>18</th><td>18</td><td>2013</td><td>1</td><td>1</td><td>600</td><td>600</td><td>0</td><td>851</td><td>858</td></tr><tr><th>19</th><td>19</td><td>2013</td><td>1</td><td>1</td><td>600</td><td>600</td><td>0</td><td>837</td><td>825</td></tr><tr><th>20</th><td>20</td><td>2013</td><td>1</td><td>1</td><td>601</td><td>600</td><td>1</td><td>844</td><td>850</td></tr><tr><th>21</th><td>21</td><td>2013</td><td>1</td><td>1</td><td>602</td><td>610</td><td>-8</td><td>812</td><td>820</td></tr><tr><th>22</th><td>22</td><td>2013</td><td>1</td><td>1</td><td>602</td><td>605</td><td>-3</td><td>821</td><td>805</td></tr><tr><th>23</th><td>23</td><td>2013</td><td>1</td><td>1</td><td>606</td><td>610</td><td>-4</td><td>858</td><td>910</td></tr><tr><th>24</th><td>24</td><td>2013</td><td>1</td><td>1</td><td>606</td><td>610</td><td>-4</td><td>837</td><td>845</td></tr><tr><th>25</th><td>25</td><td>2013</td><td>1</td><td>1</td><td>607</td><td>607</td><td>0</td><td>858</td><td>915</td></tr><tr><th>26</th><td>26</td><td>2013</td><td>1</td><td>1</td><td>608</td><td>600</td><td>8</td><td>807</td><td>735</td></tr><tr><th>27</th><td>27</td><td>2013</td><td>1</td><td>1</td><td>611</td><td>600</td><td>11</td><td>945</td><td>931</td></tr><tr><th>28</th><td>28</td><td>2013</td><td>1</td><td>1</td><td>613</td><td>610</td><td>3</td><td>925</td><td>921</td></tr><tr><th>29</th><td>29</td><td>2013</td><td>1</td><td>1</td><td>615</td><td>615</td><td>0</td><td>1039</td><td>1100</td></tr><tr><th>30</th><td>30</td><td>2013</td><td>1</td><td>1</td><td>615</td><td>615</td><td>0</td><td>833</td><td>842</td></tr><tr><th>&vellip;</th><td>&vellip;</td><td>&vellip;</td><td>&vellip;</td><td>&vellip;</td><td>&vellip;</td><td>&vellip;</td><td>&vellip;</td><td>&vellip;</td><td>&vellip;</td></tr></tbody></table>"
      ],
      "text/latex": [
       "\\begin{tabular}{r|cccccccccc}\n",
       "\t& Column1 & year & month & day & dep\\_time & sched\\_dep\\_time & dep\\_delay & arr\\_time & sched\\_arr\\_time & \\\\\n",
       "\t\\hline\n",
       "\t& Int64 & Int64 & Int64 & Int64 & Int64? & Int64 & Int64? & Int64? & Int64 & \\\\\n",
       "\t\\hline\n",
       "\t1 & 1 & 2013 & 1 & 1 & 517 & 515 & 2 & 830 & 819 & $\\dots$ \\\\\n",
       "\t2 & 2 & 2013 & 1 & 1 & 533 & 529 & 4 & 850 & 830 & $\\dots$ \\\\\n",
       "\t3 & 3 & 2013 & 1 & 1 & 542 & 540 & 2 & 923 & 850 & $\\dots$ \\\\\n",
       "\t4 & 4 & 2013 & 1 & 1 & 544 & 545 & -1 & 1004 & 1022 & $\\dots$ \\\\\n",
       "\t5 & 5 & 2013 & 1 & 1 & 554 & 600 & -6 & 812 & 837 & $\\dots$ \\\\\n",
       "\t6 & 6 & 2013 & 1 & 1 & 554 & 558 & -4 & 740 & 728 & $\\dots$ \\\\\n",
       "\t7 & 7 & 2013 & 1 & 1 & 555 & 600 & -5 & 913 & 854 & $\\dots$ \\\\\n",
       "\t8 & 8 & 2013 & 1 & 1 & 557 & 600 & -3 & 709 & 723 & $\\dots$ \\\\\n",
       "\t9 & 9 & 2013 & 1 & 1 & 557 & 600 & -3 & 838 & 846 & $\\dots$ \\\\\n",
       "\t10 & 10 & 2013 & 1 & 1 & 558 & 600 & -2 & 753 & 745 & $\\dots$ \\\\\n",
       "\t11 & 11 & 2013 & 1 & 1 & 558 & 600 & -2 & 849 & 851 & $\\dots$ \\\\\n",
       "\t12 & 12 & 2013 & 1 & 1 & 558 & 600 & -2 & 853 & 856 & $\\dots$ \\\\\n",
       "\t13 & 13 & 2013 & 1 & 1 & 558 & 600 & -2 & 924 & 917 & $\\dots$ \\\\\n",
       "\t14 & 14 & 2013 & 1 & 1 & 558 & 600 & -2 & 923 & 937 & $\\dots$ \\\\\n",
       "\t15 & 15 & 2013 & 1 & 1 & 559 & 600 & -1 & 941 & 910 & $\\dots$ \\\\\n",
       "\t16 & 16 & 2013 & 1 & 1 & 559 & 559 & 0 & 702 & 706 & $\\dots$ \\\\\n",
       "\t17 & 17 & 2013 & 1 & 1 & 559 & 600 & -1 & 854 & 902 & $\\dots$ \\\\\n",
       "\t18 & 18 & 2013 & 1 & 1 & 600 & 600 & 0 & 851 & 858 & $\\dots$ \\\\\n",
       "\t19 & 19 & 2013 & 1 & 1 & 600 & 600 & 0 & 837 & 825 & $\\dots$ \\\\\n",
       "\t20 & 20 & 2013 & 1 & 1 & 601 & 600 & 1 & 844 & 850 & $\\dots$ \\\\\n",
       "\t21 & 21 & 2013 & 1 & 1 & 602 & 610 & -8 & 812 & 820 & $\\dots$ \\\\\n",
       "\t22 & 22 & 2013 & 1 & 1 & 602 & 605 & -3 & 821 & 805 & $\\dots$ \\\\\n",
       "\t23 & 23 & 2013 & 1 & 1 & 606 & 610 & -4 & 858 & 910 & $\\dots$ \\\\\n",
       "\t24 & 24 & 2013 & 1 & 1 & 606 & 610 & -4 & 837 & 845 & $\\dots$ \\\\\n",
       "\t25 & 25 & 2013 & 1 & 1 & 607 & 607 & 0 & 858 & 915 & $\\dots$ \\\\\n",
       "\t26 & 26 & 2013 & 1 & 1 & 608 & 600 & 8 & 807 & 735 & $\\dots$ \\\\\n",
       "\t27 & 27 & 2013 & 1 & 1 & 611 & 600 & 11 & 945 & 931 & $\\dots$ \\\\\n",
       "\t28 & 28 & 2013 & 1 & 1 & 613 & 610 & 3 & 925 & 921 & $\\dots$ \\\\\n",
       "\t29 & 29 & 2013 & 1 & 1 & 615 & 615 & 0 & 1039 & 1100 & $\\dots$ \\\\\n",
       "\t30 & 30 & 2013 & 1 & 1 & 615 & 615 & 0 & 833 & 842 & $\\dots$ \\\\\n",
       "\t$\\dots$ & $\\dots$ & $\\dots$ & $\\dots$ & $\\dots$ & $\\dots$ & $\\dots$ & $\\dots$ & $\\dots$ & $\\dots$ &  \\\\\n",
       "\\end{tabular}\n"
      ],
      "text/plain": [
       "336776×20 DataFrame. Omitted printing of 14 columns\n",
       "│ Row    │ Column1 │ year  │ month │ day   │ dep_time │ sched_dep_time │\n",
       "│        │ \u001b[90mInt64\u001b[39m   │ \u001b[90mInt64\u001b[39m │ \u001b[90mInt64\u001b[39m │ \u001b[90mInt64\u001b[39m │ \u001b[90mInt64?\u001b[39m   │ \u001b[90mInt64\u001b[39m          │\n",
       "├────────┼─────────┼───────┼───────┼───────┼──────────┼────────────────┤\n",
       "│ 1      │ 1       │ 2013  │ 1     │ 1     │ 517      │ 515            │\n",
       "│ 2      │ 2       │ 2013  │ 1     │ 1     │ 533      │ 529            │\n",
       "│ 3      │ 3       │ 2013  │ 1     │ 1     │ 542      │ 540            │\n",
       "│ 4      │ 4       │ 2013  │ 1     │ 1     │ 544      │ 545            │\n",
       "│ 5      │ 5       │ 2013  │ 1     │ 1     │ 554      │ 600            │\n",
       "│ 6      │ 6       │ 2013  │ 1     │ 1     │ 554      │ 558            │\n",
       "│ 7      │ 7       │ 2013  │ 1     │ 1     │ 555      │ 600            │\n",
       "│ 8      │ 8       │ 2013  │ 1     │ 1     │ 557      │ 600            │\n",
       "│ 9      │ 9       │ 2013  │ 1     │ 1     │ 557      │ 600            │\n",
       "│ 10     │ 10      │ 2013  │ 1     │ 1     │ 558      │ 600            │\n",
       "⋮\n",
       "│ 336766 │ 336766  │ 2013  │ 9     │ 30    │ 2240     │ 2245           │\n",
       "│ 336767 │ 336767  │ 2013  │ 9     │ 30    │ 2240     │ 2250           │\n",
       "│ 336768 │ 336768  │ 2013  │ 9     │ 30    │ 2241     │ 2246           │\n",
       "│ 336769 │ 336769  │ 2013  │ 9     │ 30    │ 2307     │ 2255           │\n",
       "│ 336770 │ 336770  │ 2013  │ 9     │ 30    │ 2349     │ 2359           │\n",
       "│ 336771 │ 336771  │ 2013  │ 9     │ 30    │ \u001b[90mmissing\u001b[39m  │ 1842           │\n",
       "│ 336772 │ 336772  │ 2013  │ 9     │ 30    │ \u001b[90mmissing\u001b[39m  │ 1455           │\n",
       "│ 336773 │ 336773  │ 2013  │ 9     │ 30    │ \u001b[90mmissing\u001b[39m  │ 2200           │\n",
       "│ 336774 │ 336774  │ 2013  │ 9     │ 30    │ \u001b[90mmissing\u001b[39m  │ 1210           │\n",
       "│ 336775 │ 336775  │ 2013  │ 9     │ 30    │ \u001b[90mmissing\u001b[39m  │ 1159           │\n",
       "│ 336776 │ 336776  │ 2013  │ 9     │ 30    │ \u001b[90mmissing\u001b[39m  │ 840            │"
      ]
     },
     "execution_count": 10,
     "metadata": {},
     "output_type": "execute_result"
    }
   ],
   "source": [
    "flights_df_missingstring = CSV.read(\"flights.csv\", header=true,missingstring=\"NA\")"
   ]
  },
  {
   "cell_type": "code",
   "execution_count": 42,
   "metadata": {},
   "outputs": [
    {
     "ename": "UndefVarError",
     "evalue": "UndefVarError: descirbe not defined",
     "output_type": "error",
     "traceback": [
      "UndefVarError: descirbe not defined",
      "",
      "Stacktrace:",
      " [1] top-level scope at In[42]:1"
     ]
    }
   ],
   "source": []
  },
  {
   "cell_type": "code",
   "execution_count": 47,
   "metadata": {},
   "outputs": [
    {
     "ename": "UndefVarError",
     "evalue": "UndefVarError: stats not defined",
     "output_type": "error",
     "traceback": [
      "UndefVarError: stats not defined",
      "",
      "Stacktrace:",
      " [1] top-level scope at In[47]:1"
     ]
    }
   ],
   "source": [
    "describe(flights_df_missingstring,stats.all)"
   ]
  },
  {
   "cell_type": "code",
   "execution_count": 13,
   "metadata": {},
   "outputs": [
    {
     "ename": "ArgumentError",
     "evalue": "ArgumentError: column name :isnull not found in the data frame",
     "output_type": "error",
     "traceback": [
      "ArgumentError: column name :isnull not found in the data frame",
      "",
      "Stacktrace:",
      " [1] lookupname at C:\\Users\\Victor\\.julia\\packages\\DataFrames\\kwVTY\\src\\other\\index.jl:286 [inlined]",
      " [2] getindex at C:\\Users\\Victor\\.julia\\packages\\DataFrames\\kwVTY\\src\\other\\index.jl:295 [inlined]",
      " [3] getindex(::DataFrame, ::typeof(!), ::Symbol) at C:\\Users\\Victor\\.julia\\packages\\DataFrames\\kwVTY\\src\\dataframe\\dataframe.jl:435",
      " [4] getproperty(::DataFrame, ::Symbol) at C:\\Users\\Victor\\.julia\\packages\\DataFrames\\kwVTY\\src\\abstractdataframe\\abstractdataframe.jl:346",
      " [5] top-level scope at In[13]:1"
     ]
    }
   ],
   "source": [
    "flights_df_missingstring.isnull().sum()"
   ]
  },
  {
   "cell_type": "code",
   "execution_count": 23,
   "metadata": {},
   "outputs": [
    {
     "name": "stdout",
     "output_type": "stream",
     "text": [
      "search: \u001b[0m\u001b[1md\u001b[22m\u001b[0m\u001b[1me\u001b[22m\u001b[0m\u001b[1ms\u001b[22m\u001b[0m\u001b[1mc\u001b[22m\u001b[0m\u001b[1mr\u001b[22m\u001b[0m\u001b[1mi\u001b[22m\u001b[0m\u001b[1mb\u001b[22m\u001b[0m\u001b[1me\u001b[22m\n",
      "\n"
     ]
    },
    {
     "data": {
      "text/latex": [
       "\\begin{verbatim}\n",
       "describe(io::IO, x)\n",
       "\\end{verbatim}\n",
       "For an object \\texttt{x}, print descriptive statistics to \\texttt{io}.\n",
       "\n",
       "This generic function is owned by StatsBase.jl, which is the sole provider of the default definition.\n",
       "\n",
       "\\rule{\\textwidth}{1pt}\n",
       "\\begin{verbatim}\n",
       "describe(df::AbstractDataFrame; cols=:)\n",
       "describe(df::AbstractDataFrame, stats::Union{Symbol, Pair}...; cols=:)\n",
       "\\end{verbatim}\n",
       "Return descriptive statistics for a data frame as a new \\texttt{DataFrame} where each row represents a variable and each column a summary statistic.\n",
       "\n",
       "\\section{Arguments}\n",
       "\\begin{itemize}\n",
       "\\item \\texttt{df} : the \\texttt{AbstractDataFrame}\n",
       "\n",
       "\n",
       "\\item \\texttt{stats::Union\\{Symbol, Pair\\}...} : the summary statistics to report. Arguments can be:\n",
       "\n",
       "\\begin{itemize}\n",
       "\\item A symbol from the list \\texttt{:mean}, \\texttt{:std}, \\texttt{:min}, \\texttt{:q25}, \\texttt{:median}, \\texttt{:q75}, \\texttt{:max}, \\texttt{:eltype}, \\texttt{:nunique}, \\texttt{:first}, \\texttt{:last}, and \\texttt{:nmissing}. The default statistics used are \\texttt{:mean}, \\texttt{:min}, \\texttt{:median}, \\texttt{:max}, \\texttt{:nunique}, \\texttt{:nmissing}, and \\texttt{:eltype}.\n",
       "\n",
       "\n",
       "\\item \\texttt{:all} as the only \\texttt{Symbol} argument to return all statistics.\n",
       "\n",
       "\n",
       "\\item A \\texttt{name => function} pair where \\texttt{name} is a \\texttt{Symbol} or string. This will create a column of summary statistics with the provided name.\n",
       "\n",
       "\\end{itemize}\n",
       "\n",
       "\\item \\texttt{cols} : a keyword argument allowing to select only a subset of columns from \\texttt{df} to describe. Can be any column selector (\\texttt{Symbol}, string or integer; \\texttt{:}, \\texttt{All}, \\texttt{Between}, \\texttt{Not}, a regular expression, or a vector of \\texttt{Symbol}s, strings or integers).\n",
       "\n",
       "\\end{itemize}\n",
       "\\section{Details}\n",
       "For \\texttt{Real} columns, compute the mean, standard deviation, minimum, first quantile, median, third quantile, and maximum. If a column does not derive from \\texttt{Real}, \\texttt{describe} will attempt to calculate all statistics, using \\texttt{nothing} as a fall-back in the case of an error.\n",
       "\n",
       "When \\texttt{stats} contains \\texttt{:nunique}, \\texttt{describe} will report the number of unique values in a column. If a column's base type derives from \\texttt{Real}, \\texttt{:nunique} will return \\texttt{nothing}s.\n",
       "\n",
       "Missing values are filtered in the calculation of all statistics, however the column \\texttt{:nmissing} will report the number of missing values of that variable. If the column does not allow missing values, \\texttt{nothing} is returned. Consequently, \\texttt{nmissing = 0} indicates that the column allows missing values, but does not currently contain any.\n",
       "\n",
       "If custom functions are provided, they are called repeatedly with the vector corresponding to each column as the only argument. For columns allowing for missing values, the vector is wrapped in a call to \\texttt{skipmissing}: custom functions must therefore support such objects (and not only vectors), and cannot access missing values.\n",
       "\n",
       "\\section{Examples}\n",
       "\\begin{verbatim}\n",
       "julia> df = DataFrame(i=1:10, x=0.1:0.1:1.0, y='a':'j')\n",
       "10×3 DataFrame\n",
       "│ Row │ i     │ x       │ y    │\n",
       "│     │ Int64 │ Float64 │ Char │\n",
       "├─────┼───────┼─────────┼──────┤\n",
       "│ 1   │ 1     │ 0.1     │ 'a'  │\n",
       "│ 2   │ 2     │ 0.2     │ 'b'  │\n",
       "│ 3   │ 3     │ 0.3     │ 'c'  │\n",
       "│ 4   │ 4     │ 0.4     │ 'd'  │\n",
       "│ 5   │ 5     │ 0.5     │ 'e'  │\n",
       "│ 6   │ 6     │ 0.6     │ 'f'  │\n",
       "│ 7   │ 7     │ 0.7     │ 'g'  │\n",
       "│ 8   │ 8     │ 0.8     │ 'h'  │\n",
       "│ 9   │ 9     │ 0.9     │ 'i'  │\n",
       "│ 10  │ 10    │ 1.0     │ 'j'  │\n",
       "\n",
       "julia> describe(df)\n",
       "3×8 DataFrame\n",
       "│ Row │ variable │ mean   │ min │ median │ max │ nunique │ nmissing │ eltype   │\n",
       "│     │ Symbol   │ Union… │ Any │ Union… │ Any │ Union…  │ Nothing  │ DataType │\n",
       "├─────┼──────────┼────────┼─────┼────────┼─────┼─────────┼──────────┼──────────┤\n",
       "│ 1   │ i        │ 5.5    │ 1   │ 5.5    │ 10  │         │          │ Int64    │\n",
       "│ 2   │ x        │ 0.55   │ 0.1 │ 0.55   │ 1.0 │         │          │ Float64  │\n",
       "│ 3   │ y        │        │ 'a' │        │ 'j' │ 10      │          │ Char     │\n",
       "\n",
       "julia> describe(df, :min, :max)\n",
       "3×3 DataFrame\n",
       "│ Row │ variable │ min │ max │\n",
       "│     │ Symbol   │ Any │ Any │\n",
       "├─────┼──────────┼─────┼─────┤\n",
       "│ 1   │ i        │ 1   │ 10  │\n",
       "│ 2   │ x        │ 0.1 │ 1.0 │\n",
       "│ 3   │ y        │ 'a' │ 'j' │\n",
       "\n",
       "julia> describe(df, :min, :sum => sum)\n",
       "3×3 DataFrame\n",
       "│ Row │ variable │ min │ sum │\n",
       "│     │ Symbol   │ Any │ Any │\n",
       "├─────┼──────────┼─────┼─────┤\n",
       "│ 1   │ i        │ 1   │ 55  │\n",
       "│ 2   │ x        │ 0.1 │ 5.5 │\n",
       "│ 3   │ y        │ 'a' │     │\n",
       "\n",
       "julia> describe(df, :min, :sum => sum, cols=:x)\n",
       "1×3 DataFrame\n",
       "│ Row │ variable │ min     │ sum     │\n",
       "│     │ Symbol   │ Float64 │ Float64 │\n",
       "├─────┼──────────┼─────────┼─────────┤\n",
       "│ 1   │ x        │ 0.1     │ 5.5     │\n",
       "\\end{verbatim}\n",
       "\\rule{\\textwidth}{1pt}\n",
       "\\begin{verbatim}\n",
       "describe(a)\n",
       "\\end{verbatim}\n",
       "Pretty-print the summary statistics provided by \\href{@ref}{\\texttt{summarystats}}: the mean, minimum, 25th percentile, median, 75th percentile, and maximum.\n",
       "\n"
      ],
      "text/markdown": [
       "```\n",
       "describe(io::IO, x)\n",
       "```\n",
       "\n",
       "For an object `x`, print descriptive statistics to `io`.\n",
       "\n",
       "This generic function is owned by StatsBase.jl, which is the sole provider of the default definition.\n",
       "\n",
       "---\n",
       "\n",
       "```\n",
       "describe(df::AbstractDataFrame; cols=:)\n",
       "describe(df::AbstractDataFrame, stats::Union{Symbol, Pair}...; cols=:)\n",
       "```\n",
       "\n",
       "Return descriptive statistics for a data frame as a new `DataFrame` where each row represents a variable and each column a summary statistic.\n",
       "\n",
       "# Arguments\n",
       "\n",
       "  * `df` : the `AbstractDataFrame`\n",
       "  * `stats::Union{Symbol, Pair}...` : the summary statistics to report. Arguments can be:\n",
       "\n",
       "      * A symbol from the list `:mean`, `:std`, `:min`, `:q25`, `:median`, `:q75`, `:max`, `:eltype`, `:nunique`, `:first`, `:last`, and `:nmissing`. The default statistics used are `:mean`, `:min`, `:median`, `:max`, `:nunique`, `:nmissing`, and `:eltype`.\n",
       "      * `:all` as the only `Symbol` argument to return all statistics.\n",
       "      * A `name => function` pair where `name` is a `Symbol` or string. This will create a column of summary statistics with the provided name.\n",
       "  * `cols` : a keyword argument allowing to select only a subset of columns from `df` to describe. Can be any column selector (`Symbol`, string or integer; `:`, `All`, `Between`, `Not`, a regular expression, or a vector of `Symbol`s, strings or integers).\n",
       "\n",
       "# Details\n",
       "\n",
       "For `Real` columns, compute the mean, standard deviation, minimum, first quantile, median, third quantile, and maximum. If a column does not derive from `Real`, `describe` will attempt to calculate all statistics, using `nothing` as a fall-back in the case of an error.\n",
       "\n",
       "When `stats` contains `:nunique`, `describe` will report the number of unique values in a column. If a column's base type derives from `Real`, `:nunique` will return `nothing`s.\n",
       "\n",
       "Missing values are filtered in the calculation of all statistics, however the column `:nmissing` will report the number of missing values of that variable. If the column does not allow missing values, `nothing` is returned. Consequently, `nmissing = 0` indicates that the column allows missing values, but does not currently contain any.\n",
       "\n",
       "If custom functions are provided, they are called repeatedly with the vector corresponding to each column as the only argument. For columns allowing for missing values, the vector is wrapped in a call to `skipmissing`: custom functions must therefore support such objects (and not only vectors), and cannot access missing values.\n",
       "\n",
       "# Examples\n",
       "\n",
       "```julia\n",
       "julia> df = DataFrame(i=1:10, x=0.1:0.1:1.0, y='a':'j')\n",
       "10×3 DataFrame\n",
       "│ Row │ i     │ x       │ y    │\n",
       "│     │ Int64 │ Float64 │ Char │\n",
       "├─────┼───────┼─────────┼──────┤\n",
       "│ 1   │ 1     │ 0.1     │ 'a'  │\n",
       "│ 2   │ 2     │ 0.2     │ 'b'  │\n",
       "│ 3   │ 3     │ 0.3     │ 'c'  │\n",
       "│ 4   │ 4     │ 0.4     │ 'd'  │\n",
       "│ 5   │ 5     │ 0.5     │ 'e'  │\n",
       "│ 6   │ 6     │ 0.6     │ 'f'  │\n",
       "│ 7   │ 7     │ 0.7     │ 'g'  │\n",
       "│ 8   │ 8     │ 0.8     │ 'h'  │\n",
       "│ 9   │ 9     │ 0.9     │ 'i'  │\n",
       "│ 10  │ 10    │ 1.0     │ 'j'  │\n",
       "\n",
       "julia> describe(df)\n",
       "3×8 DataFrame\n",
       "│ Row │ variable │ mean   │ min │ median │ max │ nunique │ nmissing │ eltype   │\n",
       "│     │ Symbol   │ Union… │ Any │ Union… │ Any │ Union…  │ Nothing  │ DataType │\n",
       "├─────┼──────────┼────────┼─────┼────────┼─────┼─────────┼──────────┼──────────┤\n",
       "│ 1   │ i        │ 5.5    │ 1   │ 5.5    │ 10  │         │          │ Int64    │\n",
       "│ 2   │ x        │ 0.55   │ 0.1 │ 0.55   │ 1.0 │         │          │ Float64  │\n",
       "│ 3   │ y        │        │ 'a' │        │ 'j' │ 10      │          │ Char     │\n",
       "\n",
       "julia> describe(df, :min, :max)\n",
       "3×3 DataFrame\n",
       "│ Row │ variable │ min │ max │\n",
       "│     │ Symbol   │ Any │ Any │\n",
       "├─────┼──────────┼─────┼─────┤\n",
       "│ 1   │ i        │ 1   │ 10  │\n",
       "│ 2   │ x        │ 0.1 │ 1.0 │\n",
       "│ 3   │ y        │ 'a' │ 'j' │\n",
       "\n",
       "julia> describe(df, :min, :sum => sum)\n",
       "3×3 DataFrame\n",
       "│ Row │ variable │ min │ sum │\n",
       "│     │ Symbol   │ Any │ Any │\n",
       "├─────┼──────────┼─────┼─────┤\n",
       "│ 1   │ i        │ 1   │ 55  │\n",
       "│ 2   │ x        │ 0.1 │ 5.5 │\n",
       "│ 3   │ y        │ 'a' │     │\n",
       "\n",
       "julia> describe(df, :min, :sum => sum, cols=:x)\n",
       "1×3 DataFrame\n",
       "│ Row │ variable │ min     │ sum     │\n",
       "│     │ Symbol   │ Float64 │ Float64 │\n",
       "├─────┼──────────┼─────────┼─────────┤\n",
       "│ 1   │ x        │ 0.1     │ 5.5     │\n",
       "```\n",
       "\n",
       "---\n",
       "\n",
       "```\n",
       "describe(a)\n",
       "```\n",
       "\n",
       "Pretty-print the summary statistics provided by [`summarystats`](@ref): the mean, minimum, 25th percentile, median, 75th percentile, and maximum.\n"
      ],
      "text/plain": [
       "\u001b[36m  describe(io::IO, x)\u001b[39m\n",
       "\n",
       "  For an object \u001b[36mx\u001b[39m, print descriptive statistics to \u001b[36mio\u001b[39m.\n",
       "\n",
       "  This generic function is owned by StatsBase.jl, which is the sole provider\n",
       "  of the default definition.\n",
       "\n",
       "  ────────────────────────────────────────────────────────────────────────────\n",
       "\n",
       "\u001b[36m  describe(df::AbstractDataFrame; cols=:)\u001b[39m\n",
       "\u001b[36m  describe(df::AbstractDataFrame, stats::Union{Symbol, Pair}...; cols=:)\u001b[39m\n",
       "\n",
       "  Return descriptive statistics for a data frame as a new \u001b[36mDataFrame\u001b[39m where each\n",
       "  row represents a variable and each column a summary statistic.\n",
       "\n",
       "\u001b[1m  Arguments\u001b[22m\n",
       "\u001b[1m  ≡≡≡≡≡≡≡≡≡≡≡\u001b[22m\n",
       "\n",
       "    •    \u001b[36mdf\u001b[39m : the \u001b[36mAbstractDataFrame\u001b[39m\n",
       "\n",
       "    •    \u001b[36mstats::Union{Symbol, Pair}...\u001b[39m : the summary statistics to report.\n",
       "        Arguments can be:\n",
       "      \n",
       "          •    A symbol from the list \u001b[36m:mean\u001b[39m, \u001b[36m:std\u001b[39m, \u001b[36m:min\u001b[39m, \u001b[36m:q25\u001b[39m, \u001b[36m:median\u001b[39m,\n",
       "              \u001b[36m:q75\u001b[39m, \u001b[36m:max\u001b[39m, \u001b[36m:eltype\u001b[39m, \u001b[36m:nunique\u001b[39m, \u001b[36m:first\u001b[39m, \u001b[36m:last\u001b[39m, and\n",
       "              \u001b[36m:nmissing\u001b[39m. The default statistics used are \u001b[36m:mean\u001b[39m, \u001b[36m:min\u001b[39m,\n",
       "              \u001b[36m:median\u001b[39m, \u001b[36m:max\u001b[39m, \u001b[36m:nunique\u001b[39m, \u001b[36m:nmissing\u001b[39m, and \u001b[36m:eltype\u001b[39m.\n",
       "      \n",
       "          •    \u001b[36m:all\u001b[39m as the only \u001b[36mSymbol\u001b[39m argument to return all\n",
       "              statistics.\n",
       "      \n",
       "          •    A \u001b[36mname => function\u001b[39m pair where \u001b[36mname\u001b[39m is a \u001b[36mSymbol\u001b[39m or\n",
       "              string. This will create a column of summary statistics\n",
       "              with the provided name.\n",
       "\n",
       "    •    \u001b[36mcols\u001b[39m : a keyword argument allowing to select only a subset of\n",
       "        columns from \u001b[36mdf\u001b[39m to describe. Can be any column selector (\u001b[36mSymbol\u001b[39m,\n",
       "        string or integer; \u001b[36m:\u001b[39m, \u001b[36mAll\u001b[39m, \u001b[36mBetween\u001b[39m, \u001b[36mNot\u001b[39m, a regular expression, or\n",
       "        a vector of \u001b[36mSymbol\u001b[39ms, strings or integers).\n",
       "\n",
       "\u001b[1m  Details\u001b[22m\n",
       "\u001b[1m  ≡≡≡≡≡≡≡≡≡\u001b[22m\n",
       "\n",
       "  For \u001b[36mReal\u001b[39m columns, compute the mean, standard deviation, minimum, first\n",
       "  quantile, median, third quantile, and maximum. If a column does not derive\n",
       "  from \u001b[36mReal\u001b[39m, \u001b[36mdescribe\u001b[39m will attempt to calculate all statistics, using \u001b[36mnothing\u001b[39m\n",
       "  as a fall-back in the case of an error.\n",
       "\n",
       "  When \u001b[36mstats\u001b[39m contains \u001b[36m:nunique\u001b[39m, \u001b[36mdescribe\u001b[39m will report the number of unique\n",
       "  values in a column. If a column's base type derives from \u001b[36mReal\u001b[39m, \u001b[36m:nunique\u001b[39m will\n",
       "  return \u001b[36mnothing\u001b[39ms.\n",
       "\n",
       "  Missing values are filtered in the calculation of all statistics, however\n",
       "  the column \u001b[36m:nmissing\u001b[39m will report the number of missing values of that\n",
       "  variable. If the column does not allow missing values, \u001b[36mnothing\u001b[39m is returned.\n",
       "  Consequently, \u001b[36mnmissing = 0\u001b[39m indicates that the column allows missing values,\n",
       "  but does not currently contain any.\n",
       "\n",
       "  If custom functions are provided, they are called repeatedly with the vector\n",
       "  corresponding to each column as the only argument. For columns allowing for\n",
       "  missing values, the vector is wrapped in a call to \u001b[36mskipmissing\u001b[39m: custom\n",
       "  functions must therefore support such objects (and not only vectors), and\n",
       "  cannot access missing values.\n",
       "\n",
       "\u001b[1m  Examples\u001b[22m\n",
       "\u001b[1m  ≡≡≡≡≡≡≡≡≡≡\u001b[22m\n",
       "\n",
       "\u001b[36m  julia> df = DataFrame(i=1:10, x=0.1:0.1:1.0, y='a':'j')\u001b[39m\n",
       "\u001b[36m  10×3 DataFrame\u001b[39m\n",
       "\u001b[36m  │ Row │ i     │ x       │ y    │\u001b[39m\n",
       "\u001b[36m  │     │ Int64 │ Float64 │ Char │\u001b[39m\n",
       "\u001b[36m  ├─────┼───────┼─────────┼──────┤\u001b[39m\n",
       "\u001b[36m  │ 1   │ 1     │ 0.1     │ 'a'  │\u001b[39m\n",
       "\u001b[36m  │ 2   │ 2     │ 0.2     │ 'b'  │\u001b[39m\n",
       "\u001b[36m  │ 3   │ 3     │ 0.3     │ 'c'  │\u001b[39m\n",
       "\u001b[36m  │ 4   │ 4     │ 0.4     │ 'd'  │\u001b[39m\n",
       "\u001b[36m  │ 5   │ 5     │ 0.5     │ 'e'  │\u001b[39m\n",
       "\u001b[36m  │ 6   │ 6     │ 0.6     │ 'f'  │\u001b[39m\n",
       "\u001b[36m  │ 7   │ 7     │ 0.7     │ 'g'  │\u001b[39m\n",
       "\u001b[36m  │ 8   │ 8     │ 0.8     │ 'h'  │\u001b[39m\n",
       "\u001b[36m  │ 9   │ 9     │ 0.9     │ 'i'  │\u001b[39m\n",
       "\u001b[36m  │ 10  │ 10    │ 1.0     │ 'j'  │\u001b[39m\n",
       "\u001b[36m  \u001b[39m\n",
       "\u001b[36m  julia> describe(df)\u001b[39m\n",
       "\u001b[36m  3×8 DataFrame\u001b[39m\n",
       "\u001b[36m  │ Row │ variable │ mean   │ min │ median │ max │ nunique │ nmissing │ eltype   │\u001b[39m\n",
       "\u001b[36m  │     │ Symbol   │ Union… │ Any │ Union… │ Any │ Union…  │ Nothing  │ DataType │\u001b[39m\n",
       "\u001b[36m  ├─────┼──────────┼────────┼─────┼────────┼─────┼─────────┼──────────┼──────────┤\u001b[39m\n",
       "\u001b[36m  │ 1   │ i        │ 5.5    │ 1   │ 5.5    │ 10  │         │          │ Int64    │\u001b[39m\n",
       "\u001b[36m  │ 2   │ x        │ 0.55   │ 0.1 │ 0.55   │ 1.0 │         │          │ Float64  │\u001b[39m\n",
       "\u001b[36m  │ 3   │ y        │        │ 'a' │        │ 'j' │ 10      │          │ Char     │\u001b[39m\n",
       "\u001b[36m  \u001b[39m\n",
       "\u001b[36m  julia> describe(df, :min, :max)\u001b[39m\n",
       "\u001b[36m  3×3 DataFrame\u001b[39m\n",
       "\u001b[36m  │ Row │ variable │ min │ max │\u001b[39m\n",
       "\u001b[36m  │     │ Symbol   │ Any │ Any │\u001b[39m\n",
       "\u001b[36m  ├─────┼──────────┼─────┼─────┤\u001b[39m\n",
       "\u001b[36m  │ 1   │ i        │ 1   │ 10  │\u001b[39m\n",
       "\u001b[36m  │ 2   │ x        │ 0.1 │ 1.0 │\u001b[39m\n",
       "\u001b[36m  │ 3   │ y        │ 'a' │ 'j' │\u001b[39m\n",
       "\u001b[36m  \u001b[39m\n",
       "\u001b[36m  julia> describe(df, :min, :sum => sum)\u001b[39m\n",
       "\u001b[36m  3×3 DataFrame\u001b[39m\n",
       "\u001b[36m  │ Row │ variable │ min │ sum │\u001b[39m\n",
       "\u001b[36m  │     │ Symbol   │ Any │ Any │\u001b[39m\n",
       "\u001b[36m  ├─────┼──────────┼─────┼─────┤\u001b[39m\n",
       "\u001b[36m  │ 1   │ i        │ 1   │ 55  │\u001b[39m\n",
       "\u001b[36m  │ 2   │ x        │ 0.1 │ 5.5 │\u001b[39m\n",
       "\u001b[36m  │ 3   │ y        │ 'a' │     │\u001b[39m\n",
       "\u001b[36m  \u001b[39m\n",
       "\u001b[36m  julia> describe(df, :min, :sum => sum, cols=:x)\u001b[39m\n",
       "\u001b[36m  1×3 DataFrame\u001b[39m\n",
       "\u001b[36m  │ Row │ variable │ min     │ sum     │\u001b[39m\n",
       "\u001b[36m  │     │ Symbol   │ Float64 │ Float64 │\u001b[39m\n",
       "\u001b[36m  ├─────┼──────────┼─────────┼─────────┤\u001b[39m\n",
       "\u001b[36m  │ 1   │ x        │ 0.1     │ 5.5     │\u001b[39m\n",
       "\n",
       "  ────────────────────────────────────────────────────────────────────────────\n",
       "\n",
       "\u001b[36m  describe(a)\u001b[39m\n",
       "\n",
       "  Pretty-print the summary statistics provided by \u001b[36msummarystats\u001b[39m: the mean,\n",
       "  minimum, 25th percentile, median, 75th percentile, and maximum."
      ]
     },
     "execution_count": 23,
     "metadata": {},
     "output_type": "execute_result"
    }
   ],
   "source": [
    "?describe"
   ]
  },
  {
   "cell_type": "code",
   "execution_count": 22,
   "metadata": {},
   "outputs": [
    {
     "ename": "MethodError",
     "evalue": "MethodError: no method matching isnan(::DataFrame)\nClosest candidates are:\n  isnan(!Matched::BigFloat) at mpfr.jl:893\n  isnan(!Matched::Missing) at missing.jl:100\n  isnan(!Matched::Float16) at float.jl:537\n  ...",
     "output_type": "error",
     "traceback": [
      "MethodError: no method matching isnan(::DataFrame)\nClosest candidates are:\n  isnan(!Matched::BigFloat) at mpfr.jl:893\n  isnan(!Matched::Missing) at missing.jl:100\n  isnan(!Matched::Float16) at float.jl:537\n  ...",
      "",
      "Stacktrace:",
      " [1] top-level scope at In[22]:1"
     ]
    }
   ],
   "source": [
    "any(isnan([:,:]))"
   ]
  },
  {
   "cell_type": "markdown",
   "metadata": {},
   "source": []
  },
  {
   "cell_type": "code",
   "execution_count": 121,
   "metadata": {},
   "outputs": [
    {
     "ename": "ErrorException",
     "evalue": "setindex! not defined for CSV.Column{String,String}",
     "output_type": "error",
     "traceback": [
      "setindex! not defined for CSV.Column{String,String}",
      "",
      "Stacktrace:",
      " [1] error(::String, ::Type{T} where T) at .\\error.jl:42",
      " [2] error_if_canonical_setindex(::IndexLinear, ::CSV.Column{String,String}, ::Int64) at .\\abstractarray.jl:1081",
      " [3] setindex!(::CSV.Column{String,String}, ::Missing, ::Int64) at .\\abstractarray.jl:1072",
      " [4] insert_single_entry!(::DataFrame, ::Missing, ::Int64, ::Int64) at C:\\Users\\Victor\\.julia\\packages\\DataFrames\\kwVTY\\src\\dataframe\\dataframe.jl:523",
      " [5] setindex!(::DataFrame, ::Missing, ::Int64, ::Int64) at C:\\Users\\Victor\\.julia\\packages\\DataFrames\\kwVTY\\src\\dataframe\\dataframe.jl:557",
      " [6] top-level scope at In[121]:1"
     ]
    }
   ],
   "source": [
    "flights_df[1,10]=missing"
   ]
  },
  {
   "cell_type": "code",
   "execution_count": 120,
   "metadata": {},
   "outputs": [
    {
     "ename": "ErrorException",
     "evalue": "setindex! not defined for CSV.Column{String,String}",
     "output_type": "error",
     "traceback": [
      "setindex! not defined for CSV.Column{String,String}",
      "",
      "Stacktrace:",
      " [1] error(::String, ::Type{T} where T) at .\\error.jl:42",
      " [2] error_if_canonical_setindex(::IndexLinear, ::CSV.Column{String,String}, ::Int64) at .\\abstractarray.jl:1081",
      " [3] setindex!(::CSV.Column{String,String}, ::Missing, ::Int64) at .\\abstractarray.jl:1072",
      " [4] insert_single_entry!(::DataFrame, ::Missing, ::Int64, ::Int64) at C:\\Users\\Victor\\.julia\\packages\\DataFrames\\kwVTY\\src\\dataframe\\dataframe.jl:523",
      " [5] setindex!(::DataFrame, ::Missing, ::Int64, ::Int64) at C:\\Users\\Victor\\.julia\\packages\\DataFrames\\kwVTY\\src\\dataframe\\dataframe.jl:557",
      " [6] top-level scope at .\\In[120]:4"
     ]
    }
   ],
   "source": [
    "for row=1:size(flights_df,1)\n",
    "    for col=1:size(flights_df,2)\n",
    "        if(flights_df[row,col]==\"NA\")\n",
    "            flights_df[row,col]=missing\n",
    "        end\n",
    "    end\n",
    "end"
   ]
  },
  {
   "cell_type": "markdown",
   "metadata": {},
   "source": [
    "#### 14.3\n",
    "Cleanup the data\n",
    "\n",
    "*Hint:- handle the missing values using `dropmissing` from `DataFrames` package*"
   ]
  },
  {
   "cell_type": "code",
   "execution_count": 49,
   "metadata": {},
   "outputs": [
    {
     "data": {
      "text/html": [
       "<table class=\"data-frame\"><thead><tr><th></th><th>Column1</th><th>year</th><th>month</th><th>day</th><th>dep_time</th><th>sched_dep_time</th><th>dep_delay</th><th>arr_time</th><th>sched_arr_time</th></tr><tr><th></th><th>Int64</th><th>Int64</th><th>Int64</th><th>Int64</th><th>Int64</th><th>Int64</th><th>Int64</th><th>Int64</th><th>Int64</th></tr></thead><tbody><p>327,346 rows × 20 columns (omitted printing of 11 columns)</p><tr><th>1</th><td>1</td><td>2013</td><td>1</td><td>1</td><td>517</td><td>515</td><td>2</td><td>830</td><td>819</td></tr><tr><th>2</th><td>2</td><td>2013</td><td>1</td><td>1</td><td>533</td><td>529</td><td>4</td><td>850</td><td>830</td></tr><tr><th>3</th><td>3</td><td>2013</td><td>1</td><td>1</td><td>542</td><td>540</td><td>2</td><td>923</td><td>850</td></tr><tr><th>4</th><td>4</td><td>2013</td><td>1</td><td>1</td><td>544</td><td>545</td><td>-1</td><td>1004</td><td>1022</td></tr><tr><th>5</th><td>5</td><td>2013</td><td>1</td><td>1</td><td>554</td><td>600</td><td>-6</td><td>812</td><td>837</td></tr><tr><th>6</th><td>6</td><td>2013</td><td>1</td><td>1</td><td>554</td><td>558</td><td>-4</td><td>740</td><td>728</td></tr><tr><th>7</th><td>7</td><td>2013</td><td>1</td><td>1</td><td>555</td><td>600</td><td>-5</td><td>913</td><td>854</td></tr><tr><th>8</th><td>8</td><td>2013</td><td>1</td><td>1</td><td>557</td><td>600</td><td>-3</td><td>709</td><td>723</td></tr><tr><th>9</th><td>9</td><td>2013</td><td>1</td><td>1</td><td>557</td><td>600</td><td>-3</td><td>838</td><td>846</td></tr><tr><th>10</th><td>10</td><td>2013</td><td>1</td><td>1</td><td>558</td><td>600</td><td>-2</td><td>753</td><td>745</td></tr><tr><th>11</th><td>11</td><td>2013</td><td>1</td><td>1</td><td>558</td><td>600</td><td>-2</td><td>849</td><td>851</td></tr><tr><th>12</th><td>12</td><td>2013</td><td>1</td><td>1</td><td>558</td><td>600</td><td>-2</td><td>853</td><td>856</td></tr><tr><th>13</th><td>13</td><td>2013</td><td>1</td><td>1</td><td>558</td><td>600</td><td>-2</td><td>924</td><td>917</td></tr><tr><th>14</th><td>14</td><td>2013</td><td>1</td><td>1</td><td>558</td><td>600</td><td>-2</td><td>923</td><td>937</td></tr><tr><th>15</th><td>15</td><td>2013</td><td>1</td><td>1</td><td>559</td><td>600</td><td>-1</td><td>941</td><td>910</td></tr><tr><th>16</th><td>16</td><td>2013</td><td>1</td><td>1</td><td>559</td><td>559</td><td>0</td><td>702</td><td>706</td></tr><tr><th>17</th><td>17</td><td>2013</td><td>1</td><td>1</td><td>559</td><td>600</td><td>-1</td><td>854</td><td>902</td></tr><tr><th>18</th><td>18</td><td>2013</td><td>1</td><td>1</td><td>600</td><td>600</td><td>0</td><td>851</td><td>858</td></tr><tr><th>19</th><td>19</td><td>2013</td><td>1</td><td>1</td><td>600</td><td>600</td><td>0</td><td>837</td><td>825</td></tr><tr><th>20</th><td>20</td><td>2013</td><td>1</td><td>1</td><td>601</td><td>600</td><td>1</td><td>844</td><td>850</td></tr><tr><th>21</th><td>21</td><td>2013</td><td>1</td><td>1</td><td>602</td><td>610</td><td>-8</td><td>812</td><td>820</td></tr><tr><th>22</th><td>22</td><td>2013</td><td>1</td><td>1</td><td>602</td><td>605</td><td>-3</td><td>821</td><td>805</td></tr><tr><th>23</th><td>23</td><td>2013</td><td>1</td><td>1</td><td>606</td><td>610</td><td>-4</td><td>858</td><td>910</td></tr><tr><th>24</th><td>24</td><td>2013</td><td>1</td><td>1</td><td>606</td><td>610</td><td>-4</td><td>837</td><td>845</td></tr><tr><th>25</th><td>25</td><td>2013</td><td>1</td><td>1</td><td>607</td><td>607</td><td>0</td><td>858</td><td>915</td></tr><tr><th>26</th><td>26</td><td>2013</td><td>1</td><td>1</td><td>608</td><td>600</td><td>8</td><td>807</td><td>735</td></tr><tr><th>27</th><td>27</td><td>2013</td><td>1</td><td>1</td><td>611</td><td>600</td><td>11</td><td>945</td><td>931</td></tr><tr><th>28</th><td>28</td><td>2013</td><td>1</td><td>1</td><td>613</td><td>610</td><td>3</td><td>925</td><td>921</td></tr><tr><th>29</th><td>29</td><td>2013</td><td>1</td><td>1</td><td>615</td><td>615</td><td>0</td><td>1039</td><td>1100</td></tr><tr><th>30</th><td>30</td><td>2013</td><td>1</td><td>1</td><td>615</td><td>615</td><td>0</td><td>833</td><td>842</td></tr><tr><th>&vellip;</th><td>&vellip;</td><td>&vellip;</td><td>&vellip;</td><td>&vellip;</td><td>&vellip;</td><td>&vellip;</td><td>&vellip;</td><td>&vellip;</td><td>&vellip;</td></tr></tbody></table>"
      ],
      "text/latex": [
       "\\begin{tabular}{r|cccccccccc}\n",
       "\t& Column1 & year & month & day & dep\\_time & sched\\_dep\\_time & dep\\_delay & arr\\_time & sched\\_arr\\_time & \\\\\n",
       "\t\\hline\n",
       "\t& Int64 & Int64 & Int64 & Int64 & Int64 & Int64 & Int64 & Int64 & Int64 & \\\\\n",
       "\t\\hline\n",
       "\t1 & 1 & 2013 & 1 & 1 & 517 & 515 & 2 & 830 & 819 & $\\dots$ \\\\\n",
       "\t2 & 2 & 2013 & 1 & 1 & 533 & 529 & 4 & 850 & 830 & $\\dots$ \\\\\n",
       "\t3 & 3 & 2013 & 1 & 1 & 542 & 540 & 2 & 923 & 850 & $\\dots$ \\\\\n",
       "\t4 & 4 & 2013 & 1 & 1 & 544 & 545 & -1 & 1004 & 1022 & $\\dots$ \\\\\n",
       "\t5 & 5 & 2013 & 1 & 1 & 554 & 600 & -6 & 812 & 837 & $\\dots$ \\\\\n",
       "\t6 & 6 & 2013 & 1 & 1 & 554 & 558 & -4 & 740 & 728 & $\\dots$ \\\\\n",
       "\t7 & 7 & 2013 & 1 & 1 & 555 & 600 & -5 & 913 & 854 & $\\dots$ \\\\\n",
       "\t8 & 8 & 2013 & 1 & 1 & 557 & 600 & -3 & 709 & 723 & $\\dots$ \\\\\n",
       "\t9 & 9 & 2013 & 1 & 1 & 557 & 600 & -3 & 838 & 846 & $\\dots$ \\\\\n",
       "\t10 & 10 & 2013 & 1 & 1 & 558 & 600 & -2 & 753 & 745 & $\\dots$ \\\\\n",
       "\t11 & 11 & 2013 & 1 & 1 & 558 & 600 & -2 & 849 & 851 & $\\dots$ \\\\\n",
       "\t12 & 12 & 2013 & 1 & 1 & 558 & 600 & -2 & 853 & 856 & $\\dots$ \\\\\n",
       "\t13 & 13 & 2013 & 1 & 1 & 558 & 600 & -2 & 924 & 917 & $\\dots$ \\\\\n",
       "\t14 & 14 & 2013 & 1 & 1 & 558 & 600 & -2 & 923 & 937 & $\\dots$ \\\\\n",
       "\t15 & 15 & 2013 & 1 & 1 & 559 & 600 & -1 & 941 & 910 & $\\dots$ \\\\\n",
       "\t16 & 16 & 2013 & 1 & 1 & 559 & 559 & 0 & 702 & 706 & $\\dots$ \\\\\n",
       "\t17 & 17 & 2013 & 1 & 1 & 559 & 600 & -1 & 854 & 902 & $\\dots$ \\\\\n",
       "\t18 & 18 & 2013 & 1 & 1 & 600 & 600 & 0 & 851 & 858 & $\\dots$ \\\\\n",
       "\t19 & 19 & 2013 & 1 & 1 & 600 & 600 & 0 & 837 & 825 & $\\dots$ \\\\\n",
       "\t20 & 20 & 2013 & 1 & 1 & 601 & 600 & 1 & 844 & 850 & $\\dots$ \\\\\n",
       "\t21 & 21 & 2013 & 1 & 1 & 602 & 610 & -8 & 812 & 820 & $\\dots$ \\\\\n",
       "\t22 & 22 & 2013 & 1 & 1 & 602 & 605 & -3 & 821 & 805 & $\\dots$ \\\\\n",
       "\t23 & 23 & 2013 & 1 & 1 & 606 & 610 & -4 & 858 & 910 & $\\dots$ \\\\\n",
       "\t24 & 24 & 2013 & 1 & 1 & 606 & 610 & -4 & 837 & 845 & $\\dots$ \\\\\n",
       "\t25 & 25 & 2013 & 1 & 1 & 607 & 607 & 0 & 858 & 915 & $\\dots$ \\\\\n",
       "\t26 & 26 & 2013 & 1 & 1 & 608 & 600 & 8 & 807 & 735 & $\\dots$ \\\\\n",
       "\t27 & 27 & 2013 & 1 & 1 & 611 & 600 & 11 & 945 & 931 & $\\dots$ \\\\\n",
       "\t28 & 28 & 2013 & 1 & 1 & 613 & 610 & 3 & 925 & 921 & $\\dots$ \\\\\n",
       "\t29 & 29 & 2013 & 1 & 1 & 615 & 615 & 0 & 1039 & 1100 & $\\dots$ \\\\\n",
       "\t30 & 30 & 2013 & 1 & 1 & 615 & 615 & 0 & 833 & 842 & $\\dots$ \\\\\n",
       "\t$\\dots$ & $\\dots$ & $\\dots$ & $\\dots$ & $\\dots$ & $\\dots$ & $\\dots$ & $\\dots$ & $\\dots$ & $\\dots$ &  \\\\\n",
       "\\end{tabular}\n"
      ],
      "text/plain": [
       "327346×20 DataFrame. Omitted printing of 14 columns\n",
       "│ Row    │ Column1 │ year  │ month │ day   │ dep_time │ sched_dep_time │\n",
       "│        │ \u001b[90mInt64\u001b[39m   │ \u001b[90mInt64\u001b[39m │ \u001b[90mInt64\u001b[39m │ \u001b[90mInt64\u001b[39m │ \u001b[90mInt64\u001b[39m    │ \u001b[90mInt64\u001b[39m          │\n",
       "├────────┼─────────┼───────┼───────┼───────┼──────────┼────────────────┤\n",
       "│ 1      │ 1       │ 2013  │ 1     │ 1     │ 517      │ 515            │\n",
       "│ 2      │ 2       │ 2013  │ 1     │ 1     │ 533      │ 529            │\n",
       "│ 3      │ 3       │ 2013  │ 1     │ 1     │ 542      │ 540            │\n",
       "│ 4      │ 4       │ 2013  │ 1     │ 1     │ 544      │ 545            │\n",
       "│ 5      │ 5       │ 2013  │ 1     │ 1     │ 554      │ 600            │\n",
       "│ 6      │ 6       │ 2013  │ 1     │ 1     │ 554      │ 558            │\n",
       "│ 7      │ 7       │ 2013  │ 1     │ 1     │ 555      │ 600            │\n",
       "│ 8      │ 8       │ 2013  │ 1     │ 1     │ 557      │ 600            │\n",
       "│ 9      │ 9       │ 2013  │ 1     │ 1     │ 557      │ 600            │\n",
       "│ 10     │ 10      │ 2013  │ 1     │ 1     │ 558      │ 600            │\n",
       "⋮\n",
       "│ 327336 │ 336760  │ 2013  │ 9     │ 30    │ 2207     │ 2140           │\n",
       "│ 327337 │ 336761  │ 2013  │ 9     │ 30    │ 2211     │ 2059           │\n",
       "│ 327338 │ 336762  │ 2013  │ 9     │ 30    │ 2231     │ 2245           │\n",
       "│ 327339 │ 336763  │ 2013  │ 9     │ 30    │ 2233     │ 2113           │\n",
       "│ 327340 │ 336764  │ 2013  │ 9     │ 30    │ 2235     │ 2001           │\n",
       "│ 327341 │ 336765  │ 2013  │ 9     │ 30    │ 2237     │ 2245           │\n",
       "│ 327342 │ 336766  │ 2013  │ 9     │ 30    │ 2240     │ 2245           │\n",
       "│ 327343 │ 336767  │ 2013  │ 9     │ 30    │ 2240     │ 2250           │\n",
       "│ 327344 │ 336768  │ 2013  │ 9     │ 30    │ 2241     │ 2246           │\n",
       "│ 327345 │ 336769  │ 2013  │ 9     │ 30    │ 2307     │ 2255           │\n",
       "│ 327346 │ 336770  │ 2013  │ 9     │ 30    │ 2349     │ 2359           │"
      ]
     },
     "execution_count": 49,
     "metadata": {},
     "output_type": "execute_result"
    }
   ],
   "source": [
    "`=dropmissing(flights_df_missingstring)"
   ]
  },
  {
   "cell_type": "code",
   "execution_count": 50,
   "metadata": {},
   "outputs": [
    {
     "data": {
      "text/html": [
       "<table class=\"data-frame\"><thead><tr><th></th><th>variable</th><th>mean</th><th>min</th><th>median</th><th>max</th><th>nunique</th></tr><tr><th></th><th>Symbol</th><th>Union…</th><th>Any</th><th>Union…</th><th>Any</th><th>Union…</th></tr></thead><tbody><p>20 rows × 8 columns (omitted printing of 2 columns)</p><tr><th>1</th><td>Column1</td><td>168192.0</td><td>1</td><td>168252.0</td><td>336770</td><td></td></tr><tr><th>2</th><td>year</td><td>2013.0</td><td>2013</td><td>2013.0</td><td>2013</td><td></td></tr><tr><th>3</th><td>month</td><td>6.5648</td><td>1</td><td>7.0</td><td>12</td><td></td></tr><tr><th>4</th><td>day</td><td>15.7408</td><td>1</td><td>16.0</td><td>31</td><td></td></tr><tr><th>5</th><td>dep_time</td><td>1348.79</td><td>1</td><td>1400.0</td><td>2400</td><td></td></tr><tr><th>6</th><td>sched_dep_time</td><td>1340.34</td><td>500</td><td>1355.0</td><td>2359</td><td></td></tr><tr><th>7</th><td>dep_delay</td><td>12.5552</td><td>-43</td><td>-2.0</td><td>1301</td><td></td></tr><tr><th>8</th><td>arr_time</td><td>1501.91</td><td>1</td><td>1535.0</td><td>2400</td><td></td></tr><tr><th>9</th><td>sched_arr_time</td><td>1532.79</td><td>1</td><td>1554.0</td><td>2359</td><td></td></tr><tr><th>10</th><td>arr_delay</td><td>6.89538</td><td>-86</td><td>-5.0</td><td>1272</td><td></td></tr><tr><th>11</th><td>carrier</td><td></td><td>9E</td><td></td><td>YV</td><td>16</td></tr><tr><th>12</th><td>flight</td><td>1943.1</td><td>1</td><td>1467.0</td><td>8500</td><td></td></tr><tr><th>13</th><td>tailnum</td><td></td><td>D942DN</td><td></td><td>N9EAMQ</td><td>4037</td></tr><tr><th>14</th><td>origin</td><td></td><td>EWR</td><td></td><td>LGA</td><td>3</td></tr><tr><th>15</th><td>dest</td><td></td><td>ABQ</td><td></td><td>XNA</td><td>104</td></tr><tr><th>16</th><td>air_time</td><td>150.686</td><td>20</td><td>129.0</td><td>695</td><td></td></tr><tr><th>17</th><td>distance</td><td>1048.37</td><td>80</td><td>888.0</td><td>4983</td><td></td></tr><tr><th>18</th><td>hour</td><td>13.141</td><td>5</td><td>13.0</td><td>23</td><td></td></tr><tr><th>19</th><td>minute</td><td>26.2341</td><td>0</td><td>29.0</td><td>59</td><td></td></tr><tr><th>20</th><td>time_hour</td><td></td><td>2013-01-01 05:00:00</td><td></td><td>2013-12-31 23:00:00</td><td>6922</td></tr></tbody></table>"
      ],
      "text/latex": [
       "\\begin{tabular}{r|ccccccc}\n",
       "\t& variable & mean & min & median & max & nunique & \\\\\n",
       "\t\\hline\n",
       "\t& Symbol & Union… & Any & Union… & Any & Union… & \\\\\n",
       "\t\\hline\n",
       "\t1 & Column1 & 168192.0 & 1 & 168252.0 & 336770 &  & $\\dots$ \\\\\n",
       "\t2 & year & 2013.0 & 2013 & 2013.0 & 2013 &  & $\\dots$ \\\\\n",
       "\t3 & month & 6.5648 & 1 & 7.0 & 12 &  & $\\dots$ \\\\\n",
       "\t4 & day & 15.7408 & 1 & 16.0 & 31 &  & $\\dots$ \\\\\n",
       "\t5 & dep\\_time & 1348.79 & 1 & 1400.0 & 2400 &  & $\\dots$ \\\\\n",
       "\t6 & sched\\_dep\\_time & 1340.34 & 500 & 1355.0 & 2359 &  & $\\dots$ \\\\\n",
       "\t7 & dep\\_delay & 12.5552 & -43 & -2.0 & 1301 &  & $\\dots$ \\\\\n",
       "\t8 & arr\\_time & 1501.91 & 1 & 1535.0 & 2400 &  & $\\dots$ \\\\\n",
       "\t9 & sched\\_arr\\_time & 1532.79 & 1 & 1554.0 & 2359 &  & $\\dots$ \\\\\n",
       "\t10 & arr\\_delay & 6.89538 & -86 & -5.0 & 1272 &  & $\\dots$ \\\\\n",
       "\t11 & carrier &  & 9E &  & YV & 16 & $\\dots$ \\\\\n",
       "\t12 & flight & 1943.1 & 1 & 1467.0 & 8500 &  & $\\dots$ \\\\\n",
       "\t13 & tailnum &  & D942DN &  & N9EAMQ & 4037 & $\\dots$ \\\\\n",
       "\t14 & origin &  & EWR &  & LGA & 3 & $\\dots$ \\\\\n",
       "\t15 & dest &  & ABQ &  & XNA & 104 & $\\dots$ \\\\\n",
       "\t16 & air\\_time & 150.686 & 20 & 129.0 & 695 &  & $\\dots$ \\\\\n",
       "\t17 & distance & 1048.37 & 80 & 888.0 & 4983 &  & $\\dots$ \\\\\n",
       "\t18 & hour & 13.141 & 5 & 13.0 & 23 &  & $\\dots$ \\\\\n",
       "\t19 & minute & 26.2341 & 0 & 29.0 & 59 &  & $\\dots$ \\\\\n",
       "\t20 & time\\_hour &  & 2013-01-01 05:00:00 &  & 2013-12-31 23:00:00 & 6922 & $\\dots$ \\\\\n",
       "\\end{tabular}\n"
      ],
      "text/plain": [
       "20×8 DataFrame. Omitted printing of 4 columns\n",
       "│ Row │ variable       │ mean     │ min                 │ median   │\n",
       "│     │ \u001b[90mSymbol\u001b[39m         │ \u001b[90mUnion…\u001b[39m   │ \u001b[90mAny\u001b[39m                 │ \u001b[90mUnion…\u001b[39m   │\n",
       "├─────┼────────────────┼──────────┼─────────────────────┼──────────┤\n",
       "│ 1   │ Column1        │ 168192.0 │ 1                   │ 168252.0 │\n",
       "│ 2   │ year           │ 2013.0   │ 2013                │ 2013.0   │\n",
       "│ 3   │ month          │ 6.5648   │ 1                   │ 7.0      │\n",
       "│ 4   │ day            │ 15.7408  │ 1                   │ 16.0     │\n",
       "│ 5   │ dep_time       │ 1348.79  │ 1                   │ 1400.0   │\n",
       "│ 6   │ sched_dep_time │ 1340.34  │ 500                 │ 1355.0   │\n",
       "│ 7   │ dep_delay      │ 12.5552  │ -43                 │ -2.0     │\n",
       "│ 8   │ arr_time       │ 1501.91  │ 1                   │ 1535.0   │\n",
       "│ 9   │ sched_arr_time │ 1532.79  │ 1                   │ 1554.0   │\n",
       "│ 10  │ arr_delay      │ 6.89538  │ -86                 │ -5.0     │\n",
       "│ 11  │ carrier        │          │ 9E                  │          │\n",
       "│ 12  │ flight         │ 1943.1   │ 1                   │ 1467.0   │\n",
       "│ 13  │ tailnum        │          │ D942DN              │          │\n",
       "│ 14  │ origin         │          │ EWR                 │          │\n",
       "│ 15  │ dest           │          │ ABQ                 │          │\n",
       "│ 16  │ air_time       │ 150.686  │ 20                  │ 129.0    │\n",
       "│ 17  │ distance       │ 1048.37  │ 80                  │ 888.0    │\n",
       "│ 18  │ hour           │ 13.141   │ 5                   │ 13.0     │\n",
       "│ 19  │ minute         │ 26.2341  │ 0                   │ 29.0     │\n",
       "│ 20  │ time_hour      │          │ 2013-01-01 05:00:00 │          │"
      ]
     },
     "execution_count": 50,
     "metadata": {},
     "output_type": "execute_result"
    }
   ],
   "source": [
    "describe(flights_df_cleaned)"
   ]
  },
  {
   "cell_type": "markdown",
   "metadata": {},
   "source": [
    "#### 14.4\n",
    "Find how many flights      \n",
    "- Had an arrival delay of two or more hours  \n",
    "- Flew to Houston (IAH or HOU)\n",
    "\n",
    "*Hint:- use the filter function*"
   ]
  },
  {
   "cell_type": "code",
   "execution_count": 57,
   "metadata": {},
   "outputs": [
    {
     "name": "stderr",
     "output_type": "stream",
     "text": [
      "┌ Warning: `getindex(df::DataFrame, col_ind::ColumnIndex)` is deprecated, use `df[!, col_ind]` instead.\n",
      "│   caller = top-level scope at In[57]:1\n",
      "└ @ Core In[57]:1\n"
     ]
    },
    {
     "data": {
      "text/plain": [
       "327346-element Array{String,1}:\n",
       " \"IAH\"\n",
       " \"IAH\"\n",
       " \"MIA\"\n",
       " \"BQN\"\n",
       " \"ATL\"\n",
       " \"ORD\"\n",
       " \"FLL\"\n",
       " \"IAD\"\n",
       " \"MCO\"\n",
       " \"ORD\"\n",
       " \"PBI\"\n",
       " \"TPA\"\n",
       " \"LAX\"\n",
       " ⋮\n",
       " \"BGR\"\n",
       " \"BNA\"\n",
       " \"STL\"\n",
       " \"PWM\"\n",
       " \"SFO\"\n",
       " \"MCO\"\n",
       " \"BTV\"\n",
       " \"SYR\"\n",
       " \"BUF\"\n",
       " \"ROC\"\n",
       " \"BOS\"\n",
       " \"PSE\""
      ]
     },
     "execution_count": 57,
     "metadata": {},
     "output_type": "execute_result"
    }
   ],
   "source": [
    "flights_df_cleaned[\"dest\"]"
   ]
  },
  {
   "cell_type": "code",
   "execution_count": 70,
   "metadata": {},
   "outputs": [
    {
     "name": "stdout",
     "output_type": "stream",
     "text": [
      "search: \u001b[0m\u001b[1mf\u001b[22m\u001b[0m\u001b[1mi\u001b[22m\u001b[0m\u001b[1ml\u001b[22m\u001b[0m\u001b[1mt\u001b[22m\u001b[0m\u001b[1me\u001b[22m\u001b[0m\u001b[1mr\u001b[22m \u001b[0m\u001b[1mf\u001b[22m\u001b[0m\u001b[1mi\u001b[22m\u001b[0m\u001b[1ml\u001b[22m\u001b[0m\u001b[1mt\u001b[22m\u001b[0m\u001b[1me\u001b[22m\u001b[0m\u001b[1mr\u001b[22m! \u001b[0m\u001b[1mf\u001b[22m\u001b[0m\u001b[1mi\u001b[22me\u001b[0m\u001b[1ml\u001b[22md\u001b[0m\u001b[1mt\u001b[22myp\u001b[0m\u001b[1me\u001b[22m \u001b[0m\u001b[1mf\u001b[22m\u001b[0m\u001b[1mi\u001b[22me\u001b[0m\u001b[1ml\u001b[22md\u001b[0m\u001b[1mt\u001b[22myp\u001b[0m\u001b[1me\u001b[22ms\n",
      "\n"
     ]
    },
    {
     "data": {
      "text/latex": [
       "\\begin{verbatim}\n",
       "filter(f, a::AbstractArray)\n",
       "\\end{verbatim}\n",
       "Return a copy of \\texttt{a}, removing elements for which \\texttt{f} is \\texttt{false}. The function \\texttt{f} is passed one argument.\n",
       "\n",
       "\\section{Examples}\n",
       "\\begin{verbatim}\n",
       "julia> a = 1:10\n",
       "1:10\n",
       "\n",
       "julia> filter(isodd, a)\n",
       "5-element Array{Int64,1}:\n",
       " 1\n",
       " 3\n",
       " 5\n",
       " 7\n",
       " 9\n",
       "\\end{verbatim}\n",
       "\\rule{\\textwidth}{1pt}\n",
       "\\begin{verbatim}\n",
       "filter(f, d::AbstractDict)\n",
       "\\end{verbatim}\n",
       "Return a copy of \\texttt{d}, removing elements for which \\texttt{f} is \\texttt{false}. The function \\texttt{f} is passed \\texttt{key=>value} pairs.\n",
       "\n",
       "\\section{Examples}\n",
       "\\begin{verbatim}\n",
       "julia> d = Dict(1=>\"a\", 2=>\"b\")\n",
       "Dict{Int64,String} with 2 entries:\n",
       "  2 => \"b\"\n",
       "  1 => \"a\"\n",
       "\n",
       "julia> filter(p->isodd(p.first), d)\n",
       "Dict{Int64,String} with 1 entry:\n",
       "  1 => \"a\"\n",
       "\\end{verbatim}\n",
       "\\rule{\\textwidth}{1pt}\n",
       "\\begin{verbatim}\n",
       "filter(f, itr::SkipMissing{<:AbstractArray})\n",
       "\\end{verbatim}\n",
       "Return a vector similar to the array wrapped by the given \\texttt{SkipMissing} iterator but with all missing elements and those for which \\texttt{f} returns \\texttt{false} removed.\n",
       "\n",
       "\\begin{quote}\n",
       "\\textbf{compat}\n",
       "\n",
       "Julia 1.2\n",
       "\n",
       "This method requires Julia 1.2 or later.\n",
       "\n",
       "\\end{quote}\n",
       "\\section{Examples}\n",
       "\\begin{verbatim}\n",
       "julia> x = [1 2; missing 4]\n",
       "2×2 Array{Union{Missing, Int64},2}:\n",
       " 1         2\n",
       "  missing  4\n",
       "\n",
       "julia> filter(isodd, skipmissing(x))\n",
       "1-element Array{Int64,1}:\n",
       " 1\n",
       "\\end{verbatim}\n",
       "\\rule{\\textwidth}{1pt}\n",
       "\\begin{verbatim}\n",
       "filter(function, df::AbstractDataFrame)\n",
       "filter(cols => function, df::AbstractDataFrame)\n",
       "\\end{verbatim}\n",
       "Return a copy of data frame \\texttt{df} containing only rows for which \\texttt{function} returns \\texttt{true}.\n",
       "\n",
       "If \\texttt{cols} is not specified then the function is passed \\texttt{DataFrameRow}s.\n",
       "\n",
       "If \\texttt{cols} is specified then the function is passed elements of the corresponding columns as separate positional arguments, unless \\texttt{cols} is an \\texttt{AsTable} selector, in which case a \\texttt{NamedTuple} of these arguments is passed. \\texttt{cols} can be any column selector (\\texttt{Symbol}, string or integer; \\texttt{:}, \\texttt{All}, \\texttt{Between}, \\texttt{Not}, a regular expression, or a vector of \\texttt{Symbol}s, strings or integers), and column duplicates are allowed if a vector of \\texttt{Symbol}s, strings, or integers is passed.\n",
       "\n",
       "Passing \\texttt{cols} leads to a more efficient execution of the operation for large data frames.\n",
       "\n",
       "See also: \\href{@ref}{\\texttt{filter!}}\n",
       "\n",
       "\\section{Examples}\n",
       "\\begin{verbatim}\n",
       "julia> df = DataFrame(x = [3, 1, 2, 1], y = [\"b\", \"c\", \"a\", \"b\"])\n",
       "4×2 DataFrame\n",
       "│ Row │ x     │ y      │\n",
       "│     │ Int64 │ String │\n",
       "├─────┼───────┼────────┤\n",
       "│ 1   │ 3     │ b      │\n",
       "│ 2   │ 1     │ c      │\n",
       "│ 3   │ 2     │ a      │\n",
       "│ 4   │ 1     │ b      │\n",
       "\n",
       "julia> filter(row -> row.x > 1, df)\n",
       "2×2 DataFrame\n",
       "│ Row │ x     │ y      │\n",
       "│     │ Int64 │ String │\n",
       "├─────┼───────┼────────┤\n",
       "│ 1   │ 3     │ b      │\n",
       "│ 2   │ 2     │ a      │\n",
       "\n",
       "julia> filter(:x => x -> x > 1, df)\n",
       "2×2 DataFrame\n",
       "│ Row │ x     │ y      │\n",
       "│     │ Int64 │ String │\n",
       "├─────┼───────┼────────┤\n",
       "│ 1   │ 3     │ b      │\n",
       "│ 2   │ 2     │ a      │\n",
       "\n",
       "julia> filter([:x, :y] => (x, y) -> x == 1 || y == \"b\", df)\n",
       "3×2 DataFrame\n",
       "│ Row │ x     │ y      │\n",
       "│     │ Int64 │ String │\n",
       "├─────┼───────┼────────┤\n",
       "│ 1   │ 3     │ b      │\n",
       "│ 2   │ 1     │ c      │\n",
       "│ 3   │ 1     │ b      │\n",
       "\n",
       "julia> filter(AsTable(:) => nt -> nt.x == 1 || nt.y == \"b\", df)\n",
       "3×2 DataFrame\n",
       "│ Row │ x     │ y      │\n",
       "│     │ Int64 │ String │\n",
       "├─────┼───────┼────────┤\n",
       "│ 1   │ 3     │ b      │\n",
       "│ 2   │ 1     │ c      │\n",
       "│ 3   │ 1     │ b      │\n",
       "\\end{verbatim}\n"
      ],
      "text/markdown": [
       "```\n",
       "filter(f, a::AbstractArray)\n",
       "```\n",
       "\n",
       "Return a copy of `a`, removing elements for which `f` is `false`. The function `f` is passed one argument.\n",
       "\n",
       "# Examples\n",
       "\n",
       "```jldoctest\n",
       "julia> a = 1:10\n",
       "1:10\n",
       "\n",
       "julia> filter(isodd, a)\n",
       "5-element Array{Int64,1}:\n",
       " 1\n",
       " 3\n",
       " 5\n",
       " 7\n",
       " 9\n",
       "```\n",
       "\n",
       "---\n",
       "\n",
       "```\n",
       "filter(f, d::AbstractDict)\n",
       "```\n",
       "\n",
       "Return a copy of `d`, removing elements for which `f` is `false`. The function `f` is passed `key=>value` pairs.\n",
       "\n",
       "# Examples\n",
       "\n",
       "```jldoctest\n",
       "julia> d = Dict(1=>\"a\", 2=>\"b\")\n",
       "Dict{Int64,String} with 2 entries:\n",
       "  2 => \"b\"\n",
       "  1 => \"a\"\n",
       "\n",
       "julia> filter(p->isodd(p.first), d)\n",
       "Dict{Int64,String} with 1 entry:\n",
       "  1 => \"a\"\n",
       "```\n",
       "\n",
       "---\n",
       "\n",
       "```\n",
       "filter(f, itr::SkipMissing{<:AbstractArray})\n",
       "```\n",
       "\n",
       "Return a vector similar to the array wrapped by the given `SkipMissing` iterator but with all missing elements and those for which `f` returns `false` removed.\n",
       "\n",
       "!!! compat \"Julia 1.2\"\n",
       "    This method requires Julia 1.2 or later.\n",
       "\n",
       "\n",
       "# Examples\n",
       "\n",
       "```jldoctest\n",
       "julia> x = [1 2; missing 4]\n",
       "2×2 Array{Union{Missing, Int64},2}:\n",
       " 1         2\n",
       "  missing  4\n",
       "\n",
       "julia> filter(isodd, skipmissing(x))\n",
       "1-element Array{Int64,1}:\n",
       " 1\n",
       "```\n",
       "\n",
       "---\n",
       "\n",
       "```\n",
       "filter(function, df::AbstractDataFrame)\n",
       "filter(cols => function, df::AbstractDataFrame)\n",
       "```\n",
       "\n",
       "Return a copy of data frame `df` containing only rows for which `function` returns `true`.\n",
       "\n",
       "If `cols` is not specified then the function is passed `DataFrameRow`s.\n",
       "\n",
       "If `cols` is specified then the function is passed elements of the corresponding columns as separate positional arguments, unless `cols` is an `AsTable` selector, in which case a `NamedTuple` of these arguments is passed. `cols` can be any column selector (`Symbol`, string or integer; `:`, `All`, `Between`, `Not`, a regular expression, or a vector of `Symbol`s, strings or integers), and column duplicates are allowed if a vector of `Symbol`s, strings, or integers is passed.\n",
       "\n",
       "Passing `cols` leads to a more efficient execution of the operation for large data frames.\n",
       "\n",
       "See also: [`filter!`](@ref)\n",
       "\n",
       "# Examples\n",
       "\n",
       "```\n",
       "julia> df = DataFrame(x = [3, 1, 2, 1], y = [\"b\", \"c\", \"a\", \"b\"])\n",
       "4×2 DataFrame\n",
       "│ Row │ x     │ y      │\n",
       "│     │ Int64 │ String │\n",
       "├─────┼───────┼────────┤\n",
       "│ 1   │ 3     │ b      │\n",
       "│ 2   │ 1     │ c      │\n",
       "│ 3   │ 2     │ a      │\n",
       "│ 4   │ 1     │ b      │\n",
       "\n",
       "julia> filter(row -> row.x > 1, df)\n",
       "2×2 DataFrame\n",
       "│ Row │ x     │ y      │\n",
       "│     │ Int64 │ String │\n",
       "├─────┼───────┼────────┤\n",
       "│ 1   │ 3     │ b      │\n",
       "│ 2   │ 2     │ a      │\n",
       "\n",
       "julia> filter(:x => x -> x > 1, df)\n",
       "2×2 DataFrame\n",
       "│ Row │ x     │ y      │\n",
       "│     │ Int64 │ String │\n",
       "├─────┼───────┼────────┤\n",
       "│ 1   │ 3     │ b      │\n",
       "│ 2   │ 2     │ a      │\n",
       "\n",
       "julia> filter([:x, :y] => (x, y) -> x == 1 || y == \"b\", df)\n",
       "3×2 DataFrame\n",
       "│ Row │ x     │ y      │\n",
       "│     │ Int64 │ String │\n",
       "├─────┼───────┼────────┤\n",
       "│ 1   │ 3     │ b      │\n",
       "│ 2   │ 1     │ c      │\n",
       "│ 3   │ 1     │ b      │\n",
       "\n",
       "julia> filter(AsTable(:) => nt -> nt.x == 1 || nt.y == \"b\", df)\n",
       "3×2 DataFrame\n",
       "│ Row │ x     │ y      │\n",
       "│     │ Int64 │ String │\n",
       "├─────┼───────┼────────┤\n",
       "│ 1   │ 3     │ b      │\n",
       "│ 2   │ 1     │ c      │\n",
       "│ 3   │ 1     │ b      │\n",
       "```\n"
      ],
      "text/plain": [
       "\u001b[36m  filter(f, a::AbstractArray)\u001b[39m\n",
       "\n",
       "  Return a copy of \u001b[36ma\u001b[39m, removing elements for which \u001b[36mf\u001b[39m is \u001b[36mfalse\u001b[39m. The function \u001b[36mf\u001b[39m\n",
       "  is passed one argument.\n",
       "\n",
       "\u001b[1m  Examples\u001b[22m\n",
       "\u001b[1m  ≡≡≡≡≡≡≡≡≡≡\u001b[22m\n",
       "\n",
       "\u001b[36m  julia> a = 1:10\u001b[39m\n",
       "\u001b[36m  1:10\u001b[39m\n",
       "\u001b[36m  \u001b[39m\n",
       "\u001b[36m  julia> filter(isodd, a)\u001b[39m\n",
       "\u001b[36m  5-element Array{Int64,1}:\u001b[39m\n",
       "\u001b[36m   1\u001b[39m\n",
       "\u001b[36m   3\u001b[39m\n",
       "\u001b[36m   5\u001b[39m\n",
       "\u001b[36m   7\u001b[39m\n",
       "\u001b[36m   9\u001b[39m\n",
       "\n",
       "  ────────────────────────────────────────────────────────────────────────────\n",
       "\n",
       "\u001b[36m  filter(f, d::AbstractDict)\u001b[39m\n",
       "\n",
       "  Return a copy of \u001b[36md\u001b[39m, removing elements for which \u001b[36mf\u001b[39m is \u001b[36mfalse\u001b[39m. The function \u001b[36mf\u001b[39m\n",
       "  is passed \u001b[36mkey=>value\u001b[39m pairs.\n",
       "\n",
       "\u001b[1m  Examples\u001b[22m\n",
       "\u001b[1m  ≡≡≡≡≡≡≡≡≡≡\u001b[22m\n",
       "\n",
       "\u001b[36m  julia> d = Dict(1=>\"a\", 2=>\"b\")\u001b[39m\n",
       "\u001b[36m  Dict{Int64,String} with 2 entries:\u001b[39m\n",
       "\u001b[36m    2 => \"b\"\u001b[39m\n",
       "\u001b[36m    1 => \"a\"\u001b[39m\n",
       "\u001b[36m  \u001b[39m\n",
       "\u001b[36m  julia> filter(p->isodd(p.first), d)\u001b[39m\n",
       "\u001b[36m  Dict{Int64,String} with 1 entry:\u001b[39m\n",
       "\u001b[36m    1 => \"a\"\u001b[39m\n",
       "\n",
       "  ────────────────────────────────────────────────────────────────────────────\n",
       "\n",
       "\u001b[36m  filter(f, itr::SkipMissing{<:AbstractArray})\u001b[39m\n",
       "\n",
       "  Return a vector similar to the array wrapped by the given \u001b[36mSkipMissing\u001b[39m\n",
       "  iterator but with all missing elements and those for which \u001b[36mf\u001b[39m returns \u001b[36mfalse\u001b[39m\n",
       "  removed.\n",
       "\n",
       "\u001b[39m\u001b[1m  │ \u001b[22m\u001b[39m\u001b[1mJulia 1.2\u001b[22m\n",
       "\u001b[39m\u001b[1m  │\u001b[22m\n",
       "\u001b[39m\u001b[1m  │\u001b[22m  This method requires Julia 1.2 or later.\n",
       "\n",
       "\u001b[1m  Examples\u001b[22m\n",
       "\u001b[1m  ≡≡≡≡≡≡≡≡≡≡\u001b[22m\n",
       "\n",
       "\u001b[36m  julia> x = [1 2; missing 4]\u001b[39m\n",
       "\u001b[36m  2×2 Array{Union{Missing, Int64},2}:\u001b[39m\n",
       "\u001b[36m   1         2\u001b[39m\n",
       "\u001b[36m    missing  4\u001b[39m\n",
       "\u001b[36m  \u001b[39m\n",
       "\u001b[36m  julia> filter(isodd, skipmissing(x))\u001b[39m\n",
       "\u001b[36m  1-element Array{Int64,1}:\u001b[39m\n",
       "\u001b[36m   1\u001b[39m\n",
       "\n",
       "  ────────────────────────────────────────────────────────────────────────────\n",
       "\n",
       "\u001b[36m  filter(function, df::AbstractDataFrame)\u001b[39m\n",
       "\u001b[36m  filter(cols => function, df::AbstractDataFrame)\u001b[39m\n",
       "\n",
       "  Return a copy of data frame \u001b[36mdf\u001b[39m containing only rows for which \u001b[36mfunction\u001b[39m\n",
       "  returns \u001b[36mtrue\u001b[39m.\n",
       "\n",
       "  If \u001b[36mcols\u001b[39m is not specified then the function is passed \u001b[36mDataFrameRow\u001b[39ms.\n",
       "\n",
       "  If \u001b[36mcols\u001b[39m is specified then the function is passed elements of the\n",
       "  corresponding columns as separate positional arguments, unless \u001b[36mcols\u001b[39m is an\n",
       "  \u001b[36mAsTable\u001b[39m selector, in which case a \u001b[36mNamedTuple\u001b[39m of these arguments is passed.\n",
       "  \u001b[36mcols\u001b[39m can be any column selector (\u001b[36mSymbol\u001b[39m, string or integer; \u001b[36m:\u001b[39m, \u001b[36mAll\u001b[39m, \u001b[36mBetween\u001b[39m,\n",
       "  \u001b[36mNot\u001b[39m, a regular expression, or a vector of \u001b[36mSymbol\u001b[39ms, strings or integers), and\n",
       "  column duplicates are allowed if a vector of \u001b[36mSymbol\u001b[39ms, strings, or integers\n",
       "  is passed.\n",
       "\n",
       "  Passing \u001b[36mcols\u001b[39m leads to a more efficient execution of the operation for large\n",
       "  data frames.\n",
       "\n",
       "  See also: \u001b[36mfilter!\u001b[39m\n",
       "\n",
       "\u001b[1m  Examples\u001b[22m\n",
       "\u001b[1m  ≡≡≡≡≡≡≡≡≡≡\u001b[22m\n",
       "\n",
       "\u001b[36m  julia> df = DataFrame(x = [3, 1, 2, 1], y = [\"b\", \"c\", \"a\", \"b\"])\u001b[39m\n",
       "\u001b[36m  4×2 DataFrame\u001b[39m\n",
       "\u001b[36m  │ Row │ x     │ y      │\u001b[39m\n",
       "\u001b[36m  │     │ Int64 │ String │\u001b[39m\n",
       "\u001b[36m  ├─────┼───────┼────────┤\u001b[39m\n",
       "\u001b[36m  │ 1   │ 3     │ b      │\u001b[39m\n",
       "\u001b[36m  │ 2   │ 1     │ c      │\u001b[39m\n",
       "\u001b[36m  │ 3   │ 2     │ a      │\u001b[39m\n",
       "\u001b[36m  │ 4   │ 1     │ b      │\u001b[39m\n",
       "\u001b[36m  \u001b[39m\n",
       "\u001b[36m  julia> filter(row -> row.x > 1, df)\u001b[39m\n",
       "\u001b[36m  2×2 DataFrame\u001b[39m\n",
       "\u001b[36m  │ Row │ x     │ y      │\u001b[39m\n",
       "\u001b[36m  │     │ Int64 │ String │\u001b[39m\n",
       "\u001b[36m  ├─────┼───────┼────────┤\u001b[39m\n",
       "\u001b[36m  │ 1   │ 3     │ b      │\u001b[39m\n",
       "\u001b[36m  │ 2   │ 2     │ a      │\u001b[39m\n",
       "\u001b[36m  \u001b[39m\n",
       "\u001b[36m  julia> filter(:x => x -> x > 1, df)\u001b[39m\n",
       "\u001b[36m  2×2 DataFrame\u001b[39m\n",
       "\u001b[36m  │ Row │ x     │ y      │\u001b[39m\n",
       "\u001b[36m  │     │ Int64 │ String │\u001b[39m\n",
       "\u001b[36m  ├─────┼───────┼────────┤\u001b[39m\n",
       "\u001b[36m  │ 1   │ 3     │ b      │\u001b[39m\n",
       "\u001b[36m  │ 2   │ 2     │ a      │\u001b[39m\n",
       "\u001b[36m  \u001b[39m\n",
       "\u001b[36m  julia> filter([:x, :y] => (x, y) -> x == 1 || y == \"b\", df)\u001b[39m\n",
       "\u001b[36m  3×2 DataFrame\u001b[39m\n",
       "\u001b[36m  │ Row │ x     │ y      │\u001b[39m\n",
       "\u001b[36m  │     │ Int64 │ String │\u001b[39m\n",
       "\u001b[36m  ├─────┼───────┼────────┤\u001b[39m\n",
       "\u001b[36m  │ 1   │ 3     │ b      │\u001b[39m\n",
       "\u001b[36m  │ 2   │ 1     │ c      │\u001b[39m\n",
       "\u001b[36m  │ 3   │ 1     │ b      │\u001b[39m\n",
       "\u001b[36m  \u001b[39m\n",
       "\u001b[36m  julia> filter(AsTable(:) => nt -> nt.x == 1 || nt.y == \"b\", df)\u001b[39m\n",
       "\u001b[36m  3×2 DataFrame\u001b[39m\n",
       "\u001b[36m  │ Row │ x     │ y      │\u001b[39m\n",
       "\u001b[36m  │     │ Int64 │ String │\u001b[39m\n",
       "\u001b[36m  ├─────┼───────┼────────┤\u001b[39m\n",
       "\u001b[36m  │ 1   │ 3     │ b      │\u001b[39m\n",
       "\u001b[36m  │ 2   │ 1     │ c      │\u001b[39m\n",
       "\u001b[36m  │ 3   │ 1     │ b      │\u001b[39m"
      ]
     },
     "execution_count": 70,
     "metadata": {},
     "output_type": "execute_result"
    }
   ],
   "source": [
    "?filter"
   ]
  },
  {
   "cell_type": "code",
   "execution_count": 66,
   "metadata": {},
   "outputs": [
    {
     "data": {
      "text/plain": [
       "ifiah (generic function with 1 method)"
      ]
     },
     "execution_count": 66,
     "metadata": {},
     "output_type": "execute_result"
    }
   ],
   "source": [
    "function ifiah(x)\n",
    "    if (x==\"IAH\") || (x==\"HOU\")\n",
    "        return true\n",
    "        else return false\n",
    "    end\n",
    "end"
   ]
  },
  {
   "cell_type": "code",
   "execution_count": 78,
   "metadata": {},
   "outputs": [
    {
     "data": {
      "text/html": [
       "<table class=\"data-frame\"><thead><tr><th></th><th>Column1</th><th>year</th><th>month</th><th>day</th><th>dep_time</th><th>sched_dep_time</th><th>dep_delay</th><th>arr_time</th><th>sched_arr_time</th></tr><tr><th></th><th>Int64</th><th>Int64</th><th>Int64</th><th>Int64</th><th>Int64</th><th>Int64</th><th>Int64</th><th>Int64</th><th>Int64</th></tr></thead><tbody><p>220 rows × 20 columns (omitted printing of 11 columns)</p><tr><th>1</th><td>269</td><td>2013</td><td>1</td><td>1</td><td>1114</td><td>900</td><td>134</td><td>1447</td><td>1222</td></tr><tr><th>2</th><td>8811</td><td>2013</td><td>1</td><td>10</td><td>2137</td><td>1630</td><td>307</td><td>17</td><td>1925</td></tr><tr><th>3</th><td>12778</td><td>2013</td><td>1</td><td>15</td><td>1603</td><td>1446</td><td>77</td><td>1957</td><td>1757</td></tr><tr><th>4</th><td>13465</td><td>2013</td><td>1</td><td>16</td><td>1239</td><td>1043</td><td>116</td><td>1558</td><td>1340</td></tr><tr><th>5</th><td>17281</td><td>2013</td><td>1</td><td>20</td><td>2136</td><td>1700</td><td>276</td><td>27</td><td>2011</td></tr><tr><th>6</th><td>17961</td><td>2013</td><td>1</td><td>21</td><td>1708</td><td>1446</td><td>142</td><td>2032</td><td>1757</td></tr><tr><th>7</th><td>21392</td><td>2013</td><td>1</td><td>25</td><td>1409</td><td>1155</td><td>134</td><td>1710</td><td>1459</td></tr><tr><th>8</th><td>25970</td><td>2013</td><td>1</td><td>30</td><td>2312</td><td>2040</td><td>152</td><td>227</td><td>2345</td></tr><tr><th>9</th><td>26736</td><td>2013</td><td>1</td><td>31</td><td>1837</td><td>1635</td><td>122</td><td>2241</td><td>1945</td></tr><tr><th>10</th><td>26870</td><td>2013</td><td>1</td><td>31</td><td>2123</td><td>1856</td><td>147</td><td>49</td><td>2204</td></tr><tr><th>11</th><td>29301</td><td>2013</td><td>10</td><td>3</td><td>1122</td><td>630</td><td>292</td><td>1357</td><td>919</td></tr><tr><th>12</th><td>33082</td><td>2013</td><td>10</td><td>7</td><td>1508</td><td>1415</td><td>53</td><td>1921</td><td>1715</td></tr><tr><th>13</th><td>33358</td><td>2013</td><td>10</td><td>7</td><td>2056</td><td>1715</td><td>221</td><td>2330</td><td>2005</td></tr><tr><th>14</th><td>36333</td><td>2013</td><td>10</td><td>10</td><td>2018</td><td>1720</td><td>178</td><td>2241</td><td>2010</td></tr><tr><th>15</th><td>37266</td><td>2013</td><td>10</td><td>11</td><td>2009</td><td>1720</td><td>169</td><td>2233</td><td>2010</td></tr><tr><th>16</th><td>37297</td><td>2013</td><td>10</td><td>11</td><td>2040</td><td>1715</td><td>205</td><td>2316</td><td>2005</td></tr><tr><th>17</th><td>37903</td><td>2013</td><td>10</td><td>12</td><td>1530</td><td>1345</td><td>105</td><td>1836</td><td>1633</td></tr><tr><th>18</th><td>40711</td><td>2013</td><td>10</td><td>15</td><td>1706</td><td>1345</td><td>201</td><td>1958</td><td>1633</td></tr><tr><th>19</th><td>41478</td><td>2013</td><td>10</td><td>16</td><td>1410</td><td>1259</td><td>71</td><td>1755</td><td>1555</td></tr><tr><th>20</th><td>42250</td><td>2013</td><td>10</td><td>17</td><td>958</td><td>725</td><td>153</td><td>1237</td><td>1008</td></tr><tr><th>21</th><td>44436</td><td>2013</td><td>10</td><td>19</td><td>1612</td><td>1156</td><td>256</td><td>1926</td><td>1438</td></tr><tr><th>22</th><td>64358</td><td>2013</td><td>11</td><td>10</td><td>1112</td><td>745</td><td>207</td><td>1359</td><td>1042</td></tr><tr><th>23</th><td>65340</td><td>2013</td><td>11</td><td>11</td><td>1129</td><td>745</td><td>224</td><td>1400</td><td>1042</td></tr><tr><th>24</th><td>71283</td><td>2013</td><td>11</td><td>17</td><td>1846</td><td>1630</td><td>136</td><td>2200</td><td>1935</td></tr><tr><th>25</th><td>71320</td><td>2013</td><td>11</td><td>17</td><td>1931</td><td>1700</td><td>151</td><td>2239</td><td>2005</td></tr><tr><th>26</th><td>72371</td><td>2013</td><td>11</td><td>18</td><td>2004</td><td>1725</td><td>159</td><td>2253</td><td>2028</td></tr><tr><th>27</th><td>80884</td><td>2013</td><td>11</td><td>27</td><td>2040</td><td>1851</td><td>109</td><td>4</td><td>2200</td></tr><tr><th>28</th><td>81345</td><td>2013</td><td>11</td><td>28</td><td>1138</td><td>745</td><td>233</td><td>1417</td><td>1042</td></tr><tr><th>29</th><td>84943</td><td>2013</td><td>12</td><td>2</td><td>1823</td><td>1345</td><td>278</td><td>2123</td><td>1640</td></tr><tr><th>30</th><td>86970</td><td>2013</td><td>12</td><td>4</td><td>1944</td><td>1630</td><td>194</td><td>2228</td><td>1915</td></tr><tr><th>&vellip;</th><td>&vellip;</td><td>&vellip;</td><td>&vellip;</td><td>&vellip;</td><td>&vellip;</td><td>&vellip;</td><td>&vellip;</td><td>&vellip;</td><td>&vellip;</td></tr></tbody></table>"
      ],
      "text/latex": [
       "\\begin{tabular}{r|cccccccccc}\n",
       "\t& Column1 & year & month & day & dep\\_time & sched\\_dep\\_time & dep\\_delay & arr\\_time & sched\\_arr\\_time & \\\\\n",
       "\t\\hline\n",
       "\t& Int64 & Int64 & Int64 & Int64 & Int64 & Int64 & Int64 & Int64 & Int64 & \\\\\n",
       "\t\\hline\n",
       "\t1 & 269 & 2013 & 1 & 1 & 1114 & 900 & 134 & 1447 & 1222 & $\\dots$ \\\\\n",
       "\t2 & 8811 & 2013 & 1 & 10 & 2137 & 1630 & 307 & 17 & 1925 & $\\dots$ \\\\\n",
       "\t3 & 12778 & 2013 & 1 & 15 & 1603 & 1446 & 77 & 1957 & 1757 & $\\dots$ \\\\\n",
       "\t4 & 13465 & 2013 & 1 & 16 & 1239 & 1043 & 116 & 1558 & 1340 & $\\dots$ \\\\\n",
       "\t5 & 17281 & 2013 & 1 & 20 & 2136 & 1700 & 276 & 27 & 2011 & $\\dots$ \\\\\n",
       "\t6 & 17961 & 2013 & 1 & 21 & 1708 & 1446 & 142 & 2032 & 1757 & $\\dots$ \\\\\n",
       "\t7 & 21392 & 2013 & 1 & 25 & 1409 & 1155 & 134 & 1710 & 1459 & $\\dots$ \\\\\n",
       "\t8 & 25970 & 2013 & 1 & 30 & 2312 & 2040 & 152 & 227 & 2345 & $\\dots$ \\\\\n",
       "\t9 & 26736 & 2013 & 1 & 31 & 1837 & 1635 & 122 & 2241 & 1945 & $\\dots$ \\\\\n",
       "\t10 & 26870 & 2013 & 1 & 31 & 2123 & 1856 & 147 & 49 & 2204 & $\\dots$ \\\\\n",
       "\t11 & 29301 & 2013 & 10 & 3 & 1122 & 630 & 292 & 1357 & 919 & $\\dots$ \\\\\n",
       "\t12 & 33082 & 2013 & 10 & 7 & 1508 & 1415 & 53 & 1921 & 1715 & $\\dots$ \\\\\n",
       "\t13 & 33358 & 2013 & 10 & 7 & 2056 & 1715 & 221 & 2330 & 2005 & $\\dots$ \\\\\n",
       "\t14 & 36333 & 2013 & 10 & 10 & 2018 & 1720 & 178 & 2241 & 2010 & $\\dots$ \\\\\n",
       "\t15 & 37266 & 2013 & 10 & 11 & 2009 & 1720 & 169 & 2233 & 2010 & $\\dots$ \\\\\n",
       "\t16 & 37297 & 2013 & 10 & 11 & 2040 & 1715 & 205 & 2316 & 2005 & $\\dots$ \\\\\n",
       "\t17 & 37903 & 2013 & 10 & 12 & 1530 & 1345 & 105 & 1836 & 1633 & $\\dots$ \\\\\n",
       "\t18 & 40711 & 2013 & 10 & 15 & 1706 & 1345 & 201 & 1958 & 1633 & $\\dots$ \\\\\n",
       "\t19 & 41478 & 2013 & 10 & 16 & 1410 & 1259 & 71 & 1755 & 1555 & $\\dots$ \\\\\n",
       "\t20 & 42250 & 2013 & 10 & 17 & 958 & 725 & 153 & 1237 & 1008 & $\\dots$ \\\\\n",
       "\t21 & 44436 & 2013 & 10 & 19 & 1612 & 1156 & 256 & 1926 & 1438 & $\\dots$ \\\\\n",
       "\t22 & 64358 & 2013 & 11 & 10 & 1112 & 745 & 207 & 1359 & 1042 & $\\dots$ \\\\\n",
       "\t23 & 65340 & 2013 & 11 & 11 & 1129 & 745 & 224 & 1400 & 1042 & $\\dots$ \\\\\n",
       "\t24 & 71283 & 2013 & 11 & 17 & 1846 & 1630 & 136 & 2200 & 1935 & $\\dots$ \\\\\n",
       "\t25 & 71320 & 2013 & 11 & 17 & 1931 & 1700 & 151 & 2239 & 2005 & $\\dots$ \\\\\n",
       "\t26 & 72371 & 2013 & 11 & 18 & 2004 & 1725 & 159 & 2253 & 2028 & $\\dots$ \\\\\n",
       "\t27 & 80884 & 2013 & 11 & 27 & 2040 & 1851 & 109 & 4 & 2200 & $\\dots$ \\\\\n",
       "\t28 & 81345 & 2013 & 11 & 28 & 1138 & 745 & 233 & 1417 & 1042 & $\\dots$ \\\\\n",
       "\t29 & 84943 & 2013 & 12 & 2 & 1823 & 1345 & 278 & 2123 & 1640 & $\\dots$ \\\\\n",
       "\t30 & 86970 & 2013 & 12 & 4 & 1944 & 1630 & 194 & 2228 & 1915 & $\\dots$ \\\\\n",
       "\t$\\dots$ & $\\dots$ & $\\dots$ & $\\dots$ & $\\dots$ & $\\dots$ & $\\dots$ & $\\dots$ & $\\dots$ & $\\dots$ &  \\\\\n",
       "\\end{tabular}\n"
      ],
      "text/plain": [
       "220×20 DataFrame. Omitted printing of 14 columns\n",
       "│ Row │ Column1 │ year  │ month │ day   │ dep_time │ sched_dep_time │\n",
       "│     │ \u001b[90mInt64\u001b[39m   │ \u001b[90mInt64\u001b[39m │ \u001b[90mInt64\u001b[39m │ \u001b[90mInt64\u001b[39m │ \u001b[90mInt64\u001b[39m    │ \u001b[90mInt64\u001b[39m          │\n",
       "├─────┼─────────┼───────┼───────┼───────┼──────────┼────────────────┤\n",
       "│ 1   │ 269     │ 2013  │ 1     │ 1     │ 1114     │ 900            │\n",
       "│ 2   │ 8811    │ 2013  │ 1     │ 10    │ 2137     │ 1630           │\n",
       "│ 3   │ 12778   │ 2013  │ 1     │ 15    │ 1603     │ 1446           │\n",
       "│ 4   │ 13465   │ 2013  │ 1     │ 16    │ 1239     │ 1043           │\n",
       "│ 5   │ 17281   │ 2013  │ 1     │ 20    │ 2136     │ 1700           │\n",
       "│ 6   │ 17961   │ 2013  │ 1     │ 21    │ 1708     │ 1446           │\n",
       "│ 7   │ 21392   │ 2013  │ 1     │ 25    │ 1409     │ 1155           │\n",
       "│ 8   │ 25970   │ 2013  │ 1     │ 30    │ 2312     │ 2040           │\n",
       "│ 9   │ 26736   │ 2013  │ 1     │ 31    │ 1837     │ 1635           │\n",
       "│ 10  │ 26870   │ 2013  │ 1     │ 31    │ 2123     │ 1856           │\n",
       "⋮\n",
       "│ 210 │ 310526  │ 2013  │ 9     │ 2     │ 1833     │ 1520           │\n",
       "│ 211 │ 310551  │ 2013  │ 9     │ 2     │ 1900     │ 1629           │\n",
       "│ 212 │ 310583  │ 2013  │ 9     │ 2     │ 1936     │ 1725           │\n",
       "│ 213 │ 310645  │ 2013  │ 9     │ 2     │ 2110     │ 1700           │\n",
       "│ 214 │ 310736  │ 2013  │ 9     │ 2     │ 2301     │ 1700           │\n",
       "│ 215 │ 319809  │ 2013  │ 9     │ 12    │ 1802     │ 1449           │\n",
       "│ 216 │ 319939  │ 2013  │ 9     │ 12    │ 2157     │ 1520           │\n",
       "│ 217 │ 319957  │ 2013  │ 9     │ 12    │ 2254     │ 1700           │\n",
       "│ 218 │ 327520  │ 2013  │ 9     │ 20    │ 1914     │ 1240           │\n",
       "│ 219 │ 329167  │ 2013  │ 9     │ 22    │ 2000     │ 1700           │\n",
       "│ 220 │ 331921  │ 2013  │ 9     │ 25    │ 1706     │ 1156           │"
      ]
     },
     "execution_count": 78,
     "metadata": {},
     "output_type": "execute_result"
    }
   ],
   "source": [
    "flights_df_cleaned_delayiah=filter([:dest, :arr_delay] => (dest, arr_delay) -> ((dest == \"IAH\") || (dest == \"HOU\")) && (arr_delay >= 120), flights_df_cleaned)"
   ]
  },
  {
   "cell_type": "code",
   "execution_count": 79,
   "metadata": {},
   "outputs": [
    {
     "data": {
      "text/html": [
       "<table class=\"data-frame\"><thead><tr><th></th><th>variable</th><th>mean</th><th>min</th><th>median</th><th>max</th><th>nunique</th></tr><tr><th></th><th>Symbol</th><th>Union…</th><th>Any</th><th>Union…</th><th>Any</th><th>Union…</th></tr></thead><tbody><p>20 rows × 8 columns (omitted printing of 2 columns)</p><tr><th>1</th><td>Column1</td><td>190304.0</td><td>269</td><td>202455.0</td><td>331921</td><td></td></tr><tr><th>2</th><td>year</td><td>2013.0</td><td>2013</td><td>2013.0</td><td>2013</td><td></td></tr><tr><th>3</th><td>month</td><td>6.68636</td><td>1</td><td>7.0</td><td>12</td><td></td></tr><tr><th>4</th><td>day</td><td>16.7727</td><td>1</td><td>18.0</td><td>31</td><td></td></tr><tr><th>5</th><td>dep_time</td><td>1739.25</td><td>34</td><td>1843.0</td><td>2354</td><td></td></tr><tr><th>6</th><td>sched_dep_time</td><td>1498.5</td><td>530</td><td>1630.0</td><td>2125</td><td></td></tr><tr><th>7</th><td>dep_delay</td><td>183.659</td><td>41</td><td>168.0</td><td>761</td><td></td></tr><tr><th>8</th><td>arr_time</td><td>1538.2</td><td>3</td><td>1914.5</td><td>2356</td><td></td></tr><tr><th>9</th><td>sched_arr_time</td><td>1775.48</td><td>9</td><td>1920.0</td><td>2359</td><td></td></tr><tr><th>10</th><td>arr_delay</td><td>191.268</td><td>120</td><td>165.0</td><td>783</td><td></td></tr><tr><th>11</th><td>carrier</td><td></td><td>AA</td><td></td><td>WN</td><td>4</td></tr><tr><th>12</th><td>flight</td><td>944.309</td><td>40</td><td>629.0</td><td>4720</td><td></td></tr><tr><th>13</th><td>tailnum</td><td></td><td>N11206</td><td></td><td>N964WN</td><td>192</td></tr><tr><th>14</th><td>origin</td><td></td><td>EWR</td><td></td><td>LGA</td><td>3</td></tr><tr><th>15</th><td>dest</td><td></td><td>HOU</td><td></td><td>IAH</td><td>2</td></tr><tr><th>16</th><td>air_time</td><td>199.755</td><td>167</td><td>196.0</td><td>249</td><td></td></tr><tr><th>17</th><td>distance</td><td>1410.7</td><td>1400</td><td>1411.0</td><td>1428</td><td></td></tr><tr><th>18</th><td>hour</td><td>14.7</td><td>5</td><td>16.0</td><td>21</td><td></td></tr><tr><th>19</th><td>minute</td><td>28.4955</td><td>0</td><td>30.0</td><td>59</td><td></td></tr><tr><th>20</th><td>time_hour</td><td></td><td>2013-01-01 09:00:00</td><td></td><td>2013-12-30 07:00:00</td><td>196</td></tr></tbody></table>"
      ],
      "text/latex": [
       "\\begin{tabular}{r|ccccccc}\n",
       "\t& variable & mean & min & median & max & nunique & \\\\\n",
       "\t\\hline\n",
       "\t& Symbol & Union… & Any & Union… & Any & Union… & \\\\\n",
       "\t\\hline\n",
       "\t1 & Column1 & 190304.0 & 269 & 202455.0 & 331921 &  & $\\dots$ \\\\\n",
       "\t2 & year & 2013.0 & 2013 & 2013.0 & 2013 &  & $\\dots$ \\\\\n",
       "\t3 & month & 6.68636 & 1 & 7.0 & 12 &  & $\\dots$ \\\\\n",
       "\t4 & day & 16.7727 & 1 & 18.0 & 31 &  & $\\dots$ \\\\\n",
       "\t5 & dep\\_time & 1739.25 & 34 & 1843.0 & 2354 &  & $\\dots$ \\\\\n",
       "\t6 & sched\\_dep\\_time & 1498.5 & 530 & 1630.0 & 2125 &  & $\\dots$ \\\\\n",
       "\t7 & dep\\_delay & 183.659 & 41 & 168.0 & 761 &  & $\\dots$ \\\\\n",
       "\t8 & arr\\_time & 1538.2 & 3 & 1914.5 & 2356 &  & $\\dots$ \\\\\n",
       "\t9 & sched\\_arr\\_time & 1775.48 & 9 & 1920.0 & 2359 &  & $\\dots$ \\\\\n",
       "\t10 & arr\\_delay & 191.268 & 120 & 165.0 & 783 &  & $\\dots$ \\\\\n",
       "\t11 & carrier &  & AA &  & WN & 4 & $\\dots$ \\\\\n",
       "\t12 & flight & 944.309 & 40 & 629.0 & 4720 &  & $\\dots$ \\\\\n",
       "\t13 & tailnum &  & N11206 &  & N964WN & 192 & $\\dots$ \\\\\n",
       "\t14 & origin &  & EWR &  & LGA & 3 & $\\dots$ \\\\\n",
       "\t15 & dest &  & HOU &  & IAH & 2 & $\\dots$ \\\\\n",
       "\t16 & air\\_time & 199.755 & 167 & 196.0 & 249 &  & $\\dots$ \\\\\n",
       "\t17 & distance & 1410.7 & 1400 & 1411.0 & 1428 &  & $\\dots$ \\\\\n",
       "\t18 & hour & 14.7 & 5 & 16.0 & 21 &  & $\\dots$ \\\\\n",
       "\t19 & minute & 28.4955 & 0 & 30.0 & 59 &  & $\\dots$ \\\\\n",
       "\t20 & time\\_hour &  & 2013-01-01 09:00:00 &  & 2013-12-30 07:00:00 & 196 & $\\dots$ \\\\\n",
       "\\end{tabular}\n"
      ],
      "text/plain": [
       "20×8 DataFrame. Omitted printing of 4 columns\n",
       "│ Row │ variable       │ mean     │ min                 │ median   │\n",
       "│     │ \u001b[90mSymbol\u001b[39m         │ \u001b[90mUnion…\u001b[39m   │ \u001b[90mAny\u001b[39m                 │ \u001b[90mUnion…\u001b[39m   │\n",
       "├─────┼────────────────┼──────────┼─────────────────────┼──────────┤\n",
       "│ 1   │ Column1        │ 190304.0 │ 269                 │ 202455.0 │\n",
       "│ 2   │ year           │ 2013.0   │ 2013                │ 2013.0   │\n",
       "│ 3   │ month          │ 6.68636  │ 1                   │ 7.0      │\n",
       "│ 4   │ day            │ 16.7727  │ 1                   │ 18.0     │\n",
       "│ 5   │ dep_time       │ 1739.25  │ 34                  │ 1843.0   │\n",
       "│ 6   │ sched_dep_time │ 1498.5   │ 530                 │ 1630.0   │\n",
       "│ 7   │ dep_delay      │ 183.659  │ 41                  │ 168.0    │\n",
       "│ 8   │ arr_time       │ 1538.2   │ 3                   │ 1914.5   │\n",
       "│ 9   │ sched_arr_time │ 1775.48  │ 9                   │ 1920.0   │\n",
       "│ 10  │ arr_delay      │ 191.268  │ 120                 │ 165.0    │\n",
       "│ 11  │ carrier        │          │ AA                  │          │\n",
       "│ 12  │ flight         │ 944.309  │ 40                  │ 629.0    │\n",
       "│ 13  │ tailnum        │          │ N11206              │          │\n",
       "│ 14  │ origin         │          │ EWR                 │          │\n",
       "│ 15  │ dest           │          │ HOU                 │          │\n",
       "│ 16  │ air_time       │ 199.755  │ 167                 │ 196.0    │\n",
       "│ 17  │ distance       │ 1410.7   │ 1400                │ 1411.0   │\n",
       "│ 18  │ hour           │ 14.7     │ 5                   │ 16.0     │\n",
       "│ 19  │ minute         │ 28.4955  │ 0                   │ 30.0     │\n",
       "│ 20  │ time_hour      │          │ 2013-01-01 09:00:00 │          │"
      ]
     },
     "execution_count": 79,
     "metadata": {},
     "output_type": "execute_result"
    }
   ],
   "source": [
    "describe(flights_df_cleaned_delayiah)"
   ]
  },
  {
   "cell_type": "code",
   "execution_count": 80,
   "metadata": {},
   "outputs": [
    {
     "name": "stderr",
     "output_type": "stream",
     "text": [
      "┌ Warning: `getindex(df::DataFrame, col_ind::ColumnIndex)` is deprecated, use `df[!, col_ind]` instead.\n",
      "│   caller = top-level scope at In[80]:1\n",
      "└ @ Core In[80]:1\n"
     ]
    },
    {
     "data": {
      "text/plain": [
       "220-element Array{Int64,1}:\n",
       " 145\n",
       " 292\n",
       " 120\n",
       " 138\n",
       " 256\n",
       " 155\n",
       " 131\n",
       " 162\n",
       " 176\n",
       " 165\n",
       " 278\n",
       " 126\n",
       " 205\n",
       "   ⋮\n",
       " 190\n",
       " 175\n",
       " 146\n",
       " 134\n",
       " 228\n",
       " 363\n",
       " 321\n",
       " 373\n",
       " 329\n",
       " 376\n",
       " 157\n",
       " 297"
      ]
     },
     "execution_count": 80,
     "metadata": {},
     "output_type": "execute_result"
    }
   ],
   "source": [
    "flights_df_cleaned_delayiah[\"arr_delay\"]"
   ]
  },
  {
   "cell_type": "code",
   "execution_count": null,
   "metadata": {},
   "outputs": [],
   "source": []
  },
  {
   "cell_type": "code",
   "execution_count": null,
   "metadata": {},
   "outputs": [],
   "source": []
  },
  {
   "cell_type": "code",
   "execution_count": null,
   "metadata": {},
   "outputs": [],
   "source": []
  },
  {
   "cell_type": "code",
   "execution_count": null,
   "metadata": {},
   "outputs": [],
   "source": []
  },
  {
   "cell_type": "code",
   "execution_count": null,
   "metadata": {},
   "outputs": [],
   "source": []
  },
  {
   "cell_type": "code",
   "execution_count": null,
   "metadata": {},
   "outputs": [],
   "source": []
  }
 ],
 "metadata": {
  "@webio": {
   "lastCommId": null,
   "lastKernelId": null
  },
  "kernelspec": {
   "display_name": "Julia 1.4.2",
   "language": "julia",
   "name": "julia-1.4"
  },
  "language_info": {
   "file_extension": ".jl",
   "mimetype": "application/julia",
   "name": "julia",
   "version": "1.4.2"
  }
 },
 "nbformat": 4,
 "nbformat_minor": 2
}
