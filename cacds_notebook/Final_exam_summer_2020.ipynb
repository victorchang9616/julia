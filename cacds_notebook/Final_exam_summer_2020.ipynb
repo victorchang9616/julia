{
 "cells": [
  {
   "cell_type": "markdown",
   "metadata": {},
   "source": [
    "# Final Exam"
   ]
  },
  {
   "cell_type": "markdown",
   "metadata": {},
   "source": [
    "## Question 1 \n",
    "Define a function `insert_block` to insert a block of values in a matrix,\n",
    "\n",
    "```julia\n",
    "A = fill(0, 9, 9)\n",
    "insert_block(A, 3, 5, 2)\n",
    "```\n",
    "\n",
    "so that the above code would yield:\n",
    "\n",
    "`9×9 Array{Int64,2}:\n",
    " 0  0  0  0  0  0  0  0  0\n",
    " 0  0  0  0  0  0  0  0  0\n",
    " 0  0  0  0  2  2  2  0  0\n",
    " 0  0  0  0  2  2  2  0  0\n",
    " 0  0  0  0  2  2  2  0  0\n",
    " 0  0  0  0  0  0  0  0  0\n",
    " 0  0  0  0  0  0  0  0  0\n",
    " 0  0  0  0  0  0  0  0  0\n",
    " 0  0  0  0  0  0  0  0  0`"
   ]
  },
  {
   "cell_type": "code",
   "execution_count": null,
   "metadata": {},
   "outputs": [],
   "source": []
  },
  {
   "cell_type": "code",
   "execution_count": 23,
   "metadata": {},
   "outputs": [
    {
     "data": {
      "text/plain": [
       "insert_block (generic function with 1 method)"
      ]
     },
     "execution_count": 23,
     "metadata": {},
     "output_type": "execute_result"
    }
   ],
   "source": [
    "function insert_block(A,row,col,value)\n",
    " #   for i = row:row+2\n",
    " #       for j = col:col+2\n",
    "    A[row:row+2,col:col+2].=value\n",
    "#        end\n",
    "#    end\n",
    "    return A\n",
    "end"
   ]
  },
  {
   "cell_type": "code",
   "execution_count": 24,
   "metadata": {},
   "outputs": [
    {
     "data": {
      "text/plain": [
       "9×9 Array{Int64,2}:\n",
       " 0  0  0  0  0  0  0  0  0\n",
       " 0  0  0  0  0  0  0  0  0\n",
       " 0  0  0  0  2  2  2  0  0\n",
       " 0  0  0  0  2  2  2  0  0\n",
       " 0  0  0  0  2  2  2  0  0\n",
       " 0  0  0  0  0  0  0  0  0\n",
       " 0  0  0  0  0  0  0  0  0\n",
       " 0  0  0  0  0  0  0  0  0\n",
       " 0  0  0  0  0  0  0  0  0"
      ]
     },
     "execution_count": 24,
     "metadata": {},
     "output_type": "execute_result"
    }
   ],
   "source": [
    "A = fill(0, 9, 9)\n",
    "insert_block(A, 3, 5, 2)\n"
   ]
  },
  {
   "cell_type": "markdown",
   "metadata": {},
   "source": [
    "## Question 2\n",
    "\n",
    "### Create a Caesar ciphers\n",
    "\n",
    "A caesar cipher is an encryption scheme that shifts all letters in the alphabet by some specified offset to other letters in the alphabet.\n",
    "\n",
    "For example, a shift of 1 would turn the letter \"A\" into the letter \"B\" and the letter \"M\" to the letter \"N\".\n",
    "\n",
    "### Goal\n",
    "\n",
    "We want to add a method to the `+` operator such that we can add together a string and an integer shift to encrypt a message. For example,\n",
    "\n",
    "```julia\n",
    "4 + \"hello\" == \"lipps\"\n",
    "```\n",
    "\n",
    "### Test it out\n",
    "\n",
    "Once you think you have it working, try to decrypt the following string by adding a shift of -7.\n",
    "```julia\n",
    "\"Kv'uv{'tlkksl'pu'{ol'hmmhpyz'vm'kyhnvuz'mvy'\\u80v|'hyl'jy|ujo\\u80'huk'{hz{l'nvvk'~p{o'rl{jo|w5\"\n",
    "```"
   ]
  },
  {
   "cell_type": "markdown",
   "metadata": {},
   "source": [
    "## Below is the step by step guide to solve the Caesar ciphers problem\n",
    "\n",
    "### Step 1\n",
    "\n",
    "First, we want a way to convert between characters and integers. Actually, under the hood, all of our characters are being represented as numbers via their *ASCII representation*.\n",
    "\n",
    "You can start to get a feel for how this works by running the following lines of code.\n",
    "\n",
    "```julia\n",
    "convert(Int, 'a')\n",
    "convert(Int, 'b')\n",
    "convert(Char, 97)\n",
    "convert(Char, 98)\n",
    "```"
   ]
  },
  {
   "cell_type": "code",
   "execution_count": 18,
   "metadata": {},
   "outputs": [
    {
     "name": "stdout",
     "output_type": "stream",
     "text": [
      "convert(Int, 'a') = 97\n",
      "convert(Int, 'b') = 98\n",
      "convert(Char, 97) = 'a'\n",
      "convert(Char, 98) = 'b'\n"
     ]
    },
    {
     "data": {
      "text/plain": [
       "'b': ASCII/Unicode U+0062 (category Ll: Letter, lowercase)"
      ]
     },
     "execution_count": 18,
     "metadata": {},
     "output_type": "execute_result"
    }
   ],
   "source": [
    "@show convert(Int, 'a')\n",
    "@show convert(Int, 'b')\n",
    "@show convert(Char, 97)\n",
    "@show convert(Char, 98)"
   ]
  },
  {
   "cell_type": "markdown",
   "metadata": {},
   "source": [
    "What happens when you try to add an integer to a character? (Note that the difference between `Char`s and `String`s is important here!)"
   ]
  },
  {
   "cell_type": "code",
   "execution_count": 38,
   "metadata": {},
   "outputs": [
    {
     "name": "stdout",
     "output_type": "stream",
     "text": [
      "convert(Int, 'a' + 1) = 98\n"
     ]
    },
    {
     "data": {
      "text/plain": [
       "98"
      ]
     },
     "execution_count": 38,
     "metadata": {},
     "output_type": "execute_result"
    }
   ],
   "source": [
    "@show convert(Int, 'a'+1)"
   ]
  },
  {
   "cell_type": "markdown",
   "metadata": {},
   "source": [
    "When we treat a string elementwise, what is the type of (`typeof`) each element?"
   ]
  },
  {
   "cell_type": "code",
   "execution_count": 41,
   "metadata": {},
   "outputs": [
    {
     "data": {
      "text/plain": [
       "'b': ASCII/Unicode U+0062 (category Ll: Letter, lowercase)"
      ]
     },
     "execution_count": 41,
     "metadata": {},
     "output_type": "execute_result"
    }
   ],
   "source": [
    "a=\"victorqq\"\n",
    "typeof(a[1])\n",
    "#convert(Int,a[:])\n",
    "'a'+1"
   ]
  },
  {
   "cell_type": "markdown",
   "metadata": {},
   "source": [
    "### Step 2\n",
    "Try to write a function called `caesar(shift, stringin)` that encodes its input string, `stringin`, by shifting all letters in the alphabet by `shift`.\n",
    "\n",
    "One way to do this is to use the `map` or `broadcast` function!"
   ]
  },
  {
   "cell_type": "code",
   "execution_count": 39,
   "metadata": {},
   "outputs": [
    {
     "data": {
      "text/plain": [
       "caesar (generic function with 1 method)"
      ]
     },
     "execution_count": 39,
     "metadata": {},
     "output_type": "execute_result"
    }
   ],
   "source": [
    "caesar(shift, stringin)=map(x -> x + shift, stringin)"
   ]
  },
  {
   "cell_type": "code",
   "execution_count": 40,
   "metadata": {},
   "outputs": [
    {
     "data": {
      "text/plain": [
       "\"hello\""
      ]
     },
     "execution_count": 40,
     "metadata": {},
     "output_type": "execute_result"
    }
   ],
   "source": [
    "caesar(-4, \"lipps\")"
   ]
  },
  {
   "cell_type": "markdown",
   "metadata": {},
   "source": [
    "If you think you have this working, try out\n",
    "```julia\n",
    "caesar(-4, \"lipps\")\n",
    "```"
   ]
  },
  {
   "cell_type": "code",
   "execution_count": null,
   "metadata": {},
   "outputs": [],
   "source": []
  },
  {
   "cell_type": "markdown",
   "metadata": {},
   "source": [
    "### Step 3\n",
    "We want to extend the `+` operator to include a way to apply this cipher.\n",
    "\n",
    "The `+` operator lives in a place called \"Base\". Everything that lives in Base is accessible to us as users by default, but we need a special incantation to modify the things that live in Base. If we want to modify `+`, our incantation is\n",
    "\n",
    "```julia\n",
    "import Base: +\n",
    "```\n",
    "To perform string addition, write a method for `+` like this\n",
    "\n",
    "+(x::String, y::String) = string(x, y)"
   ]
  },
  {
   "cell_type": "code",
   "execution_count": 44,
   "metadata": {},
   "outputs": [
    {
     "name": "stdout",
     "output_type": "stream",
     "text": [
      "search: \u001b[0m\u001b[1ms\u001b[22m\u001b[0m\u001b[1mt\u001b[22m\u001b[0m\u001b[1mr\u001b[22m\u001b[0m\u001b[1mi\u001b[22m\u001b[0m\u001b[1mn\u001b[22m\u001b[0m\u001b[1mg\u001b[22m \u001b[0m\u001b[1mS\u001b[22m\u001b[0m\u001b[1mt\u001b[22m\u001b[0m\u001b[1mr\u001b[22m\u001b[0m\u001b[1mi\u001b[22m\u001b[0m\u001b[1mn\u001b[22m\u001b[0m\u001b[1mg\u001b[22m \u001b[0m\u001b[1mS\u001b[22m\u001b[0m\u001b[1mt\u001b[22m\u001b[0m\u001b[1mr\u001b[22m\u001b[0m\u001b[1mi\u001b[22m\u001b[0m\u001b[1mn\u001b[22m\u001b[0m\u001b[1mg\u001b[22mIndexError C\u001b[0m\u001b[1ms\u001b[22m\u001b[0m\u001b[1mt\u001b[22m\u001b[0m\u001b[1mr\u001b[22m\u001b[0m\u001b[1mi\u001b[22m\u001b[0m\u001b[1mn\u001b[22m\u001b[0m\u001b[1mg\u001b[22m Cw\u001b[0m\u001b[1ms\u001b[22m\u001b[0m\u001b[1mt\u001b[22m\u001b[0m\u001b[1mr\u001b[22m\u001b[0m\u001b[1mi\u001b[22m\u001b[0m\u001b[1mn\u001b[22m\u001b[0m\u001b[1mg\u001b[22m bit\u001b[0m\u001b[1ms\u001b[22m\u001b[0m\u001b[1mt\u001b[22m\u001b[0m\u001b[1mr\u001b[22m\u001b[0m\u001b[1mi\u001b[22m\u001b[0m\u001b[1mn\u001b[22m\u001b[0m\u001b[1mg\u001b[22m \u001b[0m\u001b[1mS\u001b[22mubS\u001b[0m\u001b[1mt\u001b[22m\u001b[0m\u001b[1mr\u001b[22m\u001b[0m\u001b[1mi\u001b[22m\u001b[0m\u001b[1mn\u001b[22m\u001b[0m\u001b[1mg\u001b[22m\n",
      "\n"
     ]
    },
    {
     "data": {
      "text/latex": [
       "\\begin{verbatim}\n",
       "string(n::Integer; base::Integer = 10, pad::Integer = 1)\n",
       "\\end{verbatim}\n",
       "Convert an integer \\texttt{n} to a string in the given \\texttt{base}, optionally specifying a number of digits to pad to.\n",
       "\n",
       "\\begin{verbatim}\n",
       "julia> string(5, base = 13, pad = 4)\n",
       "\"0005\"\n",
       "\n",
       "julia> string(13, base = 5, pad = 4)\n",
       "\"0023\"\n",
       "\\end{verbatim}\n",
       "\\rule{\\textwidth}{1pt}\n",
       "\\begin{verbatim}\n",
       "string(xs...)\n",
       "\\end{verbatim}\n",
       "Create a string from any values, except \\texttt{nothing}, using the \\href{@ref}{\\texttt{print}} function.\n",
       "\n",
       "\\texttt{string} should usually not be defined directly. Instead, define a method \\texttt{print(io::IO, x::MyType)}. If \\texttt{string(x)} for a certain type needs to be highly efficient, then it may make sense to add a method to \\texttt{string} and define \\texttt{print(io::IO, x::MyType) = print(io, string(x))} to ensure the functions are consistent.\n",
       "\n",
       "\\section{Examples}\n",
       "\\begin{verbatim}\n",
       "julia> string(\"a\", 1, true)\n",
       "\"a1true\"\n",
       "\\end{verbatim}\n"
      ],
      "text/markdown": [
       "```\n",
       "string(n::Integer; base::Integer = 10, pad::Integer = 1)\n",
       "```\n",
       "\n",
       "Convert an integer `n` to a string in the given `base`, optionally specifying a number of digits to pad to.\n",
       "\n",
       "```jldoctest\n",
       "julia> string(5, base = 13, pad = 4)\n",
       "\"0005\"\n",
       "\n",
       "julia> string(13, base = 5, pad = 4)\n",
       "\"0023\"\n",
       "```\n",
       "\n",
       "---\n",
       "\n",
       "```\n",
       "string(xs...)\n",
       "```\n",
       "\n",
       "Create a string from any values, except `nothing`, using the [`print`](@ref) function.\n",
       "\n",
       "`string` should usually not be defined directly. Instead, define a method `print(io::IO, x::MyType)`. If `string(x)` for a certain type needs to be highly efficient, then it may make sense to add a method to `string` and define `print(io::IO, x::MyType) = print(io, string(x))` to ensure the functions are consistent.\n",
       "\n",
       "# Examples\n",
       "\n",
       "```jldoctest\n",
       "julia> string(\"a\", 1, true)\n",
       "\"a1true\"\n",
       "```\n"
      ],
      "text/plain": [
       "\u001b[36m  string(n::Integer; base::Integer = 10, pad::Integer = 1)\u001b[39m\n",
       "\n",
       "  Convert an integer \u001b[36mn\u001b[39m to a string in the given \u001b[36mbase\u001b[39m, optionally specifying a\n",
       "  number of digits to pad to.\n",
       "\n",
       "\u001b[36m  julia> string(5, base = 13, pad = 4)\u001b[39m\n",
       "\u001b[36m  \"0005\"\u001b[39m\n",
       "\u001b[36m  \u001b[39m\n",
       "\u001b[36m  julia> string(13, base = 5, pad = 4)\u001b[39m\n",
       "\u001b[36m  \"0023\"\u001b[39m\n",
       "\n",
       "  ────────────────────────────────────────────────────────────────────────────\n",
       "\n",
       "\u001b[36m  string(xs...)\u001b[39m\n",
       "\n",
       "  Create a string from any values, except \u001b[36mnothing\u001b[39m, using the \u001b[36mprint\u001b[39m function.\n",
       "\n",
       "  \u001b[36mstring\u001b[39m should usually not be defined directly. Instead, define a method\n",
       "  \u001b[36mprint(io::IO, x::MyType)\u001b[39m. If \u001b[36mstring(x)\u001b[39m for a certain type needs to be highly\n",
       "  efficient, then it may make sense to add a method to \u001b[36mstring\u001b[39m and define\n",
       "  \u001b[36mprint(io::IO, x::MyType) = print(io, string(x))\u001b[39m to ensure the functions are\n",
       "  consistent.\n",
       "\n",
       "\u001b[1m  Examples\u001b[22m\n",
       "\u001b[1m  ≡≡≡≡≡≡≡≡≡≡\u001b[22m\n",
       "\n",
       "\u001b[36m  julia> string(\"a\", 1, true)\u001b[39m\n",
       "\u001b[36m  \"a1true\"\u001b[39m"
      ]
     },
     "execution_count": 44,
     "metadata": {},
     "output_type": "execute_result"
    }
   ],
   "source": [
    "?string"
   ]
  },
  {
   "cell_type": "code",
   "execution_count": 43,
   "metadata": {},
   "outputs": [
    {
     "data": {
      "text/plain": [
       "+ (generic function with 167 methods)"
      ]
     },
     "execution_count": 43,
     "metadata": {},
     "output_type": "execute_result"
    }
   ],
   "source": [
    "import Base:+\n",
    "+(x::String, y::String) = string(x, y)"
   ]
  },
  {
   "cell_type": "markdown",
   "metadata": {},
   "source": [
    "And now that you've extended `+` once, let's add another method for `+` that calls the `caesar` function we've written."
   ]
  },
  {
   "cell_type": "code",
   "execution_count": 45,
   "metadata": {},
   "outputs": [
    {
     "data": {
      "text/plain": [
       "+ (generic function with 168 methods)"
      ]
     },
     "execution_count": 45,
     "metadata": {},
     "output_type": "execute_result"
    }
   ],
   "source": [
    "+(shift::Int, stringin::String)=caesar(shift, stringin)"
   ]
  },
  {
   "cell_type": "markdown",
   "metadata": {},
   "source": [
    "Test your final answer."
   ]
  },
  {
   "cell_type": "code",
   "execution_count": 46,
   "metadata": {},
   "outputs": [
    {
     "data": {
      "text/plain": [
       "\"hello\""
      ]
     },
     "execution_count": 46,
     "metadata": {},
     "output_type": "execute_result"
    }
   ],
   "source": [
    "+(-4, \"lipps\")"
   ]
  },
  {
   "cell_type": "markdown",
   "metadata": {},
   "source": [
    "## Question 3\n",
    "\n",
    "Download the `test.csv` file from moddle. This data has passenger details of train travellers. Read the data and tidy it (handle the missing values). Calculate the average age for Male passengers and Female passengers."
   ]
  },
  {
   "cell_type": "code",
   "execution_count": 49,
   "metadata": {},
   "outputs": [
    {
     "data": {
      "text/plain": [
       "4-element Array{String,1}:\n",
       " \".ipynb_checkpoints\"\n",
       " \"Final_exam_summer_2020.ipynb\"\n",
       " \"RestaurantData.zip\"\n",
       " \"test.csv\""
      ]
     },
     "execution_count": 49,
     "metadata": {},
     "output_type": "execute_result"
    }
   ],
   "source": [
    "readdir()"
   ]
  },
  {
   "cell_type": "code",
   "execution_count": 50,
   "metadata": {},
   "outputs": [
    {
     "data": {
      "text/html": [
       "<table class=\"data-frame\"><thead><tr><th></th><th>PassengerId</th><th>Pclass</th><th>Name</th><th>Sex</th></tr><tr><th></th><th>Int64</th><th>Int64</th><th>String</th><th>String</th></tr></thead><tbody><p>418 rows × 11 columns (omitted printing of 7 columns)</p><tr><th>1</th><td>892</td><td>3</td><td>Kelly, Mr. James</td><td>male</td></tr><tr><th>2</th><td>893</td><td>3</td><td>Wilkes, Mrs. James (Ellen Needs)</td><td>female</td></tr><tr><th>3</th><td>894</td><td>2</td><td>Myles, Mr. Thomas Francis</td><td>male</td></tr><tr><th>4</th><td>895</td><td>3</td><td>Wirz, Mr. Albert</td><td>male</td></tr><tr><th>5</th><td>896</td><td>3</td><td>Hirvonen, Mrs. Alexander (Helga E Lindqvist)</td><td>female</td></tr><tr><th>6</th><td>897</td><td>3</td><td>Svensson, Mr. Johan Cervin</td><td>male</td></tr><tr><th>7</th><td>898</td><td>3</td><td>Connolly, Miss. Kate</td><td>female</td></tr><tr><th>8</th><td>899</td><td>2</td><td>Caldwell, Mr. Albert Francis</td><td>male</td></tr><tr><th>9</th><td>900</td><td>3</td><td>Abrahim, Mrs. Joseph (Sophie Halaut Easu)</td><td>female</td></tr><tr><th>10</th><td>901</td><td>3</td><td>Davies, Mr. John Samuel</td><td>male</td></tr><tr><th>11</th><td>902</td><td>3</td><td>Ilieff, Mr. Ylio</td><td>male</td></tr><tr><th>12</th><td>903</td><td>1</td><td>Jones, Mr. Charles Cresson</td><td>male</td></tr><tr><th>13</th><td>904</td><td>1</td><td>Snyder, Mrs. John Pillsbury (Nelle Stevenson)</td><td>female</td></tr><tr><th>14</th><td>905</td><td>2</td><td>Howard, Mr. Benjamin</td><td>male</td></tr><tr><th>15</th><td>906</td><td>1</td><td>Chaffee, Mrs. Herbert Fuller (Carrie Constance Toogood)</td><td>female</td></tr><tr><th>16</th><td>907</td><td>2</td><td>del Carlo, Mrs. Sebastiano (Argenia Genovesi)</td><td>female</td></tr><tr><th>17</th><td>908</td><td>2</td><td>Keane, Mr. Daniel</td><td>male</td></tr><tr><th>18</th><td>909</td><td>3</td><td>Assaf, Mr. Gerios</td><td>male</td></tr><tr><th>19</th><td>910</td><td>3</td><td>Ilmakangas, Miss. Ida Livija</td><td>female</td></tr><tr><th>20</th><td>911</td><td>3</td><td>Assaf Khalil, Mrs. Mariana (Miriam\")\"</td><td>female</td></tr><tr><th>21</th><td>912</td><td>1</td><td>Rothschild, Mr. Martin</td><td>male</td></tr><tr><th>22</th><td>913</td><td>3</td><td>Olsen, Master. Artur Karl</td><td>male</td></tr><tr><th>23</th><td>914</td><td>1</td><td>Flegenheim, Mrs. Alfred (Antoinette)</td><td>female</td></tr><tr><th>24</th><td>915</td><td>1</td><td>Williams, Mr. Richard Norris II</td><td>male</td></tr><tr><th>25</th><td>916</td><td>1</td><td>Ryerson, Mrs. Arthur Larned (Emily Maria Borie)</td><td>female</td></tr><tr><th>26</th><td>917</td><td>3</td><td>Robins, Mr. Alexander A</td><td>male</td></tr><tr><th>27</th><td>918</td><td>1</td><td>Ostby, Miss. Helene Ragnhild</td><td>female</td></tr><tr><th>28</th><td>919</td><td>3</td><td>Daher, Mr. Shedid</td><td>male</td></tr><tr><th>29</th><td>920</td><td>1</td><td>Brady, Mr. John Bertram</td><td>male</td></tr><tr><th>30</th><td>921</td><td>3</td><td>Samaan, Mr. Elias</td><td>male</td></tr><tr><th>&vellip;</th><td>&vellip;</td><td>&vellip;</td><td>&vellip;</td><td>&vellip;</td></tr></tbody></table>"
      ],
      "text/latex": [
       "\\begin{tabular}{r|ccccc}\n",
       "\t& PassengerId & Pclass & Name & Sex & \\\\\n",
       "\t\\hline\n",
       "\t& Int64 & Int64 & String & String & \\\\\n",
       "\t\\hline\n",
       "\t1 & 892 & 3 & Kelly, Mr. James & male & $\\dots$ \\\\\n",
       "\t2 & 893 & 3 & Wilkes, Mrs. James (Ellen Needs) & female & $\\dots$ \\\\\n",
       "\t3 & 894 & 2 & Myles, Mr. Thomas Francis & male & $\\dots$ \\\\\n",
       "\t4 & 895 & 3 & Wirz, Mr. Albert & male & $\\dots$ \\\\\n",
       "\t5 & 896 & 3 & Hirvonen, Mrs. Alexander (Helga E Lindqvist) & female & $\\dots$ \\\\\n",
       "\t6 & 897 & 3 & Svensson, Mr. Johan Cervin & male & $\\dots$ \\\\\n",
       "\t7 & 898 & 3 & Connolly, Miss. Kate & female & $\\dots$ \\\\\n",
       "\t8 & 899 & 2 & Caldwell, Mr. Albert Francis & male & $\\dots$ \\\\\n",
       "\t9 & 900 & 3 & Abrahim, Mrs. Joseph (Sophie Halaut Easu) & female & $\\dots$ \\\\\n",
       "\t10 & 901 & 3 & Davies, Mr. John Samuel & male & $\\dots$ \\\\\n",
       "\t11 & 902 & 3 & Ilieff, Mr. Ylio & male & $\\dots$ \\\\\n",
       "\t12 & 903 & 1 & Jones, Mr. Charles Cresson & male & $\\dots$ \\\\\n",
       "\t13 & 904 & 1 & Snyder, Mrs. John Pillsbury (Nelle Stevenson) & female & $\\dots$ \\\\\n",
       "\t14 & 905 & 2 & Howard, Mr. Benjamin & male & $\\dots$ \\\\\n",
       "\t15 & 906 & 1 & Chaffee, Mrs. Herbert Fuller (Carrie Constance Toogood) & female & $\\dots$ \\\\\n",
       "\t16 & 907 & 2 & del Carlo, Mrs. Sebastiano (Argenia Genovesi) & female & $\\dots$ \\\\\n",
       "\t17 & 908 & 2 & Keane, Mr. Daniel & male & $\\dots$ \\\\\n",
       "\t18 & 909 & 3 & Assaf, Mr. Gerios & male & $\\dots$ \\\\\n",
       "\t19 & 910 & 3 & Ilmakangas, Miss. Ida Livija & female & $\\dots$ \\\\\n",
       "\t20 & 911 & 3 & Assaf Khalil, Mrs. Mariana (Miriam\")\" & female & $\\dots$ \\\\\n",
       "\t21 & 912 & 1 & Rothschild, Mr. Martin & male & $\\dots$ \\\\\n",
       "\t22 & 913 & 3 & Olsen, Master. Artur Karl & male & $\\dots$ \\\\\n",
       "\t23 & 914 & 1 & Flegenheim, Mrs. Alfred (Antoinette) & female & $\\dots$ \\\\\n",
       "\t24 & 915 & 1 & Williams, Mr. Richard Norris II & male & $\\dots$ \\\\\n",
       "\t25 & 916 & 1 & Ryerson, Mrs. Arthur Larned (Emily Maria Borie) & female & $\\dots$ \\\\\n",
       "\t26 & 917 & 3 & Robins, Mr. Alexander A & male & $\\dots$ \\\\\n",
       "\t27 & 918 & 1 & Ostby, Miss. Helene Ragnhild & female & $\\dots$ \\\\\n",
       "\t28 & 919 & 3 & Daher, Mr. Shedid & male & $\\dots$ \\\\\n",
       "\t29 & 920 & 1 & Brady, Mr. John Bertram & male & $\\dots$ \\\\\n",
       "\t30 & 921 & 3 & Samaan, Mr. Elias & male & $\\dots$ \\\\\n",
       "\t$\\dots$ & $\\dots$ & $\\dots$ & $\\dots$ & $\\dots$ &  \\\\\n",
       "\\end{tabular}\n"
      ],
      "text/plain": [
       "418×11 DataFrames.DataFrame. Omitted printing of 8 columns\n",
       "│ Row │ PassengerId │ Pclass │ Name                                            │\n",
       "│     │ \u001b[90mInt64\u001b[39m       │ \u001b[90mInt64\u001b[39m  │ \u001b[90mString\u001b[39m                                          │\n",
       "├─────┼─────────────┼────────┼─────────────────────────────────────────────────┤\n",
       "│ 1   │ 892         │ 3      │ Kelly, Mr. James                                │\n",
       "│ 2   │ 893         │ 3      │ Wilkes, Mrs. James (Ellen Needs)                │\n",
       "│ 3   │ 894         │ 2      │ Myles, Mr. Thomas Francis                       │\n",
       "│ 4   │ 895         │ 3      │ Wirz, Mr. Albert                                │\n",
       "│ 5   │ 896         │ 3      │ Hirvonen, Mrs. Alexander (Helga E Lindqvist)    │\n",
       "│ 6   │ 897         │ 3      │ Svensson, Mr. Johan Cervin                      │\n",
       "│ 7   │ 898         │ 3      │ Connolly, Miss. Kate                            │\n",
       "│ 8   │ 899         │ 2      │ Caldwell, Mr. Albert Francis                    │\n",
       "│ 9   │ 900         │ 3      │ Abrahim, Mrs. Joseph (Sophie Halaut Easu)       │\n",
       "│ 10  │ 901         │ 3      │ Davies, Mr. John Samuel                         │\n",
       "⋮\n",
       "│ 408 │ 1299        │ 1      │ Widener, Mr. George Dunton                      │\n",
       "│ 409 │ 1300        │ 3      │ Riordan, Miss. Johanna Hannah\"\"                 │\n",
       "│ 410 │ 1301        │ 3      │ Peacock, Miss. Treasteall                       │\n",
       "│ 411 │ 1302        │ 3      │ Naughton, Miss. Hannah                          │\n",
       "│ 412 │ 1303        │ 1      │ Minahan, Mrs. William Edward (Lillian E Thorpe) │\n",
       "│ 413 │ 1304        │ 3      │ Henriksson, Miss. Jenny Lovisa                  │\n",
       "│ 414 │ 1305        │ 3      │ Spector, Mr. Woolf                              │\n",
       "│ 415 │ 1306        │ 1      │ Oliva y Ocana, Dona. Fermina                    │\n",
       "│ 416 │ 1307        │ 3      │ Saether, Mr. Simon Sivertsen                    │\n",
       "│ 417 │ 1308        │ 3      │ Ware, Mr. Frederick                             │\n",
       "│ 418 │ 1309        │ 3      │ Peter, Master. Michael J                        │"
      ]
     },
     "execution_count": 50,
     "metadata": {},
     "output_type": "execute_result"
    }
   ],
   "source": [
    "using CSV\n",
    "P = CSV.read(\"test.csv\", header=true)\n"
   ]
  },
  {
   "cell_type": "code",
   "execution_count": 68,
   "metadata": {},
   "outputs": [
    {
     "data": {
      "text/plain": [
       "418-element CSV.Column{Union{Missing, Float64},Union{Missing, Float64}}:\n",
       " 34.5\n",
       " 47.0\n",
       " 62.0\n",
       " 27.0\n",
       " 22.0\n",
       " 14.0\n",
       " 30.0\n",
       " 26.0\n",
       " 18.0\n",
       " 21.0\n",
       "   missing\n",
       " 46.0\n",
       " 23.0\n",
       "  ⋮\n",
       " 23.0\n",
       " 50.0\n",
       "   missing\n",
       "  3.0\n",
       "   missing\n",
       " 37.0\n",
       " 28.0\n",
       "   missing\n",
       " 39.0\n",
       " 38.5\n",
       "   missing\n",
       "   missing"
      ]
     },
     "execution_count": 68,
     "metadata": {},
     "output_type": "execute_result"
    }
   ],
   "source": [
    "P.Age"
   ]
  },
  {
   "cell_type": "code",
   "execution_count": 72,
   "metadata": {},
   "outputs": [
    {
     "data": {
      "text/html": [
       "<table class=\"data-frame\"><thead><tr><th></th><th>variable</th><th>nmissing</th></tr><tr><th></th><th>Symbol</th><th>Union…</th></tr></thead><tbody><p>11 rows × 2 columns</p><tr><th>1</th><td>PassengerId</td><td></td></tr><tr><th>2</th><td>Pclass</td><td></td></tr><tr><th>3</th><td>Name</td><td></td></tr><tr><th>4</th><td>Sex</td><td></td></tr><tr><th>5</th><td>Age</td><td>86</td></tr><tr><th>6</th><td>SibSp</td><td></td></tr><tr><th>7</th><td>Parch</td><td></td></tr><tr><th>8</th><td>Ticket</td><td></td></tr><tr><th>9</th><td>Fare</td><td>1</td></tr><tr><th>10</th><td>Cabin</td><td>327</td></tr><tr><th>11</th><td>Embarked</td><td></td></tr></tbody></table>"
      ],
      "text/latex": [
       "\\begin{tabular}{r|cc}\n",
       "\t& variable & nmissing\\\\\n",
       "\t\\hline\n",
       "\t& Symbol & Union…\\\\\n",
       "\t\\hline\n",
       "\t1 & PassengerId &  \\\\\n",
       "\t2 & Pclass &  \\\\\n",
       "\t3 & Name &  \\\\\n",
       "\t4 & Sex &  \\\\\n",
       "\t5 & Age & 86 \\\\\n",
       "\t6 & SibSp &  \\\\\n",
       "\t7 & Parch &  \\\\\n",
       "\t8 & Ticket &  \\\\\n",
       "\t9 & Fare & 1 \\\\\n",
       "\t10 & Cabin & 327 \\\\\n",
       "\t11 & Embarked &  \\\\\n",
       "\\end{tabular}\n"
      ],
      "text/plain": [
       "11×2 DataFrame\n",
       "│ Row │ variable    │ nmissing │\n",
       "│     │ \u001b[90mSymbol\u001b[39m      │ \u001b[90mUnion…\u001b[39m   │\n",
       "├─────┼─────────────┼──────────┤\n",
       "│ 1   │ PassengerId │          │\n",
       "│ 2   │ Pclass      │          │\n",
       "│ 3   │ Name        │          │\n",
       "│ 4   │ Sex         │          │\n",
       "│ 5   │ Age         │ 86       │\n",
       "│ 6   │ SibSp       │          │\n",
       "│ 7   │ Parch       │          │\n",
       "│ 8   │ Ticket      │          │\n",
       "│ 9   │ Fare        │ 1        │\n",
       "│ 10  │ Cabin       │ 327      │\n",
       "│ 11  │ Embarked    │          │"
      ]
     },
     "execution_count": 72,
     "metadata": {},
     "output_type": "execute_result"
    }
   ],
   "source": [
    "using StatsBase\n",
    "using DataFrames\n",
    "describe(P,:nmissing)\n"
   ]
  },
  {
   "cell_type": "code",
   "execution_count": 76,
   "metadata": {},
   "outputs": [
    {
     "data": {
      "text/html": [
       "<table class=\"data-frame\"><thead><tr><th></th><th>variable</th><th>nmissing</th></tr><tr><th></th><th>Symbol</th><th>Nothing</th></tr></thead><tbody><p>11 rows × 2 columns</p><tr><th>1</th><td>PassengerId</td><td></td></tr><tr><th>2</th><td>Pclass</td><td></td></tr><tr><th>3</th><td>Name</td><td></td></tr><tr><th>4</th><td>Sex</td><td></td></tr><tr><th>5</th><td>Age</td><td></td></tr><tr><th>6</th><td>SibSp</td><td></td></tr><tr><th>7</th><td>Parch</td><td></td></tr><tr><th>8</th><td>Ticket</td><td></td></tr><tr><th>9</th><td>Fare</td><td></td></tr><tr><th>10</th><td>Cabin</td><td></td></tr><tr><th>11</th><td>Embarked</td><td></td></tr></tbody></table>"
      ],
      "text/latex": [
       "\\begin{tabular}{r|cc}\n",
       "\t& variable & nmissing\\\\\n",
       "\t\\hline\n",
       "\t& Symbol & Nothing\\\\\n",
       "\t\\hline\n",
       "\t1 & PassengerId &  \\\\\n",
       "\t2 & Pclass &  \\\\\n",
       "\t3 & Name &  \\\\\n",
       "\t4 & Sex &  \\\\\n",
       "\t5 & Age &  \\\\\n",
       "\t6 & SibSp &  \\\\\n",
       "\t7 & Parch &  \\\\\n",
       "\t8 & Ticket &  \\\\\n",
       "\t9 & Fare &  \\\\\n",
       "\t10 & Cabin &  \\\\\n",
       "\t11 & Embarked &  \\\\\n",
       "\\end{tabular}\n"
      ],
      "text/plain": [
       "11×2 DataFrame\n",
       "│ Row │ variable    │ nmissing │\n",
       "│     │ \u001b[90mSymbol\u001b[39m      │ \u001b[90mNothing\u001b[39m  │\n",
       "├─────┼─────────────┼──────────┤\n",
       "│ 1   │ PassengerId │          │\n",
       "│ 2   │ Pclass      │          │\n",
       "│ 3   │ Name        │          │\n",
       "│ 4   │ Sex         │          │\n",
       "│ 5   │ Age         │          │\n",
       "│ 6   │ SibSp       │          │\n",
       "│ 7   │ Parch       │          │\n",
       "│ 8   │ Ticket      │          │\n",
       "│ 9   │ Fare        │          │\n",
       "│ 10  │ Cabin       │          │\n",
       "│ 11  │ Embarked    │          │"
      ]
     },
     "execution_count": 76,
     "metadata": {},
     "output_type": "execute_result"
    }
   ],
   "source": [
    "cleanP=dropmissing(P);\n",
    "describe(cleanP,:nmissing)"
   ]
  },
  {
   "cell_type": "code",
   "execution_count": 83,
   "metadata": {},
   "outputs": [
    {
     "name": "stdout",
     "output_type": "stream",
     "text": [
      "search: \u001b[0m\u001b[1md\u001b[22m\u001b[0m\u001b[1me\u001b[22m\u001b[0m\u001b[1ms\u001b[22m\u001b[0m\u001b[1mc\u001b[22m\u001b[0m\u001b[1mr\u001b[22m\u001b[0m\u001b[1mi\u001b[22m\u001b[0m\u001b[1mb\u001b[22m\u001b[0m\u001b[1me\u001b[22m\n",
      "\n"
     ]
    },
    {
     "data": {
      "text/latex": [
       "\\begin{verbatim}\n",
       "describe(io::IO, x)\n",
       "\\end{verbatim}\n",
       "For an object \\texttt{x}, print descriptive statistics to \\texttt{io}.\n",
       "\n",
       "This generic function is owned by StatsBase.jl, which is the sole provider of the default definition.\n",
       "\n",
       "\\rule{\\textwidth}{1pt}\n",
       "\\begin{verbatim}\n",
       "describe(df::AbstractDataFrame; cols=:)\n",
       "describe(df::AbstractDataFrame, stats::Union{Symbol, Pair}...; cols=:)\n",
       "\\end{verbatim}\n",
       "Return descriptive statistics for a data frame as a new \\texttt{DataFrame} where each row represents a variable and each column a summary statistic.\n",
       "\n",
       "\\section{Arguments}\n",
       "\\begin{itemize}\n",
       "\\item \\texttt{df} : the \\texttt{AbstractDataFrame}\n",
       "\n",
       "\n",
       "\\item \\texttt{stats::Union\\{Symbol, Pair\\}...} : the summary statistics to report. Arguments can be:\n",
       "\n",
       "\\begin{itemize}\n",
       "\\item A symbol from the list \\texttt{:mean}, \\texttt{:std}, \\texttt{:min}, \\texttt{:q25}, \\texttt{:median}, \\texttt{:q75}, \\texttt{:max}, \\texttt{:eltype}, \\texttt{:nunique}, \\texttt{:first}, \\texttt{:last}, and \\texttt{:nmissing}. The default statistics used are \\texttt{:mean}, \\texttt{:min}, \\texttt{:median}, \\texttt{:max}, \\texttt{:nunique}, \\texttt{:nmissing}, and \\texttt{:eltype}.\n",
       "\n",
       "\n",
       "\\item \\texttt{:all} as the only \\texttt{Symbol} argument to return all statistics.\n",
       "\n",
       "\n",
       "\\item A \\texttt{name => function} pair where \\texttt{name} is a \\texttt{Symbol} or string. This will create a column of summary statistics with the provided name.\n",
       "\n",
       "\\end{itemize}\n",
       "\n",
       "\\item \\texttt{cols} : a keyword argument allowing to select only a subset of columns from \\texttt{df} to describe. Can be any column selector (\\texttt{Symbol}, string or integer; \\texttt{:}, \\texttt{All}, \\texttt{Between}, \\texttt{Not}, a regular expression, or a vector of \\texttt{Symbol}s, strings or integers).\n",
       "\n",
       "\\end{itemize}\n",
       "\\section{Details}\n",
       "For \\texttt{Real} columns, compute the mean, standard deviation, minimum, first quantile, median, third quantile, and maximum. If a column does not derive from \\texttt{Real}, \\texttt{describe} will attempt to calculate all statistics, using \\texttt{nothing} as a fall-back in the case of an error.\n",
       "\n",
       "When \\texttt{stats} contains \\texttt{:nunique}, \\texttt{describe} will report the number of unique values in a column. If a column's base type derives from \\texttt{Real}, \\texttt{:nunique} will return \\texttt{nothing}s.\n",
       "\n",
       "Missing values are filtered in the calculation of all statistics, however the column \\texttt{:nmissing} will report the number of missing values of that variable. If the column does not allow missing values, \\texttt{nothing} is returned. Consequently, \\texttt{nmissing = 0} indicates that the column allows missing values, but does not currently contain any.\n",
       "\n",
       "If custom functions are provided, they are called repeatedly with the vector corresponding to each column as the only argument. For columns allowing for missing values, the vector is wrapped in a call to \\texttt{skipmissing}: custom functions must therefore support such objects (and not only vectors), and cannot access missing values.\n",
       "\n",
       "\\section{Examples}\n",
       "\\begin{verbatim}\n",
       "julia> df = DataFrame(i=1:10, x=0.1:0.1:1.0, y='a':'j')\n",
       "10×3 DataFrame\n",
       "│ Row │ i     │ x       │ y    │\n",
       "│     │ Int64 │ Float64 │ Char │\n",
       "├─────┼───────┼─────────┼──────┤\n",
       "│ 1   │ 1     │ 0.1     │ 'a'  │\n",
       "│ 2   │ 2     │ 0.2     │ 'b'  │\n",
       "│ 3   │ 3     │ 0.3     │ 'c'  │\n",
       "│ 4   │ 4     │ 0.4     │ 'd'  │\n",
       "│ 5   │ 5     │ 0.5     │ 'e'  │\n",
       "│ 6   │ 6     │ 0.6     │ 'f'  │\n",
       "│ 7   │ 7     │ 0.7     │ 'g'  │\n",
       "│ 8   │ 8     │ 0.8     │ 'h'  │\n",
       "│ 9   │ 9     │ 0.9     │ 'i'  │\n",
       "│ 10  │ 10    │ 1.0     │ 'j'  │\n",
       "\n",
       "julia> describe(df)\n",
       "3×8 DataFrame\n",
       "│ Row │ variable │ mean   │ min │ median │ max │ nunique │ nmissing │ eltype   │\n",
       "│     │ Symbol   │ Union… │ Any │ Union… │ Any │ Union…  │ Nothing  │ DataType │\n",
       "├─────┼──────────┼────────┼─────┼────────┼─────┼─────────┼──────────┼──────────┤\n",
       "│ 1   │ i        │ 5.5    │ 1   │ 5.5    │ 10  │         │          │ Int64    │\n",
       "│ 2   │ x        │ 0.55   │ 0.1 │ 0.55   │ 1.0 │         │          │ Float64  │\n",
       "│ 3   │ y        │        │ 'a' │        │ 'j' │ 10      │          │ Char     │\n",
       "\n",
       "julia> describe(df, :min, :max)\n",
       "3×3 DataFrame\n",
       "│ Row │ variable │ min │ max │\n",
       "│     │ Symbol   │ Any │ Any │\n",
       "├─────┼──────────┼─────┼─────┤\n",
       "│ 1   │ i        │ 1   │ 10  │\n",
       "│ 2   │ x        │ 0.1 │ 1.0 │\n",
       "│ 3   │ y        │ 'a' │ 'j' │\n",
       "\n",
       "julia> describe(df, :min, :sum => sum)\n",
       "3×3 DataFrame\n",
       "│ Row │ variable │ min │ sum │\n",
       "│     │ Symbol   │ Any │ Any │\n",
       "├─────┼──────────┼─────┼─────┤\n",
       "│ 1   │ i        │ 1   │ 55  │\n",
       "│ 2   │ x        │ 0.1 │ 5.5 │\n",
       "│ 3   │ y        │ 'a' │     │\n",
       "\n",
       "julia> describe(df, :min, :sum => sum, cols=:x)\n",
       "1×3 DataFrame\n",
       "│ Row │ variable │ min     │ sum     │\n",
       "│     │ Symbol   │ Float64 │ Float64 │\n",
       "├─────┼──────────┼─────────┼─────────┤\n",
       "│ 1   │ x        │ 0.1     │ 5.5     │\n",
       "\\end{verbatim}\n",
       "\\rule{\\textwidth}{1pt}\n",
       "\\begin{verbatim}\n",
       "describe(a)\n",
       "\\end{verbatim}\n",
       "Pretty-print the summary statistics provided by \\href{@ref}{\\texttt{summarystats}}: the mean, minimum, 25th percentile, median, 75th percentile, and maximum.\n",
       "\n"
      ],
      "text/markdown": [
       "```\n",
       "describe(io::IO, x)\n",
       "```\n",
       "\n",
       "For an object `x`, print descriptive statistics to `io`.\n",
       "\n",
       "This generic function is owned by StatsBase.jl, which is the sole provider of the default definition.\n",
       "\n",
       "---\n",
       "\n",
       "```\n",
       "describe(df::AbstractDataFrame; cols=:)\n",
       "describe(df::AbstractDataFrame, stats::Union{Symbol, Pair}...; cols=:)\n",
       "```\n",
       "\n",
       "Return descriptive statistics for a data frame as a new `DataFrame` where each row represents a variable and each column a summary statistic.\n",
       "\n",
       "# Arguments\n",
       "\n",
       "  * `df` : the `AbstractDataFrame`\n",
       "  * `stats::Union{Symbol, Pair}...` : the summary statistics to report. Arguments can be:\n",
       "\n",
       "      * A symbol from the list `:mean`, `:std`, `:min`, `:q25`, `:median`, `:q75`, `:max`, `:eltype`, `:nunique`, `:first`, `:last`, and `:nmissing`. The default statistics used are `:mean`, `:min`, `:median`, `:max`, `:nunique`, `:nmissing`, and `:eltype`.\n",
       "      * `:all` as the only `Symbol` argument to return all statistics.\n",
       "      * A `name => function` pair where `name` is a `Symbol` or string. This will create a column of summary statistics with the provided name.\n",
       "  * `cols` : a keyword argument allowing to select only a subset of columns from `df` to describe. Can be any column selector (`Symbol`, string or integer; `:`, `All`, `Between`, `Not`, a regular expression, or a vector of `Symbol`s, strings or integers).\n",
       "\n",
       "# Details\n",
       "\n",
       "For `Real` columns, compute the mean, standard deviation, minimum, first quantile, median, third quantile, and maximum. If a column does not derive from `Real`, `describe` will attempt to calculate all statistics, using `nothing` as a fall-back in the case of an error.\n",
       "\n",
       "When `stats` contains `:nunique`, `describe` will report the number of unique values in a column. If a column's base type derives from `Real`, `:nunique` will return `nothing`s.\n",
       "\n",
       "Missing values are filtered in the calculation of all statistics, however the column `:nmissing` will report the number of missing values of that variable. If the column does not allow missing values, `nothing` is returned. Consequently, `nmissing = 0` indicates that the column allows missing values, but does not currently contain any.\n",
       "\n",
       "If custom functions are provided, they are called repeatedly with the vector corresponding to each column as the only argument. For columns allowing for missing values, the vector is wrapped in a call to `skipmissing`: custom functions must therefore support such objects (and not only vectors), and cannot access missing values.\n",
       "\n",
       "# Examples\n",
       "\n",
       "```julia\n",
       "julia> df = DataFrame(i=1:10, x=0.1:0.1:1.0, y='a':'j')\n",
       "10×3 DataFrame\n",
       "│ Row │ i     │ x       │ y    │\n",
       "│     │ Int64 │ Float64 │ Char │\n",
       "├─────┼───────┼─────────┼──────┤\n",
       "│ 1   │ 1     │ 0.1     │ 'a'  │\n",
       "│ 2   │ 2     │ 0.2     │ 'b'  │\n",
       "│ 3   │ 3     │ 0.3     │ 'c'  │\n",
       "│ 4   │ 4     │ 0.4     │ 'd'  │\n",
       "│ 5   │ 5     │ 0.5     │ 'e'  │\n",
       "│ 6   │ 6     │ 0.6     │ 'f'  │\n",
       "│ 7   │ 7     │ 0.7     │ 'g'  │\n",
       "│ 8   │ 8     │ 0.8     │ 'h'  │\n",
       "│ 9   │ 9     │ 0.9     │ 'i'  │\n",
       "│ 10  │ 10    │ 1.0     │ 'j'  │\n",
       "\n",
       "julia> describe(df)\n",
       "3×8 DataFrame\n",
       "│ Row │ variable │ mean   │ min │ median │ max │ nunique │ nmissing │ eltype   │\n",
       "│     │ Symbol   │ Union… │ Any │ Union… │ Any │ Union…  │ Nothing  │ DataType │\n",
       "├─────┼──────────┼────────┼─────┼────────┼─────┼─────────┼──────────┼──────────┤\n",
       "│ 1   │ i        │ 5.5    │ 1   │ 5.5    │ 10  │         │          │ Int64    │\n",
       "│ 2   │ x        │ 0.55   │ 0.1 │ 0.55   │ 1.0 │         │          │ Float64  │\n",
       "│ 3   │ y        │        │ 'a' │        │ 'j' │ 10      │          │ Char     │\n",
       "\n",
       "julia> describe(df, :min, :max)\n",
       "3×3 DataFrame\n",
       "│ Row │ variable │ min │ max │\n",
       "│     │ Symbol   │ Any │ Any │\n",
       "├─────┼──────────┼─────┼─────┤\n",
       "│ 1   │ i        │ 1   │ 10  │\n",
       "│ 2   │ x        │ 0.1 │ 1.0 │\n",
       "│ 3   │ y        │ 'a' │ 'j' │\n",
       "\n",
       "julia> describe(df, :min, :sum => sum)\n",
       "3×3 DataFrame\n",
       "│ Row │ variable │ min │ sum │\n",
       "│     │ Symbol   │ Any │ Any │\n",
       "├─────┼──────────┼─────┼─────┤\n",
       "│ 1   │ i        │ 1   │ 55  │\n",
       "│ 2   │ x        │ 0.1 │ 5.5 │\n",
       "│ 3   │ y        │ 'a' │     │\n",
       "\n",
       "julia> describe(df, :min, :sum => sum, cols=:x)\n",
       "1×3 DataFrame\n",
       "│ Row │ variable │ min     │ sum     │\n",
       "│     │ Symbol   │ Float64 │ Float64 │\n",
       "├─────┼──────────┼─────────┼─────────┤\n",
       "│ 1   │ x        │ 0.1     │ 5.5     │\n",
       "```\n",
       "\n",
       "---\n",
       "\n",
       "```\n",
       "describe(a)\n",
       "```\n",
       "\n",
       "Pretty-print the summary statistics provided by [`summarystats`](@ref): the mean, minimum, 25th percentile, median, 75th percentile, and maximum.\n"
      ],
      "text/plain": [
       "\u001b[36m  describe(io::IO, x)\u001b[39m\n",
       "\n",
       "  For an object \u001b[36mx\u001b[39m, print descriptive statistics to \u001b[36mio\u001b[39m.\n",
       "\n",
       "  This generic function is owned by StatsBase.jl, which is the sole provider\n",
       "  of the default definition.\n",
       "\n",
       "  ────────────────────────────────────────────────────────────────────────────\n",
       "\n",
       "\u001b[36m  describe(df::AbstractDataFrame; cols=:)\u001b[39m\n",
       "\u001b[36m  describe(df::AbstractDataFrame, stats::Union{Symbol, Pair}...; cols=:)\u001b[39m\n",
       "\n",
       "  Return descriptive statistics for a data frame as a new \u001b[36mDataFrame\u001b[39m where each\n",
       "  row represents a variable and each column a summary statistic.\n",
       "\n",
       "\u001b[1m  Arguments\u001b[22m\n",
       "\u001b[1m  ≡≡≡≡≡≡≡≡≡≡≡\u001b[22m\n",
       "\n",
       "    •    \u001b[36mdf\u001b[39m : the \u001b[36mAbstractDataFrame\u001b[39m\n",
       "\n",
       "    •    \u001b[36mstats::Union{Symbol, Pair}...\u001b[39m : the summary statistics to report.\n",
       "        Arguments can be:\n",
       "      \n",
       "          •    A symbol from the list \u001b[36m:mean\u001b[39m, \u001b[36m:std\u001b[39m, \u001b[36m:min\u001b[39m, \u001b[36m:q25\u001b[39m, \u001b[36m:median\u001b[39m,\n",
       "              \u001b[36m:q75\u001b[39m, \u001b[36m:max\u001b[39m, \u001b[36m:eltype\u001b[39m, \u001b[36m:nunique\u001b[39m, \u001b[36m:first\u001b[39m, \u001b[36m:last\u001b[39m, and\n",
       "              \u001b[36m:nmissing\u001b[39m. The default statistics used are \u001b[36m:mean\u001b[39m, \u001b[36m:min\u001b[39m,\n",
       "              \u001b[36m:median\u001b[39m, \u001b[36m:max\u001b[39m, \u001b[36m:nunique\u001b[39m, \u001b[36m:nmissing\u001b[39m, and \u001b[36m:eltype\u001b[39m.\n",
       "      \n",
       "          •    \u001b[36m:all\u001b[39m as the only \u001b[36mSymbol\u001b[39m argument to return all\n",
       "              statistics.\n",
       "      \n",
       "          •    A \u001b[36mname => function\u001b[39m pair where \u001b[36mname\u001b[39m is a \u001b[36mSymbol\u001b[39m or\n",
       "              string. This will create a column of summary statistics\n",
       "              with the provided name.\n",
       "\n",
       "    •    \u001b[36mcols\u001b[39m : a keyword argument allowing to select only a subset of\n",
       "        columns from \u001b[36mdf\u001b[39m to describe. Can be any column selector (\u001b[36mSymbol\u001b[39m,\n",
       "        string or integer; \u001b[36m:\u001b[39m, \u001b[36mAll\u001b[39m, \u001b[36mBetween\u001b[39m, \u001b[36mNot\u001b[39m, a regular expression, or\n",
       "        a vector of \u001b[36mSymbol\u001b[39ms, strings or integers).\n",
       "\n",
       "\u001b[1m  Details\u001b[22m\n",
       "\u001b[1m  ≡≡≡≡≡≡≡≡≡\u001b[22m\n",
       "\n",
       "  For \u001b[36mReal\u001b[39m columns, compute the mean, standard deviation, minimum, first\n",
       "  quantile, median, third quantile, and maximum. If a column does not derive\n",
       "  from \u001b[36mReal\u001b[39m, \u001b[36mdescribe\u001b[39m will attempt to calculate all statistics, using \u001b[36mnothing\u001b[39m\n",
       "  as a fall-back in the case of an error.\n",
       "\n",
       "  When \u001b[36mstats\u001b[39m contains \u001b[36m:nunique\u001b[39m, \u001b[36mdescribe\u001b[39m will report the number of unique\n",
       "  values in a column. If a column's base type derives from \u001b[36mReal\u001b[39m, \u001b[36m:nunique\u001b[39m will\n",
       "  return \u001b[36mnothing\u001b[39ms.\n",
       "\n",
       "  Missing values are filtered in the calculation of all statistics, however\n",
       "  the column \u001b[36m:nmissing\u001b[39m will report the number of missing values of that\n",
       "  variable. If the column does not allow missing values, \u001b[36mnothing\u001b[39m is returned.\n",
       "  Consequently, \u001b[36mnmissing = 0\u001b[39m indicates that the column allows missing values,\n",
       "  but does not currently contain any.\n",
       "\n",
       "  If custom functions are provided, they are called repeatedly with the vector\n",
       "  corresponding to each column as the only argument. For columns allowing for\n",
       "  missing values, the vector is wrapped in a call to \u001b[36mskipmissing\u001b[39m: custom\n",
       "  functions must therefore support such objects (and not only vectors), and\n",
       "  cannot access missing values.\n",
       "\n",
       "\u001b[1m  Examples\u001b[22m\n",
       "\u001b[1m  ≡≡≡≡≡≡≡≡≡≡\u001b[22m\n",
       "\n",
       "\u001b[36m  julia> df = DataFrame(i=1:10, x=0.1:0.1:1.0, y='a':'j')\u001b[39m\n",
       "\u001b[36m  10×3 DataFrame\u001b[39m\n",
       "\u001b[36m  │ Row │ i     │ x       │ y    │\u001b[39m\n",
       "\u001b[36m  │     │ Int64 │ Float64 │ Char │\u001b[39m\n",
       "\u001b[36m  ├─────┼───────┼─────────┼──────┤\u001b[39m\n",
       "\u001b[36m  │ 1   │ 1     │ 0.1     │ 'a'  │\u001b[39m\n",
       "\u001b[36m  │ 2   │ 2     │ 0.2     │ 'b'  │\u001b[39m\n",
       "\u001b[36m  │ 3   │ 3     │ 0.3     │ 'c'  │\u001b[39m\n",
       "\u001b[36m  │ 4   │ 4     │ 0.4     │ 'd'  │\u001b[39m\n",
       "\u001b[36m  │ 5   │ 5     │ 0.5     │ 'e'  │\u001b[39m\n",
       "\u001b[36m  │ 6   │ 6     │ 0.6     │ 'f'  │\u001b[39m\n",
       "\u001b[36m  │ 7   │ 7     │ 0.7     │ 'g'  │\u001b[39m\n",
       "\u001b[36m  │ 8   │ 8     │ 0.8     │ 'h'  │\u001b[39m\n",
       "\u001b[36m  │ 9   │ 9     │ 0.9     │ 'i'  │\u001b[39m\n",
       "\u001b[36m  │ 10  │ 10    │ 1.0     │ 'j'  │\u001b[39m\n",
       "\u001b[36m  \u001b[39m\n",
       "\u001b[36m  julia> describe(df)\u001b[39m\n",
       "\u001b[36m  3×8 DataFrame\u001b[39m\n",
       "\u001b[36m  │ Row │ variable │ mean   │ min │ median │ max │ nunique │ nmissing │ eltype   │\u001b[39m\n",
       "\u001b[36m  │     │ Symbol   │ Union… │ Any │ Union… │ Any │ Union…  │ Nothing  │ DataType │\u001b[39m\n",
       "\u001b[36m  ├─────┼──────────┼────────┼─────┼────────┼─────┼─────────┼──────────┼──────────┤\u001b[39m\n",
       "\u001b[36m  │ 1   │ i        │ 5.5    │ 1   │ 5.5    │ 10  │         │          │ Int64    │\u001b[39m\n",
       "\u001b[36m  │ 2   │ x        │ 0.55   │ 0.1 │ 0.55   │ 1.0 │         │          │ Float64  │\u001b[39m\n",
       "\u001b[36m  │ 3   │ y        │        │ 'a' │        │ 'j' │ 10      │          │ Char     │\u001b[39m\n",
       "\u001b[36m  \u001b[39m\n",
       "\u001b[36m  julia> describe(df, :min, :max)\u001b[39m\n",
       "\u001b[36m  3×3 DataFrame\u001b[39m\n",
       "\u001b[36m  │ Row │ variable │ min │ max │\u001b[39m\n",
       "\u001b[36m  │     │ Symbol   │ Any │ Any │\u001b[39m\n",
       "\u001b[36m  ├─────┼──────────┼─────┼─────┤\u001b[39m\n",
       "\u001b[36m  │ 1   │ i        │ 1   │ 10  │\u001b[39m\n",
       "\u001b[36m  │ 2   │ x        │ 0.1 │ 1.0 │\u001b[39m\n",
       "\u001b[36m  │ 3   │ y        │ 'a' │ 'j' │\u001b[39m\n",
       "\u001b[36m  \u001b[39m\n",
       "\u001b[36m  julia> describe(df, :min, :sum => sum)\u001b[39m\n",
       "\u001b[36m  3×3 DataFrame\u001b[39m\n",
       "\u001b[36m  │ Row │ variable │ min │ sum │\u001b[39m\n",
       "\u001b[36m  │     │ Symbol   │ Any │ Any │\u001b[39m\n",
       "\u001b[36m  ├─────┼──────────┼─────┼─────┤\u001b[39m\n",
       "\u001b[36m  │ 1   │ i        │ 1   │ 55  │\u001b[39m\n",
       "\u001b[36m  │ 2   │ x        │ 0.1 │ 5.5 │\u001b[39m\n",
       "\u001b[36m  │ 3   │ y        │ 'a' │     │\u001b[39m\n",
       "\u001b[36m  \u001b[39m\n",
       "\u001b[36m  julia> describe(df, :min, :sum => sum, cols=:x)\u001b[39m\n",
       "\u001b[36m  1×3 DataFrame\u001b[39m\n",
       "\u001b[36m  │ Row │ variable │ min     │ sum     │\u001b[39m\n",
       "\u001b[36m  │     │ Symbol   │ Float64 │ Float64 │\u001b[39m\n",
       "\u001b[36m  ├─────┼──────────┼─────────┼─────────┤\u001b[39m\n",
       "\u001b[36m  │ 1   │ x        │ 0.1     │ 5.5     │\u001b[39m\n",
       "\n",
       "  ────────────────────────────────────────────────────────────────────────────\n",
       "\n",
       "\u001b[36m  describe(a)\u001b[39m\n",
       "\n",
       "  Pretty-print the summary statistics provided by \u001b[36msummarystats\u001b[39m: the mean,\n",
       "  minimum, 25th percentile, median, 75th percentile, and maximum."
      ]
     },
     "execution_count": 83,
     "metadata": {},
     "output_type": "execute_result"
    }
   ],
   "source": [
    "?describe"
   ]
  },
  {
   "cell_type": "code",
   "execution_count": 86,
   "metadata": {},
   "outputs": [
    {
     "name": "stdout",
     "output_type": "stream",
     "text": [
      "describe(femaleP, :mean) = 11×2 DataFrame\n",
      "│ Row │ variable    │ mean     │\n",
      "│     │ Symbol      │ Union…   │\n",
      "├─────┼─────────────┼──────────┤\n",
      "│ 1   │ PassengerId │ 1095.45  │\n",
      "│ 2   │ Pclass      │ 1.11364  │\n",
      "│ 3   │ Name        │          │\n",
      "│ 4   │ Sex         │          │\n",
      "│ 5   │ Age         │ 39.5909  │\n",
      "│ 6   │ SibSp       │ 0.704545 │\n",
      "│ 7   │ Parch       │ 0.636364 │\n",
      "│ 8   │ Ticket      │          │\n",
      "│ 9   │ Fare        │ 113.627  │\n",
      "│ 10  │ Cabin       │          │\n",
      "│ 11  │ Embarked    │          │\n",
      "describe(maleP, :mean) = 11×2 DataFrame\n",
      "│ Row │ variable    │ mean     │\n",
      "│     │ Symbol      │ Union…   │\n",
      "├─────┼─────────────┼──────────┤\n",
      "│ 1   │ PassengerId │ 1110.14  │\n",
      "│ 2   │ Pclass      │ 1.16279  │\n",
      "│ 3   │ Name        │          │\n",
      "│ 4   │ Sex         │          │\n",
      "│ 5   │ Age         │ 38.8953  │\n",
      "│ 6   │ SibSp       │ 0.488372 │\n",
      "│ 7   │ Parch       │ 0.325581 │\n",
      "│ 8   │ Ticket      │          │\n",
      "│ 9   │ Fare        │ 82.2308  │\n",
      "│ 10  │ Cabin       │          │\n",
      "│ 11  │ Embarked    │          │\n"
     ]
    },
    {
     "data": {
      "text/html": [
       "<table class=\"data-frame\"><thead><tr><th></th><th>variable</th><th>mean</th></tr><tr><th></th><th>Symbol</th><th>Union…</th></tr></thead><tbody><p>11 rows × 2 columns</p><tr><th>1</th><td>PassengerId</td><td>1110.14</td></tr><tr><th>2</th><td>Pclass</td><td>1.16279</td></tr><tr><th>3</th><td>Name</td><td></td></tr><tr><th>4</th><td>Sex</td><td></td></tr><tr><th>5</th><td>Age</td><td>38.8953</td></tr><tr><th>6</th><td>SibSp</td><td>0.488372</td></tr><tr><th>7</th><td>Parch</td><td>0.325581</td></tr><tr><th>8</th><td>Ticket</td><td></td></tr><tr><th>9</th><td>Fare</td><td>82.2308</td></tr><tr><th>10</th><td>Cabin</td><td></td></tr><tr><th>11</th><td>Embarked</td><td></td></tr></tbody></table>"
      ],
      "text/latex": [
       "\\begin{tabular}{r|cc}\n",
       "\t& variable & mean\\\\\n",
       "\t\\hline\n",
       "\t& Symbol & Union…\\\\\n",
       "\t\\hline\n",
       "\t1 & PassengerId & 1110.14 \\\\\n",
       "\t2 & Pclass & 1.16279 \\\\\n",
       "\t3 & Name &  \\\\\n",
       "\t4 & Sex &  \\\\\n",
       "\t5 & Age & 38.8953 \\\\\n",
       "\t6 & SibSp & 0.488372 \\\\\n",
       "\t7 & Parch & 0.325581 \\\\\n",
       "\t8 & Ticket &  \\\\\n",
       "\t9 & Fare & 82.2308 \\\\\n",
       "\t10 & Cabin &  \\\\\n",
       "\t11 & Embarked &  \\\\\n",
       "\\end{tabular}\n"
      ],
      "text/plain": [
       "11×2 DataFrame\n",
       "│ Row │ variable    │ mean     │\n",
       "│     │ \u001b[90mSymbol\u001b[39m      │ \u001b[90mUnion…\u001b[39m   │\n",
       "├─────┼─────────────┼──────────┤\n",
       "│ 1   │ PassengerId │ 1110.14  │\n",
       "│ 2   │ Pclass      │ 1.16279  │\n",
       "│ 3   │ Name        │          │\n",
       "│ 4   │ Sex         │          │\n",
       "│ 5   │ Age         │ 38.8953  │\n",
       "│ 6   │ SibSp       │ 0.488372 │\n",
       "│ 7   │ Parch       │ 0.325581 │\n",
       "│ 8   │ Ticket      │          │\n",
       "│ 9   │ Fare        │ 82.2308  │\n",
       "│ 10  │ Cabin       │          │\n",
       "│ 11  │ Embarked    │          │"
      ]
     },
     "execution_count": 86,
     "metadata": {},
     "output_type": "execute_result"
    }
   ],
   "source": [
    "gbyPAge = groupby(cleanP, :Sex)\n",
    "femaleP=gbyPAge[1]\n",
    "maleP=gbyPAge[2]\n",
    "@show describe(femaleP,:mean)\n",
    "@show describe(maleP,:mean)"
   ]
  },
  {
   "cell_type": "code",
   "execution_count": null,
   "metadata": {},
   "outputs": [],
   "source": []
  },
  {
   "cell_type": "markdown",
   "metadata": {},
   "source": [
    "## Question 4   \n",
    "\n",
    "Download the file RestaurantData.zip file containing the data for this project assignment from the Moodle. Unzip the file in a directory that will serve as your working directory. When you start up Julia, make sure to change your working directory to the directory where you unzipped the data. \n",
    "\n",
    "The data for this project came from Kaggle where somebody had used the Zomato API to scrape the data. Zomato API Analysis is useful for foodies who want to taste the best cuisines of every part of the world which lies in their budget. \n",
    "\n",
    "For more information on Zomato API and Zomato API key you could visit https://developers.zomato.com/api#headline1 and https://developers.zomato.com/documentation\n",
    "Data Fetching: Data had been originally collected from the Zomato API in the form of .json files (raw data). The collected data has been stored in the Comma Separated Value file zomato.csv. \n",
    "\n",
    "Each restaurant in the dataset is uniquely identified by its Restaurant Id. Every Restaurant contains the following variables: <br>\n",
    "•\tRestaurant Id: Unique id of every restaurant across various cities of the world <br>\n",
    "•\tRestaurant Name: Name of the restaurant <br>\n",
    "•\tCountry Code: Country in which restaurant is located <br> \n",
    "•\tCity: City in which restaurant is located <br>\n",
    "•\tAddress: Address of the restaurant <br>\n",
    "•\tLocality: Location in the city <br>\n",
    "•\tLocality Verbose: Detailed description of the locality <br>\n",
    "•\tLongitude: Longitude coordinate of the restaurant's location <br>\n",
    "•\tLatitude: Latitude coordinate of the restaurant's location <br>\n",
    "•\tCuisines: Cuisines offered by the restaurant <br>\n",
    "•\tAverage Cost for two: Cost for two people in different currencies 👫 <br>\n",
    "•\tCurrency: Currency of the country <br>\n",
    "•\tHas Table booking: yes/no <br>\n",
    "•\tHas Online delivery: yes/ no <br>\n",
    "•\tIs delivering: yes/ no <br>\n",
    "•\tSwitch to order menu: yes/no <br>\n",
    "•\tPrice range: range of price of food <br>\n",
    "•\tAggregate Rating: Average rating out of 5 <br>\n",
    "•\tRating color: depending upon the average rating color <br>\n",
    "•\tRating text: text on the basis of rating of rating <br>\n",
    "•\tVotes: Number of ratings casted by people"
   ]
  },
  {
   "cell_type": "markdown",
   "metadata": {},
   "source": [
    "### 4.1 Plot the user rankings for the restaurants \n",
    "\n",
    "Read the zomato data into Julia via the `CSV.read` function and look at the first few rows.\n",
    "There are many columns in this dataset. You can see how many by typing `ncol(zomato)` (you can see the number of rows with the `nrow` function). In addition, you can see the names of each column by typing `names(zomato)` (the names are also listed on the previous page.) \n",
    "Make a simple histogram of the ratings (column 18 in the zomato dataset)."
   ]
  },
  {
   "cell_type": "code",
   "execution_count": null,
   "metadata": {},
   "outputs": [],
   "source": []
  },
  {
   "cell_type": "code",
   "execution_count": null,
   "metadata": {},
   "outputs": [],
   "source": []
  },
  {
   "cell_type": "code",
   "execution_count": 111,
   "metadata": {},
   "outputs": [],
   "source": [
    "cd(\"C:/Users/Victor/Desktop/julia_coursea/cacds/final exam/RestaurantData/RestaurantData\")"
   ]
  },
  {
   "cell_type": "code",
   "execution_count": 113,
   "metadata": {},
   "outputs": [
    {
     "data": {
      "text/plain": [
       "7-element Array{String,1}:\n",
       " \"Country-Code.csv\"\n",
       " \"file1.json\"\n",
       " \"file2.json\"\n",
       " \"file3.json\"\n",
       " \"file4.json\"\n",
       " \"file5.json\"\n",
       " \"zomato.csv\""
      ]
     },
     "execution_count": 113,
     "metadata": {},
     "output_type": "execute_result"
    }
   ],
   "source": [
    "readdir()"
   ]
  },
  {
   "cell_type": "code",
   "execution_count": 198,
   "metadata": {},
   "outputs": [
    {
     "data": {
      "text/html": [
       "<table class=\"data-frame\"><thead><tr><th></th><th>Restaurant ID</th><th>Restaurant Name</th><th>Country Code</th><th>City</th></tr><tr><th></th><th>Int64</th><th>String</th><th>Int64</th><th>String</th></tr></thead><tbody><p>9,551 rows × 21 columns (omitted printing of 17 columns)</p><tr><th>1</th><td>6317637</td><td>Le Petit Souffle</td><td>162</td><td>Makati City</td></tr><tr><th>2</th><td>6304287</td><td>Izakaya Kikufuji</td><td>162</td><td>Makati City</td></tr><tr><th>3</th><td>6300002</td><td>Heat - Edsa Shangri-La</td><td>162</td><td>Mandaluyong City</td></tr><tr><th>4</th><td>6318506</td><td>Ooma</td><td>162</td><td>Mandaluyong City</td></tr><tr><th>5</th><td>6314302</td><td>Sambo Kojin</td><td>162</td><td>Mandaluyong City</td></tr><tr><th>6</th><td>18189371</td><td>Din Tai Fung</td><td>162</td><td>Mandaluyong City</td></tr><tr><th>7</th><td>6300781</td><td>Buffet 101</td><td>162</td><td>Pasay City</td></tr><tr><th>8</th><td>6301290</td><td>Vikings</td><td>162</td><td>Pasay City</td></tr><tr><th>9</th><td>6300010</td><td>Spiral - Sofitel Philippine Plaza Manila</td><td>162</td><td>Pasay City</td></tr><tr><th>10</th><td>6314987</td><td>Locavore</td><td>162</td><td>Pasig City</td></tr><tr><th>11</th><td>6309903</td><td>Silantro Fil-Mex</td><td>162</td><td>Pasig City</td></tr><tr><th>12</th><td>6309455</td><td>Mad Mark's Creamery &amp; Good Eats</td><td>162</td><td>Pasig City</td></tr><tr><th>13</th><td>6318433</td><td>Silantro Fil-Mex</td><td>162</td><td>Quezon City</td></tr><tr><th>14</th><td>6310470</td><td>Guevarra's</td><td>162</td><td>San Juan City</td></tr><tr><th>15</th><td>6314605</td><td>Sodam Korean Restaurant</td><td>162</td><td>San Juan City</td></tr><tr><th>16</th><td>18185059</td><td>Cafe Arabelle</td><td>162</td><td>Santa Rosa</td></tr><tr><th>17</th><td>18182702</td><td>Nonna's Pasta &amp; Pizzeria</td><td>162</td><td>Santa Rosa</td></tr><tr><th>18</th><td>6318213</td><td>Balay Dako</td><td>162</td><td>Tagaytay City</td></tr><tr><th>19</th><td>18255654</td><td>Hobing Korean Dessert Cafe</td><td>162</td><td>Taguig City</td></tr><tr><th>20</th><td>6308205</td><td>Wildflour Cafe + Bakery</td><td>162</td><td>Taguig City</td></tr><tr><th>21</th><td>6315438</td><td>NIU by Vikings</td><td>162</td><td>Taguig City</td></tr><tr><th>22</th><td>6310406</td><td>The Food Hall by Todd English</td><td>162</td><td>Taguig City</td></tr><tr><th>23</th><td>6600681</td><td>Chez Michou</td><td>30</td><td>Bras\\xed_lia</td></tr><tr><th>24</th><td>6601005</td><td>Caf\\xed\\xa9 Daniel Briand</td><td>30</td><td>Bras\\xed_lia</td></tr><tr><th>25</th><td>6600292</td><td>Casa do Biscoito Mineiro</td><td>30</td><td>Bras\\xed_lia</td></tr><tr><th>26</th><td>6600441</td><td>Maori</td><td>30</td><td>Bras\\xed_lia</td></tr><tr><th>27</th><td>6600970</td><td>Pizza \\xed\\xe6 Bessa</td><td>30</td><td>Bras\\xed_lia</td></tr><tr><th>28</th><td>6600379</td><td>Sushi Loko</td><td>30</td><td>Bras\\xed_lia</td></tr><tr><th>29</th><td>6600214</td><td>Beirute</td><td>30</td><td>Bras\\xed_lia</td></tr><tr><th>30</th><td>6601218</td><td>New Koto</td><td>30</td><td>Bras\\xed_lia</td></tr><tr><th>&vellip;</th><td>&vellip;</td><td>&vellip;</td><td>&vellip;</td><td>&vellip;</td></tr></tbody></table>"
      ],
      "text/latex": [
       "\\begin{tabular}{r|ccccc}\n",
       "\t& Restaurant ID & Restaurant Name & Country Code & City & \\\\\n",
       "\t\\hline\n",
       "\t& Int64 & String & Int64 & String & \\\\\n",
       "\t\\hline\n",
       "\t1 & 6317637 & Le Petit Souffle & 162 & Makati City & $\\dots$ \\\\\n",
       "\t2 & 6304287 & Izakaya Kikufuji & 162 & Makati City & $\\dots$ \\\\\n",
       "\t3 & 6300002 & Heat - Edsa Shangri-La & 162 & Mandaluyong City & $\\dots$ \\\\\n",
       "\t4 & 6318506 & Ooma & 162 & Mandaluyong City & $\\dots$ \\\\\n",
       "\t5 & 6314302 & Sambo Kojin & 162 & Mandaluyong City & $\\dots$ \\\\\n",
       "\t6 & 18189371 & Din Tai Fung & 162 & Mandaluyong City & $\\dots$ \\\\\n",
       "\t7 & 6300781 & Buffet 101 & 162 & Pasay City & $\\dots$ \\\\\n",
       "\t8 & 6301290 & Vikings & 162 & Pasay City & $\\dots$ \\\\\n",
       "\t9 & 6300010 & Spiral - Sofitel Philippine Plaza Manila & 162 & Pasay City & $\\dots$ \\\\\n",
       "\t10 & 6314987 & Locavore & 162 & Pasig City & $\\dots$ \\\\\n",
       "\t11 & 6309903 & Silantro Fil-Mex & 162 & Pasig City & $\\dots$ \\\\\n",
       "\t12 & 6309455 & Mad Mark's Creamery \\& Good Eats & 162 & Pasig City & $\\dots$ \\\\\n",
       "\t13 & 6318433 & Silantro Fil-Mex & 162 & Quezon City & $\\dots$ \\\\\n",
       "\t14 & 6310470 & Guevarra's & 162 & San Juan City & $\\dots$ \\\\\n",
       "\t15 & 6314605 & Sodam Korean Restaurant & 162 & San Juan City & $\\dots$ \\\\\n",
       "\t16 & 18185059 & Cafe Arabelle & 162 & Santa Rosa & $\\dots$ \\\\\n",
       "\t17 & 18182702 & Nonna's Pasta \\& Pizzeria & 162 & Santa Rosa & $\\dots$ \\\\\n",
       "\t18 & 6318213 & Balay Dako & 162 & Tagaytay City & $\\dots$ \\\\\n",
       "\t19 & 18255654 & Hobing Korean Dessert Cafe & 162 & Taguig City & $\\dots$ \\\\\n",
       "\t20 & 6308205 & Wildflour Cafe + Bakery & 162 & Taguig City & $\\dots$ \\\\\n",
       "\t21 & 6315438 & NIU by Vikings & 162 & Taguig City & $\\dots$ \\\\\n",
       "\t22 & 6310406 & The Food Hall by Todd English & 162 & Taguig City & $\\dots$ \\\\\n",
       "\t23 & 6600681 & Chez Michou & 30 & Bras\\textbackslash{}xed\\_lia & $\\dots$ \\\\\n",
       "\t24 & 6601005 & Caf\\textbackslash{}xed\\textbackslash{}xa9 Daniel Briand & 30 & Bras\\textbackslash{}xed\\_lia & $\\dots$ \\\\\n",
       "\t25 & 6600292 & Casa do Biscoito Mineiro & 30 & Bras\\textbackslash{}xed\\_lia & $\\dots$ \\\\\n",
       "\t26 & 6600441 & Maori & 30 & Bras\\textbackslash{}xed\\_lia & $\\dots$ \\\\\n",
       "\t27 & 6600970 & Pizza \\textbackslash{}xed\\textbackslash{}xe6 Bessa & 30 & Bras\\textbackslash{}xed\\_lia & $\\dots$ \\\\\n",
       "\t28 & 6600379 & Sushi Loko & 30 & Bras\\textbackslash{}xed\\_lia & $\\dots$ \\\\\n",
       "\t29 & 6600214 & Beirute & 30 & Bras\\textbackslash{}xed\\_lia & $\\dots$ \\\\\n",
       "\t30 & 6601218 & New Koto & 30 & Bras\\textbackslash{}xed\\_lia & $\\dots$ \\\\\n",
       "\t$\\dots$ & $\\dots$ & $\\dots$ & $\\dots$ & $\\dots$ &  \\\\\n",
       "\\end{tabular}\n"
      ],
      "text/plain": [
       "9551×21 DataFrame. Omitted printing of 19 columns\n",
       "│ Row  │ Restaurant ID │ Restaurant Name                          │\n",
       "│      │ \u001b[90mInt64\u001b[39m         │ \u001b[90mString\u001b[39m                                   │\n",
       "├──────┼───────────────┼──────────────────────────────────────────┤\n",
       "│ 1    │ 6317637       │ Le Petit Souffle                         │\n",
       "│ 2    │ 6304287       │ Izakaya Kikufuji                         │\n",
       "│ 3    │ 6300002       │ Heat - Edsa Shangri-La                   │\n",
       "│ 4    │ 6318506       │ Ooma                                     │\n",
       "│ 5    │ 6314302       │ Sambo Kojin                              │\n",
       "│ 6    │ 18189371      │ Din Tai Fung                             │\n",
       "│ 7    │ 6300781       │ Buffet 101                               │\n",
       "│ 8    │ 6301290       │ Vikings                                  │\n",
       "│ 9    │ 6300010       │ Spiral - Sofitel Philippine Plaza Manila │\n",
       "│ 10   │ 6314987       │ Locavore                                 │\n",
       "⋮\n",
       "│ 9541 │ 5927248       │ Draft Gastro Pub                         │\n",
       "│ 9542 │ 5905215       │ Emirgan S\\xed_ti\\x81\\xf4                 │\n",
       "│ 9543 │ 5926979       │ Leman K\\xed_lt\\xed_r                     │\n",
       "│ 9544 │ 5916085       │ Dem Karak\\xed_y                          │\n",
       "│ 9545 │ 5915547       │ Karak\\xed_y G\\xed_ll\\xed_o\\xdb\\xf4lu     │\n",
       "│ 9546 │ 5915054       │ Baltazar                                 │\n",
       "│ 9547 │ 5915730       │ Naml۱ Gurme                              │\n",
       "│ 9548 │ 5908749       │ Ceviz A\\xdb\\xf4ac۱                       │\n",
       "│ 9549 │ 5915807       │ Huqqa                                    │\n",
       "│ 9550 │ 5916112       │ A\\x81\\xf4\\x81\\xf4k Kahve                 │\n",
       "│ 9551 │ 5927402       │ Walter's Coffee Roastery                 │"
      ]
     },
     "execution_count": 198,
     "metadata": {},
     "output_type": "execute_result"
    }
   ],
   "source": [
    "zomatodf = CSV.read(\"zomato.csv\", header=true)"
   ]
  },
  {
   "cell_type": "code",
   "execution_count": 124,
   "metadata": {},
   "outputs": [
    {
     "data": {
      "text/html": [
       "<table class=\"data-frame\"><thead><tr><th></th><th>variable</th><th>max</th></tr><tr><th></th><th>Symbol</th><th>Any</th></tr></thead><tbody><p>21 rows × 2 columns</p><tr><th>1</th><td>Restaurant ID</td><td>18500652</td></tr><tr><th>2</th><td>Restaurant Name</td><td>\\xed\\x88ukura\\xdb\\xf4a Sofras۱</td></tr><tr><th>3</th><td>Country Code</td><td>216</td></tr><tr><th>4</th><td>City</td><td>\\xdb\\xc1stanbul</td></tr><tr><th>5</th><td>Address</td><td>\\xed\\xecmitk\\xed_y Mahallesi, 2432. Cadde (8. Cadde), No 113, \\xed\\x88ankaya, Ankara</td></tr><tr><th>6</th><td>Locality</td><td>\\xed\\xecmitk\\xed_y</td></tr><tr><th>7</th><td>Locality Verbose</td><td>\\xed\\xecmitk\\xed_y, Ankara</td></tr><tr><th>8</th><td>Longitude</td><td>174.832</td></tr><tr><th>9</th><td>Latitude</td><td>55.977</td></tr><tr><th>10</th><td>Cuisines</td><td>World Cuisine, Patisserie, Cafe</td></tr><tr><th>11</th><td>Average Cost for two</td><td>800000</td></tr><tr><th>12</th><td>Currency</td><td>Turkish Lira(TL)</td></tr><tr><th>13</th><td>Has Table booking</td><td>Yes</td></tr><tr><th>14</th><td>Has Online delivery</td><td>Yes</td></tr><tr><th>15</th><td>Is delivering now</td><td>Yes</td></tr><tr><th>16</th><td>Switch to order menu</td><td>No</td></tr><tr><th>17</th><td>Price range</td><td>4</td></tr><tr><th>18</th><td>Aggregate rating</td><td>4.9</td></tr><tr><th>19</th><td>Rating color</td><td>Yellow</td></tr><tr><th>20</th><td>Rating text</td><td>Very Good</td></tr><tr><th>21</th><td>Votes</td><td>10934</td></tr></tbody></table>"
      ],
      "text/latex": [
       "\\begin{tabular}{r|cc}\n",
       "\t& variable & max\\\\\n",
       "\t\\hline\n",
       "\t& Symbol & Any\\\\\n",
       "\t\\hline\n",
       "\t1 & Restaurant ID & 18500652 \\\\\n",
       "\t2 & Restaurant Name & \\textbackslash{}xed\\textbackslash{}x88ukura\\textbackslash{}xdb\\textbackslash{}xf4a Sofras۱ \\\\\n",
       "\t3 & Country Code & 216 \\\\\n",
       "\t4 & City & \\textbackslash{}xdb\\textbackslash{}xc1stanbul \\\\\n",
       "\t5 & Address & \\textbackslash{}xed\\textbackslash{}xecmitk\\textbackslash{}xed\\_y Mahallesi, 2432. Cadde (8. Cadde), No 113, \\textbackslash{}xed\\textbackslash{}x88ankaya, Ankara \\\\\n",
       "\t6 & Locality & \\textbackslash{}xed\\textbackslash{}xecmitk\\textbackslash{}xed\\_y \\\\\n",
       "\t7 & Locality Verbose & \\textbackslash{}xed\\textbackslash{}xecmitk\\textbackslash{}xed\\_y, Ankara \\\\\n",
       "\t8 & Longitude & 174.832 \\\\\n",
       "\t9 & Latitude & 55.977 \\\\\n",
       "\t10 & Cuisines & World Cuisine, Patisserie, Cafe \\\\\n",
       "\t11 & Average Cost for two & 800000 \\\\\n",
       "\t12 & Currency & Turkish Lira(TL) \\\\\n",
       "\t13 & Has Table booking & Yes \\\\\n",
       "\t14 & Has Online delivery & Yes \\\\\n",
       "\t15 & Is delivering now & Yes \\\\\n",
       "\t16 & Switch to order menu & No \\\\\n",
       "\t17 & Price range & 4 \\\\\n",
       "\t18 & Aggregate rating & 4.9 \\\\\n",
       "\t19 & Rating color & Yellow \\\\\n",
       "\t20 & Rating text & Very Good \\\\\n",
       "\t21 & Votes & 10934 \\\\\n",
       "\\end{tabular}\n"
      ],
      "text/plain": [
       "21×2 DataFrame. Omitted printing of 1 columns\n",
       "│ Row │ variable             │\n",
       "│     │ \u001b[90mSymbol\u001b[39m               │\n",
       "├─────┼──────────────────────┤\n",
       "│ 1   │ Restaurant ID        │\n",
       "│ 2   │ Restaurant Name      │\n",
       "│ 3   │ Country Code         │\n",
       "│ 4   │ City                 │\n",
       "│ 5   │ Address              │\n",
       "│ 6   │ Locality             │\n",
       "│ 7   │ Locality Verbose     │\n",
       "│ 8   │ Longitude            │\n",
       "│ 9   │ Latitude             │\n",
       "│ 10  │ Cuisines             │\n",
       "│ 11  │ Average Cost for two │\n",
       "│ 12  │ Currency             │\n",
       "│ 13  │ Has Table booking    │\n",
       "│ 14  │ Has Online delivery  │\n",
       "│ 15  │ Is delivering now    │\n",
       "│ 16  │ Switch to order menu │\n",
       "│ 17  │ Price range          │\n",
       "│ 18  │ Aggregate rating     │\n",
       "│ 19  │ Rating color         │\n",
       "│ 20  │ Rating text          │\n",
       "│ 21  │ Votes                │"
      ]
     },
     "execution_count": 124,
     "metadata": {},
     "output_type": "execute_result"
    }
   ],
   "source": [
    "describe(zomatodf,:max)"
   ]
  },
  {
   "cell_type": "code",
   "execution_count": 122,
   "metadata": {},
   "outputs": [
    {
     "data": {
      "text/plain": [
       "Plots.PyPlotBackend()"
      ]
     },
     "execution_count": 122,
     "metadata": {},
     "output_type": "execute_result"
    }
   ],
   "source": [
    "using LaTeXStrings\n",
    "using Plots\n",
    "pyplot()"
   ]
  },
  {
   "cell_type": "code",
   "execution_count": 125,
   "metadata": {},
   "outputs": [
    {
     "data": {
      "image/png": "[encoded data removed]"
     },
     "execution_count": 125,
     "metadata": {},
     "output_type": "execute_result"
    }
   ],
   "source": [
    "gh = histogram(zomatodf.Votes,nbins=50,colorbar=true)\n",
    "xaxis!(gh,\"bin number\")\n",
    "yaxis!(gh,\"votes\")"
   ]
  },
  {
   "cell_type": "markdown",
   "metadata": {},
   "source": [
    "### 4.2 Finding the 3 best restaurants in a country by price range \n",
    "\n",
    "Write a function called best that takes two arguments: a 3-character country code of a country and a price range (numbers 1,2,3,4). The function should read the zomato.csv file and return a data frame with the names of the restaurant and the city that have the 3 best (i.e. highest) ranking for a price range in that country. There are 4 price range levels. Countries that do not have data on a particular price range should be excluded from the set of restaurants when deciding the rankings. \n",
    "Handling ties. If there is a tie for the best restaurant for a given price range, then the restaurant names should be sorted in alphabetical order.\n",
    "The function should use the following template. \n",
    "\n",
    "```julia\n",
    "Function best(country, pricerange)\n",
    "        ## Read zomato data\n",
    "        ## Check that country and price range are valid\n",
    "        ## Return restaurant name in that state with highest ranking\n",
    "end\n",
    "```\n",
    "\n",
    "The function should check the validity of its arguments. If an invalid country value is passed to best, the function should throw an error via the stop function with the exact message “invalid country”. If an invalid price range value is passed to best, the function should throw an error via the stop function with the exact message “invalid price range”. \n",
    "Here is some sample output from the function (WARNING: we will run different tests and the results shown here might not actually be correct)\n",
    "\n",
    "```julia\n",
    "julia> best(\"USA\", 1)\n",
    "3 rows × 2 columns\n",
    "\n",
    "  Restaurant Name       City                  \n",
    "  String                  String                 \n",
    "1 Oakwood Cafe            Dalton                \n",
    "2 Rae's Coastal Cafe      Augusta               \n",
    "3 Shorts Burger and Shine Cedar Rapids/Iowa City\n",
    "\n",
    "julia> best(\"IND\", 3)\n",
    "3 rows × 2 columns\n",
    "  Restaurant Name         City   \n",
    "  String                  String                 \n",
    "1 AB's - Absolute Barbecues Chennai\n",
    "2 Sagar Gaire Fast Food     Bhopal \n",
    "3 Sheroes Hangout           Agra\n",
    "\n",
    "julia> best(\"TGH\", 4)\n",
    "Error in best(\"TGH\", 4): invalid country\n",
    "\n",
    "julia> best(\"BRA\", 5)\n",
    "Error in best(\"BRA\", 5) : invalid price range\n",
    "```"
   ]
  },
  {
   "cell_type": "code",
   "execution_count": 171,
   "metadata": {},
   "outputs": [
    {
     "name": "stdout",
     "output_type": "stream",
     "text": [
      "search: \u001b[0m\u001b[1ms\u001b[22m\u001b[0m\u001b[1mo\u001b[22m\u001b[0m\u001b[1mr\u001b[22m\u001b[0m\u001b[1mt\u001b[22m\u001b[0m\u001b[1m!\u001b[22m partial\u001b[0m\u001b[1ms\u001b[22m\u001b[0m\u001b[1mo\u001b[22m\u001b[0m\u001b[1mr\u001b[22m\u001b[0m\u001b[1mt\u001b[22m\u001b[0m\u001b[1m!\u001b[22m \u001b[0m\u001b[1ms\u001b[22m\u001b[0m\u001b[1mo\u001b[22m\u001b[0m\u001b[1mr\u001b[22m\u001b[0m\u001b[1mt\u001b[22mperm\u001b[0m\u001b[1m!\u001b[22m partial\u001b[0m\u001b[1ms\u001b[22m\u001b[0m\u001b[1mo\u001b[22m\u001b[0m\u001b[1mr\u001b[22m\u001b[0m\u001b[1mt\u001b[22mperm\u001b[0m\u001b[1m!\u001b[22m \u001b[0m\u001b[1ms\u001b[22metpr\u001b[0m\u001b[1mo\u001b[22mpe\u001b[0m\u001b[1mr\u001b[22m\u001b[0m\u001b[1mt\u001b[22my\u001b[0m\u001b[1m!\u001b[22m \u001b[0m\u001b[1ms\u001b[22m\u001b[0m\u001b[1mo\u001b[22m\u001b[0m\u001b[1mr\u001b[22m\u001b[0m\u001b[1mt\u001b[22m \u001b[0m\u001b[1ms\u001b[22m\u001b[0m\u001b[1mo\u001b[22m\u001b[0m\u001b[1mr\u001b[22m\u001b[0m\u001b[1mt\u001b[22mperm\n",
      "\n"
     ]
    },
    {
     "data": {
      "text/latex": [
       "\\begin{verbatim}\n",
       "sort!(v; alg::Algorithm=defalg(v), lt=isless, by=identity, rev::Bool=false, order::Ordering=Forward)\n",
       "\\end{verbatim}\n",
       "Sort the vector \\texttt{v} in place. \\href{@ref}{\\texttt{QuickSort}} is used by default for numeric arrays while \\href{@ref}{\\texttt{MergeSort}} is used for other arrays. You can specify an algorithm to use via the \\texttt{alg} keyword (see \\href{@ref}{Sorting Algorithms} for available algorithms). The \\texttt{by} keyword lets you provide a function that will be applied to each element before comparison; the \\texttt{lt} keyword allows providing a custom \"less than\" function; use \\texttt{rev=true} to reverse the sorting order. These options are independent and can be used together in all possible combinations: if both \\texttt{by} and \\texttt{lt} are specified, the \\texttt{lt} function is applied to the result of the \\texttt{by} function; \\texttt{rev=true} reverses whatever ordering specified via the \\texttt{by} and \\texttt{lt} keywords.\n",
       "\n",
       "\\section{Examples}\n",
       "\\begin{verbatim}\n",
       "julia> v = [3, 1, 2]; sort!(v); v\n",
       "3-element Array{Int64,1}:\n",
       " 1\n",
       " 2\n",
       " 3\n",
       "\n",
       "julia> v = [3, 1, 2]; sort!(v, rev = true); v\n",
       "3-element Array{Int64,1}:\n",
       " 3\n",
       " 2\n",
       " 1\n",
       "\n",
       "julia> v = [(1, \"c\"), (3, \"a\"), (2, \"b\")]; sort!(v, by = x -> x[1]); v\n",
       "3-element Array{Tuple{Int64,String},1}:\n",
       " (1, \"c\")\n",
       " (2, \"b\")\n",
       " (3, \"a\")\n",
       "\n",
       "julia> v = [(1, \"c\"), (3, \"a\"), (2, \"b\")]; sort!(v, by = x -> x[2]); v\n",
       "3-element Array{Tuple{Int64,String},1}:\n",
       " (3, \"a\")\n",
       " (2, \"b\")\n",
       " (1, \"c\")\n",
       "\\end{verbatim}\n",
       "\\rule{\\textwidth}{1pt}\n",
       "\\begin{verbatim}\n",
       "sort!(A; dims::Integer, alg::Algorithm=defalg(A), lt=isless, by=identity, rev::Bool=false, order::Ordering=Forward)\n",
       "\\end{verbatim}\n",
       "Sort the multidimensional array \\texttt{A} along dimension \\texttt{dims}. See \\href{@ref}{\\texttt{sort!}} for a description of possible keyword arguments.\n",
       "\n",
       "To sort slices of an array, refer to \\href{@ref}{\\texttt{sortslices}}.\n",
       "\n",
       "\\begin{quote}\n",
       "\\textbf{compat}\n",
       "\n",
       "Julia 1.1\n",
       "\n",
       "This function requires at least Julia 1.1.\n",
       "\n",
       "\\end{quote}\n",
       "\\section{Examples}\n",
       "\\begin{verbatim}\n",
       "julia> A = [4 3; 1 2]\n",
       "2×2 Array{Int64,2}:\n",
       " 4  3\n",
       " 1  2\n",
       "\n",
       "julia> sort!(A, dims = 1); A\n",
       "2×2 Array{Int64,2}:\n",
       " 1  2\n",
       " 4  3\n",
       "\n",
       "julia> sort!(A, dims = 2); A\n",
       "2×2 Array{Int64,2}:\n",
       " 1  2\n",
       " 3  4\n",
       "\\end{verbatim}\n",
       "\\rule{\\textwidth}{1pt}\n",
       "\\begin{verbatim}\n",
       "sort!(df::AbstractDataFrame, cols;\n",
       "      alg::Union{Algorithm, Nothing}=nothing, lt=isless, by=identity,\n",
       "      rev::Bool=false, order::Ordering=Forward)\n",
       "\\end{verbatim}\n",
       "Sort data frame \\texttt{df} by column(s) \\texttt{cols}.\n",
       "\n",
       "\\texttt{cols} can be any column selector (\\texttt{Symbol}, string or integer; \\texttt{:}, \\texttt{All}, \\texttt{Between}, \\texttt{Not}, a regular expression, or a vector of \\texttt{Symbol}s, strings or integers).\n",
       "\n",
       "If \\texttt{alg} is \\texttt{nothing} (the default), the most appropriate algorithm is chosen automatically among \\texttt{TimSort}, \\texttt{MergeSort} and \\texttt{RadixSort} depending on the type of the sorting columns and on the number of rows in \\texttt{df}. If \\texttt{rev} is \\texttt{true}, reverse sorting is performed. To enable reverse sorting only for some columns, pass \\texttt{order(c, rev=true)} in \\texttt{cols}, with \\texttt{c} the corresponding column index (see example below). See other methods for a description of other keyword arguments.\n",
       "\n",
       "\\section{Examples}\n",
       "\\begin{verbatim}\n",
       "julia> df = DataFrame(x = [3, 1, 2, 1], y = [\"b\", \"c\", \"a\", \"b\"])\n",
       "4×2 DataFrame\n",
       "│ Row │ x     │ y      │\n",
       "│     │ Int64 │ String │\n",
       "├─────┼───────┼────────┤\n",
       "│ 1   │ 3     │ b      │\n",
       "│ 2   │ 1     │ c      │\n",
       "│ 3   │ 2     │ a      │\n",
       "│ 4   │ 1     │ b      │\n",
       "\n",
       "julia> sort!(df, :x)\n",
       "4×2 DataFrame\n",
       "│ Row │ x     │ y      │\n",
       "│     │ Int64 │ String │\n",
       "├─────┼───────┼────────┤\n",
       "│ 1   │ 1     │ c      │\n",
       "│ 2   │ 1     │ b      │\n",
       "│ 3   │ 2     │ a      │\n",
       "│ 4   │ 3     │ b      │\n",
       "\n",
       "julia> sort!(df, [:x, :y])\n",
       "4×2 DataFrame\n",
       "│ Row │ x     │ y      │\n",
       "│     │ Int64 │ String │\n",
       "├─────┼───────┼────────┤\n",
       "│ 1   │ 1     │ b      │\n",
       "│ 2   │ 1     │ c      │\n",
       "│ 3   │ 2     │ a      │\n",
       "│ 4   │ 3     │ b      │\n",
       "\n",
       "julia> sort!(df, [:x, :y], rev=true)\n",
       "4×2 DataFrame\n",
       "│ Row │ x     │ y      │\n",
       "│     │ Int64 │ String │\n",
       "├─────┼───────┼────────┤\n",
       "│ 1   │ 3     │ b      │\n",
       "│ 2   │ 2     │ a      │\n",
       "│ 3   │ 1     │ c      │\n",
       "│ 4   │ 1     │ b      │\n",
       "\n",
       "julia> sort!(df, (:x, order(:y, rev=true)))\n",
       "4×2 DataFrame\n",
       "│ Row │ x     │ y      │\n",
       "│     │ Int64 │ String │\n",
       "├─────┼───────┼────────┤\n",
       "│ 1   │ 1     │ c      │\n",
       "│ 2   │ 1     │ b      │\n",
       "│ 3   │ 2     │ a      │\n",
       "│ 4   │ 3     │ b      │\n",
       "\\end{verbatim}\n"
      ],
      "text/markdown": [
       "```\n",
       "sort!(v; alg::Algorithm=defalg(v), lt=isless, by=identity, rev::Bool=false, order::Ordering=Forward)\n",
       "```\n",
       "\n",
       "Sort the vector `v` in place. [`QuickSort`](@ref) is used by default for numeric arrays while [`MergeSort`](@ref) is used for other arrays. You can specify an algorithm to use via the `alg` keyword (see [Sorting Algorithms](@ref) for available algorithms). The `by` keyword lets you provide a function that will be applied to each element before comparison; the `lt` keyword allows providing a custom \"less than\" function; use `rev=true` to reverse the sorting order. These options are independent and can be used together in all possible combinations: if both `by` and `lt` are specified, the `lt` function is applied to the result of the `by` function; `rev=true` reverses whatever ordering specified via the `by` and `lt` keywords.\n",
       "\n",
       "# Examples\n",
       "\n",
       "```jldoctest\n",
       "julia> v = [3, 1, 2]; sort!(v); v\n",
       "3-element Array{Int64,1}:\n",
       " 1\n",
       " 2\n",
       " 3\n",
       "\n",
       "julia> v = [3, 1, 2]; sort!(v, rev = true); v\n",
       "3-element Array{Int64,1}:\n",
       " 3\n",
       " 2\n",
       " 1\n",
       "\n",
       "julia> v = [(1, \"c\"), (3, \"a\"), (2, \"b\")]; sort!(v, by = x -> x[1]); v\n",
       "3-element Array{Tuple{Int64,String},1}:\n",
       " (1, \"c\")\n",
       " (2, \"b\")\n",
       " (3, \"a\")\n",
       "\n",
       "julia> v = [(1, \"c\"), (3, \"a\"), (2, \"b\")]; sort!(v, by = x -> x[2]); v\n",
       "3-element Array{Tuple{Int64,String},1}:\n",
       " (3, \"a\")\n",
       " (2, \"b\")\n",
       " (1, \"c\")\n",
       "```\n",
       "\n",
       "---\n",
       "\n",
       "```\n",
       "sort!(A; dims::Integer, alg::Algorithm=defalg(A), lt=isless, by=identity, rev::Bool=false, order::Ordering=Forward)\n",
       "```\n",
       "\n",
       "Sort the multidimensional array `A` along dimension `dims`. See [`sort!`](@ref) for a description of possible keyword arguments.\n",
       "\n",
       "To sort slices of an array, refer to [`sortslices`](@ref).\n",
       "\n",
       "!!! compat \"Julia 1.1\"\n",
       "    This function requires at least Julia 1.1.\n",
       "\n",
       "\n",
       "# Examples\n",
       "\n",
       "```jldoctest\n",
       "julia> A = [4 3; 1 2]\n",
       "2×2 Array{Int64,2}:\n",
       " 4  3\n",
       " 1  2\n",
       "\n",
       "julia> sort!(A, dims = 1); A\n",
       "2×2 Array{Int64,2}:\n",
       " 1  2\n",
       " 4  3\n",
       "\n",
       "julia> sort!(A, dims = 2); A\n",
       "2×2 Array{Int64,2}:\n",
       " 1  2\n",
       " 3  4\n",
       "```\n",
       "\n",
       "---\n",
       "\n",
       "```\n",
       "sort!(df::AbstractDataFrame, cols;\n",
       "      alg::Union{Algorithm, Nothing}=nothing, lt=isless, by=identity,\n",
       "      rev::Bool=false, order::Ordering=Forward)\n",
       "```\n",
       "\n",
       "Sort data frame `df` by column(s) `cols`.\n",
       "\n",
       "`cols` can be any column selector (`Symbol`, string or integer; `:`, `All`, `Between`, `Not`, a regular expression, or a vector of `Symbol`s, strings or integers).\n",
       "\n",
       "If `alg` is `nothing` (the default), the most appropriate algorithm is chosen automatically among `TimSort`, `MergeSort` and `RadixSort` depending on the type of the sorting columns and on the number of rows in `df`. If `rev` is `true`, reverse sorting is performed. To enable reverse sorting only for some columns, pass `order(c, rev=true)` in `cols`, with `c` the corresponding column index (see example below). See other methods for a description of other keyword arguments.\n",
       "\n",
       "# Examples\n",
       "\n",
       "```jldoctest\n",
       "julia> df = DataFrame(x = [3, 1, 2, 1], y = [\"b\", \"c\", \"a\", \"b\"])\n",
       "4×2 DataFrame\n",
       "│ Row │ x     │ y      │\n",
       "│     │ Int64 │ String │\n",
       "├─────┼───────┼────────┤\n",
       "│ 1   │ 3     │ b      │\n",
       "│ 2   │ 1     │ c      │\n",
       "│ 3   │ 2     │ a      │\n",
       "│ 4   │ 1     │ b      │\n",
       "\n",
       "julia> sort!(df, :x)\n",
       "4×2 DataFrame\n",
       "│ Row │ x     │ y      │\n",
       "│     │ Int64 │ String │\n",
       "├─────┼───────┼────────┤\n",
       "│ 1   │ 1     │ c      │\n",
       "│ 2   │ 1     │ b      │\n",
       "│ 3   │ 2     │ a      │\n",
       "│ 4   │ 3     │ b      │\n",
       "\n",
       "julia> sort!(df, [:x, :y])\n",
       "4×2 DataFrame\n",
       "│ Row │ x     │ y      │\n",
       "│     │ Int64 │ String │\n",
       "├─────┼───────┼────────┤\n",
       "│ 1   │ 1     │ b      │\n",
       "│ 2   │ 1     │ c      │\n",
       "│ 3   │ 2     │ a      │\n",
       "│ 4   │ 3     │ b      │\n",
       "\n",
       "julia> sort!(df, [:x, :y], rev=true)\n",
       "4×2 DataFrame\n",
       "│ Row │ x     │ y      │\n",
       "│     │ Int64 │ String │\n",
       "├─────┼───────┼────────┤\n",
       "│ 1   │ 3     │ b      │\n",
       "│ 2   │ 2     │ a      │\n",
       "│ 3   │ 1     │ c      │\n",
       "│ 4   │ 1     │ b      │\n",
       "\n",
       "julia> sort!(df, (:x, order(:y, rev=true)))\n",
       "4×2 DataFrame\n",
       "│ Row │ x     │ y      │\n",
       "│     │ Int64 │ String │\n",
       "├─────┼───────┼────────┤\n",
       "│ 1   │ 1     │ c      │\n",
       "│ 2   │ 1     │ b      │\n",
       "│ 3   │ 2     │ a      │\n",
       "│ 4   │ 3     │ b      │\n",
       "```\n"
      ],
      "text/plain": [
       "\u001b[36m  sort!(v; alg::Algorithm=defalg(v), lt=isless, by=identity, rev::Bool=false, order::Ordering=Forward)\u001b[39m\n",
       "\n",
       "  Sort the vector \u001b[36mv\u001b[39m in place. \u001b[36mQuickSort\u001b[39m is used by default for numeric arrays\n",
       "  while \u001b[36mMergeSort\u001b[39m is used for other arrays. You can specify an algorithm to\n",
       "  use via the \u001b[36malg\u001b[39m keyword (see Sorting Algorithms for available algorithms).\n",
       "  The \u001b[36mby\u001b[39m keyword lets you provide a function that will be applied to each\n",
       "  element before comparison; the \u001b[36mlt\u001b[39m keyword allows providing a custom \"less\n",
       "  than\" function; use \u001b[36mrev=true\u001b[39m to reverse the sorting order. These options are\n",
       "  independent and can be used together in all possible combinations: if both\n",
       "  \u001b[36mby\u001b[39m and \u001b[36mlt\u001b[39m are specified, the \u001b[36mlt\u001b[39m function is applied to the result of the \u001b[36mby\u001b[39m\n",
       "  function; \u001b[36mrev=true\u001b[39m reverses whatever ordering specified via the \u001b[36mby\u001b[39m and \u001b[36mlt\u001b[39m\n",
       "  keywords.\n",
       "\n",
       "\u001b[1m  Examples\u001b[22m\n",
       "\u001b[1m  ≡≡≡≡≡≡≡≡≡≡\u001b[22m\n",
       "\n",
       "\u001b[36m  julia> v = [3, 1, 2]; sort!(v); v\u001b[39m\n",
       "\u001b[36m  3-element Array{Int64,1}:\u001b[39m\n",
       "\u001b[36m   1\u001b[39m\n",
       "\u001b[36m   2\u001b[39m\n",
       "\u001b[36m   3\u001b[39m\n",
       "\u001b[36m  \u001b[39m\n",
       "\u001b[36m  julia> v = [3, 1, 2]; sort!(v, rev = true); v\u001b[39m\n",
       "\u001b[36m  3-element Array{Int64,1}:\u001b[39m\n",
       "\u001b[36m   3\u001b[39m\n",
       "\u001b[36m   2\u001b[39m\n",
       "\u001b[36m   1\u001b[39m\n",
       "\u001b[36m  \u001b[39m\n",
       "\u001b[36m  julia> v = [(1, \"c\"), (3, \"a\"), (2, \"b\")]; sort!(v, by = x -> x[1]); v\u001b[39m\n",
       "\u001b[36m  3-element Array{Tuple{Int64,String},1}:\u001b[39m\n",
       "\u001b[36m   (1, \"c\")\u001b[39m\n",
       "\u001b[36m   (2, \"b\")\u001b[39m\n",
       "\u001b[36m   (3, \"a\")\u001b[39m\n",
       "\u001b[36m  \u001b[39m\n",
       "\u001b[36m  julia> v = [(1, \"c\"), (3, \"a\"), (2, \"b\")]; sort!(v, by = x -> x[2]); v\u001b[39m\n",
       "\u001b[36m  3-element Array{Tuple{Int64,String},1}:\u001b[39m\n",
       "\u001b[36m   (3, \"a\")\u001b[39m\n",
       "\u001b[36m   (2, \"b\")\u001b[39m\n",
       "\u001b[36m   (1, \"c\")\u001b[39m\n",
       "\n",
       "  ────────────────────────────────────────────────────────────────────────────\n",
       "\n",
       "\u001b[36m  sort!(A; dims::Integer, alg::Algorithm=defalg(A), lt=isless, by=identity, rev::Bool=false, order::Ordering=Forward)\u001b[39m\n",
       "\n",
       "  Sort the multidimensional array \u001b[36mA\u001b[39m along dimension \u001b[36mdims\u001b[39m. See \u001b[36msort!\u001b[39m for a\n",
       "  description of possible keyword arguments.\n",
       "\n",
       "  To sort slices of an array, refer to \u001b[36msortslices\u001b[39m.\n",
       "\n",
       "\u001b[39m\u001b[1m  │ \u001b[22m\u001b[39m\u001b[1mJulia 1.1\u001b[22m\n",
       "\u001b[39m\u001b[1m  │\u001b[22m\n",
       "\u001b[39m\u001b[1m  │\u001b[22m  This function requires at least Julia 1.1.\n",
       "\n",
       "\u001b[1m  Examples\u001b[22m\n",
       "\u001b[1m  ≡≡≡≡≡≡≡≡≡≡\u001b[22m\n",
       "\n",
       "\u001b[36m  julia> A = [4 3; 1 2]\u001b[39m\n",
       "\u001b[36m  2×2 Array{Int64,2}:\u001b[39m\n",
       "\u001b[36m   4  3\u001b[39m\n",
       "\u001b[36m   1  2\u001b[39m\n",
       "\u001b[36m  \u001b[39m\n",
       "\u001b[36m  julia> sort!(A, dims = 1); A\u001b[39m\n",
       "\u001b[36m  2×2 Array{Int64,2}:\u001b[39m\n",
       "\u001b[36m   1  2\u001b[39m\n",
       "\u001b[36m   4  3\u001b[39m\n",
       "\u001b[36m  \u001b[39m\n",
       "\u001b[36m  julia> sort!(A, dims = 2); A\u001b[39m\n",
       "\u001b[36m  2×2 Array{Int64,2}:\u001b[39m\n",
       "\u001b[36m   1  2\u001b[39m\n",
       "\u001b[36m   3  4\u001b[39m\n",
       "\n",
       "  ────────────────────────────────────────────────────────────────────────────\n",
       "\n",
       "\u001b[36m  sort!(df::AbstractDataFrame, cols;\u001b[39m\n",
       "\u001b[36m        alg::Union{Algorithm, Nothing}=nothing, lt=isless, by=identity,\u001b[39m\n",
       "\u001b[36m        rev::Bool=false, order::Ordering=Forward)\u001b[39m\n",
       "\n",
       "  Sort data frame \u001b[36mdf\u001b[39m by column(s) \u001b[36mcols\u001b[39m.\n",
       "\n",
       "  \u001b[36mcols\u001b[39m can be any column selector (\u001b[36mSymbol\u001b[39m, string or integer; \u001b[36m:\u001b[39m, \u001b[36mAll\u001b[39m, \u001b[36mBetween\u001b[39m,\n",
       "  \u001b[36mNot\u001b[39m, a regular expression, or a vector of \u001b[36mSymbol\u001b[39ms, strings or integers).\n",
       "\n",
       "  If \u001b[36malg\u001b[39m is \u001b[36mnothing\u001b[39m (the default), the most appropriate algorithm is chosen\n",
       "  automatically among \u001b[36mTimSort\u001b[39m, \u001b[36mMergeSort\u001b[39m and \u001b[36mRadixSort\u001b[39m depending on the type\n",
       "  of the sorting columns and on the number of rows in \u001b[36mdf\u001b[39m. If \u001b[36mrev\u001b[39m is \u001b[36mtrue\u001b[39m,\n",
       "  reverse sorting is performed. To enable reverse sorting only for some\n",
       "  columns, pass \u001b[36morder(c, rev=true)\u001b[39m in \u001b[36mcols\u001b[39m, with \u001b[36mc\u001b[39m the corresponding column\n",
       "  index (see example below). See other methods for a description of other\n",
       "  keyword arguments.\n",
       "\n",
       "\u001b[1m  Examples\u001b[22m\n",
       "\u001b[1m  ≡≡≡≡≡≡≡≡≡≡\u001b[22m\n",
       "\n",
       "\u001b[36m  julia> df = DataFrame(x = [3, 1, 2, 1], y = [\"b\", \"c\", \"a\", \"b\"])\u001b[39m\n",
       "\u001b[36m  4×2 DataFrame\u001b[39m\n",
       "\u001b[36m  │ Row │ x     │ y      │\u001b[39m\n",
       "\u001b[36m  │     │ Int64 │ String │\u001b[39m\n",
       "\u001b[36m  ├─────┼───────┼────────┤\u001b[39m\n",
       "\u001b[36m  │ 1   │ 3     │ b      │\u001b[39m\n",
       "\u001b[36m  │ 2   │ 1     │ c      │\u001b[39m\n",
       "\u001b[36m  │ 3   │ 2     │ a      │\u001b[39m\n",
       "\u001b[36m  │ 4   │ 1     │ b      │\u001b[39m\n",
       "\u001b[36m  \u001b[39m\n",
       "\u001b[36m  julia> sort!(df, :x)\u001b[39m\n",
       "\u001b[36m  4×2 DataFrame\u001b[39m\n",
       "\u001b[36m  │ Row │ x     │ y      │\u001b[39m\n",
       "\u001b[36m  │     │ Int64 │ String │\u001b[39m\n",
       "\u001b[36m  ├─────┼───────┼────────┤\u001b[39m\n",
       "\u001b[36m  │ 1   │ 1     │ c      │\u001b[39m\n",
       "\u001b[36m  │ 2   │ 1     │ b      │\u001b[39m\n",
       "\u001b[36m  │ 3   │ 2     │ a      │\u001b[39m\n",
       "\u001b[36m  │ 4   │ 3     │ b      │\u001b[39m\n",
       "\u001b[36m  \u001b[39m\n",
       "\u001b[36m  julia> sort!(df, [:x, :y])\u001b[39m\n",
       "\u001b[36m  4×2 DataFrame\u001b[39m\n",
       "\u001b[36m  │ Row │ x     │ y      │\u001b[39m\n",
       "\u001b[36m  │     │ Int64 │ String │\u001b[39m\n",
       "\u001b[36m  ├─────┼───────┼────────┤\u001b[39m\n",
       "\u001b[36m  │ 1   │ 1     │ b      │\u001b[39m\n",
       "\u001b[36m  │ 2   │ 1     │ c      │\u001b[39m\n",
       "\u001b[36m  │ 3   │ 2     │ a      │\u001b[39m\n",
       "\u001b[36m  │ 4   │ 3     │ b      │\u001b[39m\n",
       "\u001b[36m  \u001b[39m\n",
       "\u001b[36m  julia> sort!(df, [:x, :y], rev=true)\u001b[39m\n",
       "\u001b[36m  4×2 DataFrame\u001b[39m\n",
       "\u001b[36m  │ Row │ x     │ y      │\u001b[39m\n",
       "\u001b[36m  │     │ Int64 │ String │\u001b[39m\n",
       "\u001b[36m  ├─────┼───────┼────────┤\u001b[39m\n",
       "\u001b[36m  │ 1   │ 3     │ b      │\u001b[39m\n",
       "\u001b[36m  │ 2   │ 2     │ a      │\u001b[39m\n",
       "\u001b[36m  │ 3   │ 1     │ c      │\u001b[39m\n",
       "\u001b[36m  │ 4   │ 1     │ b      │\u001b[39m\n",
       "\u001b[36m  \u001b[39m\n",
       "\u001b[36m  julia> sort!(df, (:x, order(:y, rev=true)))\u001b[39m\n",
       "\u001b[36m  4×2 DataFrame\u001b[39m\n",
       "\u001b[36m  │ Row │ x     │ y      │\u001b[39m\n",
       "\u001b[36m  │     │ Int64 │ String │\u001b[39m\n",
       "\u001b[36m  ├─────┼───────┼────────┤\u001b[39m\n",
       "\u001b[36m  │ 1   │ 1     │ c      │\u001b[39m\n",
       "\u001b[36m  │ 2   │ 1     │ b      │\u001b[39m\n",
       "\u001b[36m  │ 3   │ 2     │ a      │\u001b[39m\n",
       "\u001b[36m  │ 4   │ 3     │ b      │\u001b[39m"
      ]
     },
     "execution_count": 171,
     "metadata": {},
     "output_type": "execute_result"
    }
   ],
   "source": [
    "?sort!"
   ]
  },
  {
   "cell_type": "code",
   "execution_count": null,
   "metadata": {},
   "outputs": [],
   "source": []
  },
  {
   "cell_type": "code",
   "execution_count": 192,
   "metadata": {},
   "outputs": [
    {
     "name": "stderr",
     "output_type": "stream",
     "text": [
      "┌ Warning: `getindex(df::DataFrame, col_ind::ColumnIndex)` is deprecated, use `df[!, col_ind]` instead.\n",
      "│   caller = top-level scope at In[192]:3\n",
      "└ @ Core In[192]:3\n",
      "┌ Warning: `getindex(df::DataFrame, col_ind::ColumnIndex)` is deprecated, use `df[!, col_ind]` instead.\n",
      "│   caller = top-level scope at In[192]:3\n",
      "└ @ Core In[192]:3\n",
      "┌ Warning: `getindex(df::DataFrame, col_ind::ColumnIndex)` is deprecated, use `df[!, col_ind]` instead.\n",
      "│   caller = top-level scope at In[192]:3\n",
      "└ @ Core In[192]:3\n"
     ]
    },
    {
     "data": {
      "text/html": [
       "<table class=\"data-frame\"><thead><tr><th></th><th>Restaurant_Name</th><th>City</th><th>Aggregate_rating</th></tr><tr><th></th><th>String</th><th>String</th><th>Float64</th></tr></thead><tbody><p>3 rows × 3 columns</p><tr><th>1</th><td>Ooma</td><td>Mandaluyong City</td><td>4.9</td></tr><tr><th>2</th><td>Spiral - Sofitel Philippine Plaza Manila</td><td>Pasay City</td><td>4.9</td></tr><tr><th>3</th><td>Silantro Fil-Mex</td><td>Pasig City</td><td>4.9</td></tr></tbody></table>"
      ],
      "text/latex": [
       "\\begin{tabular}{r|ccc}\n",
       "\t& Restaurant\\_Name & City & Aggregate\\_rating\\\\\n",
       "\t\\hline\n",
       "\t& String & String & Float64\\\\\n",
       "\t\\hline\n",
       "\t1 & Ooma & Mandaluyong City & 4.9 \\\\\n",
       "\t2 & Spiral - Sofitel Philippine Plaza Manila & Pasay City & 4.9 \\\\\n",
       "\t3 & Silantro Fil-Mex & Pasig City & 4.9 \\\\\n",
       "\\end{tabular}\n"
      ],
      "text/plain": [
       "3×3 DataFrame. Omitted printing of 1 columns\n",
       "│ Row │ Restaurant_Name                          │ City             │\n",
       "│     │ \u001b[90mString\u001b[39m                                   │ \u001b[90mString\u001b[39m           │\n",
       "├─────┼──────────────────────────────────────────┼──────────────────┤\n",
       "│ 1   │ Ooma                                     │ Mandaluyong City │\n",
       "│ 2   │ Spiral - Sofitel Philippine Plaza Manila │ Pasay City       │\n",
       "│ 3   │ Silantro Fil-Mex                         │ Pasig City       │"
      ]
     },
     "execution_count": 192,
     "metadata": {},
     "output_type": "execute_result"
    }
   ],
   "source": [
    "zomatodfgbycc = DataFrame(groupby(zomatodf, \"Country Code\")[(162,)])\n",
    "sort!(zomatodfgbycc,18,rev=true)\n",
    "DataFrame(Restaurant_Name=zomatodfgbycc[\"Restaurant Name\"][1:3],City=zomatodfgbycc[\"City\"][1:3],Aggregate_rating=zomatodfgbycc[\"Aggregate rating\"][1:3])"
   ]
  },
  {
   "cell_type": "code",
   "execution_count": 252,
   "metadata": {},
   "outputs": [
    {
     "data": {
      "text/plain": [
       "best (generic function with 1 method)"
      ]
     },
     "execution_count": 252,
     "metadata": {},
     "output_type": "execute_result"
    }
   ],
   "source": [
    "function best(country, pricerange)\n",
    "    if country in ccodedf[\"3lettercode\"]\n",
    "        ccoderow=indexin([country], ccodedf[\"3lettercode\"])\n",
    "        ccodeint=ccodedf[\"Country Code\"][ccoderow][1]\n",
    "\n",
    "        if ccodeint in unique(zomatodf[\"Country Code\"])\n",
    "            gbycc = DataFrame(groupby(zomatodf, \"Country Code\")[(ccodeint,)])\n",
    "            if pricerange in unique(zomatodf[\"Price range\"])\n",
    "                sort!(gbycc,18,rev=true);\n",
    " #               sort!(gbycc,2,rev=false);\n",
    "                result=DataFrame(Restaurant_Name=gbycc[\"Restaurant Name\"][1:3],City=gbycc[\"City\"][1:3],Aggregate_rating=gbycc[\"Aggregate rating\"][1:3])\n",
    "                sort!(result,1)\n",
    "                return result\n",
    "            else\n",
    "                print(\"Error in best($country, $pricerange): invalid price range\")\n",
    "                return 1\n",
    "            end\n",
    "                \n",
    "            \n",
    "            \n",
    "        else \n",
    "            print(\"Error in best($country, $pricerange): invalid country(country not in zomato)\")\n",
    "            return 1\n",
    "        end\n",
    "            \n",
    "    else\n",
    "        print(\"Error in best($country, $pricerange): invalid country\")\n",
    "        return 1\n",
    "            \n",
    "    end\n",
    "        ## Check that country and price range are valid\n",
    "        ## Return restaurant name in that state with highest ranking\n",
    "\n",
    "end"
   ]
  },
  {
   "cell_type": "code",
   "execution_count": 253,
   "metadata": {},
   "outputs": [],
   "source": [
    "ccodedf = CSV.read(\"Country-Code.csv\", header=true)\n",
    "zomatodf = CSV.read(\"zomato.csv\", header=true);"
   ]
  },
  {
   "cell_type": "code",
   "execution_count": 254,
   "metadata": {},
   "outputs": [
    {
     "name": "stderr",
     "output_type": "stream",
     "text": [
      "┌ Warning: `getindex(df::DataFrame, col_ind::ColumnIndex)` is deprecated, use `df[!, col_ind]` instead.\n",
      "│   caller = top-level scope at In[254]:1\n",
      "└ @ Core In[254]:1\n"
     ]
    },
    {
     "data": {
      "text/plain": [
       "true"
      ]
     },
     "execution_count": 254,
     "metadata": {},
     "output_type": "execute_result"
    }
   ],
   "source": [
    "\"IND\" in ccodedf[\"3lettercode\"]"
   ]
  },
  {
   "cell_type": "markdown",
   "metadata": {},
   "source": [
    "# testing\n",
    "```julia\n",
    "julia> best(\"USA\", 1)\n",
    "3 rows × 2 columns\n",
    "\n",
    "  Restaurant Name       City                  \n",
    "  String                  String                 \n",
    "1 Oakwood Cafe            Dalton                \n",
    "2 Rae's Coastal Cafe      Augusta               \n",
    "3 Shorts Burger and Shine Cedar Rapids/Iowa City\n",
    "\n",
    "julia> best(\"IND\", 3)\n",
    "3 rows × 2 columns\n",
    "  Restaurant Name         City   \n",
    "  String                  String                 \n",
    "1 AB's - Absolute Barbecues Chennai\n",
    "2 Sagar Gaire Fast Food     Bhopal \n",
    "3 Sheroes Hangout           Agra\n",
    "\n",
    "julia> best(\"TGH\", 4)\n",
    "Error in best(\"TGH\", 4): invalid country\n",
    "\n",
    "julia> best(\"BRA\", 5)\n",
    "Error in best(\"BRA\", 5) : invalid price range\n",
    "```"
   ]
  },
  {
   "cell_type": "code",
   "execution_count": 255,
   "metadata": {},
   "outputs": [
    {
     "name": "stderr",
     "output_type": "stream",
     "text": [
      "┌ Warning: `getindex(df::DataFrame, col_ind::ColumnIndex)` is deprecated, use `df[!, col_ind]` instead.\n",
      "│   caller = best(::String, ::Int64) at In[252]:2\n",
      "└ @ Main .\\In[252]:2\n",
      "┌ Warning: `getindex(df::DataFrame, col_ind::ColumnIndex)` is deprecated, use `df[!, col_ind]` instead.\n",
      "│   caller = best(::String, ::Int64) at In[252]:3\n",
      "└ @ Main .\\In[252]:3\n",
      "┌ Warning: `getindex(df::DataFrame, col_ind::ColumnIndex)` is deprecated, use `df[!, col_ind]` instead.\n",
      "│   caller = best(::String, ::Int64) at In[252]:4\n",
      "└ @ Main .\\In[252]:4\n",
      "┌ Warning: `getindex(df::DataFrame, col_ind::ColumnIndex)` is deprecated, use `df[!, col_ind]` instead.\n",
      "│   caller = best(::String, ::Int64) at In[252]:6\n",
      "└ @ Main .\\In[252]:6\n",
      "┌ Warning: `getindex(df::DataFrame, col_ind::ColumnIndex)` is deprecated, use `df[!, col_ind]` instead.\n",
      "│   caller = best(::String, ::Int64) at In[252]:8\n",
      "└ @ Main .\\In[252]:8\n",
      "┌ Warning: `getindex(df::DataFrame, col_ind::ColumnIndex)` is deprecated, use `df[!, col_ind]` instead.\n",
      "│   caller = best(::String, ::Int64) at In[252]:11\n",
      "└ @ Main .\\In[252]:11\n",
      "┌ Warning: `getindex(df::DataFrame, col_ind::ColumnIndex)` is deprecated, use `df[!, col_ind]` instead.\n",
      "│   caller = best(::String, ::Int64) at In[252]:11\n",
      "└ @ Main .\\In[252]:11\n",
      "┌ Warning: `getindex(df::DataFrame, col_ind::ColumnIndex)` is deprecated, use `df[!, col_ind]` instead.\n",
      "│   caller = best(::String, ::Int64) at In[252]:11\n",
      "└ @ Main .\\In[252]:11\n"
     ]
    },
    {
     "data": {
      "text/html": [
       "<table class=\"data-frame\"><thead><tr><th></th><th>Restaurant_Name</th><th>City</th><th>Aggregate_rating</th></tr><tr><th></th><th>String</th><th>String</th><th>Float64</th></tr></thead><tbody><p>3 rows × 3 columns</p><tr><th>1</th><td>AB's - Absolute Barbecues</td><td>Chennai</td><td>4.9</td></tr><tr><th>2</th><td>Sagar Gaire Fast Food</td><td>Bhopal</td><td>4.9</td></tr><tr><th>3</th><td>Sheroes Hangout</td><td>Agra</td><td>4.9</td></tr></tbody></table>"
      ],
      "text/latex": [
       "\\begin{tabular}{r|ccc}\n",
       "\t& Restaurant\\_Name & City & Aggregate\\_rating\\\\\n",
       "\t\\hline\n",
       "\t& String & String & Float64\\\\\n",
       "\t\\hline\n",
       "\t1 & AB's - Absolute Barbecues & Chennai & 4.9 \\\\\n",
       "\t2 & Sagar Gaire Fast Food & Bhopal & 4.9 \\\\\n",
       "\t3 & Sheroes Hangout & Agra & 4.9 \\\\\n",
       "\\end{tabular}\n"
      ],
      "text/plain": [
       "3×3 DataFrame\n",
       "│ Row │ Restaurant_Name           │ City    │ Aggregate_rating │\n",
       "│     │ \u001b[90mString\u001b[39m                    │ \u001b[90mString\u001b[39m  │ \u001b[90mFloat64\u001b[39m          │\n",
       "├─────┼───────────────────────────┼─────────┼──────────────────┤\n",
       "│ 1   │ AB's - Absolute Barbecues │ Chennai │ 4.9              │\n",
       "│ 2   │ Sagar Gaire Fast Food     │ Bhopal  │ 4.9              │\n",
       "│ 3   │ Sheroes Hangout           │ Agra    │ 4.9              │"
      ]
     },
     "execution_count": 255,
     "metadata": {},
     "output_type": "execute_result"
    }
   ],
   "source": [
    "best(\"IND\", 3)"
   ]
  },
  {
   "cell_type": "code",
   "execution_count": 257,
   "metadata": {},
   "outputs": [
    {
     "data": {
      "text/html": [
       "<table class=\"data-frame\"><thead><tr><th></th><th>Restaurant_Name</th><th>City</th><th>Aggregate_rating</th></tr><tr><th></th><th>String</th><th>String</th><th>Float64</th></tr></thead><tbody><p>3 rows × 3 columns</p><tr><th>1</th><td>Oakwood Cafe</td><td>Dalton</td><td>4.9</td></tr><tr><th>2</th><td>Rae's Coastal Cafe</td><td>Augusta</td><td>4.9</td></tr><tr><th>3</th><td>Shorts Burger and Shine</td><td>Cedar Rapids/Iowa City</td><td>4.9</td></tr></tbody></table>"
      ],
      "text/latex": [
       "\\begin{tabular}{r|ccc}\n",
       "\t& Restaurant\\_Name & City & Aggregate\\_rating\\\\\n",
       "\t\\hline\n",
       "\t& String & String & Float64\\\\\n",
       "\t\\hline\n",
       "\t1 & Oakwood Cafe & Dalton & 4.9 \\\\\n",
       "\t2 & Rae's Coastal Cafe & Augusta & 4.9 \\\\\n",
       "\t3 & Shorts Burger and Shine & Cedar Rapids/Iowa City & 4.9 \\\\\n",
       "\\end{tabular}\n"
      ],
      "text/plain": [
       "3×3 DataFrame\n",
       "│ Row │ Restaurant_Name         │ City                   │ Aggregate_rating │\n",
       "│     │ \u001b[90mString\u001b[39m                  │ \u001b[90mString\u001b[39m                 │ \u001b[90mFloat64\u001b[39m          │\n",
       "├─────┼─────────────────────────┼────────────────────────┼──────────────────┤\n",
       "│ 1   │ Oakwood Cafe            │ Dalton                 │ 4.9              │\n",
       "│ 2   │ Rae's Coastal Cafe      │ Augusta                │ 4.9              │\n",
       "│ 3   │ Shorts Burger and Shine │ Cedar Rapids/Iowa City │ 4.9              │"
      ]
     },
     "execution_count": 257,
     "metadata": {},
     "output_type": "execute_result"
    }
   ],
   "source": [
    "best(\"USA\", 1)"
   ]
  },
  {
   "cell_type": "code",
   "execution_count": 258,
   "metadata": {},
   "outputs": [
    {
     "name": "stdout",
     "output_type": "stream",
     "text": [
      "Error in best(TGH, 4): invalid country"
     ]
    },
    {
     "data": {
      "text/plain": [
       "1"
      ]
     },
     "execution_count": 258,
     "metadata": {},
     "output_type": "execute_result"
    }
   ],
   "source": [
    "best(\"TGH\", 4)"
   ]
  },
  {
   "cell_type": "code",
   "execution_count": 259,
   "metadata": {},
   "outputs": [
    {
     "name": "stdout",
     "output_type": "stream",
     "text": [
      "Error in best(BRA, 5): invalid price range"
     ]
    },
    {
     "data": {
      "text/plain": [
       "1"
      ]
     },
     "execution_count": 259,
     "metadata": {},
     "output_type": "execute_result"
    }
   ],
   "source": [
    "best(\"BRA\", 5)"
   ]
  },
  {
   "cell_type": "code",
   "execution_count": null,
   "metadata": {},
   "outputs": [],
   "source": []
  }
 ],
 "metadata": {
  "kernelspec": {
   "display_name": "Julia 1.4.2",
   "language": "julia",
   "name": "julia-1.4"
  },
  "language_info": {
   "file_extension": ".jl",
   "mimetype": "application/julia",
   "name": "julia",
   "version": "1.4.2"
  }
 },
 "nbformat": 4,
 "nbformat_minor": 2
}
