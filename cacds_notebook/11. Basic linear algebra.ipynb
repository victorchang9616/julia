{
 "cells": [
  {
   "cell_type": "markdown",
   "metadata": {},
   "source": [
    "# Basic linear algebra in Julia\n",
    "Originally started by : Andreas Noack Jensen (MIT) (http://www.econ.ku.dk/phdstudent/noack/)\n",
    "with edits from Jane Herriman"
   ]
  },
  {
   "cell_type": "markdown",
   "metadata": {},
   "source": [
    "First let's define a random matrix"
   ]
  },
  {
   "cell_type": "code",
   "execution_count": 1,
   "metadata": {},
   "outputs": [
    {
     "data": {
      "text/plain": [
       "3×3 Array{Int64,2}:\n",
       " 2  2  3\n",
       " 1  3  1\n",
       " 4  2  2"
      ]
     },
     "execution_count": 1,
     "metadata": {},
     "output_type": "execute_result"
    }
   ],
   "source": [
    "A = rand(1:4,3,3)"
   ]
  },
  {
   "cell_type": "markdown",
   "metadata": {},
   "source": [
    "Define a vector of ones"
   ]
  },
  {
   "cell_type": "code",
   "execution_count": 2,
   "metadata": {},
   "outputs": [
    {
     "data": {
      "text/plain": [
       "3-element Array{Float64,1}:\n",
       " 1.0\n",
       " 1.0\n",
       " 1.0"
      ]
     },
     "execution_count": 2,
     "metadata": {},
     "output_type": "execute_result"
    }
   ],
   "source": [
    "x = fill(1.0, (3,)) # = fill(1.0, 3)"
   ]
  },
  {
   "cell_type": "markdown",
   "metadata": {},
   "source": [
    "Notice that $A$ has type Array{Int64,2} but $x$ has type Array{Float64,1}. Julia defines the aliases Vector{Type}=Array{Type,1} and Matrix{Type}=Array{Type,2}. \n",
    "\n",
    "Many of the basic operations are the same as in other languages\n",
    "#### Multiplication"
   ]
  },
  {
   "cell_type": "code",
   "execution_count": 3,
   "metadata": {},
   "outputs": [
    {
     "data": {
      "text/plain": [
       "3-element Array{Float64,1}:\n",
       " 7.0\n",
       " 5.0\n",
       " 8.0"
      ]
     },
     "execution_count": 3,
     "metadata": {},
     "output_type": "execute_result"
    }
   ],
   "source": [
    "b = A*x"
   ]
  },
  {
   "cell_type": "markdown",
   "metadata": {},
   "source": [
    "#### Transposition\n",
    "As in other languages `A'` is the conjugate transpose, or adjoint"
   ]
  },
  {
   "cell_type": "code",
   "execution_count": 4,
   "metadata": {},
   "outputs": [
    {
     "data": {
      "text/plain": [
       "3×3 LinearAlgebra.Adjoint{Int64,Array{Int64,2}}:\n",
       " 2  1  4\n",
       " 2  3  2\n",
       " 3  1  2"
      ]
     },
     "execution_count": 4,
     "metadata": {},
     "output_type": "execute_result"
    }
   ],
   "source": [
    "A'"
   ]
  },
  {
   "cell_type": "markdown",
   "metadata": {},
   "source": [
    "and we can get the transpose with"
   ]
  },
  {
   "cell_type": "code",
   "execution_count": 5,
   "metadata": {},
   "outputs": [
    {
     "data": {
      "text/plain": [
       "3×3 LinearAlgebra.Transpose{Int64,Array{Int64,2}}:\n",
       " 2  1  4\n",
       " 2  3  2\n",
       " 3  1  2"
      ]
     },
     "execution_count": 5,
     "metadata": {},
     "output_type": "execute_result"
    }
   ],
   "source": [
    "transpose(A)"
   ]
  },
  {
   "cell_type": "markdown",
   "metadata": {},
   "source": [
    "#### Transposed multiplication\n",
    "Julia allows us to write this without *"
   ]
  },
  {
   "cell_type": "code",
   "execution_count": 6,
   "metadata": {},
   "outputs": [
    {
     "data": {
      "text/plain": [
       "3×3 Array{Int64,2}:\n",
       " 21  15  15\n",
       " 15  17  13\n",
       " 15  13  14"
      ]
     },
     "execution_count": 6,
     "metadata": {},
     "output_type": "execute_result"
    }
   ],
   "source": [
    "A'A"
   ]
  },
  {
   "cell_type": "markdown",
   "metadata": {},
   "source": [
    "#### Solving linear systems \n",
    "The problem $Ax=b$ for ***square*** $A$ is solved by the \\ function."
   ]
  },
  {
   "cell_type": "code",
   "execution_count": 7,
   "metadata": {},
   "outputs": [
    {
     "data": {
      "text/plain": [
       "3-element Array{Float64,1}:\n",
       " 1.0\n",
       " 1.0\n",
       " 0.9999999999999999"
      ]
     },
     "execution_count": 7,
     "metadata": {},
     "output_type": "execute_result"
    }
   ],
   "source": [
    "A\\b"
   ]
  },
  {
   "cell_type": "markdown",
   "metadata": {},
   "source": [
    "`A\\b` gives us the *least squares solution* if we have an overdetermined linear system (a \"tall\" matrix)"
   ]
  },
  {
   "cell_type": "code",
   "execution_count": 8,
   "metadata": {},
   "outputs": [
    {
     "data": {
      "text/plain": [
       "3×2 Array{Float64,2}:\n",
       " 0.476765   0.959126\n",
       " 0.423559   0.934104\n",
       " 0.0815409  0.00310295"
      ]
     },
     "execution_count": 8,
     "metadata": {},
     "output_type": "execute_result"
    }
   ],
   "source": [
    "Atall = rand(3, 2)"
   ]
  },
  {
   "cell_type": "code",
   "execution_count": 9,
   "metadata": {},
   "outputs": [
    {
     "data": {
      "text/plain": [
       "2-element Array{Float64,1}:\n",
       "  93.20315518162505\n",
       " -37.99745295762181"
      ]
     },
     "execution_count": 9,
     "metadata": {},
     "output_type": "execute_result"
    }
   ],
   "source": [
    "Atall\\b"
   ]
  },
  {
   "cell_type": "markdown",
   "metadata": {},
   "source": [
    "and the *minimum norm least squares solution* if we have a rank-deficient least squares problem"
   ]
  },
  {
   "cell_type": "code",
   "execution_count": 10,
   "metadata": {},
   "outputs": [
    {
     "data": {
      "text/plain": [
       "3×2 Array{Float64,2}:\n",
       " 0.887259  0.887259\n",
       " 0.127225  0.127225\n",
       " 0.113116  0.113116"
      ]
     },
     "execution_count": 10,
     "metadata": {},
     "output_type": "execute_result"
    }
   ],
   "source": [
    "v = rand(3)\n",
    "rankdef = hcat(v, v)"
   ]
  },
  {
   "cell_type": "code",
   "execution_count": 11,
   "metadata": {},
   "outputs": [
    {
     "data": {
      "text/plain": [
       "2-element Array{Float64,1}:\n",
       " 4.7486951933721775\n",
       " 4.748695193372178"
      ]
     },
     "execution_count": 11,
     "metadata": {},
     "output_type": "execute_result"
    }
   ],
   "source": [
    "rankdef\\b"
   ]
  },
  {
   "cell_type": "markdown",
   "metadata": {},
   "source": [
    "Julia also gives us the minimum norm solution when we have an underdetermined solution (a \"short\" matrix)"
   ]
  },
  {
   "cell_type": "code",
   "execution_count": 12,
   "metadata": {},
   "outputs": [
    {
     "data": {
      "text/plain": [
       "2×3 Array{Float64,2}:\n",
       " 0.920981  0.452076  0.992689\n",
       " 0.347255  0.490086  0.343507"
      ]
     },
     "execution_count": 12,
     "metadata": {},
     "output_type": "execute_result"
    }
   ],
   "source": [
    "bshort = rand(2)\n",
    "Ashort = rand(2, 3)"
   ]
  },
  {
   "cell_type": "code",
   "execution_count": 13,
   "metadata": {},
   "outputs": [
    {
     "data": {
      "text/plain": [
       "3-element Array{Float64,1}:\n",
       " -0.0914521847895992\n",
       "  0.7776806442335451\n",
       " -0.17780127900646162"
      ]
     },
     "execution_count": 13,
     "metadata": {},
     "output_type": "execute_result"
    }
   ],
   "source": [
    "Ashort\\bshort"
   ]
  },
  {
   "cell_type": "markdown",
   "metadata": {},
   "source": [
    "4x + 3y = 10\n",
    "\n",
    "x + y = 3"
   ]
  },
  {
   "cell_type": "code",
   "execution_count": 14,
   "metadata": {},
   "outputs": [
    {
     "data": {
      "text/plain": [
       "2-element Array{Float64,1}:\n",
       " 1.0\n",
       " 2.0"
      ]
     },
     "execution_count": 14,
     "metadata": {},
     "output_type": "execute_result"
    }
   ],
   "source": [
    "A = [[4 3];[1 1]]\n",
    "b = [10,3]\n",
    "x = A\\b"
   ]
  },
  {
   "cell_type": "markdown",
   "metadata": {},
   "source": [
    "# The LinearAlgebra library\n",
    "\n",
    "While much of linear algebra is available in Julia by default (as shown above), there's a standard library named `LinearAlgebra` that brings in many more relevant names and functions. In particular, it provides factorizations and some structured matrix types.  As with all packages, you can bring these additional features into your session with a `using LinearAlgebra`."
   ]
  },
  {
   "cell_type": "code",
   "execution_count": 15,
   "metadata": {},
   "outputs": [
    {
     "name": "stderr",
     "output_type": "stream",
     "text": [
      "\u001b[32m\u001b[1m   Updating\u001b[22m\u001b[39m registry at `C:\\Users\\Victor\\.julia\\registries\\General`\n",
      "\u001b[32m\u001b[1m   Updating\u001b[22m\u001b[39m git-repo `https://github.com/JuliaRegistries/General.git`\n"
     ]
    },
    {
     "name": "stdout",
     "output_type": "stream",
     "text": [
      "\u001b[?25l    \u001b[36m\u001b[1mFetching:\u001b[22m\u001b[39m [>                                        ]  0.0 %\r",
      "    \u001b[36m\u001b[1mFetching:\u001b[22m\u001b[39m [=>                                       ]  0.2 %\r",
      "    \u001b[36m\u001b[1mFetching:\u001b[22m\u001b[39m [=>                                       ]  0.3 %\r",
      "    \u001b[36m\u001b[1mFetching:\u001b[22m\u001b[39m [=>                                       ]  0.5 %\r",
      "    \u001b[36m\u001b[1mFetching:\u001b[22m\u001b[39m [=>                                       ]  0.7 %\r",
      "    \u001b[36m\u001b[1mFetching:\u001b[22m\u001b[39m [=>                                       ]  0.8 %\r",
      "    \u001b[36m\u001b[1mFetching:\u001b[22m\u001b[39m [=>                                       ]  1.0 %\r",
      "    \u001b[36m\u001b[1mFetching:\u001b[22m\u001b[39m [=>                                       ]  1.2 %\r",
      "    \u001b[36m\u001b[1mFetching:\u001b[22m\u001b[39m [=>                                       ]  1.3 %\r",
      "    \u001b[36m\u001b[1mFetching:\u001b[22m\u001b[39m [=>                                       ]  1.5 %\r",
      "    \u001b[36m\u001b[1mFetching:\u001b[22m\u001b[39m [=>                                       ]  1.7 %\r",
      "    \u001b[36m\u001b[1mFetching:\u001b[22m\u001b[39m [=>                                       ]  1.9 %\r",
      "    \u001b[36m\u001b[1mFetching:\u001b[22m\u001b[39m [=>                                       ]  2.0 %\r",
      "    \u001b[36m\u001b[1mFetching:\u001b[22m\u001b[39m [=>                                       ]  2.2 %\r",
      "    \u001b[36m\u001b[1mFetching:\u001b[22m\u001b[39m [=>                                       ]  2.4 %\r",
      "    \u001b[36m\u001b[1mFetching:\u001b[22m\u001b[39m [==>                                      ]  2.5 %\r",
      "    \u001b[36m\u001b[1mFetching:\u001b[22m\u001b[39m [==>                                      ]  2.7 %\r",
      "    \u001b[36m\u001b[1mFetching:\u001b[22m\u001b[39m [==>                                      ]  2.9 %\r",
      "    \u001b[36m\u001b[1mFetching:\u001b[22m\u001b[39m [==>                                      ]  3.0 %\r",
      "    \u001b[36m\u001b[1mFetching:\u001b[22m\u001b[39m [==>                                      ]  3.2 %\r",
      "    \u001b[36m\u001b[1mFetching:\u001b[22m\u001b[39m [==>                                      ]  3.4 %\r",
      "    \u001b[36m\u001b[1mFetching:\u001b[22m\u001b[39m [==>                                      ]  3.5 %\r",
      "    \u001b[36m\u001b[1mFetching:\u001b[22m\u001b[39m [==>                                      ]  3.7 %\r",
      "    \u001b[36m\u001b[1mFetching:\u001b[22m\u001b[39m [==>                                      ]  3.9 %\r",
      "    \u001b[36m\u001b[1mFetching:\u001b[22m\u001b[39m [==>                                      ]  4.0 %\r",
      "    \u001b[36m\u001b[1mFetching:\u001b[22m\u001b[39m [==>                                      ]  4.2 %\r",
      "    \u001b[36m\u001b[1mFetching:\u001b[22m\u001b[39m [==>                                      ]  4.4 %\r",
      "    \u001b[36m\u001b[1mFetching:\u001b[22m\u001b[39m [==>                                      ]  4.5 %\r",
      "    \u001b[36m\u001b[1mFetching:\u001b[22m\u001b[39m [==>                                      ]  4.7 %\r",
      "    \u001b[36m\u001b[1mFetching:\u001b[22m\u001b[39m [==>                                      ]  4.9 %\r",
      "    \u001b[36m\u001b[1mFetching:\u001b[22m\u001b[39m [===>                                     ]  5.1 %\r",
      "    \u001b[36m\u001b[1mFetching:\u001b[22m\u001b[39m [===>                                     ]  5.2 %\r",
      "    \u001b[36m\u001b[1mFetching:\u001b[22m\u001b[39m [===>                                     ]  5.4 %\r",
      "    \u001b[36m\u001b[1mFetching:\u001b[22m\u001b[39m [===>                                     ]  5.6 %\r",
      "    \u001b[36m\u001b[1mFetching:\u001b[22m\u001b[39m [===>                                     ]  5.7 %\r",
      "    \u001b[36m\u001b[1mFetching:\u001b[22m\u001b[39m [===>                                     ]  5.9 %\r",
      "    \u001b[36m\u001b[1mFetching:\u001b[22m\u001b[39m [===>                                     ]  6.1 %\r",
      "    \u001b[36m\u001b[1mFetching:\u001b[22m\u001b[39m [===>                                     ]  6.2 %\r",
      "    \u001b[36m\u001b[1mFetching:\u001b[22m\u001b[39m [===>                                     ]  6.4 %\r",
      "    \u001b[36m\u001b[1mFetching:\u001b[22m\u001b[39m [===>                                     ]  6.6 %\r",
      "    \u001b[36m\u001b[1mFetching:\u001b[22m\u001b[39m [===>                                     ]  6.7 %\r",
      "    \u001b[36m\u001b[1mFetching:\u001b[22m\u001b[39m [===>                                     ]  6.9 %\r",
      "    \u001b[36m\u001b[1mFetching:\u001b[22m\u001b[39m [===>                                     ]  7.1 %\r",
      "    \u001b[36m\u001b[1mFetching:\u001b[22m\u001b[39m [===>                                     ]  7.2 %\r",
      "    \u001b[36m\u001b[1mFetching:\u001b[22m\u001b[39m [===>                                     ]  7.4 %\r",
      "    \u001b[36m\u001b[1mFetching:\u001b[22m\u001b[39m [====>                                    ]  7.6 %\r",
      "    \u001b[36m\u001b[1mFetching:\u001b[22m\u001b[39m [====>                                    ]  7.7 %\r",
      "    \u001b[36m\u001b[1mFetching:\u001b[22m\u001b[39m [====>                                    ]  7.9 %\r",
      "    \u001b[36m\u001b[1mFetching:\u001b[22m\u001b[39m [====>                                    ]  8.1 %\r",
      "    \u001b[36m\u001b[1mFetching:\u001b[22m\u001b[39m [====>                                    ]  8.2 %\r",
      "    \u001b[36m\u001b[1mFetching:\u001b[22m\u001b[39m [====>                                    ]  8.4 %\r",
      "    \u001b[36m\u001b[1mFetching:\u001b[22m\u001b[39m [====>                                    ]  8.6 %\r",
      "    \u001b[36m\u001b[1mFetching:\u001b[22m\u001b[39m [====>                                    ]  8.8 %\r",
      "    \u001b[36m\u001b[1mFetching:\u001b[22m\u001b[39m [====>                                    ]  8.9 %\r",
      "    \u001b[36m\u001b[1mFetching:\u001b[22m\u001b[39m [====>                                    ]  9.1 %\r",
      "    \u001b[36m\u001b[1mFetching:\u001b[22m\u001b[39m [====>                                    ]  9.3 %\r",
      "    \u001b[36m\u001b[1mFetching:\u001b[22m\u001b[39m [====>                                    ]  9.4 %\r",
      "    \u001b[36m\u001b[1mFetching:\u001b[22m\u001b[39m [====>                                    ]  9.6 %\r",
      "    \u001b[36m\u001b[1mFetching:\u001b[22m\u001b[39m [====>                                    ]  9.8 %\r",
      "    \u001b[36m\u001b[1mFetching:\u001b[22m\u001b[39m [====>                                    ]  9.9 %\r",
      "    \u001b[36m\u001b[1mFetching:\u001b[22m\u001b[39m [=====>                                   ]  10.1 %\r",
      "    \u001b[36m\u001b[1mFetching:\u001b[22m\u001b[39m [=====>                                   ]  10.3 %\r",
      "    \u001b[36m\u001b[1mFetching:\u001b[22m\u001b[39m [=====>                                   ]  10.4 %\r",
      "    \u001b[36m\u001b[1mFetching:\u001b[22m\u001b[39m [=====>                                   ]  10.6 %\r",
      "    \u001b[36m\u001b[1mFetching:\u001b[22m\u001b[39m [=====>                                   ]  10.8 %\r",
      "    \u001b[36m\u001b[1mFetching:\u001b[22m\u001b[39m [=====>                                   ]  10.9 %\r",
      "    \u001b[36m\u001b[1mFetching:\u001b[22m\u001b[39m [=====>                                   ]  11.1 %\r",
      "    \u001b[36m\u001b[1mFetching:\u001b[22m\u001b[39m [=====>                                   ]  11.3 %\r",
      "    \u001b[36m\u001b[1mFetching:\u001b[22m\u001b[39m [=====>                                   ]  11.4 %\r",
      "    \u001b[36m\u001b[1mFetching:\u001b[22m\u001b[39m [=====>                                   ]  11.6 %\r",
      "    \u001b[36m\u001b[1mFetching:\u001b[22m\u001b[39m [=====>                                   ]  11.8 %\r",
      "    \u001b[36m\u001b[1mFetching:\u001b[22m\u001b[39m [=====>                                   ]  12.0 %\r",
      "    \u001b[36m\u001b[1mFetching:\u001b[22m\u001b[39m [=====>                                   ]  12.1 %\r",
      "    \u001b[36m\u001b[1mFetching:\u001b[22m\u001b[39m [=====>                                   ]  12.3 %\r",
      "    \u001b[36m\u001b[1mFetching:\u001b[22m\u001b[39m [=====>                                   ]  12.5 %\r",
      "    \u001b[36m\u001b[1mFetching:\u001b[22m\u001b[39m [======>                                  ]  12.6 %\r",
      "    \u001b[36m\u001b[1mFetching:\u001b[22m\u001b[39m [======>                                  ]  12.8 %\r",
      "    \u001b[36m\u001b[1mFetching:\u001b[22m\u001b[39m [======>                                  ]  13.0 %\r",
      "    \u001b[36m\u001b[1mFetching:\u001b[22m\u001b[39m [======>                                  ]  13.1 %\r",
      "    \u001b[36m\u001b[1mFetching:\u001b[22m\u001b[39m [======>                                  ]  13.3 %\r",
      "    \u001b[36m\u001b[1mFetching:\u001b[22m\u001b[39m [======>                                  ]  13.5 %\r",
      "    \u001b[36m\u001b[1mFetching:\u001b[22m\u001b[39m [======>                                  ]  13.6 %\r",
      "    \u001b[36m\u001b[1mFetching:\u001b[22m\u001b[39m [======>                                  ]  13.8 %\r",
      "    \u001b[36m\u001b[1mFetching:\u001b[22m\u001b[39m [======>                                  ]  14.0 %\r",
      "    \u001b[36m\u001b[1mFetching:\u001b[22m\u001b[39m [======>                                  ]  14.1 %\r",
      "    \u001b[36m\u001b[1mFetching:\u001b[22m\u001b[39m [======>                                  ]  14.3 %\r",
      "    \u001b[36m\u001b[1mFetching:\u001b[22m\u001b[39m [======>                                  ]  14.5 %\r",
      "    \u001b[36m\u001b[1mFetching:\u001b[22m\u001b[39m [======>                                  ]  14.6 %\r",
      "    \u001b[36m\u001b[1mFetching:\u001b[22m\u001b[39m [======>                                  ]  14.8 %\r",
      "    \u001b[36m\u001b[1mFetching:\u001b[22m\u001b[39m [======>                                  ]  15.0 %\r",
      "    \u001b[36m\u001b[1mFetching:\u001b[22m\u001b[39m [=======>                                 ]  15.2 %\r",
      "    \u001b[36m\u001b[1mFetching:\u001b[22m\u001b[39m [=======>                                 ]  15.3 %\r",
      "    \u001b[36m\u001b[1mFetching:\u001b[22m\u001b[39m [=======>                                 ]  15.5 %\r",
      "    \u001b[36m\u001b[1mFetching:\u001b[22m\u001b[39m [=======>                                 ]  15.7 %\r",
      "    \u001b[36m\u001b[1mFetching:\u001b[22m\u001b[39m [=======>                                 ]  15.8 %\r",
      "    \u001b[36m\u001b[1mFetching:\u001b[22m\u001b[39m [=======>                                 ]  16.0 %\r",
      "    \u001b[36m\u001b[1mFetching:\u001b[22m\u001b[39m [=======>                                 ]  16.2 %\r",
      "    \u001b[36m\u001b[1mFetching:\u001b[22m\u001b[39m [=======>                                 ]  16.3 %\r",
      "    \u001b[36m\u001b[1mFetching:\u001b[22m\u001b[39m [=======>                                 ]  16.5 %\r",
      "    \u001b[36m\u001b[1mFetching:\u001b[22m\u001b[39m [=======>                                 ]  16.7 %\r",
      "    \u001b[36m\u001b[1mFetching:\u001b[22m\u001b[39m [=======>                                 ]  16.8 %\r",
      "    \u001b[36m\u001b[1mFetching:\u001b[22m\u001b[39m [=======>                                 ]  17.0 %\r",
      "    \u001b[36m\u001b[1mFetching:\u001b[22m\u001b[39m [=======>                                 ]  17.2 %\r",
      "    \u001b[36m\u001b[1mFetching:\u001b[22m\u001b[39m [=======>                                 ]  17.3 %\r",
      "    \u001b[36m\u001b[1mFetching:\u001b[22m\u001b[39m [========>                                ]  17.5 %\r",
      "    \u001b[36m\u001b[1mFetching:\u001b[22m\u001b[39m [========>                                ]  17.7 %\r",
      "    \u001b[36m\u001b[1mFetching:\u001b[22m\u001b[39m [========>                                ]  17.8 %\r",
      "    \u001b[36m\u001b[1mFetching:\u001b[22m\u001b[39m [========>                                ]  18.0 %\r",
      "    \u001b[36m\u001b[1mFetching:\u001b[22m\u001b[39m [========>                                ]  18.2 %\r",
      "    \u001b[36m\u001b[1mFetching:\u001b[22m\u001b[39m [========>                                ]  18.4 %\r",
      "    \u001b[36m\u001b[1mFetching:\u001b[22m\u001b[39m [========>                                ]  18.5 %\r",
      "    \u001b[36m\u001b[1mFetching:\u001b[22m\u001b[39m [========>                                ]  18.7 %\r",
      "    \u001b[36m\u001b[1mFetching:\u001b[22m\u001b[39m [========>                                ]  18.9 %\r",
      "    \u001b[36m\u001b[1mFetching:\u001b[22m\u001b[39m [========>                                ]  19.0 %\r",
      "    \u001b[36m\u001b[1mFetching:\u001b[22m\u001b[39m [========>                                ]  19.2 %\r",
      "    "
     ]
    },
    {
     "name": "stdout",
     "output_type": "stream",
     "text": [
      "\u001b[36m\u001b[1mFetching:\u001b[22m\u001b[39m [========>                                ]  19.4 %\r",
      "    \u001b[36m\u001b[1mFetching:\u001b[22m\u001b[39m [========>                                ]  19.5 %\r",
      "    \u001b[36m\u001b[1mFetching:\u001b[22m\u001b[39m [========>                                ]  19.7 %\r",
      "    \u001b[36m\u001b[1mFetching:\u001b[22m\u001b[39m [========>                                ]  19.9 %\r",
      "    \u001b[36m\u001b[1mFetching:\u001b[22m\u001b[39m [=========>                               ]  20.0 %\r",
      "    \u001b[36m\u001b[1mFetching:\u001b[22m\u001b[39m [=========>                               ]  20.2 %\r",
      "    \u001b[36m\u001b[1mFetching:\u001b[22m\u001b[39m [=========>                               ]  20.4 %\r",
      "    \u001b[36m\u001b[1mFetching:\u001b[22m\u001b[39m [=========>                               ]  20.5 %\r",
      "    \u001b[36m\u001b[1mFetching:\u001b[22m\u001b[39m [=========>                               ]  20.7 %\r",
      "    \u001b[36m\u001b[1mFetching:\u001b[22m\u001b[39m [=========>                               ]  20.9 %\r",
      "    \u001b[36m\u001b[1mFetching:\u001b[22m\u001b[39m [=========>                               ]  21.0 %\r",
      "    \u001b[36m\u001b[1mFetching:\u001b[22m\u001b[39m [=========>                               ]  21.2 %\r",
      "    \u001b[36m\u001b[1mFetching:\u001b[22m\u001b[39m [=========>                               ]  21.4 %\r",
      "    \u001b[36m\u001b[1mFetching:\u001b[22m\u001b[39m [=========>                               ]  21.5 %\r",
      "    \u001b[36m\u001b[1mFetching:\u001b[22m\u001b[39m [=========>                               ]  21.7 %\r",
      "    \u001b[36m\u001b[1mFetching:\u001b[22m\u001b[39m [=========>                               ]  21.9 %\r",
      "    \u001b[36m\u001b[1mFetching:\u001b[22m\u001b[39m [=========>                               ]  22.1 %\r",
      "    \u001b[36m\u001b[1mFetching:\u001b[22m\u001b[39m [=========>                               ]  22.2 %\r",
      "    \u001b[36m\u001b[1mFetching:\u001b[22m\u001b[39m [=========>                               ]  22.4 %\r",
      "    \u001b[36m\u001b[1mFetching:\u001b[22m\u001b[39m [==========>                              ]  22.6 %\r",
      "    \u001b[36m\u001b[1mFetching:\u001b[22m\u001b[39m [==========>                              ]  22.7 %\r",
      "    \u001b[36m\u001b[1mFetching:\u001b[22m\u001b[39m [==========>                              ]  22.9 %\r",
      "    \u001b[36m\u001b[1mFetching:\u001b[22m\u001b[39m [==========>                              ]  23.1 %\r",
      "    \u001b[36m\u001b[1mFetching:\u001b[22m\u001b[39m [==========>                              ]  23.2 %\r",
      "    \u001b[36m\u001b[1mFetching:\u001b[22m\u001b[39m [==========>                              ]  23.4 %\r",
      "    \u001b[36m\u001b[1mFetching:\u001b[22m\u001b[39m [==========>                              ]  23.6 %\r",
      "    \u001b[36m\u001b[1mFetching:\u001b[22m\u001b[39m [==========>                              ]  23.7 %\r",
      "    \u001b[36m\u001b[1mFetching:\u001b[22m\u001b[39m [==========>                              ]  23.9 %\r",
      "    \u001b[36m\u001b[1mFetching:\u001b[22m\u001b[39m [==========>                              ]  24.1 %\r",
      "    \u001b[36m\u001b[1mFetching:\u001b[22m\u001b[39m [==========>                              ]  24.2 %\r",
      "    \u001b[36m\u001b[1mFetching:\u001b[22m\u001b[39m [==========>                              ]  24.4 %\r",
      "    \u001b[36m\u001b[1mFetching:\u001b[22m\u001b[39m [==========>                              ]  24.6 %\r",
      "    \u001b[36m\u001b[1mFetching:\u001b[22m\u001b[39m [==========>                              ]  24.7 %\r",
      "    \u001b[36m\u001b[1mFetching:\u001b[22m\u001b[39m [==========>                              ]  24.9 %\r",
      "    \u001b[36m\u001b[1mFetching:\u001b[22m\u001b[39m [===========>                             ]  25.1 %\r",
      "    \u001b[36m\u001b[1mFetching:\u001b[22m\u001b[39m [===========>                             ]  25.3 %\r",
      "    \u001b[36m\u001b[1mFetching:\u001b[22m\u001b[39m [===========>                             ]  25.4 %\r",
      "    \u001b[36m\u001b[1mFetching:\u001b[22m\u001b[39m [===========>                             ]  25.6 %\r",
      "    \u001b[36m\u001b[1mFetching:\u001b[22m\u001b[39m [===========>                             ]  25.8 %\r",
      "    \u001b[36m\u001b[1mFetching:\u001b[22m\u001b[39m [===========>                             ]  25.9 %\r",
      "    \u001b[36m\u001b[1mFetching:\u001b[22m\u001b[39m [===========>                             ]  26.1 %\r",
      "    \u001b[36m\u001b[1mFetching:\u001b[22m\u001b[39m [===========>                             ]  26.3 %\r",
      "    \u001b[36m\u001b[1mFetching:\u001b[22m\u001b[39m [===========>                             ]  26.4 %\r",
      "    \u001b[36m\u001b[1mFetching:\u001b[22m\u001b[39m [===========>                             ]  26.6 %\r",
      "    \u001b[36m\u001b[1mFetching:\u001b[22m\u001b[39m [===========>                             ]  26.8 %\r",
      "    \u001b[36m\u001b[1mFetching:\u001b[22m\u001b[39m [===========>                             ]  26.9 %\r",
      "    \u001b[36m\u001b[1mFetching:\u001b[22m\u001b[39m [===========>                             ]  27.1 %\r",
      "    \u001b[36m\u001b[1mFetching:\u001b[22m\u001b[39m [===========>                             ]  27.3 %\r",
      "    \u001b[36m\u001b[1mFetching:\u001b[22m\u001b[39m [===========>                             ]  27.4 %\r",
      "    \u001b[36m\u001b[1mFetching:\u001b[22m\u001b[39m [============>                            ]  27.6 %\r",
      "    \u001b[36m\u001b[1mFetching:\u001b[22m\u001b[39m [============>                            ]  27.8 %\r",
      "    \u001b[36m\u001b[1mFetching:\u001b[22m\u001b[39m [============>                            ]  27.9 %\r",
      "    \u001b[36m\u001b[1mFetching:\u001b[22m\u001b[39m [============>                            ]  28.1 %\r",
      "    \u001b[36m\u001b[1mFetching:\u001b[22m\u001b[39m [============>                            ]  28.3 %\r",
      "    \u001b[36m\u001b[1mFetching:\u001b[22m\u001b[39m [============>                            ]  28.5 %\r",
      "    \u001b[36m\u001b[1mFetching:\u001b[22m\u001b[39m [============>                            ]  28.6 %\r",
      "    \u001b[36m\u001b[1mFetching:\u001b[22m\u001b[39m [============>                            ]  28.8 %\r",
      "    \u001b[36m\u001b[1mFetching:\u001b[22m\u001b[39m [============>                            ]  29.0 %\r",
      "    \u001b[36m\u001b[1mFetching:\u001b[22m\u001b[39m [============>                            ]  29.1 %\r",
      "    \u001b[36m\u001b[1mFetching:\u001b[22m\u001b[39m [============>                            ]  29.3 %\r",
      "    \u001b[36m\u001b[1mFetching:\u001b[22m\u001b[39m [============>                            ]  29.5 %\r",
      "    \u001b[36m\u001b[1mFetching:\u001b[22m\u001b[39m [============>                            ]  29.6 %\r",
      "    \u001b[36m\u001b[1mFetching:\u001b[22m\u001b[39m [============>                            ]  29.8 %\r",
      "    \u001b[36m\u001b[1mFetching:\u001b[22m\u001b[39m [============>                            ]  30.0 %\r",
      "    \u001b[36m\u001b[1mFetching:\u001b[22m\u001b[39m [=============>                           ]  30.1 %\r",
      "    \u001b[36m\u001b[1mFetching:\u001b[22m\u001b[39m [=============>                           ]  30.3 %\r",
      "    \u001b[36m\u001b[1mFetching:\u001b[22m\u001b[39m [=============>                           ]  30.5 %\r",
      "    \u001b[36m\u001b[1mFetching:\u001b[22m\u001b[39m [=============>                           ]  30.6 %\r",
      "    \u001b[36m\u001b[1mFetching:\u001b[22m\u001b[39m [=============>                           ]  30.8 %\r",
      "    \u001b[36m\u001b[1mFetching:\u001b[22m\u001b[39m [=============>                           ]  31.0 %\r",
      "    \u001b[36m\u001b[1mFetching:\u001b[22m\u001b[39m [=============>                           ]  31.1 %\r",
      "    \u001b[36m\u001b[1mFetching:\u001b[22m\u001b[39m [=============>                           ]  31.3 %\r",
      "    \u001b[36m\u001b[1mFetching:\u001b[22m\u001b[39m [=============>                           ]  31.5 %\r",
      "    \u001b[36m\u001b[1mFetching:\u001b[22m\u001b[39m [=============>                           ]  31.6 %\r",
      "    \u001b[36m\u001b[1mFetching:\u001b[22m\u001b[39m [=============>                           ]  31.8 %\r",
      "    \u001b[36m\u001b[1mFetching:\u001b[22m\u001b[39m [=============>                           ]  32.0 %\r",
      "    \u001b[36m\u001b[1mFetching:\u001b[22m\u001b[39m [=============>                           ]  32.2 %\r",
      "    \u001b[36m\u001b[1mFetching:\u001b[22m\u001b[39m [=============>                           ]  32.3 %\r",
      "    \u001b[36m\u001b[1mFetching:\u001b[22m\u001b[39m [=============>                           ]  32.5 %\r",
      "    \u001b[36m\u001b[1mFetching:\u001b[22m\u001b[39m [==============>                          ]  32.7 %\r",
      "    \u001b[36m\u001b[1mFetching:\u001b[22m\u001b[39m [==============>                          ]  32.8 %\r",
      "    \u001b[36m\u001b[1mFetching:\u001b[22m\u001b[39m [==============>                          ]  33.0 %\r",
      "    \u001b[36m\u001b[1mFetching:\u001b[22m\u001b[39m [==============>                          ]  33.2 %\r",
      "    \u001b[36m\u001b[1mFetching:\u001b[22m\u001b[39m [==============>                          ]  33.3 %\r",
      "    \u001b[36m\u001b[1mFetching:\u001b[22m\u001b[39m [==============>                          ]  33.5 %\r",
      "    \u001b[36m\u001b[1mFetching:\u001b[22m\u001b[39m [==============>                          ]  33.7 %\r",
      "    \u001b[36m\u001b[1mFetching:\u001b[22m\u001b[39m [==============>                          ]  33.8 %\r",
      "    \u001b[36m\u001b[1mFetching:\u001b[22m\u001b[39m [==============>                          ]  34.0 %\r",
      "    \u001b[36m\u001b[1mFetching:\u001b[22m\u001b[39m [==============>                          ]  34.2 %\r",
      "    \u001b[36m\u001b[1mFetching:\u001b[22m\u001b[39m [==============>                          ]  34.3 %\r",
      "    \u001b[36m\u001b[1mFetching:\u001b[22m\u001b[39m [==============>                          ]  34.5 %\r",
      "    \u001b[36m\u001b[1mFetching:\u001b[22m\u001b[39m [==============>                          ]  34.7 %\r",
      "    \u001b[36m\u001b[1mFetching:\u001b[22m\u001b[39m [==============>                          ]  34.8 %\r",
      "    \u001b[36m\u001b[1mFetching:\u001b[22m\u001b[39m [===============>                         ]  35.0 %\r",
      "    \u001b[36m\u001b[1mFetching:\u001b[22m\u001b[39m [===============>                         ]  35.2 %\r",
      "    \u001b[36m\u001b[1mFetching:\u001b[22m\u001b[39m [===============>                         ]  35.4 %\r",
      "    \u001b[36m\u001b[1mFetching:\u001b[22m\u001b[39m [===============>                         ]  35.5 %\r",
      "    \u001b[36m\u001b[1mFetching:\u001b[22m\u001b[39m [===============>                         ]  35.7 %\r",
      "    \u001b[36m\u001b[1mFetching:\u001b[22m\u001b[39m [===============>                         ]  35.9 %\r",
      "    \u001b[36m\u001b[1mFetching:\u001b[22m\u001b[39m [===============>                         ]  36.0 %\r",
      "    \u001b[36m\u001b[1mFetching:\u001b[22m\u001b[39m [===============>                         ]  36.2 %\r",
      "    \u001b[36m\u001b[1mFetching:\u001b[22m\u001b[39m [===============>                         ]  36.4 %\r",
      "    \u001b[36m\u001b[1mFetching:\u001b[22m\u001b[39m [===============>                         ]  36.5 %\r",
      "    \u001b[36m\u001b[1mFetching:\u001b[22m\u001b[39m [===============>                         ]  36.7 %\r",
      "    \u001b[36m\u001b[1mFetching:\u001b[22m\u001b[39m [===============>                         ]  36.9 %\r",
      "    \u001b[36m\u001b[1mFetching:\u001b[22m\u001b[39m [===============>                         ]  37.0 %\r",
      "    \u001b[36m\u001b[1mFetching:\u001b[22m\u001b[39m [===============>                         ]  37.2 %\r",
      "    \u001b[36m\u001b[1mFetching:\u001b[22m\u001b[39m [===============>                         ]  37.4 %\r",
      "    \u001b[36m\u001b[1mFetching:\u001b[22m\u001b[39m [================>                        ]  37.5 %\r",
      "    \u001b[36m\u001b[1mFetching:\u001b[22m\u001b[39m [================>                        ]  37.7 %\r",
      "    \u001b[36m\u001b[1mFetching:\u001b[22m\u001b[39m [================>                        ]  37.9 %\r",
      "    \u001b[36m\u001b[1mFetching:\u001b[22m\u001b[39m [================>                        ]  38.0 %\r",
      "    \u001b[36m\u001b[1mFetching:\u001b[22m\u001b[39m [================>                        ]  38.2 %\r",
      "    \u001b[36m\u001b[1mFetching:\u001b[22m\u001b[39m [================>                        ]  38.4 %\r",
      "    \u001b[36m\u001b[1mFetching:\u001b[22m\u001b[39m [================>                        ]  38.6 %\r",
      "    \u001b[36m\u001b[1mFetching:\u001b[22m\u001b[39m [================>                        ]  38.7 %\r",
      "    \u001b[36m\u001b[1mFetching:\u001b[22m\u001b[39m [================>                        ]  38.9 %\r",
      "    \u001b[36m\u001b[1mFetching:\u001b[22m\u001b[39m [================>                        ]  39.1 %\r",
      "    \u001b[36m\u001b[1mFetching:\u001b[22m\u001b[39m [================>                        ]  39.2 %\r",
      "    \u001b[36m\u001b[1mFetching:\u001b[22m\u001b[39m [================>                        ]  39.4 %\r",
      "    \u001b[36m\u001b[1mFetching:\u001b[22m\u001b[39m [================"
     ]
    },
    {
     "name": "stdout",
     "output_type": "stream",
     "text": [
      "\u001b[2K\u001b[36m\u001b[1mFetching:\u001b[22m\u001b[39m [========================================>]  100.0 %            ]  66.2 %==============================>          ]  74.6 %94.8 %\u001b[?25h"
     ]
    },
    {
     "name": "stderr",
     "output_type": "stream",
     "text": [
      "\u001b[32m\u001b[1m  Resolving\u001b[22m\u001b[39m package versions...\n",
      "\u001b[32m\u001b[1m  Installed\u001b[22m\u001b[39m Zlib_jll ─ v1.2.11+12\n",
      "\u001b[32m\u001b[1m   Updating\u001b[22m\u001b[39m `C:\\Users\\Victor\\.julia\\environments\\v1.4\\Project.toml`\n",
      " \u001b[90m [37e2e46d]\u001b[39m\u001b[92m + LinearAlgebra \u001b[39m\n",
      "\u001b[32m\u001b[1m   Updating\u001b[22m\u001b[39m `C:\\Users\\Victor\\.julia\\environments\\v1.4\\Manifest.toml`\n",
      " \u001b[90m [83775a58]\u001b[39m\u001b[93m ↑ Zlib_jll v1.2.11+11 ⇒ v1.2.11+12\u001b[39m\n"
     ]
    }
   ],
   "source": [
    "using Pkg\n",
    "Pkg.add(\"LinearAlgebra\")"
   ]
  },
  {
   "cell_type": "markdown",
   "metadata": {},
   "source": [
    "To list the various functions available in the package we use the `names` command"
   ]
  },
  {
   "cell_type": "code",
   "execution_count": 17,
   "metadata": {},
   "outputs": [],
   "source": [
    "using LinearAlgebra"
   ]
  },
  {
   "cell_type": "code",
   "execution_count": 18,
   "metadata": {},
   "outputs": [
    {
     "data": {
      "text/plain": [
       "124-element Array{Symbol,1}:\n",
       " :/\n",
       " :Adjoint\n",
       " :BLAS\n",
       " :Bidiagonal\n",
       " :BunchKaufman\n",
       " :Cholesky\n",
       " :CholeskyPivoted\n",
       " :Diagonal\n",
       " :Eigen\n",
       " :Factorization\n",
       " :GeneralizedEigen\n",
       " :GeneralizedSVD\n",
       " :GeneralizedSchur\n",
       " ⋮\n",
       " :svdvals\n",
       " :svdvals!\n",
       " :sylvester\n",
       " :tr\n",
       " :transpose\n",
       " :transpose!\n",
       " :tril\n",
       " :tril!\n",
       " :triu\n",
       " :triu!\n",
       " :×\n",
       " :⋅"
      ]
     },
     "execution_count": 18,
     "metadata": {},
     "output_type": "execute_result"
    }
   ],
   "source": [
    "names(LinearAlgebra)"
   ]
  },
  {
   "cell_type": "markdown",
   "metadata": {},
   "source": [
    "To gather information of all the current variables in the environment use `varinfo`"
   ]
  },
  {
   "cell_type": "code",
   "execution_count": 19,
   "metadata": {},
   "outputs": [
    {
     "data": {
      "text/latex": [
       "\\begin{tabular}\n",
       "{l | r | l}\n",
       "name & size & summary \\\\\n",
       "\\hline\n",
       "A & 72 bytes & 2×2 Array\\{Int64,2\\} \\\\\n",
       "Ashort & 88 bytes & 2×3 Array\\{Float64,2\\} \\\\\n",
       "Atall & 88 bytes & 3×2 Array\\{Float64,2\\} \\\\\n",
       "Base &  & Module \\\\\n",
       "Core &  & Module \\\\\n",
       "Main &  & Module \\\\\n",
       "b & 56 bytes & 2-element Array\\{Int64,1\\} \\\\\n",
       "bshort & 56 bytes & 2-element Array\\{Float64,1\\} \\\\\n",
       "rankdef & 88 bytes & 3×2 Array\\{Float64,2\\} \\\\\n",
       "v & 64 bytes & 3-element Array\\{Float64,1\\} \\\\\n",
       "x & 56 bytes & 2-element Array\\{Float64,1\\} \\\\\n",
       "\\end{tabular}\n"
      ],
      "text/markdown": [
       "| name    |     size | summary                    |\n",
       "|:------- | --------:|:-------------------------- |\n",
       "| A       | 72 bytes | 2×2 Array{Int64,2}         |\n",
       "| Ashort  | 88 bytes | 2×3 Array{Float64,2}       |\n",
       "| Atall   | 88 bytes | 3×2 Array{Float64,2}       |\n",
       "| Base    |          | Module                     |\n",
       "| Core    |          | Module                     |\n",
       "| Main    |          | Module                     |\n",
       "| b       | 56 bytes | 2-element Array{Int64,1}   |\n",
       "| bshort  | 56 bytes | 2-element Array{Float64,1} |\n",
       "| rankdef | 88 bytes | 3×2 Array{Float64,2}       |\n",
       "| v       | 64 bytes | 3-element Array{Float64,1} |\n",
       "| x       | 56 bytes | 2-element Array{Float64,1} |\n"
      ],
      "text/plain": [
       "  name        size summary                   \n",
       "  ––––––– –––––––– ––––––––––––––––––––––––––\n",
       "  A       72 bytes 2×2 Array{Int64,2}        \n",
       "  Ashort  88 bytes 2×3 Array{Float64,2}      \n",
       "  Atall   88 bytes 3×2 Array{Float64,2}      \n",
       "  Base             Module                    \n",
       "  Core             Module                    \n",
       "  Main             Module                    \n",
       "  b       56 bytes 2-element Array{Int64,1}  \n",
       "  bshort  56 bytes 2-element Array{Float64,1}\n",
       "  rankdef 88 bytes 3×2 Array{Float64,2}      \n",
       "  v       64 bytes 3-element Array{Float64,1}\n",
       "  x       56 bytes 2-element Array{Float64,1}"
      ]
     },
     "execution_count": 19,
     "metadata": {},
     "output_type": "execute_result"
    }
   ],
   "source": [
    "varinfo()"
   ]
  },
  {
   "cell_type": "markdown",
   "metadata": {},
   "source": [
    "#### How do I delete an object in memory? ####\n",
    "\n",
    "Julia does not have an analog of MATLAB's `clear` function; once a name is defined in a Julia session (technically, in module `Main`), it is always present.\n",
    "\n",
    "If memory usage is your concern, you can always replace objects with ones that consume less memory. For example, if `A` is a gigabyte-sized array that you no longer need, you can free the memory with `A = nothing`. The memory will be released the next time the garbage collector runs; you can force this to happen with `gc()`. Moreover, an attempt to use `A` will likely result in an error, because most methods are not defined on type `Nothing`."
   ]
  },
  {
   "cell_type": "markdown",
   "metadata": {},
   "source": [
    "#### How can I modify the declaration of a type in my session?\n",
    "\n",
    "Perhaps you've defined a type and then realize you need to add a new field. If you try this, you get the error:\n",
    "\n",
    "`ERROR: invalid redefinition of constant MyType`\n",
    "\n",
    "Types in module `Main` cannot be redefined."
   ]
  },
  {
   "cell_type": "markdown",
   "metadata": {},
   "source": [
    "### Exercises\n",
    "\n",
    "#### 11.1 \n",
    "Take the inner product (or \"dot\" product) of a vector `v` with itself and assign it to variable `dot_v`.\n",
    "\n"
   ]
  },
  {
   "cell_type": "code",
   "execution_count": 20,
   "metadata": {},
   "outputs": [
    {
     "data": {
      "text/plain": [
       "3-element Array{Float64,1}:\n",
       " 0.8872592205261467\n",
       " 0.12722548147925816\n",
       " 0.11311592937782167"
      ]
     },
     "execution_count": 20,
     "metadata": {},
     "output_type": "execute_result"
    }
   ],
   "source": [
    "v"
   ]
  },
  {
   "cell_type": "code",
   "execution_count": 21,
   "metadata": {},
   "outputs": [],
   "source": [
    "using LinearAlgebra"
   ]
  },
  {
   "cell_type": "code",
   "execution_count": 24,
   "metadata": {},
   "outputs": [
    {
     "data": {
      "text/plain": [
       "0.8162104610253028"
      ]
     },
     "execution_count": 24,
     "metadata": {},
     "output_type": "execute_result"
    }
   ],
   "source": [
    "dot_v=dot(v,v)"
   ]
  },
  {
   "cell_type": "code",
   "execution_count": 25,
   "metadata": {
    "deletable": false,
    "editable": false,
    "hide_input": true,
    "nbgrader": {
     "checksum": "b93dad361f66498eb2460d708f674220",
     "grade": true,
     "grade_id": "cell-913fef9b0d19cd52",
     "locked": true,
     "points": 1,
     "schema_version": 1,
     "solution": false
    }
   },
   "outputs": [
    {
     "ename": "AssertionError",
     "evalue": "AssertionError: dot_v == 14",
     "output_type": "error",
     "traceback": [
      "AssertionError: dot_v == 14",
      "",
      "Stacktrace:",
      " [1] top-level scope at In[25]:1"
     ]
    }
   ],
   "source": [
    "@assert dot_v == 14"
   ]
  },
  {
   "cell_type": "markdown",
   "metadata": {},
   "source": [
    "#### 11.2 \n",
    "Take the outer product of a vector v with itself and assign it to variable `cross_v`"
   ]
  },
  {
   "cell_type": "code",
   "execution_count": 26,
   "metadata": {},
   "outputs": [
    {
     "name": "stdout",
     "output_type": "stream",
     "text": [
      "search: \u001b[0m\u001b[1mc\u001b[22m\u001b[0m\u001b[1mr\u001b[22m\u001b[0m\u001b[1mo\u001b[22m\u001b[0m\u001b[1ms\u001b[22m\u001b[0m\u001b[1ms\u001b[22m \u001b[0m\u001b[1mc\u001b[22mount_ze\u001b[0m\u001b[1mr\u001b[22m\u001b[0m\u001b[1mo\u001b[22m\u001b[0m\u001b[1ms\u001b[22m \u001b[0m\u001b[1mc\u001b[22mopy_t\u001b[0m\u001b[1mr\u001b[22mansp\u001b[0m\u001b[1mo\u001b[22m\u001b[0m\u001b[1ms\u001b[22me!\n",
      "\n"
     ]
    },
    {
     "data": {
      "text/latex": [
       "\\begin{verbatim}\n",
       "cross(x, y)\n",
       "×(x,y)\n",
       "\\end{verbatim}\n",
       "Compute the cross product of two 3-vectors.\n",
       "\n",
       "\\section{Examples}\n",
       "\\begin{verbatim}\n",
       "julia> a = [0;1;0]\n",
       "3-element Array{Int64,1}:\n",
       " 0\n",
       " 1\n",
       " 0\n",
       "\n",
       "julia> b = [0;0;1]\n",
       "3-element Array{Int64,1}:\n",
       " 0\n",
       " 0\n",
       " 1\n",
       "\n",
       "julia> cross(a,b)\n",
       "3-element Array{Int64,1}:\n",
       " 1\n",
       " 0\n",
       " 0\n",
       "\\end{verbatim}\n"
      ],
      "text/markdown": [
       "```\n",
       "cross(x, y)\n",
       "×(x,y)\n",
       "```\n",
       "\n",
       "Compute the cross product of two 3-vectors.\n",
       "\n",
       "# Examples\n",
       "\n",
       "```jldoctest\n",
       "julia> a = [0;1;0]\n",
       "3-element Array{Int64,1}:\n",
       " 0\n",
       " 1\n",
       " 0\n",
       "\n",
       "julia> b = [0;0;1]\n",
       "3-element Array{Int64,1}:\n",
       " 0\n",
       " 0\n",
       " 1\n",
       "\n",
       "julia> cross(a,b)\n",
       "3-element Array{Int64,1}:\n",
       " 1\n",
       " 0\n",
       " 0\n",
       "```\n"
      ],
      "text/plain": [
       "\u001b[36m  cross(x, y)\u001b[39m\n",
       "\u001b[36m  ×(x,y)\u001b[39m\n",
       "\n",
       "  Compute the cross product of two 3-vectors.\n",
       "\n",
       "\u001b[1m  Examples\u001b[22m\n",
       "\u001b[1m  ≡≡≡≡≡≡≡≡≡≡\u001b[22m\n",
       "\n",
       "\u001b[36m  julia> a = [0;1;0]\u001b[39m\n",
       "\u001b[36m  3-element Array{Int64,1}:\u001b[39m\n",
       "\u001b[36m   0\u001b[39m\n",
       "\u001b[36m   1\u001b[39m\n",
       "\u001b[36m   0\u001b[39m\n",
       "\u001b[36m  \u001b[39m\n",
       "\u001b[36m  julia> b = [0;0;1]\u001b[39m\n",
       "\u001b[36m  3-element Array{Int64,1}:\u001b[39m\n",
       "\u001b[36m   0\u001b[39m\n",
       "\u001b[36m   0\u001b[39m\n",
       "\u001b[36m   1\u001b[39m\n",
       "\u001b[36m  \u001b[39m\n",
       "\u001b[36m  julia> cross(a,b)\u001b[39m\n",
       "\u001b[36m  3-element Array{Int64,1}:\u001b[39m\n",
       "\u001b[36m   1\u001b[39m\n",
       "\u001b[36m   0\u001b[39m\n",
       "\u001b[36m   0\u001b[39m"
      ]
     },
     "execution_count": 26,
     "metadata": {},
     "output_type": "execute_result"
    }
   ],
   "source": [
    "?cross"
   ]
  },
  {
   "cell_type": "code",
   "execution_count": 27,
   "metadata": {},
   "outputs": [
    {
     "data": {
      "text/plain": [
       "3-element Array{Float64,1}:\n",
       " 0.0\n",
       " 0.0\n",
       " 0.0"
      ]
     },
     "execution_count": 27,
     "metadata": {},
     "output_type": "execute_result"
    }
   ],
   "source": [
    "cross_v=cross(v,v)"
   ]
  },
  {
   "cell_type": "code",
   "execution_count": 28,
   "metadata": {
    "deletable": false,
    "editable": false,
    "hide_input": true,
    "nbgrader": {
     "checksum": "01642581e27c0ac19752cd90d11ac2ae",
     "grade": true,
     "grade_id": "cell-e6b6970ffe104df5",
     "locked": true,
     "points": 1,
     "schema_version": 1,
     "solution": false
    }
   },
   "outputs": [],
   "source": [
    "@assert cross_v == [0, 0, 0]"
   ]
  },
  {
   "cell_type": "markdown",
   "metadata": {},
   "source": [
    "Please execute the @assert cell once you are done with the exercises to validate your solution."
   ]
  }
 ],
 "metadata": {
  "@webio": {
   "lastCommId": null,
   "lastKernelId": null
  },
  "kernelspec": {
   "display_name": "Julia 1.4.2",
   "language": "julia",
   "name": "julia-1.4"
  },
  "language": "Julia",
  "language_info": {
   "file_extension": ".jl",
   "mimetype": "application/julia",
   "name": "julia",
   "version": "1.4.2"
  }
 },
 "nbformat": 4,
 "nbformat_minor": 1
}
