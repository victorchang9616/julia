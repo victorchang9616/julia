{
 "cells": [
  {
   "cell_type": "markdown",
   "metadata": {},
   "source": [
    "## Assignment 2\n",
    "1. Suppose you want to find the slope between two points (a, f(a)) and (b, f(b)) where f(x) = x^2+ 2x –7.\n",
    "Enter the one-line function f(x) = x^2+ 2x –7.\n",
    "Create a function g(a, b) that will find the slope between two points x = a and x = b on f(x).\n",
    "Use g to find the slope between x = 3 and x = 5\n",
    "Use g to find the slope between x = -2 and x = 7\n",
    "\n",
    "\n",
    "2. Write a function info(a, b) that takes a point (a, b) and returns three things about the segment from the origin to the point:\n",
    "Its slope\n",
    "Its midpoint\n",
    "Its length (distance)\n",
    "\n",
    "Include plot of the line generated. Output must be in the form “the slope from the origin is ___ ,” etc.\n",
    "Write at least one line of documentation, test your code, and submit your code as a digital plain-text file."
   ]
  },
  {
   "cell_type": "code",
   "execution_count": null,
   "metadata": {},
   "outputs": [],
   "source": []
  }
 ],
 "metadata": {
  "kernelspec": {
   "display_name": "Julia 1.4.2",
   "language": "julia",
   "name": "julia-1.4"
  },
  "language_info": {
   "file_extension": ".jl",
   "mimetype": "application/julia",
   "name": "julia",
   "version": "1.4.2"
  }
 },
 "nbformat": 4,
 "nbformat_minor": 2
}
