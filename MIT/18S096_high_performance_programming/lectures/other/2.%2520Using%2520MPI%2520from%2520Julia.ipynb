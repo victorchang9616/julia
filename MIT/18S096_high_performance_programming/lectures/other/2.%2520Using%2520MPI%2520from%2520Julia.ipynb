{
 "cells": [
  {
   "cell_type": "markdown",
   "metadata": {},
   "source": [
    "# JULIA MPI First Example: pi computaton"
   ]
  },
  {
   "cell_type": "markdown",
   "metadata": {},
   "source": [
    "First step was to load MPI on my mac.  Seems mpich and openmpi are two reasonable choices\n",
    "with probably no beginner's reason to prefer one over the other. <br>\n",
    "\n",
    "I did  <t> brew install gcc </t> first to get the gcc compiler.  I ran into problems.  \n",
    "The magic thing that told me what to do was <t> brew doctor </t>.  It wanted me to type\n",
    "<t> xcode-select --install </t> and when I did, all was good.  I then typed\n",
    "<t> brew install mpich </t> and mpi was just working."
   ]
  },
  {
   "cell_type": "markdown",
   "metadata": {},
   "source": [
    "My first example was to reproduce <a href=\"http://www.mcs.anl.gov/research/projects/mpi/tutorial/mpiexmpl/src/pi/C/solution.html\">\n",
    "the classic mypi </a> in the notebook"
   ]
  },
  {
   "cell_type": "code",
   "execution_count": 1,
   "metadata": {
    "collapsed": false
   },
   "outputs": [],
   "source": [
    "if !isdir(Pkg.dir(\"MPI\"))  Pkg.add(\"MPI\");   end"
   ]
  },
  {
   "cell_type": "code",
   "execution_count": 1,
   "metadata": {
    "collapsed": false
   },
   "outputs": [],
   "source": [
    "using MPI"
   ]
  },
  {
   "cell_type": "code",
   "execution_count": 46,
   "metadata": {
    "collapsed": false
   },
   "outputs": [
    {
     "data": {
      "text/plain": [
       "MPI.MPIManager(np=4,launched=false,mode=MPI_ON_WORKERS)"
      ]
     },
     "execution_count": 46,
     "metadata": {},
     "output_type": "execute_result"
    }
   ],
   "source": [
    "m = MPIManager(np=4)"
   ]
  },
  {
   "cell_type": "code",
   "execution_count": 47,
   "metadata": {
    "collapsed": false
   },
   "outputs": [
    {
     "data": {
      "text/plain": [
       "4-element Array{Int64,1}:\n",
       " 4\n",
       " 5\n",
       " 6\n",
       " 7"
      ]
     },
     "execution_count": 47,
     "metadata": {},
     "output_type": "execute_result"
    }
   ],
   "source": [
    "addprocs(m)\n",
    "#@mpi_do m comm = MPI.COMM_WORLD"
   ]
  },
  {
   "cell_type": "code",
   "execution_count": 48,
   "metadata": {
    "collapsed": false
   },
   "outputs": [],
   "source": [
    "@mpi_do m comm = MPI.COMM_WORLD\n",
    "#\n",
    "# Enter number of intervals, and tell every processor\n",
    "# Traditional MPI would do this with a BCAST\n",
    "@mpi_do m n = 45"
   ]
  },
  {
   "cell_type": "code",
   "execution_count": 49,
   "metadata": {
    "collapsed": false
   },
   "outputs": [
    {
     "name": "stdout",
     "output_type": "stream",
     "text": [
      "\tFrom worker 7:\t45\n",
      "\tFrom worker 6:\t45\n",
      "\tFrom worker 4:\t45\n",
      "\tFrom worker 5:\t45\n"
     ]
    }
   ],
   "source": [
    "# Let's see if the processors got it\n",
    "@mpi_do m println(n)"
   ]
  },
  {
   "cell_type": "code",
   "execution_count": 50,
   "metadata": {
    "collapsed": false
   },
   "outputs": [
    {
     "name": "stdout",
     "output_type": "stream",
     "text": [
      "\tFrom worker 5:\t1\n",
      "\tFrom worker 7:\t3\n",
      "\tFrom worker 4:\t0\n",
      "\tFrom worker 6:\t2\n"
     ]
    }
   ],
   "source": [
    "# my MPI id\n",
    "@mpi_do m myid = MPI.Comm_rank(comm)\n",
    "@mpi_do m println(myid)"
   ]
  },
  {
   "cell_type": "code",
   "execution_count": 51,
   "metadata": {
    "collapsed": false
   },
   "outputs": [
    {
     "name": "stdout",
     "output_type": "stream",
     "text": [
      "\tFrom worker 5:\t4\n",
      "\tFrom worker 4:\t4\n",
      "\tFrom worker 7:\t4\n",
      "\tFrom worker 6:\t4\n"
     ]
    }
   ],
   "source": [
    "# Get the number of processors\n",
    "@mpi_do m np = MPI.Comm_size(comm)\n",
    "@mpi_do m println(np)"
   ]
  },
  {
   "cell_type": "markdown",
   "metadata": {},
   "source": [
    "Compute $\\int_0^1 4/(1+x^2) dx= 4 atan(x)]_0^1$ which evaluates to $\\pi$"
   ]
  },
  {
   "cell_type": "code",
   "execution_count": 52,
   "metadata": {
    "collapsed": false
   },
   "outputs": [],
   "source": [
    "using Interact"
   ]
  },
  {
   "cell_type": "code",
   "execution_count": 53,
   "metadata": {
    "collapsed": false
   },
   "outputs": [
    {
     "name": "stdout",
     "output_type": "stream",
     "text": [
      "\tFrom worker 4:\t1.1146639167236572e-13\n",
      "  3.296955 seconds (3.24 k allocations: 137.479 KB)\n"
     ]
    }
   ],
   "source": [
    "@time @mpi_do m begin\n",
    "    n = 50_000_000\n",
    "    comm = MPI.COMM_WORLD\n",
    "    s = 0.0\n",
    "    for i = MPI.Comm_rank(comm) + 1 : MPI.Comm_size(comm) : n \n",
    "        x = (i - .5)/n \n",
    "        s += 4/(1 + x^2) \n",
    "    end\n",
    "    mypi = s/n\n",
    "    our_π = MPI.Reduce(mypi, MPI.SUM, 0, comm)\n",
    "    if myid==0\n",
    "        println(our_π - π) \n",
    "    end\n",
    "end"
   ]
  },
  {
   "cell_type": "code",
   "execution_count": 55,
   "metadata": {
    "collapsed": false
   },
   "outputs": [
    {
     "data": {
      "text/plain": [
       "(3.1415926535899046,π = 3.1415926535897...)"
      ]
     },
     "execution_count": 55,
     "metadata": {},
     "output_type": "execute_result"
    }
   ],
   "source": [
    "@fetchfrom 4 our_π, π"
   ]
  },
  {
   "cell_type": "code",
   "execution_count": 56,
   "metadata": {
    "collapsed": false
   },
   "outputs": [
    {
     "name": "stderr",
     "output_type": "stream",
     "text": [
      "WARNING: Method definition f_serial() in module Main at In[42]:2 overwritten at In[56]:2.\n",
      "WARNING: Method definition f_serial2(Any) in module Main at In[42]:12 overwritten at In[56]:12.\n"
     ]
    },
    {
     "data": {
      "text/plain": [
       "f_serial2 (generic function with 2 methods)"
      ]
     },
     "execution_count": 56,
     "metadata": {},
     "output_type": "execute_result"
    }
   ],
   "source": [
    "function f_serial()\n",
    "    n = 50_000_000\n",
    "    h = 1/n\n",
    "    our_π = 0.0\n",
    "    for i = 0:h:1\n",
    "        our_π += 4/(1 + i^2)\n",
    "    end\n",
    "    our_π*h\n",
    "end\n",
    "\n",
    "function f_serial2(n)\n",
    "    our_π = 0.0\n",
    "    for i = 1:n\n",
    "        x = (i - 0.5)/n\n",
    "        our_π += 4/(1 + x^2)\n",
    "    end\n",
    "    our_π/n\n",
    "end"
   ]
  },
  {
   "cell_type": "code",
   "execution_count": 66,
   "metadata": {
    "collapsed": false
   },
   "outputs": [
    {
     "name": "stdout",
     "output_type": "stream",
     "text": [
      "  0.321482 seconds (5 allocations: 176 bytes)\n",
      "  0.408122 seconds (5 allocations: 176 bytes)\n"
     ]
    },
    {
     "data": {
      "text/plain": [
       "3.1415926535895617"
      ]
     },
     "execution_count": 66,
     "metadata": {},
     "output_type": "execute_result"
    }
   ],
   "source": [
    "f_serial() #warmup\n",
    "@time f_serial()\n",
    "f_serial2(50_000_000) #warmup\n",
    "@time f_serial2(50_000_000)"
   ]
  },
  {
   "cell_type": "code",
   "execution_count": 60,
   "metadata": {
    "collapsed": false
   },
   "outputs": [
    {
     "name": "stdout",
     "output_type": "stream",
     "text": [
      "  0.467089 seconds (819 allocations: 59.922 KB)\n"
     ]
    },
    {
     "data": {
      "text/plain": [
       "3.141592653589621"
      ]
     },
     "execution_count": 60,
     "metadata": {},
     "output_type": "execute_result"
    }
   ],
   "source": [
    "@time f_par(50_000_000)"
   ]
  },
  {
   "cell_type": "code",
   "execution_count": 61,
   "metadata": {
    "collapsed": false
   },
   "outputs": [
    {
     "name": "stderr",
     "output_type": "stream",
     "text": [
      "WARNING: Method definition f_par(Any) in module Main at In[19]:3 overwritten at In[61]:3.\n"
     ]
    },
    {
     "data": {
      "text/plain": [
       "f_par (generic function with 1 method)"
      ]
     },
     "execution_count": 61,
     "metadata": {},
     "output_type": "execute_result"
    }
   ],
   "source": [
    "function f_par(n)\n",
    "\n",
    " @mpi_do m begin\n",
    "    comm = MPI.COMM_WORLD\n",
    "        \n",
    "       \n",
    "    s = 0.0\n",
    "    for i = MPI.Comm_rank(comm) + 1 : MPI.Comm_size(comm) : $n \n",
    "        x = (i - .5)/$n \n",
    "        s += 4/(1 + x^2) \n",
    "    end\n",
    "    mypi = s/$n\n",
    "    our_π = MPI.Reduce(mypi, MPI.SUM, 0, comm)\n",
    "    #if myid==0\n",
    "     #   println(our_π - π) \n",
    "   # end\n",
    "end\n",
    "@fetchfrom 2 our_π   \n",
    "end"
   ]
  },
  {
   "cell_type": "code",
   "execution_count": 65,
   "metadata": {
    "collapsed": false
   },
   "outputs": [
    {
     "name": "stdout",
     "output_type": "stream",
     "text": [
      "\tFrom worker 5:\tWARNING: Method definition _pi_sum_par(Any) in module Main at In[64]:2 overwritten at In[65]:2.\n",
      "\tFrom worker 7:\tWARNING: Method definition _pi_sum_par(Any) in module Main at In[64]:2 overwritten at In[65]:2.\n",
      "\tFrom worker 6:\tWARNING: Method definition _pi_sum_par(Any) in module Main at In[64]:2 overwritten at In[65]:2.\n",
      "\tFrom worker 4:\tWARNING: Method definition _pi_sum_par(Any) in module Main at In[64]:2 overwritten at In[65]:2.\n"
     ]
    },
    {
     "name": "stderr",
     "output_type": "stream",
     "text": [
      "WARNING: Method definition f_par2(Any) in module Main at In[64]:14 overwritten at In[65]:14.\n"
     ]
    },
    {
     "name": "stdout",
     "output_type": "stream",
     "text": [
      "  0.411546 seconds (730 allocations: 53.656 KB)\n",
      "  0.107494 seconds (725 allocations: 53.297 KB)\n"
     ]
    },
    {
     "data": {
      "text/plain": [
       "3.141592653589621"
      ]
     },
     "execution_count": 65,
     "metadata": {},
     "output_type": "execute_result"
    }
   ],
   "source": [
    "@mpi_do m function _pi_sum_par(n)\n",
    "    comm = MPI.COMM_WORLD\n",
    "\n",
    "    s = 0.0\n",
    "    for i = MPI.Comm_rank(comm) + 1 : MPI.Comm_size(comm) : n\n",
    "        x = (i - .5)/n \n",
    "        s += 4/(1 + x^2) \n",
    "    end\n",
    "    mypi = s/n\n",
    "    our_π = MPI.Reduce(mypi, MPI.SUM, 0, comm)\n",
    "    return our_π\n",
    "end\n",
    "function f_par2(n)\n",
    "    @mpi_do m _pi_sum_par($n)\n",
    "    @fetchfrom 2 our_π\n",
    "end\n",
    "f_par(50_000_000) #warmup\n",
    "@time f_par(50_000_000)\n",
    "f_par2(50_000_000) #warmup\n",
    "@time f_par2(50_000_000)"
   ]
  },
  {
   "cell_type": "code",
   "execution_count": 13,
   "metadata": {
    "collapsed": false
   },
   "outputs": [
    {
     "data": {
      "text/plain": [
       "9.739973446667229e7"
      ]
     },
     "execution_count": 13,
     "metadata": {},
     "output_type": "execute_result"
    }
   ],
   "source": [
    "f(100)"
   ]
  },
  {
   "cell_type": "code",
   "execution_count": 14,
   "metadata": {
    "collapsed": false
   },
   "outputs": [
    {
     "data": {
      "text/plain": [
       "9.739973446667229e7"
      ]
     },
     "execution_count": 14,
     "metadata": {},
     "output_type": "execute_result"
    }
   ],
   "source": [
    "f(1000)"
   ]
  },
  {
   "cell_type": "code",
   "execution_count": 15,
   "metadata": {
    "collapsed": false
   },
   "outputs": [
    {
     "data": {
      "text/plain": [
       "9.739973446667229e7"
      ]
     },
     "execution_count": 15,
     "metadata": {},
     "output_type": "execute_result"
    }
   ],
   "source": [
    "f(10000)"
   ]
  },
  {
   "cell_type": "code",
   "execution_count": null,
   "metadata": {
    "collapsed": false
   },
   "outputs": [
    {
     "data": {
      "text/html": [],
      "text/plain": [
       "Interact.Options{:SelectionSlider,Int64}(Signal{Int64}(6, nactions=1),\"k\",6,\"6\",Interact.OptionDict(DataStructures.OrderedDict(\"3\"=>3,\"4\"=>4,\"5\"=>5,\"6\"=>6,\"7\"=>7,\"8\"=>8,\"9\"=>9,\"10\"=>10),Dict(7=>\"7\",4=>\"4\",9=>\"9\",10=>\"10\",3=>\"3\",5=>\"5\",8=>\"8\",6=>\"6\")),Any[],Any[],true,\"horizontal\")"
      ]
     },
     "metadata": {},
     "output_type": "display_data"
    },
    {
     "data": {
      "text/plain": [
       "9.739973446667229e7"
      ]
     },
     "execution_count": 16,
     "metadata": {
      "comm_id": "2a44a918-ab29-4fc5-8cf4-72fe207ca5bc",
      "reactive": true
     },
     "output_type": "execute_result"
    }
   ],
   "source": [
    "@manipulate for k=(3:10)\n",
    "    f(10^k)\n",
    "end"
   ]
  },
  {
   "cell_type": "code",
   "execution_count": 32,
   "metadata": {
    "collapsed": false
   },
   "outputs": [
    {
     "data": {
      "text/plain": [
       "π = 3.1415926535897..."
      ]
     },
     "execution_count": 32,
     "metadata": {},
     "output_type": "execute_result"
    }
   ],
   "source": [
    "π"
   ]
  },
  {
   "cell_type": "code",
   "execution_count": 16,
   "metadata": {
    "collapsed": false
   },
   "outputs": [
    {
     "data": {
      "text/plain": [
       "7-element Array{Float64,1}:\n",
       " 8.33333e-8 \n",
       " 8.33339e-10\n",
       " 8.30847e-12\n",
       " 1.45661e-13\n",
       " 1.91847e-13\n",
       " 2.2915e-13 \n",
       " 2.14051e-13"
      ]
     },
     "execution_count": 16,
     "metadata": {},
     "output_type": "execute_result"
    }
   ],
   "source": [
    "[f_par(10^k) for k=3:9]-π"
   ]
  },
  {
   "cell_type": "code",
   "execution_count": 45,
   "metadata": {
    "collapsed": false
   },
   "outputs": [
    {
     "data": {
      "text/plain": [
       ":ok"
      ]
     },
     "execution_count": 45,
     "metadata": {},
     "output_type": "execute_result"
    }
   ],
   "source": [
    "rmprocs(m)"
   ]
  },
  {
   "cell_type": "code",
   "execution_count": null,
   "metadata": {
    "collapsed": true
   },
   "outputs": [],
   "source": []
  }
 ],
 "metadata": {
  "anaconda-cloud": {},
  "kernelspec": {
   "display_name": "Julia 0.5.0",
   "language": "julia",
   "name": "julia-0.5"
  },
  "language_info": {
   "file_extension": ".jl",
   "mimetype": "application/julia",
   "name": "julia",
   "version": "0.5.0"
  }
 },
 "nbformat": 4,
 "nbformat_minor": 0
}
