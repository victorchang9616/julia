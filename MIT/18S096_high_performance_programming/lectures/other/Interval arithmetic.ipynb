{
 "cells": [
  {
   "cell_type": "code",
   "execution_count": 1,
   "metadata": {
    "collapsed": true
   },
   "outputs": [],
   "source": [
    "immutable Interval{T}\n",
    "    lo::T\n",
    "    hi::T\n",
    "end"
   ]
  },
  {
   "cell_type": "code",
   "execution_count": 3,
   "metadata": {
    "collapsed": false
   },
   "outputs": [
    {
     "data": {
      "text/plain": [
       "Interval{Float64}(0.1,0.5)"
      ]
     },
     "execution_count": 3,
     "metadata": {},
     "output_type": "execute_result"
    }
   ],
   "source": [
    "a = Interval(0.0, 0.1)\n",
    "b = Interval(0.1, 0.5)"
   ]
  },
  {
   "cell_type": "code",
   "execution_count": 19,
   "metadata": {
    "collapsed": true
   },
   "outputs": [],
   "source": [
    "import Base: +, *, -"
   ]
  },
  {
   "cell_type": "code",
   "execution_count": 23,
   "metadata": {
    "collapsed": false
   },
   "outputs": [
    {
     "name": "stderr",
     "output_type": "stream",
     "text": [
      "WARNING: Method definition +(Main.Interval, Main.Interval) in module Main at In[20]:1 overwritten at In[23]:1.\n",
      "WARNING: Method definition -(Main.Interval, Main.Interval) in module Main at In[20]:2 overwritten at In[23]:2.\n"
     ]
    },
    {
     "data": {
      "text/plain": [
       "- (generic function with 191 methods)"
      ]
     },
     "execution_count": 23,
     "metadata": {},
     "output_type": "execute_result"
    }
   ],
   "source": [
    "+(a::Interval, b::Interval) = Interval(a.lo+b.lo, a.hi+b.hi)\n",
    "-(a::Interval, b::Interval) = Interval(a.lo-b.hi, a.hi-b.lo)"
   ]
  },
  {
   "cell_type": "code",
   "execution_count": 12,
   "metadata": {
    "collapsed": false
   },
   "outputs": [
    {
     "data": {
      "text/plain": [
       "Interval{Float64}(0.1,0.6)"
      ]
     },
     "execution_count": 12,
     "metadata": {},
     "output_type": "execute_result"
    }
   ],
   "source": [
    "a + b"
   ]
  },
  {
   "cell_type": "code",
   "execution_count": 13,
   "metadata": {
    "collapsed": false
   },
   "outputs": [
    {
     "data": {
      "text/plain": [
       "* (generic function with 150 methods)"
      ]
     },
     "execution_count": 13,
     "metadata": {},
     "output_type": "execute_result"
    }
   ],
   "source": [
    "*(a::Interval, b::Interval) = Interval(\n",
    "min(a.lo*b.lo, a.lo*b.hi, a.hi*b.lo, a.hi*b.hi),\n",
    "max(a.lo*b.lo, a.lo*b.hi, a.hi*b.lo, a.hi*b.hi)\n",
    ")"
   ]
  },
  {
   "cell_type": "code",
   "execution_count": 14,
   "metadata": {
    "collapsed": false
   },
   "outputs": [
    {
     "data": {
      "text/plain": [
       "Interval{Float64}(0.0,0.05)"
      ]
     },
     "execution_count": 14,
     "metadata": {},
     "output_type": "execute_result"
    }
   ],
   "source": [
    "a * b"
   ]
  },
  {
   "cell_type": "code",
   "execution_count": 15,
   "metadata": {
    "collapsed": false
   },
   "outputs": [
    {
     "data": {
      "text/plain": [
       "* (generic function with 151 methods)"
      ]
     },
     "execution_count": 15,
     "metadata": {},
     "output_type": "execute_result"
    }
   ],
   "source": [
    "*(x::Real, a::Interval) = Interval(x*a.lo, x*a.hi)"
   ]
  },
  {
   "cell_type": "code",
   "execution_count": 24,
   "metadata": {
    "collapsed": false
   },
   "outputs": [
    {
     "name": "stderr",
     "output_type": "stream",
     "text": [
      "WARNING: Method definition f(Any) in module Main at In[21]:1 overwritten at In[24]:1.\n"
     ]
    },
    {
     "data": {
      "text/plain": [
       "f (generic function with 1 method)"
      ]
     },
     "execution_count": 24,
     "metadata": {},
     "output_type": "execute_result"
    }
   ],
   "source": [
    "f(x) = x^2 - 2x"
   ]
  },
  {
   "cell_type": "code",
   "execution_count": 25,
   "metadata": {
    "collapsed": false
   },
   "outputs": [
    {
     "data": {
      "text/plain": [
       "Interval{Float64}(-0.2,0.010000000000000002)"
      ]
     },
     "execution_count": 25,
     "metadata": {},
     "output_type": "execute_result"
    }
   ],
   "source": [
    "f(a) # contains f(x) for all x in a"
   ]
  },
  {
   "cell_type": "code",
   "execution_count": 28,
   "metadata": {
    "collapsed": true
   },
   "outputs": [],
   "source": [
    "workspace()"
   ]
  },
  {
   "cell_type": "code",
   "execution_count": 29,
   "metadata": {
    "collapsed": false
   },
   "outputs": [
    {
     "name": "stderr",
     "output_type": "stream",
     "text": [
      "WARNING: Method definition take!(Main.Base.AbstractIOBuffer) in module Compat at /Users/dpsanders/.julia/v0.5/Compat/src/Compat.jl:1698 overwritten in module Compat at /Users/dpsanders/.julia/v0.5/Compat/src/Compat.jl:1698.\n",
      "WARNING: Method definition redirect_stdin(Function, Any) in module Compat at /Users/dpsanders/.julia/v0.5/Compat/src/Compat.jl:1600 overwritten in module Compat at /Users/dpsanders/.julia/v0.5/Compat/src/Compat.jl:1600.\n",
      "WARNING: Method definition isnull(Any) in module Compat at /Users/dpsanders/.julia/v0.5/Compat/src/Compat.jl:1678 overwritten in module Compat at /Users/dpsanders/.julia/v0.5/Compat/src/Compat.jl:1678.\n",
      "WARNING: Method definition redirect_stderr(Function, Any) in module Compat at /Users/dpsanders/.julia/v0.5/Compat/src/Compat.jl:1600 overwritten in module Compat at /Users/dpsanders/.julia/v0.5/Compat/src/Compat.jl:1600.\n",
      "WARNING: Method definition redirect_stdout(Function, Any) in module Compat at /Users/dpsanders/.julia/v0.5/Compat/src/Compat.jl:1600 overwritten in module Compat at /Users/dpsanders/.julia/v0.5/Compat/src/Compat.jl:1600.\n",
      "WARNING: Method definition convert(Type{Tuple{Vararg{T<:Any, #N<:Any}}}, Real) in module FixedSizeArrays at /Users/dpsanders/.julia/v0.5/FixedSizeArrays/src/conversion.jl:18 overwritten in module FixedSizeArrays at /Users/dpsanders/.julia/v0.5/FixedSizeArrays/src/conversion.jl:18.\n",
      "WARNING: Method definition ctranspose(Function) in module Calculus at /Users/dpsanders/.julia/v0.5/Calculus/src/derivative.jl:26 overwritten in module Calculus at /Users/dpsanders/.julia/v0.5/Calculus/src/derivative.jl:26.\n",
      "WARNING: Method definition gradient(Function) in module Calculus at /Users/dpsanders/.julia/v0.5/Calculus/src/derivative.jl:22 overwritten in module Calculus at /Users/dpsanders/.julia/v0.5/Calculus/src/derivative.jl:22.\n",
      "WARNING: Method definition gradient(Function, Union{#T<:Number, Array{#T<:Number, 1}}) in module Calculus at /Users/dpsanders/.julia/v0.5/Calculus/src/derivative.jl:17 overwritten in module Calculus at /Users/dpsanders/.julia/v0.5/Calculus/src/derivative.jl:17.\n",
      "WARNING: Method definition gradient(Function, Union{Array{#T<:Number, 1}, #T<:Number}, Symbol) in module Calculus at /Users/dpsanders/.julia/v0.5/Calculus/src/derivative.jl:17 overwritten in module Calculus at /Users/dpsanders/.julia/v0.5/Calculus/src/derivative.jl:17.\n",
      "WARNING: Method definition gradient(Function, Symbol) in module Calculus at /Users/dpsanders/.julia/v0.5/Calculus/src/derivative.jl:22 overwritten in module Calculus at /Users/dpsanders/.julia/v0.5/Calculus/src/derivative.jl:22.\n",
      "WARNING: Method definition cosh(Float64, Main.Base.Rounding.RoundingMode{:ToZero}) in module CRlibm at /Users/dpsanders/.julia/v0.5/CRlibm/src/CRlibm.jl:74 overwritten in module CRlibm at /Users/dpsanders/.julia/v0.5/CRlibm/src/CRlibm.jl:74.\n",
      "WARNING: Method definition cosh(Float64, Main.Base.Rounding.RoundingMode{:Down}) in module CRlibm at /Users/dpsanders/.julia/v0.5/CRlibm/src/CRlibm.jl:74 overwritten in module CRlibm at /Users/dpsanders/.julia/v0.5/CRlibm/src/CRlibm.jl:74.\n",
      "WARNING: Method definition cosh(Float64, Main.Base.Rounding.RoundingMode{:Up}) in module CRlibm at /Users/dpsanders/.julia/v0.5/CRlibm/src/CRlibm.jl:74 overwritten in module CRlibm at /Users/dpsanders/.julia/v0.5/CRlibm/src/CRlibm.jl:74.\n",
      "WARNING: Method definition cosh(Float64, Main.Base.Rounding.RoundingMode{:Nearest}) in module CRlibm at /Users/dpsanders/.julia/v0.5/CRlibm/src/CRlibm.jl:74 overwritten in module CRlibm at /Users/dpsanders/.julia/v0.5/CRlibm/src/CRlibm.jl:74.\n",
      "WARNING: Method definition cosh(Main.Base.MPFR.BigFloat, Main.Base.Rounding.RoundingMode{:ToZero}) in module CRlibm at /Users/dpsanders/.julia/v0.5/CRlibm/src/CRlibm.jl:46 overwritten in module CRlibm at /Users/dpsanders/.julia/v0.5/CRlibm/src/CRlibm.jl:46.\n",
      "WARNING: Method definition cosh(Main.Base.MPFR.BigFloat, Main.Base.Rounding.RoundingMode{:Down}) in module CRlibm at /Users/dpsanders/.julia/v0.5/CRlibm/src/CRlibm.jl:46 overwritten in module CRlibm at /Users/dpsanders/.julia/v0.5/CRlibm/src/CRlibm.jl:46.\n",
      "WARNING: Method definition cosh(Main.Base.MPFR.BigFloat, Main.Base.Rounding.RoundingMode{:Up}) in module CRlibm at /Users/dpsanders/.julia/v0.5/CRlibm/src/CRlibm.jl:46 overwritten in module CRlibm at /Users/dpsanders/.julia/v0.5/CRlibm/src/CRlibm.jl:46.\n",
      "WARNING: Method definition cosh(Main.Base.MPFR.BigFloat, Main.Base.Rounding.RoundingMode{:Nearest}) in module CRlibm at /Users/dpsanders/.julia/v0.5/CRlibm/src/CRlibm.jl:46 overwritten in module CRlibm at /Users/dpsanders/.julia/v0.5/CRlibm/src/CRlibm.jl:46.\n",
      "WARNING: Method definition cosh(Real, Main.Base.Rounding.RoundingMode) in module CRlibm at /Users/dpsanders/.julia/v0.5/CRlibm/src/CRlibm.jl:116 overwritten in module CRlibm at /Users/dpsanders/.julia/v0.5/CRlibm/src/CRlibm.jl:116.\n",
      "WARNING: Method definition sinh(Float64, Main.Base.Rounding.RoundingMode{:ToZero}) in module CRlibm at /Users/dpsanders/.julia/v0.5/CRlibm/src/CRlibm.jl:74 overwritten in module CRlibm at /Users/dpsanders/.julia/v0.5/CRlibm/src/CRlibm.jl:74.\n",
      "WARNING: Method definition sinh(Float64, Main.Base.Rounding.RoundingMode{:Down}) in module CRlibm at /Users/dpsanders/.julia/v0.5/CRlibm/src/CRlibm.jl:74 overwritten in module CRlibm at /Users/dpsanders/.julia/v0.5/CRlibm/src/CRlibm.jl:74.\n",
      "WARNING: Method definition sinh(Float64, Main.Base.Rounding.RoundingMode{:Up}) in module CRlibm at /Users/dpsanders/.julia/v0.5/CRlibm/src/CRlibm.jl:74 overwritten in module CRlibm at /Users/dpsanders/.julia/v0.5/CRlibm/src/CRlibm.jl:74.\n",
      "WARNING: Method definition sinh(Float64, Main.Base.Rounding.RoundingMode{:Nearest}) in module CRlibm at /Users/dpsanders/.julia/v0.5/CRlibm/src/CRlibm.jl:74 overwritten in module CRlibm at /Users/dpsanders/.julia/v0.5/CRlibm/src/CRlibm.jl:74.\n",
      "WARNING: Method definition sinh(Main.Base.MPFR.BigFloat, Main.Base.Rounding.RoundingMode{:ToZero}) in module CRlibm at /Users/dpsanders/.julia/v0.5/CRlibm/src/CRlibm.jl:46 overwritten in module CRlibm at /Users/dpsanders/.julia/v0.5/CRlibm/src/CRlibm.jl:46.\n",
      "WARNING: Method definition sinh(Main.Base.MPFR.BigFloat, Main.Base.Rounding.RoundingMode{:Down}) in module CRlibm at /Users/dpsanders/.julia/v0.5/CRlibm/src/CRlibm.jl:46 overwritten in module CRlibm at /Users/dpsanders/.julia/v0.5/CRlibm/src/CRlibm.jl:46.\n",
      "WARNING: Method definition sinh(Main.Base.MPFR.BigFloat, Main.Base.Rounding.RoundingMode{:Up}) in module CRlibm at /Users/dpsanders/.julia/v0.5/CRlibm/src/CRlibm.jl:46 overwritten in module CRlibm at /Users/dpsanders/.julia/v0.5/CRlibm/src/CRlibm.jl:46.\n",
      "WARNING: Method definition sinh(Main.Base.MPFR.BigFloat, Main.Base.Rounding.RoundingMode{:Nearest}) in module CRlibm at /Users/dpsanders/.julia/v0.5/CRlibm/src/CRlibm.jl:46 overwritten in module CRlibm at /Users/dpsanders/.julia/v0.5/CRlibm/src/CRlibm.jl:46.\n",
      "WARNING: Method definition sinh(Real, Main.Base.Rounding.RoundingMode) in module CRlibm at /Users/dpsanders/.julia/v0.5/CRlibm/src/CRlibm.jl:116 overwritten in module CRlibm at /Users/dpsanders/.julia/v0.5/CRlibm/src/CRlibm.jl:116.\n",
      "WARNING: Method definition tan(Float64, Main.Base.Rounding.RoundingMode{:ToZero}) in module CRlibm at /Users/dpsanders/.julia/v0.5/CRlibm/src/CRlibm.jl:74 overwritten in module CRlibm at /Users/dpsanders/.julia/v0.5/CRlibm/src/CRlibm.jl:74.\n",
      "WARNING: Method definition tan(Float64, Main.Base.Rounding.RoundingMode{:Down}) in module CRlibm at /Users/dpsanders/.julia/v0.5/CRlibm/src/CRlibm.jl:74 overwritten in module CRlibm at /Users/dpsanders/.julia/v0.5/CRlibm/src/CRlibm.jl:74.\n",
      "WARNING: Method definition tan(Float64, Main.Base.Rounding.RoundingMode{:Up}) in module CRlibm at /Users/dpsanders/.julia/v0.5/CRlibm/src/CRlibm.jl:74 overwritten in module CRlibm at /Users/dpsanders/.julia/v0.5/CRlibm/src/CRlibm.jl:74.\n",
      "WARNING: Method definition tan(Float64, Main.Base.Rounding.RoundingMode{:Nearest}) in module CRlibm at /Users/dpsanders/.julia/v0.5/CRlibm/src/CRlibm.jl:74 overwritten in module CRlibm at /Users/dpsanders/.julia/v0.5/CRlibm/src/CRlibm.jl:74.\n",
      "WARNING: Method definition tan(Main.Base.MPFR.BigFloat, Main.Base.Rounding.RoundingMode{:ToZero}) in module CRlibm at /Users/dpsanders/.julia/v0.5/CRlibm/src/CRlibm.jl:46 overwritten in module CRlibm at /Users/dpsanders/.julia/v0.5/CRlibm/src/CRlibm.jl:46.\n",
      "WARNING: Method definition tan(Main.Base.MPFR.BigFloat, Main.Base.Rounding.RoundingMode{:Down}) in module CRlibm at /Users/dpsanders/.julia/v0.5/CRlibm/src/CRlibm.jl:46 overwritten in module CRlibm at /Users/dpsanders/.julia/v0.5/CRlibm/src/CRlibm.jl:46.\n",
      "WARNING: Method definition tan(Main.Base.MPFR.BigFloat, Main.Base.Rounding.RoundingMode{:Up}) in module CRlibm at /Users/dpsanders/.julia/v0.5/CRlibm/src/CRlibm.jl:46 overwritten in module CRlibm at /Users/dpsanders/.julia/v0.5/CRlibm/src/CRlibm.jl:46.\n",
      "WARNING: Method definition tan(Main.Base.MPFR.BigFloat, Main.Base.Rounding.RoundingMode{:Nearest}) in module CRlibm at /Users/dpsanders/.julia/v0.5/CRlibm/src/CRlibm.jl:46 overwritten in module CRlibm at /Users/dpsanders/.julia/v0.5/CRlibm/src/CRlibm.jl:46.\n",
      "WARNING: Method definition tan(Real, Main.Base.Rounding.RoundingMode) in module CRlibm at /Users/dpsanders/.julia/v0.5/CRlibm/src/CRlibm.jl:116 overwritten in module CRlibm at /Users/dpsanders/.julia/v0.5/CRlibm/src/CRlibm.jl:116.\n",
      "WARNING: Method definition asin(Float64, Main.Base.Rounding.RoundingMode{:ToZero}) in module CRlibm at /Users/dpsanders/.julia/v0.5/CRlibm/src/CRlibm.jl:74 overwritten in module CRlibm at /Users/dpsanders/.julia/v0.5/CRlibm/src/CRlibm.jl:74.\n",
      "WARNING: Method definition asin(Float64, Main.Base.Rounding.RoundingMode{:Down}) in module CRlibm at /Users/dpsanders/.julia/v0.5/CRlibm/src/CRlibm.jl:74 overwritten in module CRlibm at /Users/dpsanders/.julia/v0.5/CRlibm/src/CRlibm.jl:74.\n",
      "WARNING: Method definition asin(Float64, Main.Base.Rounding.RoundingMode{:Up}) in module CRlibm at /Users/dpsanders/.julia/v0.5/CRlibm/src/CRlibm.jl:74 overwritten in module CRlibm at /Users/dpsanders/.julia/v0.5/CRlibm/src/CRlibm.jl:74.\n",
      "WARNING: Method definition asin(Float64, Main.Base.Rounding.RoundingMode{:Nearest}) in module CRlibm at /Users/dpsanders/.julia/v0.5/CRlibm/src/CRlibm.jl:74 overwritten in module CRlibm at /Users/dpsanders/.julia/v0.5/CRlibm/src/CRlibm.jl:74.\n",
      "WARNING: Method definition asin(Main.Base.MPFR.BigFloat, Main.Base.Rounding.RoundingMode{:ToZero}) in module CRlibm at /Users/dpsanders/.julia/v0.5/CRlibm/src/CRlibm.jl:46 overwritten in module CRlibm at /Users/dpsanders/.julia/v0.5/CRlibm/src/CRlibm.jl:46.\n",
      "WARNING: Method definition asin(Main.Base.MPFR.BigFloat, Main.Base.Rounding.RoundingMode{:Down}) in module CRlibm at /Users/dpsanders/.julia/v0.5/CRlibm/src/CRlibm.jl:46 overwritten in module CRlibm at /Users/dpsanders/.julia/v0.5/CRlibm/src/CRlibm.jl:46.\n",
      "WARNING: Method definition asin(Main.Base.MPFR.BigFloat, Main.Base.Rounding.RoundingMode{:Up}) in module CRlibm at /Users/dpsanders/.julia/v0.5/CRlibm/src/CRlibm.jl:46 overwritten in module CRlibm at /Users/dpsanders/.julia/v0.5/CRlibm/src/CRlibm.jl:46.\n",
      "WARNING: Method definition asin(Main.Base.MPFR.BigFloat, Main.Base.Rounding.RoundingMode{:Nearest}) in module CRlibm at /Users/dpsanders/.julia/v0.5/CRlibm/src/CRlibm.jl:46 overwritten in module CRlibm at /Users/dpsanders/.julia/v0.5/CRlibm/src/CRlibm.jl:46.\n",
      "WARNING: Method definition asin(Real, Main.Base.Rounding.RoundingMode) in module CRlibm at /Users/dpsanders/.julia/v0.5/CRlibm/src/CRlibm.jl:116 overwritten in module CRlibm at /Users/dpsanders/.julia/v0.5/CRlibm/src/CRlibm.jl:116.\n",
      "WARNING: Method definition acos(Float64, Main.Base.Rounding.RoundingMode{:ToZero}) in module CRlibm at /Users/dpsanders/.julia/v0.5/CRlibm/src/CRlibm.jl:74 overwritten in module CRlibm at /Users/dpsanders/.julia/v0.5/CRlibm/src/CRlibm.jl:74.\n",
      "WARNING: Method definition acos(Float64, Main.Base.Rounding.RoundingMode{:Down}) in module CRlibm at /Users/dpsanders/.julia/v0.5/CRlibm/src/CRlibm.jl:74 overwritten in module CRlibm at /Users/dpsanders/.julia/v0.5/CRlibm/src/CRlibm.jl:74.\n",
      "WARNING: Method definition acos(Float64, Main.Base.Rounding.RoundingMode{:Up}) in module CRlibm at /Users/dpsanders/.julia/v0.5/CRlibm/src/CRlibm.jl:74 overwritten in module CRlibm at /Users/dpsanders/.julia/v0.5/CRlibm/src/CRlibm.jl:74.\n",
      "WARNING: Method definition acos(Float64, Main.Base.Rounding.RoundingMode{:Nearest}) in module CRlibm at /Users/dpsanders/.julia/v0.5/CRlibm/src/CRlibm.jl:74 overwritten in module CRlibm at /Users/dpsanders/.julia/v0.5/CRlibm/src/CRlibm.jl:74.\n",
      "WARNING: Method definition acos(Main.Base.MPFR.BigFloat, Main.Base.Rounding.RoundingMode{:ToZero}) in module CRlibm at /Users/dpsanders/.julia/v0.5/CRlibm/src/CRlibm.jl:46 overwritten in module CRlibm at /Users/dpsanders/.julia/v0.5/CRlibm/src/CRlibm.jl:46.\n",
      "WARNING: Method definition acos(Main.Base.MPFR.BigFloat, Main.Base.Rounding.RoundingMode{:Down}) in module CRlibm at /Users/dpsanders/.julia/v0.5/CRlibm/src/CRlibm.jl:46 overwritten in module CRlibm at /Users/dpsanders/.julia/v0.5/CRlibm/src/CRlibm.jl:46.\n",
      "WARNING: Method definition acos(Main.Base.MPFR.BigFloat, Main.Base.Rounding.RoundingMode{:Up}) in module CRlibm at /Users/dpsanders/.julia/v0.5/CRlibm/src/CRlibm.jl:46 overwritten in module CRlibm at /Users/dpsanders/.julia/v0.5/CRlibm/src/CRlibm.jl:46.\n",
      "WARNING: Method definition acos(Main.Base.MPFR.BigFloat, Main.Base.Rounding.RoundingMode{:Nearest}) in module CRlibm at /Users/dpsanders/.julia/v0.5/CRlibm/src/CRlibm.jl:46 overwritten in module CRlibm at /Users/dpsanders/.julia/v0.5/CRlibm/src/CRlibm.jl:46.\n",
      "WARNING: Method definition acos(Real, Main.Base.Rounding.RoundingMode) in module CRlibm at /Users/dpsanders/.julia/v0.5/CRlibm/src/CRlibm.jl:116 overwritten in module CRlibm at /Users/dpsanders/.julia/v0.5/CRlibm/src/CRlibm.jl:116.\n",
      "WARNING: Method definition expm1(Float64, Main.Base.Rounding.RoundingMode{:ToZero}) in module CRlibm at /Users/dpsanders/.julia/v0.5/CRlibm/src/CRlibm.jl:74 overwritten in module CRlibm at /Users/dpsanders/.julia/v0.5/CRlibm/src/CRlibm.jl:74.\n",
      "WARNING: Method definition expm1(Float64, Main.Base.Rounding.RoundingMode{:Down}) in module CRlibm at /Users/dpsanders/.julia/v0.5/CRlibm/src/CRlibm.jl:74 overwritten in module CRlibm at /Users/dpsanders/.julia/v0.5/CRlibm/src/CRlibm.jl:74.\n",
      "WARNING: Method definition expm1(Float64, Main.Base.Rounding.RoundingMode{:Up}) in module CRlibm at /Users/dpsanders/.julia/v0.5/CRlibm/src/CRlibm.jl:74 overwritten in module CRlibm at /Users/dpsanders/.julia/v0.5/CRlibm/src/CRlibm.jl:74.\n",
      "WARNING: Method definition expm1(Float64, Main.Base.Rounding.RoundingMode{:Nearest}) in module CRlibm at /Users/dpsanders/.julia/v0.5/CRlibm/src/CRlibm.jl:74 overwritten in module CRlibm at /Users/dpsanders/.julia/v0.5/CRlibm/src/CRlibm.jl:74.\n",
      "WARNING: Method definition expm1(Main.Base.MPFR.BigFloat, Main.Base.Rounding.RoundingMode{:ToZero}) in module CRlibm at /Users/dpsanders/.julia/v0.5/CRlibm/src/CRlibm.jl:46 overwritten in module CRlibm at /Users/dpsanders/.julia/v0.5/CRlibm/src/CRlibm.jl:46.\n",
      "WARNING: Method definition expm1(Main.Base.MPFR.BigFloat, Main.Base.Rounding.RoundingMode{:Down}) in module CRlibm at /Users/dpsanders/.julia/v0.5/CRlibm/src/CRlibm.jl:46 overwritten in module CRlibm at /Users/dpsanders/.julia/v0.5/CRlibm/src/CRlibm.jl:46.\n",
      "WARNING: Method definition expm1(Main.Base.MPFR.BigFloat, Main.Base.Rounding.RoundingMode{:Up}) in module CRlibm at /Users/dpsanders/.julia/v0.5/CRlibm/src/CRlibm.jl:46 overwritten in module CRlibm at /Users/dpsanders/.julia/v0.5/CRlibm/src/CRlibm.jl:46.\n",
      "WARNING: Method definition expm1(Main.Base.MPFR.BigFloat, Main.Base.Rounding.RoundingMode{:Nearest}) in module CRlibm at /Users/dpsanders/.julia/v0.5/CRlibm/src/CRlibm.jl:46 overwritten in module CRlibm at /Users/dpsanders/.julia/v0.5/CRlibm/src/CRlibm.jl:46.\n",
      "WARNING: Method definition expm1(Real, Main.Base.Rounding.RoundingMode) in module CRlibm at /Users/dpsanders/.julia/v0.5/CRlibm/src/CRlibm.jl:116 overwritten in module CRlibm at /Users/dpsanders/.julia/v0.5/CRlibm/src/CRlibm.jl:116.\n",
      "WARNING: Method definition exp(Float64, Main.Base.Rounding.RoundingMode{:ToZero}) in module CRlibm at /Users/dpsanders/.julia/v0.5/CRlibm/src/CRlibm.jl:74 overwritten in module CRlibm at /Users/dpsanders/.julia/v0.5/CRlibm/src/CRlibm.jl:74.\n",
      "WARNING: Method definition exp(Float64, Main.Base.Rounding.RoundingMode{:Down}) in module CRlibm at /Users/dpsanders/.julia/v0.5/CRlibm/src/CRlibm.jl:74 overwritten in module CRlibm at /Users/dpsanders/.julia/v0.5/CRlibm/src/CRlibm.jl:74.\n",
      "WARNING: Method definition exp(Float64, Main.Base.Rounding.RoundingMode{:Up}) in module CRlibm at /Users/dpsanders/.julia/v0.5/CRlibm/src/CRlibm.jl:74 overwritten in module CRlibm at /Users/dpsanders/.julia/v0.5/CRlibm/src/CRlibm.jl:74.\n",
      "WARNING: Method definition exp(Float64, Main.Base.Rounding.RoundingMode{:Nearest}) in module CRlibm at /Users/dpsanders/.julia/v0.5/CRlibm/src/CRlibm.jl:74 overwritten in module CRlibm at /Users/dpsanders/.julia/v0.5/CRlibm/src/CRlibm.jl:74.\n",
      "WARNING: Method definition exp(Main.Base.MPFR.BigFloat, Main.Base.Rounding.RoundingMode{:ToZero}) in module CRlibm at /Users/dpsanders/.julia/v0.5/CRlibm/src/CRlibm.jl:46 overwritten in module CRlibm at /Users/dpsanders/.julia/v0.5/CRlibm/src/CRlibm.jl:46.\n",
      "WARNING: Method definition exp(Main.Base.MPFR.BigFloat, Main.Base.Rounding.RoundingMode{:Down}) in module CRlibm at /Users/dpsanders/.julia/v0.5/CRlibm/src/CRlibm.jl:46 overwritten in module CRlibm at /Users/dpsanders/.julia/v0.5/CRlibm/src/CRlibm.jl:46.\n",
      "WARNING: Method definition exp(Main.Base.MPFR.BigFloat, Main.Base.Rounding.RoundingMode{:Up}) in module CRlibm at /Users/dpsanders/.julia/v0.5/CRlibm/src/CRlibm.jl:46 overwritten in module CRlibm at /Users/dpsanders/.julia/v0.5/CRlibm/src/CRlibm.jl:46.\n",
      "WARNING: Method definition exp(Main.Base.MPFR.BigFloat, Main.Base.Rounding.RoundingMode{:Nearest}) in module CRlibm at /Users/dpsanders/.julia/v0.5/CRlibm/src/CRlibm.jl:46 overwritten in module CRlibm at /Users/dpsanders/.julia/v0.5/CRlibm/src/CRlibm.jl:46.\n",
      "WARNING: Method definition exp(Real, Main.Base.Rounding.RoundingMode) in module CRlibm at /Users/dpsanders/.julia/v0.5/CRlibm/src/CRlibm.jl:116 overwritten in module CRlibm at /Users/dpsanders/.julia/v0.5/CRlibm/src/CRlibm.jl:116.\n",
      "WARNING: Method definition log2(Float64, Main.Base.Rounding.RoundingMode{:ToZero}) in module CRlibm at /Users/dpsanders/.julia/v0.5/CRlibm/src/CRlibm.jl:74 overwritten in module CRlibm at /Users/dpsanders/.julia/v0.5/CRlibm/src/CRlibm.jl:74.\n",
      "WARNING: Method definition log2(Float64, Main.Base.Rounding.RoundingMode{:Down}) in module CRlibm at /Users/dpsanders/.julia/v0.5/CRlibm/src/CRlibm.jl:74 overwritten in module CRlibm at /Users/dpsanders/.julia/v0.5/CRlibm/src/CRlibm.jl:74.\n",
      "WARNING: Method definition log2(Float64, Main.Base.Rounding.RoundingMode{:Up}) in module CRlibm at /Users/dpsanders/.julia/v0.5/CRlibm/src/CRlibm.jl:74 overwritten in module CRlibm at /Users/dpsanders/.julia/v0.5/CRlibm/src/CRlibm.jl:74.\n",
      "WARNING: Method definition log2(Float64, Main.Base.Rounding.RoundingMode{:Nearest}) in module CRlibm at /Users/dpsanders/.julia/v0.5/CRlibm/src/CRlibm.jl:74 overwritten in module CRlibm at /Users/dpsanders/.julia/v0.5/CRlibm/src/CRlibm.jl:74.\n",
      "WARNING: Method definition log2(Main.Base.MPFR.BigFloat, Main.Base.Rounding.RoundingMode{:ToZero}) in module CRlibm at /Users/dpsanders/.julia/v0.5/CRlibm/src/CRlibm.jl:46 overwritten in module CRlibm at /Users/dpsanders/.julia/v0.5/CRlibm/src/CRlibm.jl:46.\n",
      "WARNING: Method definition log2(Main.Base.MPFR.BigFloat, Main.Base.Rounding.RoundingMode{:Down}) in module CRlibm at /Users/dpsanders/.julia/v0.5/CRlibm/src/CRlibm.jl:46 overwritten in module CRlibm at /Users/dpsanders/.julia/v0.5/CRlibm/src/CRlibm.jl:46.\n",
      "WARNING: Method definition log2(Main.Base.MPFR.BigFloat, Main.Base.Rounding.RoundingMode{:Up}) in module CRlibm at /Users/dpsanders/.julia/v0.5/CRlibm/src/CRlibm.jl:46 overwritten in module CRlibm at /Users/dpsanders/.julia/v0.5/CRlibm/src/CRlibm.jl:46.\n",
      "WARNING: Method definition log2(Main.Base.MPFR.BigFloat, Main.Base.Rounding.RoundingMode{:Nearest}) in module CRlibm at /Users/dpsanders/.julia/v0.5/CRlibm/src/CRlibm.jl:46 overwritten in module CRlibm at /Users/dpsanders/.julia/v0.5/CRlibm/src/CRlibm.jl:46.\n",
      "WARNING: Method definition log2(Real, Main.Base.Rounding.RoundingMode) in module CRlibm at /Users/dpsanders/.julia/v0.5/CRlibm/src/CRlibm.jl:116 overwritten in module CRlibm at /Users/dpsanders/.julia/v0.5/CRlibm/src/CRlibm.jl:116.\n",
      "WARNING: Method definition log(Float64, Main.Base.Rounding.RoundingMode{:ToZero}) in module CRlibm at /Users/dpsanders/.julia/v0.5/CRlibm/src/CRlibm.jl:74 overwritten in module CRlibm at /Users/dpsanders/.julia/v0.5/CRlibm/src/CRlibm.jl:74.\n",
      "WARNING: Method definition log(Float64, Main.Base.Rounding.RoundingMode{:Down}) in module CRlibm at /Users/dpsanders/.julia/v0.5/CRlibm/src/CRlibm.jl:74 overwritten in module CRlibm at /Users/dpsanders/.julia/v0.5/CRlibm/src/CRlibm.jl:74.\n",
      "WARNING: Method definition log(Float64, Main.Base.Rounding.RoundingMode{:Up}) in module CRlibm at /Users/dpsanders/.julia/v0.5/CRlibm/src/CRlibm.jl:74 overwritten in module CRlibm at /Users/dpsanders/.julia/v0.5/CRlibm/src/CRlibm.jl:74.\n",
      "WARNING: Method definition log(Float64, Main.Base.Rounding.RoundingMode{:Nearest}) in module CRlibm at /Users/dpsanders/.julia/v0.5/CRlibm/src/CRlibm.jl:74 overwritten in module CRlibm at /Users/dpsanders/.julia/v0.5/CRlibm/src/CRlibm.jl:74.\n",
      "WARNING: Method definition log(Main.Base.MPFR.BigFloat, Main.Base.Rounding.RoundingMode{:ToZero}) in module CRlibm at /Users/dpsanders/.julia/v0.5/CRlibm/src/CRlibm.jl:46 overwritten in module CRlibm at /Users/dpsanders/.julia/v0.5/CRlibm/src/CRlibm.jl:46.\n",
      "WARNING: Method definition log(Main.Base.MPFR.BigFloat, Main.Base.Rounding.RoundingMode{:Down}) in module CRlibm at /Users/dpsanders/.julia/v0.5/CRlibm/src/CRlibm.jl:46 overwritten in module CRlibm at /Users/dpsanders/.julia/v0.5/CRlibm/src/CRlibm.jl:46.\n",
      "WARNING: Method definition log(Main.Base.MPFR.BigFloat, Main.Base.Rounding.RoundingMode{:Up}) in module CRlibm at /Users/dpsanders/.julia/v0.5/CRlibm/src/CRlibm.jl:46 overwritten in module CRlibm at /Users/dpsanders/.julia/v0.5/CRlibm/src/CRlibm.jl:46.\n",
      "WARNING: Method definition log(Main.Base.MPFR.BigFloat, Main.Base.Rounding.RoundingMode{:Nearest}) in module CRlibm at /Users/dpsanders/.julia/v0.5/CRlibm/src/CRlibm.jl:46 overwritten in module CRlibm at /Users/dpsanders/.julia/v0.5/CRlibm/src/CRlibm.jl:46.\n",
      "WARNING: Method definition log(Main.Base.Irrational{:e}, Main.Base.Rounding.RoundingMode) in module CRlibm at /Users/dpsanders/.julia/v0.5/CRlibm/src/CRlibm.jl:113 overwritten in module CRlibm at /Users/dpsanders/.julia/v0.5/CRlibm/src/CRlibm.jl:113.\n",
      "WARNING: Method definition log(Real, Main.Base.Rounding.RoundingMode) in module CRlibm at /Users/dpsanders/.julia/v0.5/CRlibm/src/CRlibm.jl:116 overwritten in module CRlibm at /Users/dpsanders/.julia/v0.5/CRlibm/src/CRlibm.jl:116.\n",
      "WARNING: Method definition atan(Float64, Main.Base.Rounding.RoundingMode{:ToZero}) in module CRlibm at /Users/dpsanders/.julia/v0.5/CRlibm/src/CRlibm.jl:74 overwritten in module CRlibm at /Users/dpsanders/.julia/v0.5/CRlibm/src/CRlibm.jl:74.\n",
      "WARNING: Method definition atan(Float64, Main.Base.Rounding.RoundingMode{:Down}) in module CRlibm at /Users/dpsanders/.julia/v0.5/CRlibm/src/CRlibm.jl:74 overwritten in module CRlibm at /Users/dpsanders/.julia/v0.5/CRlibm/src/CRlibm.jl:74.\n",
      "WARNING: Method definition atan(Float64, Main.Base.Rounding.RoundingMode{:Up}) in module CRlibm at /Users/dpsanders/.julia/v0.5/CRlibm/src/CRlibm.jl:74 overwritten in module CRlibm at /Users/dpsanders/.julia/v0.5/CRlibm/src/CRlibm.jl:74.\n",
      "WARNING: Method definition atan(Float64, Main.Base.Rounding.RoundingMode{:Nearest}) in module CRlibm at /Users/dpsanders/.julia/v0.5/CRlibm/src/CRlibm.jl:74 overwritten in module CRlibm at /Users/dpsanders/.julia/v0.5/CRlibm/src/CRlibm.jl:74.\n",
      "WARNING: Method definition atan(Main.Base.MPFR.BigFloat, Main.Base.Rounding.RoundingMode{:ToZero}) in module CRlibm at /Users/dpsanders/.julia/v0.5/CRlibm/src/CRlibm.jl:46 overwritten in module CRlibm at /Users/dpsanders/.julia/v0.5/CRlibm/src/CRlibm.jl:46.\n",
      "WARNING: Method definition atan(Main.Base.MPFR.BigFloat, Main.Base.Rounding.RoundingMode{:Down}) in module CRlibm at /Users/dpsanders/.julia/v0.5/CRlibm/src/CRlibm.jl:46 overwritten in module CRlibm at /Users/dpsanders/.julia/v0.5/CRlibm/src/CRlibm.jl:46.\n",
      "WARNING: Method definition atan(Main.Base.MPFR.BigFloat, Main.Base.Rounding.RoundingMode{:Up}) in module CRlibm at /Users/dpsanders/.julia/v0.5/CRlibm/src/CRlibm.jl:46 overwritten in module CRlibm at /Users/dpsanders/.julia/v0.5/CRlibm/src/CRlibm.jl:46.\n",
      "WARNING: Method definition atan(Main.Base.MPFR.BigFloat, Main.Base.Rounding.RoundingMode{:Nearest}) in module CRlibm at /Users/dpsanders/.julia/v0.5/CRlibm/src/CRlibm.jl:46 overwritten in module CRlibm at /Users/dpsanders/.julia/v0.5/CRlibm/src/CRlibm.jl:46.\n",
      "WARNING: Method definition atan(Real, Main.Base.Rounding.RoundingMode) in module CRlibm at /Users/dpsanders/.julia/v0.5/CRlibm/src/CRlibm.jl:116 overwritten in module CRlibm at /Users/dpsanders/.julia/v0.5/CRlibm/src/CRlibm.jl:116.\n",
      "WARNING: Method definition log1p(Float64, Main.Base.Rounding.RoundingMode{:ToZero}) in module CRlibm at /Users/dpsanders/.julia/v0.5/CRlibm/src/CRlibm.jl:74 overwritten in module CRlibm at /Users/dpsanders/.julia/v0.5/CRlibm/src/CRlibm.jl:74.\n",
      "WARNING: Method definition log1p(Float64, Main.Base.Rounding.RoundingMode{:Down}) in module CRlibm at /Users/dpsanders/.julia/v0.5/CRlibm/src/CRlibm.jl:74 overwritten in module CRlibm at /Users/dpsanders/.julia/v0.5/CRlibm/src/CRlibm.jl:74.\n",
      "WARNING: Method definition log1p(Float64, Main.Base.Rounding.RoundingMode{:Up}) in module CRlibm at /Users/dpsanders/.julia/v0.5/CRlibm/src/CRlibm.jl:74 overwritten in module CRlibm at /Users/dpsanders/.julia/v0.5/CRlibm/src/CRlibm.jl:74.\n",
      "WARNING: Method definition log1p(Float64, Main.Base.Rounding.RoundingMode{:Nearest}) in module CRlibm at /Users/dpsanders/.julia/v0.5/CRlibm/src/CRlibm.jl:74 overwritten in module CRlibm at /Users/dpsanders/.julia/v0.5/CRlibm/src/CRlibm.jl:74.\n",
      "WARNING: Method definition log1p(Main.Base.MPFR.BigFloat, Main.Base.Rounding.RoundingMode{:ToZero}) in module CRlibm at /Users/dpsanders/.julia/v0.5/CRlibm/src/CRlibm.jl:46 overwritten in module CRlibm at /Users/dpsanders/.julia/v0.5/CRlibm/src/CRlibm.jl:46.\n",
      "WARNING: Method definition log1p(Main.Base.MPFR.BigFloat, Main.Base.Rounding.RoundingMode{:Down}) in module CRlibm at /Users/dpsanders/.julia/v0.5/CRlibm/src/CRlibm.jl:46 overwritten in module CRlibm at /Users/dpsanders/.julia/v0.5/CRlibm/src/CRlibm.jl:46.\n",
      "WARNING: Method definition log1p(Main.Base.MPFR.BigFloat, Main.Base.Rounding.RoundingMode{:Up}) in module CRlibm at /Users/dpsanders/.julia/v0.5/CRlibm/src/CRlibm.jl:46 overwritten in module CRlibm at /Users/dpsanders/.julia/v0.5/CRlibm/src/CRlibm.jl:46.\n",
      "WARNING: Method definition log1p(Main.Base.MPFR.BigFloat, Main.Base.Rounding.RoundingMode{:Nearest}) in module CRlibm at /Users/dpsanders/.julia/v0.5/CRlibm/src/CRlibm.jl:46 overwritten in module CRlibm at /Users/dpsanders/.julia/v0.5/CRlibm/src/CRlibm.jl:46.\n",
      "WARNING: Method definition log1p(Real, Main.Base.Rounding.RoundingMode) in module CRlibm at /Users/dpsanders/.julia/v0.5/CRlibm/src/CRlibm.jl:116 overwritten in module CRlibm at /Users/dpsanders/.julia/v0.5/CRlibm/src/CRlibm.jl:116.\n",
      "WARNING: Method definition cos(Float64, Main.Base.Rounding.RoundingMode{:ToZero}) in module CRlibm at /Users/dpsanders/.julia/v0.5/CRlibm/src/CRlibm.jl:74 overwritten in module CRlibm at /Users/dpsanders/.julia/v0.5/CRlibm/src/CRlibm.jl:74.\n",
      "WARNING: Method definition cos(Float64, Main.Base.Rounding.RoundingMode{:Down}) in module CRlibm at /Users/dpsanders/.julia/v0.5/CRlibm/src/CRlibm.jl:74 overwritten in module CRlibm at /Users/dpsanders/.julia/v0.5/CRlibm/src/CRlibm.jl:74.\n",
      "WARNING: Method definition cos(Float64, Main.Base.Rounding.RoundingMode{:Up}) in module CRlibm at /Users/dpsanders/.julia/v0.5/CRlibm/src/CRlibm.jl:74 overwritten in module CRlibm at /Users/dpsanders/.julia/v0.5/CRlibm/src/CRlibm.jl:74.\n",
      "WARNING: Method definition cos(Float64, Main.Base.Rounding.RoundingMode{:Nearest}) in module CRlibm at /Users/dpsanders/.julia/v0.5/CRlibm/src/CRlibm.jl:74 overwritten in module CRlibm at /Users/dpsanders/.julia/v0.5/CRlibm/src/CRlibm.jl:74.\n",
      "WARNING: Method definition cos(Main.Base.MPFR.BigFloat, Main.Base.Rounding.RoundingMode{:ToZero}) in module CRlibm at /Users/dpsanders/.julia/v0.5/CRlibm/src/CRlibm.jl:46 overwritten in module CRlibm at /Users/dpsanders/.julia/v0.5/CRlibm/src/CRlibm.jl:46.\n",
      "WARNING: Method definition cos(Main.Base.MPFR.BigFloat, Main.Base.Rounding.RoundingMode{:Down}) in module CRlibm at /Users/dpsanders/.julia/v0.5/CRlibm/src/CRlibm.jl:46 overwritten in module CRlibm at /Users/dpsanders/.julia/v0.5/CRlibm/src/CRlibm.jl:46.\n",
      "WARNING: Method definition cos(Main.Base.MPFR.BigFloat, Main.Base.Rounding.RoundingMode{:Up}) in module CRlibm at /Users/dpsanders/.julia/v0.5/CRlibm/src/CRlibm.jl:46 overwritten in module CRlibm at /Users/dpsanders/.julia/v0.5/CRlibm/src/CRlibm.jl:46.\n",
      "WARNING: Method definition cos(Main.Base.MPFR.BigFloat, Main.Base.Rounding.RoundingMode{:Nearest}) in module CRlibm at /Users/dpsanders/.julia/v0.5/CRlibm/src/CRlibm.jl:46 overwritten in module CRlibm at /Users/dpsanders/.julia/v0.5/CRlibm/src/CRlibm.jl:46.\n",
      "WARNING: Method definition cos(Real, Main.Base.Rounding.RoundingMode) in module CRlibm at /Users/dpsanders/.julia/v0.5/CRlibm/src/CRlibm.jl:116 overwritten in module CRlibm at /Users/dpsanders/.julia/v0.5/CRlibm/src/CRlibm.jl:116.\n",
      "WARNING: Method definition cospi(Float64, Main.Base.Rounding.RoundingMode{:ToZero}) in module CRlibm at /Users/dpsanders/.julia/v0.5/CRlibm/src/CRlibm.jl:74 overwritten in module CRlibm at /Users/dpsanders/.julia/v0.5/CRlibm/src/CRlibm.jl:74.\n",
      "WARNING: Method definition cospi(Float64, Main.Base.Rounding.RoundingMode{:Down}) in module CRlibm at /Users/dpsanders/.julia/v0.5/CRlibm/src/CRlibm.jl:74 overwritten in module CRlibm at /Users/dpsanders/.julia/v0.5/CRlibm/src/CRlibm.jl:74.\n",
      "WARNING: Method definition cospi(Float64, Main.Base.Rounding.RoundingMode{:Up}) in module CRlibm at /Users/dpsanders/.julia/v0.5/CRlibm/src/CRlibm.jl:74 overwritten in module CRlibm at /Users/dpsanders/.julia/v0.5/CRlibm/src/CRlibm.jl:74.\n",
      "WARNING: Method definition cospi(Float64, Main.Base.Rounding.RoundingMode{:Nearest}) in module CRlibm at /Users/dpsanders/.julia/v0.5/CRlibm/src/CRlibm.jl:74 overwritten in module CRlibm at /Users/dpsanders/.julia/v0.5/CRlibm/src/CRlibm.jl:74.\n",
      "WARNING: Method definition cospi(Real, Main.Base.Rounding.RoundingMode) in module CRlibm at /Users/dpsanders/.julia/v0.5/CRlibm/src/CRlibm.jl:116 overwritten in module CRlibm at /Users/dpsanders/.julia/v0.5/CRlibm/src/CRlibm.jl:116.\n",
      "WARNING: Method definition sinpi(Float64, Main.Base.Rounding.RoundingMode{:ToZero}) in module CRlibm at /Users/dpsanders/.julia/v0.5/CRlibm/src/CRlibm.jl:74 overwritten in module CRlibm at /Users/dpsanders/.julia/v0.5/CRlibm/src/CRlibm.jl:74.\n",
      "WARNING: Method definition sinpi(Float64, Main.Base.Rounding.RoundingMode{:Down}) in module CRlibm at /Users/dpsanders/.julia/v0.5/CRlibm/src/CRlibm.jl:74 overwritten in module CRlibm at /Users/dpsanders/.julia/v0.5/CRlibm/src/CRlibm.jl:74.\n",
      "WARNING: Method definition sinpi(Float64, Main.Base.Rounding.RoundingMode{:Up}) in module CRlibm at /Users/dpsanders/.julia/v0.5/CRlibm/src/CRlibm.jl:74 overwritten in module CRlibm at /Users/dpsanders/.julia/v0.5/CRlibm/src/CRlibm.jl:74.\n",
      "WARNING: Method definition sinpi(Float64, Main.Base.Rounding.RoundingMode{:Nearest}) in module CRlibm at /Users/dpsanders/.julia/v0.5/CRlibm/src/CRlibm.jl:74 overwritten in module CRlibm at /Users/dpsanders/.julia/v0.5/CRlibm/src/CRlibm.jl:74.\n",
      "WARNING: Method definition sinpi(Real, Main.Base.Rounding.RoundingMode) in module CRlibm at /Users/dpsanders/.julia/v0.5/CRlibm/src/CRlibm.jl:116 overwritten in module CRlibm at /Users/dpsanders/.julia/v0.5/CRlibm/src/CRlibm.jl:116.\n",
      "WARNING: Method definition sin(Float64, Main.Base.Rounding.RoundingMode{:ToZero}) in module CRlibm at /Users/dpsanders/.julia/v0.5/CRlibm/src/CRlibm.jl:74 overwritten in module CRlibm at /Users/dpsanders/.julia/v0.5/CRlibm/src/CRlibm.jl:74.\n",
      "WARNING: Method definition sin(Float64, Main.Base.Rounding.RoundingMode{:Down}) in module CRlibm at /Users/dpsanders/.julia/v0.5/CRlibm/src/CRlibm.jl:74 overwritten in module CRlibm at /Users/dpsanders/.julia/v0.5/CRlibm/src/CRlibm.jl:74.\n",
      "WARNING: Method definition sin(Float64, Main.Base.Rounding.RoundingMode{:Up}) in module CRlibm at /Users/dpsanders/.julia/v0.5/CRlibm/src/CRlibm.jl:74 overwritten in module CRlibm at /Users/dpsanders/.julia/v0.5/CRlibm/src/CRlibm.jl:74.\n",
      "WARNING: Method definition sin(Float64, Main.Base.Rounding.RoundingMode{:Nearest}) in module CRlibm at /Users/dpsanders/.julia/v0.5/CRlibm/src/CRlibm.jl:74 overwritten in module CRlibm at /Users/dpsanders/.julia/v0.5/CRlibm/src/CRlibm.jl:74.\n",
      "WARNING: Method definition sin(Main.Base.MPFR.BigFloat, Main.Base.Rounding.RoundingMode{:ToZero}) in module CRlibm at /Users/dpsanders/.julia/v0.5/CRlibm/src/CRlibm.jl:46 overwritten in module CRlibm at /Users/dpsanders/.julia/v0.5/CRlibm/src/CRlibm.jl:46.\n",
      "WARNING: Method definition sin(Main.Base.MPFR.BigFloat, Main.Base.Rounding.RoundingMode{:Down}) in module CRlibm at /Users/dpsanders/.julia/v0.5/CRlibm/src/CRlibm.jl:46 overwritten in module CRlibm at /Users/dpsanders/.julia/v0.5/CRlibm/src/CRlibm.jl:46.\n",
      "WARNING: Method definition sin(Main.Base.MPFR.BigFloat, Main.Base.Rounding.RoundingMode{:Up}) in module CRlibm at /Users/dpsanders/.julia/v0.5/CRlibm/src/CRlibm.jl:46 overwritten in module CRlibm at /Users/dpsanders/.julia/v0.5/CRlibm/src/CRlibm.jl:46.\n",
      "WARNING: Method definition sin(Main.Base.MPFR.BigFloat, Main.Base.Rounding.RoundingMode{:Nearest}) in module CRlibm at /Users/dpsanders/.julia/v0.5/CRlibm/src/CRlibm.jl:46 overwritten in module CRlibm at /Users/dpsanders/.julia/v0.5/CRlibm/src/CRlibm.jl:46.\n",
      "WARNING: Method definition sin(Real, Main.Base.Rounding.RoundingMode) in module CRlibm at /Users/dpsanders/.julia/v0.5/CRlibm/src/CRlibm.jl:116 overwritten in module CRlibm at /Users/dpsanders/.julia/v0.5/CRlibm/src/CRlibm.jl:116.\n",
      "WARNING: Method definition log10(Float64, Main.Base.Rounding.RoundingMode{:ToZero}) in module CRlibm at /Users/dpsanders/.julia/v0.5/CRlibm/src/CRlibm.jl:74 overwritten in module CRlibm at /Users/dpsanders/.julia/v0.5/CRlibm/src/CRlibm.jl:74.\n",
      "WARNING: Method definition log10(Float64, Main.Base.Rounding.RoundingMode{:Down}) in module CRlibm at /Users/dpsanders/.julia/v0.5/CRlibm/src/CRlibm.jl:74 overwritten in module CRlibm at /Users/dpsanders/.julia/v0.5/CRlibm/src/CRlibm.jl:74.\n",
      "WARNING: Method definition log10(Float64, Main.Base.Rounding.RoundingMode{:Up}) in module CRlibm at /Users/dpsanders/.julia/v0.5/CRlibm/src/CRlibm.jl:74 overwritten in module CRlibm at /Users/dpsanders/.julia/v0.5/CRlibm/src/CRlibm.jl:74.\n",
      "WARNING: Method definition log10(Float64, Main.Base.Rounding.RoundingMode{:Nearest}) in module CRlibm at /Users/dpsanders/.julia/v0.5/CRlibm/src/CRlibm.jl:74 overwritten in module CRlibm at /Users/dpsanders/.julia/v0.5/CRlibm/src/CRlibm.jl:74.\n",
      "WARNING: Method definition log10(Main.Base.MPFR.BigFloat, Main.Base.Rounding.RoundingMode{:ToZero}) in module CRlibm at /Users/dpsanders/.julia/v0.5/CRlibm/src/CRlibm.jl:46 overwritten in module CRlibm at /Users/dpsanders/.julia/v0.5/CRlibm/src/CRlibm.jl:46.\n",
      "WARNING: Method definition log10(Main.Base.MPFR.BigFloat, Main.Base.Rounding.RoundingMode{:Down}) in module CRlibm at /Users/dpsanders/.julia/v0.5/CRlibm/src/CRlibm.jl:46 overwritten in module CRlibm at /Users/dpsanders/.julia/v0.5/CRlibm/src/CRlibm.jl:46.\n",
      "WARNING: Method definition log10(Main.Base.MPFR.BigFloat, Main.Base.Rounding.RoundingMode{:Up}) in module CRlibm at /Users/dpsanders/.julia/v0.5/CRlibm/src/CRlibm.jl:46 overwritten in module CRlibm at /Users/dpsanders/.julia/v0.5/CRlibm/src/CRlibm.jl:46.\n",
      "WARNING: Method definition log10(Main.Base.MPFR.BigFloat, Main.Base.Rounding.RoundingMode{:Nearest}) in module CRlibm at /Users/dpsanders/.julia/v0.5/CRlibm/src/CRlibm.jl:46 overwritten in module CRlibm at /Users/dpsanders/.julia/v0.5/CRlibm/src/CRlibm.jl:46.\n",
      "WARNING: Method definition log10(Real, Main.Base.Rounding.RoundingMode) in module CRlibm at /Users/dpsanders/.julia/v0.5/CRlibm/src/CRlibm.jl:116 overwritten in module CRlibm at /Users/dpsanders/.julia/v0.5/CRlibm/src/CRlibm.jl:116.\n",
      "WARNING: Method definition setrounding(Function, Type{Main.Base.Rational{#T<:Any}}, Main.Base.Rounding.RoundingMode) in module ValidatedNumerics at /Users/dpsanders/.julia/v0.5/ValidatedNumerics/src/intervals/precision.jl:90 overwritten in module ValidatedNumerics at /Users/dpsanders/.julia/v0.5/ValidatedNumerics/src/intervals/precision.jl:90.\n",
      "WARNING: Method definition exp2(Main.Base.MPFR.BigFloat, Main.Base.Rounding.RoundingMode) in module ValidatedNumerics at /Users/dpsanders/.julia/v0.5/ValidatedNumerics/src/intervals/functions.jl:180 overwritten in module ValidatedNumerics at /Users/dpsanders/.julia/v0.5/ValidatedNumerics/src/intervals/functions.jl:180.\n",
      "WARNING: Method definition float(Type{Main.Base.Rational{#T<:Any}}) in module ValidatedNumerics at /Users/dpsanders/.julia/v0.5/ValidatedNumerics/src/intervals/precision.jl:72 overwritten in module ValidatedNumerics at /Users/dpsanders/.julia/v0.5/ValidatedNumerics/src/intervals/precision.jl:72.\n",
      "WARNING: Method definition exp10(Main.Base.MPFR.BigFloat, Main.Base.Rounding.RoundingMode) in module ValidatedNumerics at /Users/dpsanders/.julia/v0.5/ValidatedNumerics/src/intervals/functions.jl:180 overwritten in module ValidatedNumerics at /Users/dpsanders/.julia/v0.5/ValidatedNumerics/src/intervals/functions.jl:180.\n"
     ]
    }
   ],
   "source": [
    "using ValidatedNumerics"
   ]
  },
  {
   "cell_type": "code",
   "execution_count": 30,
   "metadata": {
    "collapsed": false
   },
   "outputs": [
    {
     "data": {
      "text/plain": [
       "[1.5, 1.60001]"
      ]
     },
     "execution_count": 30,
     "metadata": {},
     "output_type": "execute_result"
    }
   ],
   "source": [
    "x = 1.5 .. 1.6"
   ]
  },
  {
   "cell_type": "code",
   "execution_count": 35,
   "metadata": {
    "collapsed": false
   },
   "outputs": [
    {
     "data": {
      "text/plain": [
       "1.5707963267948966"
      ]
     },
     "execution_count": 35,
     "metadata": {},
     "output_type": "execute_result"
    }
   ],
   "source": [
    "y = float(pi/2)"
   ]
  },
  {
   "cell_type": "code",
   "execution_count": 36,
   "metadata": {
    "collapsed": false
   },
   "outputs": [
    {
     "data": {
      "text/plain": [
       "[14.1014, 1.63313e+16]"
      ]
     },
     "execution_count": 36,
     "metadata": {},
     "output_type": "execute_result"
    }
   ],
   "source": [
    "x = Interval(1.5, y)\n",
    "tan(x)"
   ]
  },
  {
   "cell_type": "code",
   "execution_count": 37,
   "metadata": {
    "collapsed": false
   },
   "outputs": [
    {
     "data": {
      "text/plain": [
       "[-∞, ∞]"
      ]
     },
     "execution_count": 37,
     "metadata": {},
     "output_type": "execute_result"
    }
   ],
   "source": [
    "x = Interval(1.5, 1.6)\n",
    "tan(x)"
   ]
  },
  {
   "cell_type": "code",
   "execution_count": null,
   "metadata": {
    "collapsed": true
   },
   "outputs": [],
   "source": []
  }
 ],
 "metadata": {
  "kernelspec": {
   "display_name": "Julia 0.5.0",
   "language": "julia",
   "name": "julia-0.5"
  },
  "language_info": {
   "file_extension": ".jl",
   "mimetype": "application/julia",
   "name": "julia",
   "version": "0.5.0"
  },
  "toc": {
   "nav_menu": {
    "height": "11px",
    "width": "251px"
   },
   "navigate_menu": true,
   "number_sections": true,
   "sideBar": true,
   "threshold": "2",
   "toc_cell": false,
   "toc_section_display": "block",
   "toc_window_display": false
  }
 },
 "nbformat": 4,
 "nbformat_minor": 1
}
