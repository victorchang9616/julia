{
 "cells": [
  {
   "cell_type": "markdown",
   "metadata": {},
   "source": [
    "# `sum`: Recalling the first lecture: an easy enough function to understand"
   ]
  },
  {
   "cell_type": "markdown",
   "metadata": {},
   "source": [
    "The  **sum** function `sum(a)`, which computes\n",
    "\n",
    "$$\n",
    "\\mathrm{sum}(a) = \\sum_{i=1}^n a_i.\n",
    "$$"
   ]
  },
  {
   "cell_type": "code",
   "execution_count": 6,
   "metadata": {
    "collapsed": false
   },
   "outputs": [
    {
     "name": "stderr",
     "output_type": "stream",
     "text": [
      "\u001b[1m\u001b[34mINFO: Nothing to be done\n",
      "\u001b[0m\u001b[1m\u001b[34mINFO: METADATA is out-of-date — you may not have the latest version of BenchmarkTools\n",
      "\u001b[0m\u001b[1m\u001b[34mINFO: Use `Pkg.update()` to get the latest versions of your packages\n",
      "\u001b[0m"
     ]
    }
   ],
   "source": [
    "Pkg.add(\"BenchmarkTools\")\n",
    "using BenchmarkTools"
   ]
  },
  {
   "cell_type": "markdown",
   "metadata": {},
   "source": [
    "# 1. serial Julia (as fast as handwritten c)"
   ]
  },
  {
   "cell_type": "code",
   "execution_count": 2,
   "metadata": {
    "collapsed": false
   },
   "outputs": [
    {
     "data": {
      "text/plain": [
       "jsum (generic function with 1 method)"
      ]
     },
     "execution_count": 2,
     "metadata": {},
     "output_type": "execute_result"
    }
   ],
   "source": [
    "function jsum(A)   \n",
    "    s = 0.0  # s = zero(eltype(A))\n",
    "    for a in A\n",
    "        s += a\n",
    "    end\n",
    "    s\n",
    "end"
   ]
  },
  {
   "cell_type": "code",
   "execution_count": 3,
   "metadata": {
    "collapsed": false
   },
   "outputs": [
    {
     "data": {
      "text/plain": [
       "8.139245"
      ]
     },
     "execution_count": 3,
     "metadata": {},
     "output_type": "execute_result"
    }
   ],
   "source": [
    "a = rand(10^7) # array of random numbers, uniform on [0,1)\n",
    "j_bench = @benchmark jsum($a)\n",
    "minimum(j_bench.times)/1e6"
   ]
  },
  {
   "cell_type": "markdown",
   "metadata": {},
   "source": [
    "# 2a. Distributed Computing with DArrays (my favorite for the high level -- I wish it were more complete)"
   ]
  },
  {
   "cell_type": "code",
   "execution_count": 4,
   "metadata": {
    "collapsed": false
   },
   "outputs": [
    {
     "name": "stderr",
     "output_type": "stream",
     "text": [
      "\u001b[1m\u001b[34mINFO: Nothing to be done\n",
      "\u001b[0m\u001b[1m\u001b[34mINFO: METADATA is out-of-date — you may not have the latest version of DistributedArrays\n",
      "\u001b[0m\u001b[1m\u001b[34mINFO: Use `Pkg.update()` to get the latest versions of your packages\n",
      "\u001b[0m"
     ]
    }
   ],
   "source": [
    "Pkg.add(\"DistributedArrays\")\n",
    "using DistributedArrays"
   ]
  },
  {
   "cell_type": "code",
   "execution_count": 5,
   "metadata": {
    "collapsed": false
   },
   "outputs": [
    {
     "data": {
      "text/plain": [
       "1-element Array{Tuple{UnitRange{Int64}},1}:\n",
       " (1:10000000,)"
      ]
     },
     "execution_count": 5,
     "metadata": {},
     "output_type": "execute_result"
    }
   ],
   "source": [
    "A = distribute(a)  # one could have used A = drand(10^7) for a parallel constructor\n",
    "A.indexes"
   ]
  },
  {
   "cell_type": "code",
   "execution_count": 6,
   "metadata": {
    "collapsed": false
   },
   "outputs": [
    {
     "data": {
      "text/plain": [
       "2-element Array{Int64,1}:\n",
       " 2\n",
       " 3"
      ]
     },
     "execution_count": 6,
     "metadata": {},
     "output_type": "execute_result"
    }
   ],
   "source": [
    "addprocs(2)"
   ]
  },
  {
   "cell_type": "code",
   "execution_count": 9,
   "metadata": {
    "collapsed": false
   },
   "outputs": [
    {
     "data": {
      "text/plain": [
       "2-element Array{Tuple{UnitRange{Int64}},1}:\n",
       " (1:5000000,)       \n",
       " (5000001:10000000,)"
      ]
     },
     "execution_count": 9,
     "metadata": {},
     "output_type": "execute_result"
    }
   ],
   "source": [
    "@everywhere using DistributedArrays\n",
    "A = distribute(a)\n",
    "A.indexes"
   ]
  },
  {
   "cell_type": "code",
   "execution_count": 10,
   "metadata": {
    "collapsed": false
   },
   "outputs": [
    {
     "data": {
      "text/plain": [
       "0.0"
      ]
     },
     "execution_count": 10,
     "metadata": {},
     "output_type": "execute_result"
    }
   ],
   "source": [
    "sum(A)-sum(a)"
   ]
  },
  {
   "cell_type": "code",
   "execution_count": 11,
   "metadata": {
    "collapsed": false
   },
   "outputs": [
    {
     "data": {
      "text/plain": [
       "2.60258"
      ]
     },
     "execution_count": 11,
     "metadata": {},
     "output_type": "execute_result"
    }
   ],
   "source": [
    "minimum((@benchmark sum($A)).times)/1e6"
   ]
  },
  {
   "cell_type": "code",
   "execution_count": 12,
   "metadata": {
    "collapsed": false
   },
   "outputs": [
    {
     "data": {
      "text/plain": [
       "1-element Array{Int64,1}:\n",
       " 4"
      ]
     },
     "execution_count": 12,
     "metadata": {},
     "output_type": "execute_result"
    }
   ],
   "source": [
    "addprocs(1)"
   ]
  },
  {
   "cell_type": "code",
   "execution_count": 13,
   "metadata": {
    "collapsed": false
   },
   "outputs": [
    {
     "data": {
      "text/plain": [
       "3-element Array{Int64,1}:\n",
       " 2\n",
       " 3\n",
       " 4"
      ]
     },
     "execution_count": 13,
     "metadata": {},
     "output_type": "execute_result"
    }
   ],
   "source": [
    "workers()"
   ]
  },
  {
   "cell_type": "code",
   "execution_count": 14,
   "metadata": {
    "collapsed": true
   },
   "outputs": [],
   "source": [
    "@everywhere using DistributedArrays"
   ]
  },
  {
   "cell_type": "code",
   "execution_count": 15,
   "metadata": {
    "collapsed": false
   },
   "outputs": [
    {
     "data": {
      "text/plain": [
       "0.0"
      ]
     },
     "execution_count": 15,
     "metadata": {},
     "output_type": "execute_result"
    }
   ],
   "source": [
    "A = distribute(a)  # one could have used A = drand(10^7) for a parallel constructor\n",
    "sum(A) - sum(a)"
   ]
  },
  {
   "cell_type": "code",
   "execution_count": 16,
   "metadata": {
    "collapsed": false
   },
   "outputs": [
    {
     "data": {
      "text/plain": [
       "3-element Array{Tuple{UnitRange{Int64}},1}:\n",
       " (1:3333333,)       \n",
       " (3333334:6666667,) \n",
       " (6666668:10000000,)"
      ]
     },
     "execution_count": 16,
     "metadata": {},
     "output_type": "execute_result"
    }
   ],
   "source": [
    "A.indexes"
   ]
  },
  {
   "cell_type": "code",
   "execution_count": 17,
   "metadata": {
    "collapsed": false
   },
   "outputs": [
    {
     "data": {
      "text/plain": [
       "2.241721"
      ]
     },
     "execution_count": 17,
     "metadata": {},
     "output_type": "execute_result"
    }
   ],
   "source": [
    "minimum((@benchmark sum($A)).times)/1e6"
   ]
  },
  {
   "cell_type": "code",
   "execution_count": 21,
   "metadata": {
    "collapsed": false
   },
   "outputs": [
    {
     "data": {
      "text/plain": [
       "4-element Array{Int64,1}:\n",
       " 2\n",
       " 3\n",
       " 4\n",
       " 5"
      ]
     },
     "execution_count": 21,
     "metadata": {},
     "output_type": "execute_result"
    }
   ],
   "source": [
    "#addprocs(1)\n",
    "workers()"
   ]
  },
  {
   "cell_type": "code",
   "execution_count": 22,
   "metadata": {
    "collapsed": false
   },
   "outputs": [],
   "source": [
    "@everywhere using DistributedArrays"
   ]
  },
  {
   "cell_type": "code",
   "execution_count": 23,
   "metadata": {
    "collapsed": false
   },
   "outputs": [
    {
     "data": {
      "text/plain": [
       "0.0"
      ]
     },
     "execution_count": 23,
     "metadata": {},
     "output_type": "execute_result"
    }
   ],
   "source": [
    "A = distribute(a)  # one could have used A = drand(10^7) for a parallel constructor\n",
    "sum(A) - sum(a)"
   ]
  },
  {
   "cell_type": "code",
   "execution_count": 24,
   "metadata": {
    "collapsed": false
   },
   "outputs": [
    {
     "data": {
      "text/plain": [
       "2.079622"
      ]
     },
     "execution_count": 24,
     "metadata": {},
     "output_type": "execute_result"
    }
   ],
   "source": [
    "minimum((@benchmark sum($A)).times)/1e6"
   ]
  },
  {
   "cell_type": "code",
   "execution_count": 38,
   "metadata": {
    "collapsed": true
   },
   "outputs": [],
   "source": [
    "@everywhere using DistributedArrays"
   ]
  },
  {
   "cell_type": "code",
   "execution_count": 39,
   "metadata": {
    "collapsed": false
   },
   "outputs": [
    {
     "data": {
      "text/plain": [
       "0.0"
      ]
     },
     "execution_count": 39,
     "metadata": {},
     "output_type": "execute_result"
    }
   ],
   "source": [
    "A = distribute(a)  # one could have used A = drand(10^7) for a parallel constructor\n",
    "sum(A) - sum(a)"
   ]
  },
  {
   "cell_type": "code",
   "execution_count": 40,
   "metadata": {
    "collapsed": false
   },
   "outputs": [
    {
     "data": {
      "text/plain": [
       "4.166501"
      ]
     },
     "execution_count": 40,
     "metadata": {},
     "output_type": "execute_result"
    }
   ],
   "source": [
    "minimum((@benchmark sum($A)).times)/1e6"
   ]
  },
  {
   "cell_type": "code",
   "execution_count": 37,
   "metadata": {
    "collapsed": false
   },
   "outputs": [
    {
     "data": {
      "text/plain": [
       "\"10000000-element DistributedArrays.DArray{Float64,1,Array{Float64,1}}\""
      ]
     },
     "execution_count": 37,
     "metadata": {},
     "output_type": "execute_result"
    }
   ],
   "source": [
    "summary(A)"
   ]
  },
  {
   "cell_type": "code",
   "execution_count": 41,
   "metadata": {
    "collapsed": false
   },
   "outputs": [
    {
     "data": {
      "text/html": [
       "sum(d::<b>DistributedArrays.DArray</b>) at <a href=\"https://github.com/JuliaParallel/DistributedArrays.jl/tree/d68911be5c661488e61524bee5815314306c29f9/src/mapreduce.jl#L127\" target=\"_blank\">/Users/edelman/.julia/v0.5/DistributedArrays/src/mapreduce.jl:127</a>"
      ],
      "text/plain": [
       "sum(d::DistributedArrays.DArray) at /Users/edelman/.julia/v0.5/DistributedArrays/src/mapreduce.jl:127"
      ]
     },
     "execution_count": 41,
     "metadata": {},
     "output_type": "execute_result"
    }
   ],
   "source": [
    "@which sum(A)"
   ]
  },
  {
   "cell_type": "code",
   "execution_count": 42,
   "metadata": {
    "collapsed": false
   },
   "outputs": [
    {
     "data": {
      "text/html": [
       "reduce(f, d::<b>DistributedArrays.DArray</b>) at <a href=\"https://github.com/JuliaParallel/DistributedArrays.jl/tree/d68911be5c661488e61524bee5815314306c29f9/src/mapreduce.jl#L9\" target=\"_blank\">/Users/edelman/.julia/v0.5/DistributedArrays/src/mapreduce.jl:9</a>"
      ],
      "text/plain": [
       "reduce(f, d::DistributedArrays.DArray) at /Users/edelman/.julia/v0.5/DistributedArrays/src/mapreduce.jl:9"
      ]
     },
     "execution_count": 42,
     "metadata": {},
     "output_type": "execute_result"
    }
   ],
   "source": [
    "@which reduce(+,A)"
   ]
  },
  {
   "cell_type": "markdown",
   "metadata": {},
   "source": [
    "## 2b. How do we implement DArray functionality?  Answer: Bootstrap from serial functionality."
   ]
  },
  {
   "cell_type": "code",
   "execution_count": 25,
   "metadata": {
    "collapsed": false
   },
   "outputs": [
    {
     "data": {
      "text/plain": [
       "10000000-element DistributedArrays.DArray{Float64,1,Array{Float64,1}}:\n",
       " 0.844815 \n",
       " 0.0706291\n",
       " 0.244676 \n",
       " 0.257673 \n",
       " 0.850414 \n",
       " 0.738974 \n",
       " 0.594129 \n",
       " 0.585809 \n",
       " 0.245183 \n",
       " 0.249112 \n",
       " 0.0265877\n",
       " 0.180143 \n",
       " 0.355788 \n",
       " ⋮        \n",
       " 0.119152 \n",
       " 0.687844 \n",
       " 0.987118 \n",
       " 0.0716491\n",
       " 0.150896 \n",
       " 0.29818  \n",
       " 0.515473 \n",
       " 0.661692 \n",
       " 0.795226 \n",
       " 0.931143 \n",
       " 0.452085 \n",
       " 0.175229 "
      ]
     },
     "execution_count": 25,
     "metadata": {},
     "output_type": "execute_result"
    }
   ],
   "source": [
    "#@everywhere using DistributedArrays\n",
    "A = drand(10^7)"
   ]
  },
  {
   "cell_type": "code",
   "execution_count": 5,
   "metadata": {
    "collapsed": false
   },
   "outputs": [
    {
     "data": {
      "text/plain": [
       "10000000-element Array{Float64,1}:\n",
       " 0.404224  \n",
       " 0.697706  \n",
       " 0.376151  \n",
       " 0.238845  \n",
       " 0.0161963 \n",
       " 0.187521  \n",
       " 0.951739  \n",
       " 0.569651  \n",
       " 0.607052  \n",
       " 0.750241  \n",
       " 0.00569606\n",
       " 0.694259  \n",
       " 0.213993  \n",
       " ⋮         \n",
       " 0.64419   \n",
       " 0.0347608 \n",
       " 0.868681  \n",
       " 0.360796  \n",
       " 0.589133  \n",
       " 0.00117402\n",
       " 0.469419  \n",
       " 0.933901  \n",
       " 0.0584435 \n",
       " 0.0569092 \n",
       " 0.32551   \n",
       " 0.67888   "
      ]
     },
     "execution_count": 5,
     "metadata": {},
     "output_type": "execute_result"
    }
   ],
   "source": [
    "a = convert( Array{Float64,1} , A)"
   ]
  },
  {
   "cell_type": "code",
   "execution_count": 6,
   "metadata": {
    "collapsed": false
   },
   "outputs": [
    {
     "data": {
      "text/plain": [
       "4-element Array{Float64,1}:\n",
       " 1.25067e6\n",
       " 1.2508e6 \n",
       " 1.24895e6\n",
       " 1.25045e6"
      ]
     },
     "metadata": {},
     "output_type": "display_data"
    },
    {
     "data": {
      "text/plain": [
       "5.000864179629135e6"
      ]
     },
     "execution_count": 6,
     "metadata": {},
     "output_type": "execute_result"
    }
   ],
   "source": [
    "# Simulated Parallel Algorithm\n",
    "s = sum.([a[i[1]] for i in A.indexes]) \n",
    "display(s)\n",
    "sum(s)"
   ]
  },
  {
   "cell_type": "code",
   "execution_count": 33,
   "metadata": {
    "collapsed": false
   },
   "outputs": [],
   "source": [
    "# Actual Parallel Algorithm"
   ]
  },
  {
   "cell_type": "code",
   "execution_count": 26,
   "metadata": {
    "collapsed": false
   },
   "outputs": [
    {
     "data": {
      "text/plain": [
       "1.250667157248437e6"
      ]
     },
     "metadata": {},
     "output_type": "display_data"
    },
    {
     "data": {
      "text/plain": [
       "1.2507993276603317e6"
      ]
     },
     "metadata": {},
     "output_type": "display_data"
    },
    {
     "data": {
      "text/plain": [
       "1.2489514266074374e6"
      ]
     },
     "metadata": {},
     "output_type": "display_data"
    },
    {
     "data": {
      "text/plain": [
       "1.2504462681129284e6"
      ]
     },
     "metadata": {},
     "output_type": "display_data"
    }
   ],
   "source": [
    "for p in A.pids\n",
    "    display(fetch(@spawnat p sum(localpart(A))))\n",
    "end"
   ]
  },
  {
   "cell_type": "code",
   "execution_count": 24,
   "metadata": {
    "collapsed": false
   },
   "outputs": [
    {
     "data": {
      "text/plain": [
       "5.000864179629135e6"
      ]
     },
     "execution_count": 24,
     "metadata": {},
     "output_type": "execute_result"
    }
   ],
   "source": [
    "results = Float64[]\n",
    "for p in A.pids\n",
    "    results = push!(results, fetch(@spawnat p sum(localpart(A))))\n",
    "end\n",
    "sum(results)"
   ]
  },
  {
   "cell_type": "code",
   "execution_count": 25,
   "metadata": {
    "collapsed": false
   },
   "outputs": [
    {
     "data": {
      "text/plain": [
       "5.000864179629135e6"
      ]
     },
     "execution_count": 25,
     "metadata": {},
     "output_type": "execute_result"
    }
   ],
   "source": [
    "sum(a)"
   ]
  },
  {
   "cell_type": "code",
   "execution_count": 27,
   "metadata": {
    "collapsed": false
   },
   "outputs": [
    {
     "data": {
      "text/plain": [
       "0.288655919036807"
      ]
     },
     "execution_count": 27,
     "metadata": {},
     "output_type": "execute_result"
    }
   ],
   "source": [
    "std(A)"
   ]
  },
  {
   "cell_type": "code",
   "execution_count": 28,
   "metadata": {
    "collapsed": false
   },
   "outputs": [
    {
     "data": {
      "text/plain": [
       "0.5000864179629134"
      ]
     },
     "execution_count": 28,
     "metadata": {},
     "output_type": "execute_result"
    }
   ],
   "source": [
    "mean(A)"
   ]
  },
  {
   "cell_type": "code",
   "execution_count": 29,
   "metadata": {
    "collapsed": true
   },
   "outputs": [],
   "source": [
    "# What about a histogram?"
   ]
  },
  {
   "cell_type": "code",
   "execution_count": 35,
   "metadata": {
    "collapsed": false
   },
   "outputs": [
    {
     "name": "stderr",
     "output_type": "stream",
     "text": [
      "\u001b[1m\u001b[34mINFO: Nothing to be done\n",
      "\u001b[0m\u001b[1m\u001b[34mINFO: METADATA is out-of-date — you may not have the latest version of StatsBase\n",
      "\u001b[0m\u001b[1m\u001b[34mINFO: Use `Pkg.update()` to get the latest versions of your packages\n",
      "\u001b[0m"
     ]
    }
   ],
   "source": [
    "Pkg.add(\"StatsBase\")\n",
    "using StatsBase"
   ]
  },
  {
   "cell_type": "code",
   "execution_count": 67,
   "metadata": {
    "collapsed": false
   },
   "outputs": [
    {
     "data": {
      "image/png": "[encoded data removed]",
      "text/plain": [
       "PyPlot.Figure(PyObject <matplotlib.figure.Figure object at 0x327d2cfd0>)"
      ]
     },
     "metadata": {},
     "output_type": "display_data"
    },
    {
     "data": {
      "text/plain": [
       "(PyObject <matplotlib.patches.Rectangle object at 0x328253050>,PyObject <matplotlib.patches.Rectangle object at 0x328253690>,PyObject <matplotlib.patches.Rectangle object at 0x328253d10>,PyObject <matplotlib.patches.Rectangle object at 0x3282603d0>,PyObject <matplotlib.patches.Rectangle object at 0x328260a50>,PyObject <matplotlib.patches.Rectangle object at 0x328260f50>,PyObject <matplotlib.patches.Rectangle object at 0x32826c790>,PyObject <matplotlib.patches.Rectangle object at 0x32826ce10>,PyObject <matplotlib.patches.Rectangle object at 0x3282784d0>,PyObject <matplotlib.patches.Rectangle object at 0x328278b50>,PyObject <matplotlib.patches.Rectangle object at 0x328286210>,PyObject <matplotlib.patches.Rectangle object at 0x328286890>,PyObject <matplotlib.patches.Rectangle object at 0x328286f10>,PyObject <matplotlib.patches.Rectangle object at 0x3282915d0>,PyObject <matplotlib.patches.Rectangle object at 0x328291c50>,PyObject <matplotlib.patches.Rectangle object at 0x32829e310>,PyObject <matplotlib.patches.Rectangle object at 0x32829e990>,PyObject <matplotlib.patches.Rectangle object at 0x32829ee90>,PyObject <matplotlib.patches.Rectangle object at 0x3282ab6d0>,PyObject <matplotlib.patches.Rectangle object at 0x3282abd50>)"
      ]
     },
     "execution_count": 67,
     "metadata": {},
     "output_type": "execute_result"
    }
   ],
   "source": [
    "w = fit(Histogram, rand(3000), 0:0.05:1.0).weights\n",
    "bar(0:.05:.95,w,.05)"
   ]
  },
  {
   "cell_type": "code",
   "execution_count": 49,
   "metadata": {
    "collapsed": false
   },
   "outputs": [],
   "source": [
    "using PyPlot"
   ]
  },
  {
   "cell_type": "code",
   "execution_count": 63,
   "metadata": {
    "collapsed": false
   },
   "outputs": [
    {
     "data": {
      "image/png": "[encoded data removed]",
      "text/plain": [
       "PyPlot.Figure(PyObject <matplotlib.figure.Figure object at 0x326a57d10>)"
      ]
     },
     "metadata": {},
     "output_type": "display_data"
    },
    {
     "data": {
      "text/plain": [
       "(PyObject <matplotlib.patches.Rectangle object at 0x32794fc10>,PyObject <matplotlib.patches.Rectangle object at 0x32795b290>)"
      ]
     },
     "execution_count": 63,
     "metadata": {},
     "output_type": "execute_result"
    }
   ],
   "source": []
  },
  {
   "cell_type": "code",
   "execution_count": 75,
   "metadata": {
    "collapsed": false
   },
   "outputs": [
    {
     "name": "stderr",
     "output_type": "stream",
     "text": [
      "WARNING: Method definition w1(Any) in module Main at In[74]:3 overwritten at In[75]:3.\n",
      "WARNING: Method definition w1(Any) in module Main at In[74]:3 overwritten at In[75]:3.\n",
      "WARNING: Method definition w1(Any) in module Main at In[74]:3 overwritten at In[75]:3.\n",
      "WARNING: Method definition w1(Any) in module Main at In[74]:3 overwritten at In[75]:3.\n",
      "WARNING: Method definition w1(Any) in module Main at In[74]:3 overwritten at In[75]:3.\n"
     ]
    },
    {
     "data": {
      "text/plain": [
       "20-element Array{Int64,1}:\n",
       " 4999961\n",
       " 4999755\n",
       " 5000471\n",
       " 4998540\n",
       " 5000051\n",
       " 4998667\n",
       " 4999459\n",
       " 4999721\n",
       " 4996973\n",
       " 4999831\n",
       " 5002576\n",
       " 5001157\n",
       " 5001331\n",
       " 4999327\n",
       " 4999012\n",
       " 4999832\n",
       " 5003440\n",
       " 5001896\n",
       " 4998734\n",
       " 4999266"
      ]
     },
     "execution_count": 75,
     "metadata": {},
     "output_type": "execute_result"
    }
   ],
   "source": [
    "A = drand(10^8)\n",
    "@everywhere using StatsBase\n",
    "@everywhere w1(x) = fit(Histogram,x,0:0.05:1.0).weights\n",
    "results = Array{Int64,1}[]\n",
    "for p in A.pids\n",
    "    results = push!(results, fetch(@spawnat p w1(localpart(A))))\n",
    "end\n",
    "sum(results)"
   ]
  },
  {
   "cell_type": "code",
   "execution_count": 69,
   "metadata": {
    "collapsed": false
   },
   "outputs": [
    {
     "data": {
      "text/plain": [
       "5"
      ]
     },
     "execution_count": 69,
     "metadata": {},
     "output_type": "execute_result"
    }
   ],
   "source": [
    "nprocs()"
   ]
  },
  {
   "cell_type": "markdown",
   "metadata": {},
   "source": [
    "## 3. @parallel  (looks like a \"for loop\", data starts and ends on master)\n",
    "\n",
    "The history of Julia includes a \"back and forth\" between \"for loop\" notation and vectorized\n",
    "notation.  The truth is, for some problems, one or the other, or both could be more natural,\n",
    "or more performant, but not for the old reasons of dynamic languages where \"for loops\" were\n",
    "always to be avoided."
   ]
  },
  {
   "cell_type": "code",
   "execution_count": 26,
   "metadata": {
    "collapsed": false
   },
   "outputs": [
    {
     "data": {
      "text/plain": [
       "5.00118921878265e6"
      ]
     },
     "execution_count": 26,
     "metadata": {},
     "output_type": "execute_result"
    }
   ],
   "source": [
    "@parallel (+) for aa in a\n",
    "    aa # this could be a more complicated statistic\n",
    "end"
   ]
  },
  {
   "cell_type": "code",
   "execution_count": 27,
   "metadata": {
    "collapsed": false
   },
   "outputs": [
    {
     "data": {
      "text/plain": [
       "BenchmarkTools.Trial: \n",
       "  memory estimate:  46.38 kb\n",
       "  allocs estimate:  483\n",
       "  --------------\n",
       "  minimum time:     98.556 ms (0.00% GC)\n",
       "  median time:      102.925 ms (0.00% GC)\n",
       "  mean time:        103.572 ms (0.00% GC)\n",
       "  maximum time:     111.383 ms (0.00% GC)\n",
       "  --------------\n",
       "  samples:          49\n",
       "  evals/sample:     1\n",
       "  time tolerance:   5.00%\n",
       "  memory tolerance: 1.00%"
      ]
     },
     "execution_count": 27,
     "metadata": {},
     "output_type": "execute_result"
    }
   ],
   "source": [
    "@benchmark @parallel (+) for aa in a\n",
    "    aa \n",
    "end"
   ]
  },
  {
   "cell_type": "code",
   "execution_count": 28,
   "metadata": {
    "collapsed": false
   },
   "outputs": [],
   "source": [
    "@everywhere randstat(n) = maximum(eigvals(SymTridiagonal(randn(n),randn(n-1))))"
   ]
  },
  {
   "cell_type": "code",
   "execution_count": 87,
   "metadata": {
    "collapsed": false
   },
   "outputs": [
    {
     "data": {
      "text/plain": [
       "3-element Array{Int64,1}:\n",
       " 2\n",
       " 3\n",
       " 4"
      ]
     },
     "execution_count": 87,
     "metadata": {},
     "output_type": "execute_result"
    }
   ],
   "source": [
    "workers()"
   ]
  },
  {
   "cell_type": "code",
   "execution_count": 29,
   "metadata": {
    "collapsed": false
   },
   "outputs": [
    {
     "data": {
      "text/plain": [
       "BenchmarkTools.Trial: \n",
       "  memory estimate:  45.47 kb\n",
       "  allocs estimate:  580\n",
       "  --------------\n",
       "  minimum time:     414.461 ms (0.00% GC)\n",
       "  median time:      416.580 ms (0.00% GC)\n",
       "  mean time:        417.545 ms (0.00% GC)\n",
       "  maximum time:     424.996 ms (0.00% GC)\n",
       "  --------------\n",
       "  samples:          12\n",
       "  evals/sample:     1\n",
       "  time tolerance:   5.00%\n",
       "  memory tolerance: 1.00%"
      ]
     },
     "execution_count": 29,
     "metadata": {},
     "output_type": "execute_result"
    }
   ],
   "source": [
    "@benchmark @parallel (+) for i in 1:250\n",
    "    randstat(500) \n",
    "end"
   ]
  },
  {
   "cell_type": "code",
   "execution_count": 30,
   "metadata": {
    "collapsed": false
   },
   "outputs": [
    {
     "data": {
      "text/plain": [
       "BenchmarkTools.Trial: \n",
       "  memory estimate:  166.86 kb\n",
       "  allocs estimate:  2491\n",
       "  --------------\n",
       "  minimum time:     414.413 ms (0.00% GC)\n",
       "  median time:      417.328 ms (0.00% GC)\n",
       "  mean time:        419.344 ms (0.00% GC)\n",
       "  maximum time:     430.229 ms (0.00% GC)\n",
       "  --------------\n",
       "  samples:          12\n",
       "  evals/sample:     1\n",
       "  time tolerance:   5.00%\n",
       "  memory tolerance: 1.00%"
      ]
     },
     "execution_count": 30,
     "metadata": {},
     "output_type": "execute_result"
    }
   ],
   "source": [
    "@benchmark mapreduce(randstat,+,500*dones(Int,250))"
   ]
  },
  {
   "cell_type": "markdown",
   "metadata": {},
   "source": [
    "## 4. MPI is possible for the die-hards and also some libraries"
   ]
  },
  {
   "cell_type": "code",
   "execution_count": 31,
   "metadata": {
    "collapsed": false
   },
   "outputs": [
    {
     "name": "stderr",
     "output_type": "stream",
     "text": [
      "\u001b[1m\u001b[34mINFO: Building MPI\n",
      "\u001b[0m\u001b[1m\u001b[34mINFO: Attempting to Create directory /Users/alanedelman/.julia/v0.5/MPI/deps/build\n",
      "\u001b[0m\u001b[1m\u001b[34mINFO: Changing Directory to /Users/alanedelman/.julia/v0.5/MPI/deps/build\n",
      "\u001b[0m"
     ]
    },
    {
     "name": "stdout",
     "output_type": "stream",
     "text": [
      "-- The Fortran compiler identification is GNU 5.2.0\n",
      "-- The C compiler identification is AppleClang 8.0.0.8000042\n",
      "-- Checking whether Fortran compiler has -isysroot\n",
      "-- Checking whether Fortran compiler has -isysroot - yes\n",
      "-- Checking whether Fortran compiler supports OSX deployment target flag\n",
      "-- Checking whether Fortran compiler supports OSX deployment target flag - yes\n",
      "-- Check for working Fortran compiler: /usr/local/bin/gfortran\n",
      "-- Check for working Fortran compiler: /usr/local/bin/gfortran  -- works\n",
      "-- Detecting Fortran compiler ABI info\n",
      "-- Detecting Fortran compiler ABI info - done\n",
      "-- Checking whether /usr/local/bin/gfortran supports Fortran 90\n",
      "-- Checking whether /usr/local/bin/gfortran supports Fortran 90 -- yes\n",
      "-- Check for working C compiler: /Applications/Xcode.app/Contents/Developer/Toolchains/XcodeDefault.xctoolchain/usr/bin/cc\n",
      "-- Check for working C compiler: /Applications/Xcode.app/Contents/Developer/Toolchains/XcodeDefault.xctoolchain/usr/bin/cc -- works\n",
      "-- Detecting C compiler ABI info\n",
      "-- Detecting C compiler ABI info - done\n",
      "-- Detecting C compile features\n",
      "-- Detecting C compile features - done\n",
      "-- Found Git: /usr/local/bin/git (found version \"2.11.0\") \n",
      "-- Found MPI_C: /usr/local/Cellar/mpich/3.1.4_1/lib/libmpi.dylib;/usr/local/Cellar/mpich/3.1.4_1/lib/libpmpi.dylib  \n",
      "-- Found MPI_Fortran: /usr/local/Cellar/mpich/3.1.4_1/lib/libmpifort.dylib;/usr/local/Cellar/mpich/3.1.4_1/lib/libmpi.dylib;/usr/local/Cellar/mpich/3.1.4_1/lib/libpmpi.dylib  \n",
      "-- Detecting Fortran/C Interface\n",
      "-- Detecting Fortran/C Interface - Found GLOBAL and MODULE mangling\n",
      "-- Looking for MPI_Comm_c2f\n",
      "-- Looking for MPI_Comm_c2f - not found\n",
      "-- Configuring done\n",
      "-- Generating done\n",
      "-- Build files have been written to: /Users/alanedelman/.julia/v0.5/MPI/deps/build\n",
      "Scanning dependencies of target gen_constants\n",
      "[ 12%] Building Fortran object CMakeFiles/gen_constants.dir/gen_constants.f90.o\n",
      "[ 25%] Linking Fortran executable gen_constants\n",
      "[ 25%] Built target gen_constants\n",
      "Scanning dependencies of target version\n",
      "[ 25%] Built target version\n",
      "Scanning dependencies of target gen_functions\n",
      "[ 37%] Building C object CMakeFiles/gen_functions.dir/gen_functions.c.o\n",
      "[ 50%] Linking C executable gen_functions\n",
      "[ 50%] Built target gen_functions\n",
      "Scanning dependencies of target mpijl\n",
      "[ 62%] Generating compile-time.jl\n",
      "[ 62%] Built target mpijl\n",
      "Scanning dependencies of target mpijl-build\n",
      "[ 75%] Generating mpi-build.jl\n",
      "[ 75%] Built target mpijl-build\n",
      "Scanning dependencies of target juliampi\n",
      "[ 87%] Building Fortran object CMakeFiles/juliampi.dir/test_mpi.f90.o\n",
      "[100%] Linking Fortran shared library libjuliampi.dylib\n",
      "[100%] Built target juliampi\n",
      "[ 25%] Built target gen_constants\n",
      "[ 25%] Built target version\n",
      "[ 50%] Built target gen_functions\n",
      "[ 62%] Built target mpijl\n",
      "[ 75%] Built target mpijl-build\n",
      "[100%] Built target juliampi\n",
      "Install the project...\n",
      "-- Install configuration: \"\"\n",
      "-- Installing: /Users/alanedelman/.julia/v0.5/MPI/deps/src/./compile-time.jl\n",
      "-- Installing: /Users/alanedelman/.julia/v0.5/MPI/deps/usr/lib/libjuliampi.dylib\n"
     ]
    }
   ],
   "source": [
    "Pkg.build(\"MPI\")"
   ]
  },
  {
   "cell_type": "code",
   "execution_count": 32,
   "metadata": {
    "collapsed": false
   },
   "outputs": [
    {
     "name": "stderr",
     "output_type": "stream",
     "text": [
      "\u001b[1m\u001b[34mINFO: Recompiling stale cache file /Users/alanedelman/.julia/lib/v0.5/MPI.ji for module MPI.\n",
      "\u001b[0m"
     ]
    }
   ],
   "source": [
    "using MPI"
   ]
  },
  {
   "cell_type": "code",
   "execution_count": 33,
   "metadata": {
    "collapsed": false
   },
   "outputs": [
    {
     "data": {
      "text/plain": [
       ":ok"
      ]
     },
     "execution_count": 33,
     "metadata": {},
     "output_type": "execute_result"
    }
   ],
   "source": [
    "rmprocs(2:5) # just for good luck"
   ]
  },
  {
   "cell_type": "code",
   "execution_count": 34,
   "metadata": {
    "collapsed": false
   },
   "outputs": [
    {
     "data": {
      "text/plain": [
       "4-element Array{Int64,1}:\n",
       "  7\n",
       "  8\n",
       "  9\n",
       " 10"
      ]
     },
     "execution_count": 34,
     "metadata": {},
     "output_type": "execute_result"
    }
   ],
   "source": [
    "m = MPIManager(np=4)\n",
    "addprocs(m)\n"
   ]
  },
  {
   "cell_type": "code",
   "execution_count": 35,
   "metadata": {
    "collapsed": true
   },
   "outputs": [],
   "source": [
    "@mpi_do m comm = MPI.COMM_WORLD"
   ]
  },
  {
   "cell_type": "code",
   "execution_count": 42,
   "metadata": {
    "collapsed": false
   },
   "outputs": [
    {
     "name": "stderr",
     "output_type": "stream",
     "text": [
      "WARNING: Method definition f(Any) in module Main at In[37]:3 overwritten at In[42]:3.\n"
     ]
    },
    {
     "data": {
      "text/plain": [
       "f (generic function with 1 method)"
      ]
     },
     "execution_count": 42,
     "metadata": {},
     "output_type": "execute_result"
    }
   ],
   "source": [
    "function f(n)\n",
    "\n",
    " @mpi_do m begin\n",
    " comm = MPI.COMM_WORLD\n",
    " s = rand(Int($n/4))\n",
    " end\n",
    "    \n",
    "end"
   ]
  },
  {
   "cell_type": "code",
   "execution_count": 44,
   "metadata": {
    "collapsed": false
   },
   "outputs": [
    {
     "ename": "LoadError",
     "evalue": "ProcessExitedException()",
     "output_type": "error",
     "traceback": [
      "ProcessExitedException()",
      "",
      " in worker_from_id(::Base.ProcessGroup, ::Int64) at ./multi.jl:563",
      " in #remotecall_fetch#609(::Array{Any,1}, ::Function, ::Function, ::Int64) at ./multi.jl:1080",
      " in remotecall_fetch(::Function, ::Int64) at ./multi.jl:1080"
     ]
    }
   ],
   "source": [
    "@fetchfrom 2 f(8)"
   ]
  },
  {
   "cell_type": "markdown",
   "metadata": {
    "collapsed": true
   },
   "source": [
    "## 5. Threads are still mysterious to me"
   ]
  },
  {
   "cell_type": "code",
   "execution_count": 7,
   "metadata": {
    "collapsed": false
   },
   "outputs": [
    {
     "name": "stderr",
     "output_type": "stream",
     "text": [
      "WARNING: Method definition sim(Any) in module Main at In[5]:2 overwritten at In[7]:2.\n",
      "WARNING: Method definition sim(Any, Any) in module Main at In[5]:2 overwritten at In[7]:2.\n"
     ]
    },
    {
     "data": {
      "text/plain": [
       "sim (generic function with 2 methods)"
      ]
     },
     "execution_count": 7,
     "metadata": {},
     "output_type": "execute_result"
    }
   ],
   "source": [
    "function sim(n, seed = rand(UInt))\n",
    "    nt = Threads.nthreads()\n",
    "    ra = zeros(nt)\n",
    "    Threads.@threads for i in 1:nt\n",
    "        id   = Threads.threadid()\n",
    "        rng  = MersenneTwister(id + seed)\n",
    "        d, r = divrem(n, Threads.nthreads())\n",
    "        bs = d + (r > 0)\n",
    "        if id == nt\n",
    "            bs = n - (nt - 1)*bs\n",
    "        end\n",
    "        ra[id] = sum(rand(rng, bs))\n",
    "    end\n",
    "    return sum(ra)\n",
    "end"
   ]
  },
  {
   "cell_type": "code",
   "execution_count": 12,
   "metadata": {
    "collapsed": false
   },
   "outputs": [
    {
     "data": {
      "text/plain": [
       "BenchmarkTools.Trial: \n",
       "  memory estimate:  76.30 mb\n",
       "  allocs estimate:  14\n",
       "  --------------\n",
       "  minimum time:     30.899 ms (24.22% GC)\n",
       "  median time:      31.950 ms (23.90% GC)\n",
       "  mean time:        32.455 ms (24.68% GC)\n",
       "  maximum time:     76.777 ms (68.97% GC)\n",
       "  --------------\n",
       "  samples:          155\n",
       "  evals/sample:     1\n",
       "  time tolerance:   5.00%\n",
       "  memory tolerance: 1.00%"
      ]
     },
     "execution_count": 12,
     "metadata": {},
     "output_type": "execute_result"
    }
   ],
   "source": [
    "@benchmark sim(10^7)"
   ]
  },
  {
   "cell_type": "code",
   "execution_count": 22,
   "metadata": {
    "collapsed": false
   },
   "outputs": [
    {
     "name": "stderr",
     "output_type": "stream",
     "text": [
      "WARNING: Method definition sim2(Any) in module Main at In[20]:2 overwritten at In[22]:2.\n"
     ]
    },
    {
     "data": {
      "text/plain": [
       "sim2 (generic function with 1 method)"
      ]
     },
     "execution_count": 22,
     "metadata": {},
     "output_type": "execute_result"
    }
   ],
   "source": [
    "function sim2(a)\n",
    "    nt = Threads.nthreads()\n",
    "    return sum(a)\n",
    "end"
   ]
  },
  {
   "cell_type": "code",
   "execution_count": 23,
   "metadata": {
    "collapsed": false
   },
   "outputs": [
    {
     "data": {
      "text/plain": [
       "BenchmarkTools.Trial: \n",
       "  memory estimate:  16.00 bytes\n",
       "  allocs estimate:  1\n",
       "  --------------\n",
       "  minimum time:     4.637 ms (0.00% GC)\n",
       "  median time:      4.922 ms (0.00% GC)\n",
       "  mean time:        5.010 ms (0.00% GC)\n",
       "  maximum time:     6.658 ms (0.00% GC)\n",
       "  --------------\n",
       "  samples:          997\n",
       "  evals/sample:     1\n",
       "  time tolerance:   5.00%\n",
       "  memory tolerance: 1.00%"
      ]
     },
     "execution_count": 23,
     "metadata": {},
     "output_type": "execute_result"
    }
   ],
   "source": [
    "a =  rand(10^7)\n",
    "@benchmark sim2(a)"
   ]
  },
  {
   "cell_type": "code",
   "execution_count": 19,
   "metadata": {
    "collapsed": false
   },
   "outputs": [
    {
     "data": {
      "text/plain": [
       "1-element Array{Int64,1}:\n",
       " 1"
      ]
     },
     "execution_count": 19,
     "metadata": {},
     "output_type": "execute_result"
    }
   ],
   "source": [
    "workers()"
   ]
  },
  {
   "cell_type": "markdown",
   "metadata": {
    "collapsed": true
   },
   "source": [
    "## 6.  GPU Libraries using ArrayFire"
   ]
  },
  {
   "cell_type": "code",
   "execution_count": 45,
   "metadata": {
    "collapsed": false
   },
   "outputs": [
    {
     "name": "stderr",
     "output_type": "stream",
     "text": [
      "\u001b[1m\u001b[34mINFO: Installing ArrayFire v0.0.3\n",
      "\u001b[0m\u001b[1m\u001b[34mINFO: Package database updated\n",
      "\u001b[0m\u001b[1m\u001b[34mINFO: METADATA is out-of-date — you may not have the latest version of ArrayFire\n",
      "\u001b[0m\u001b[1m\u001b[34mINFO: Use `Pkg.update()` to get the latest versions of your packages\n",
      "\u001b[0m"
     ]
    }
   ],
   "source": [
    "Pkg.add(\"ArrayFire\")"
   ]
  },
  {
   "cell_type": "code",
   "execution_count": 1,
   "metadata": {
    "collapsed": true
   },
   "outputs": [],
   "source": [
    "using ArrayFire"
   ]
  },
  {
   "cell_type": "code",
   "execution_count": 2,
   "metadata": {
    "collapsed": false
   },
   "outputs": [
    {
     "data": {
      "text/plain": [
       "10000000-element Array{Float32,1}:\n",
       " 0.602606 \n",
       " 0.857504 \n",
       " 0.368865 \n",
       " 0.86829  \n",
       " 0.6268   \n",
       " 0.785859 \n",
       " 0.249992 \n",
       " 0.8439   \n",
       " 0.91937  \n",
       " 0.528383 \n",
       " 0.435531 \n",
       " 0.323874 \n",
       " 0.330391 \n",
       " ⋮        \n",
       " 0.566189 \n",
       " 0.613945 \n",
       " 0.387658 \n",
       " 0.77906  \n",
       " 0.204434 \n",
       " 0.437771 \n",
       " 0.738334 \n",
       " 0.0846951\n",
       " 0.0432457\n",
       " 0.710364 \n",
       " 0.306392 \n",
       " 0.338133 "
      ]
     },
     "execution_count": 2,
     "metadata": {},
     "output_type": "execute_result"
    }
   ],
   "source": [
    "a = rand(Float32,10^7); # My GPU doesn't support double precision"
   ]
  },
  {
   "cell_type": "code",
   "execution_count": 3,
   "metadata": {
    "collapsed": false
   },
   "outputs": [
    {
     "data": {
      "text/plain": [
       "\"10000000-element ArrayFire.AFArray{Float32,1}\""
      ]
     },
     "execution_count": 3,
     "metadata": {},
     "output_type": "execute_result"
    }
   ],
   "source": [
    "A = AFArray(a); summary(A)"
   ]
  },
  {
   "cell_type": "code",
   "execution_count": 7,
   "metadata": {
    "collapsed": false
   },
   "outputs": [
    {
     "data": {
      "text/plain": [
       "BenchmarkTools.Trial: \n",
       "  memory estimate:  16.00 bytes\n",
       "  allocs estimate:  1\n",
       "  --------------\n",
       "  minimum time:     2.001 ms (0.00% GC)\n",
       "  median time:      2.039 ms (0.00% GC)\n",
       "  mean time:        2.086 ms (0.00% GC)\n",
       "  maximum time:     3.142 ms (0.00% GC)\n",
       "  --------------\n",
       "  samples:          2396\n",
       "  evals/sample:     1\n",
       "  time tolerance:   5.00%\n",
       "  memory tolerance: 1.00%"
      ]
     },
     "execution_count": 7,
     "metadata": {},
     "output_type": "execute_result"
    }
   ],
   "source": [
    "@benchmark sum(a)"
   ]
  },
  {
   "cell_type": "code",
   "execution_count": 10,
   "metadata": {
    "collapsed": false
   },
   "outputs": [],
   "source": [
    "t =@benchmark  @sync sum($A);"
   ]
  },
  {
   "cell_type": "code",
   "execution_count": 59,
   "metadata": {
    "collapsed": false
   },
   "outputs": [
    {
     "data": {
      "text/plain": [
       "true"
      ]
     },
     "execution_count": 59,
     "metadata": {},
     "output_type": "execute_result"
    }
   ],
   "source": [
    "sum(A) ≈ sum(a)"
   ]
  },
  {
   "cell_type": "code",
   "execution_count": 11,
   "metadata": {
    "collapsed": false
   },
   "outputs": [
    {
     "data": {
      "text/plain": [
       "2.763515e6"
      ]
     },
     "execution_count": 11,
     "metadata": {},
     "output_type": "execute_result"
    }
   ],
   "source": [
    "minimum(t.times)"
   ]
  },
  {
   "cell_type": "code",
   "execution_count": 69,
   "metadata": {
    "collapsed": false
   },
   "outputs": [
    {
     "name": "stdout",
     "output_type": "stream",
     "text": [
      "2-element ArrayFire.AFArray{Float32,1}\n"
     ]
    },
    {
     "data": {
      "text/plain": [
       "Float64"
      ]
     },
     "execution_count": 69,
     "metadata": {},
     "output_type": "execute_result"
    }
   ],
   "source": [
    "A = AFArray(rand(Float32,2));\n",
    "println(summary(A))\n",
    "typeof(sum(A))"
   ]
  },
  {
   "cell_type": "code",
   "execution_count": 68,
   "metadata": {
    "collapsed": false
   },
   "outputs": [
    {
     "data": {
      "text/plain": [
       "Float64"
      ]
     },
     "execution_count": 68,
     "metadata": {},
     "output_type": "execute_result"
    }
   ],
   "source": [
    "typeof(sum(A))\n"
   ]
  },
  {
   "cell_type": "code",
   "execution_count": null,
   "metadata": {
    "collapsed": true
   },
   "outputs": [],
   "source": []
  }
 ],
 "metadata": {
  "kernelspec": {
   "display_name": "Julia 0.5.0",
   "language": "julia",
   "name": "julia-0.5"
  },
  "language_info": {
   "file_extension": ".jl",
   "mimetype": "application/julia",
   "name": "julia",
   "version": "0.5.0"
  }
 },
 "nbformat": 4,
 "nbformat_minor": 1
}
